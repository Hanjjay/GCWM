{
 "cells": [
  {
   "cell_type": "markdown",
   "metadata": {},
   "source": [
    "#### A wolf in sheep's clothing\n",
    "\n",
    " - Wolves have been reintroduced to Great Britain. \n",
    " \n",
    " - You are a sheep farmer, and are now plagued by wolves which pretend to be sheep. \n",
    " \n",
    " - Fortunately, you are good at spotting them.\n",
    "\n",
    " - Warn the sheep in front of the wolf that it is about to be eaten. \n",
    " \n",
    " - Remember that you are standing at the front of the queue which is at the end of the array:\n",
    "\n",
    "```\n",
    "[sheep, sheep, sheep, sheep, sheep, wolf, sheep, sheep]      (YOU ARE HERE AT THE FRONT OF THE QUEUE)\n",
    "\n",
    "  7      6      5      4      3            2      1\n",
    "```\n",
    " \n",
    " - If the wolf is the closest animal to you, return \"Pls go away and stop eating my sheep\". \n",
    " \n",
    " - Otherwise, return \"Oi! Sheep number N! You are about to be eaten by a wolf!\" where N is the sheep's position in the queue.\n",
    "\n",
    " - Note: there will always be exactly one wolf in the array.\n",
    "\n",
    " - Examples\n",
    " \n",
    " > warn_the_sheep([\"sheep\", \"sheep\", \"sheep\", \"wolf\", \"sheep\"]) == 'Oi! Sheep number 1! You are about to be eaten by a wolf!'\n",
    " > \n",
    " > warn_the_sheep(['sheep', 'sheep', 'wolf']) == 'Pls go away and stop eating my sheep'"
   ]
  },
  {
   "cell_type": "code",
   "execution_count": null,
   "metadata": {},
   "outputs": [],
   "source": []
  },
  {
   "cell_type": "markdown",
   "metadata": {},
   "source": [
    "#### Personalized greeting\n",
    "\n",
    " - Create a function that gives a personalized greeting. This function takes two parameters: name and owner.\n",
    "\n",
    " - Use conditionals to return the proper message:\n",
    "  \n",
    "| case | return |\n",
    "| :------: | :------: |\n",
    "| name equals owner | 'Hello boss' |\n",
    "| otherwise | 'Hello guest' |\n",
    " "
   ]
  },
  {
   "cell_type": "code",
   "execution_count": null,
   "metadata": {},
   "outputs": [],
   "source": []
  },
  {
   "cell_type": "code",
   "execution_count": null,
   "metadata": {},
   "outputs": [],
   "source": []
  },
  {
   "cell_type": "code",
   "execution_count": null,
   "metadata": {},
   "outputs": [],
   "source": []
  }
 ],
 "metadata": {
  "kernelspec": {
   "display_name": "Python 3",
   "language": "python",
   "name": "python3"
  },
  "language_info": {
   "codemirror_mode": {
    "name": "ipython",
    "version": 3
   },
   "file_extension": ".py",
   "mimetype": "text/x-python",
   "name": "python",
   "nbconvert_exporter": "python",
   "pygments_lexer": "ipython3",
   "version": "3.6.8"
  }
 },
 "nbformat": 4,
 "nbformat_minor": 2
}
