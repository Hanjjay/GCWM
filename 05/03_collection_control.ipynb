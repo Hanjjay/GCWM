{
 "cells": [
  {
   "cell_type": "markdown",
   "metadata": {},
   "source": [
    "### set 집합\n",
    "\n",
    " - ‘카페인이 든 음료들’이라는 컬렉션과 ‘가격이 3천 원 이하인 음료들’이라는 컬렉션에 모두 포함되어 있는 음료(교집합)을 구하는 방법?\n",
    " \n",
    " - ‘카페 라테’가 그 속에 포함되는지(소속 검사)를 알 수 있는 방법\n",
    " \n",
    " - 집합(set)을 이용하면 이런 문제를 더 쉽고 빠르게 해결할 수 있음"
   ]
  },
  {
   "cell_type": "code",
   "execution_count": null,
   "metadata": {},
   "outputs": [],
   "source": []
  }
 ],
 "metadata": {
  "kernelspec": {
   "display_name": "Python 3",
   "language": "python",
   "name": "python3"
  },
  "language_info": {
   "codemirror_mode": {
    "name": "ipython",
    "version": 3
   },
   "file_extension": ".py",
   "mimetype": "text/x-python",
   "name": "python",
   "nbconvert_exporter": "python",
   "pygments_lexer": "ipython3",
   "version": "3.6.8"
  }
 },
 "nbformat": 4,
 "nbformat_minor": 2
}
