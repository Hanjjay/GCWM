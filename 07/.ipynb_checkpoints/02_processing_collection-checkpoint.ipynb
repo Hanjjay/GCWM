{
 "cells": [
  {
   "cell_type": "markdown",
   "metadata": {},
   "source": [
    "### 컬렉션 순회하기\n",
    "\n",
    " - 위에서 다양한 켈력션의 조합을 통하여 여러 데이터를 표현하는 방법을 보았다\n",
    " \n",
    " - 이러한 다양한 컬렉션 데이터를 접근하는 방법을 반복문을 통해 알아보자"
   ]
  },
  {
   "cell_type": "markdown",
   "metadata": {},
   "source": [
    "#### 시퀀스 순회하기\n",
    "\n",
    " - for문을 사용하면 컬렉션을 순회할 수 있다"
   ]
  },
  {
   "cell_type": "code",
   "execution_count": 1,
   "metadata": {},
   "outputs": [
    {
     "name": "stdout",
     "output_type": "stream",
     "text": [
      "a\n",
      "b\n",
      "c\n",
      "d\n"
     ]
    }
   ],
   "source": [
    "# 리스트 순회하기\n",
    "\n",
    "for element in ['a', 'b', 'c', 'd']:\n",
    "    print(element)"
   ]
  },
  {
   "cell_type": "code",
   "execution_count": 2,
   "metadata": {},
   "outputs": [
    {
     "name": "stdout",
     "output_type": "stream",
     "text": [
      "월\n",
      "화\n",
      "수\n",
      "가\n",
      "나\n",
      "다\n",
      "라\n",
      "0\n",
      "1\n",
      "2\n",
      "3\n",
      "4\n",
      "5\n",
      "6\n",
      "7\n",
      "8\n",
      "9\n"
     ]
    }
   ],
   "source": [
    "for element in ('월', '화', '수'):  # 튜플 순회하기\n",
    "    print(element)\n",
    "\n",
    "for character in '가나다라':        # 문자열 순회하기\n",
    "    print(character)\n",
    "\n",
    "for n in range(10):                 # 레인지 순회하기\n",
    "    print(n)"
   ]
  },
  {
   "cell_type": "markdown",
   "metadata": {},
   "source": [
    "#### 집합과 매칭 순회하기\n",
    "\n",
    " - 집합과 매핑은 어떠한 순서를 가지고 있지 않다 ... 숫자를 기반으로 하는 indexing이 불가능하다\n",
    " \n",
    " - 하지만 요소에 접근한다는면에서는 같다 .. 단지 순서없이 어떤 뭉치의 일부를 본다는 것이 다를 뿐!\n",
    " \n",
    " - for문을 통해 순회가 가능하다\n",
    " \n",
    " - 시퀀스, 집합, 매핑 모두 for 문으로 순회할 수 있다.\n",
    " \n",
    " - 매핑을 순회할 때는 키, 값, 키-값 쌍 중 무엇을 순회할지 고려해야 한다."
   ]
  },
  {
   "cell_type": "code",
   "execution_count": 3,
   "metadata": {},
   "outputs": [
    {
     "name": "stdout",
     "output_type": "stream",
     "text": [
      "늑대\n",
      "사자\n",
      "곰\n",
      "박쥐\n"
     ]
    }
   ],
   "source": [
    "# 집합 순회하기\n",
    "\n",
    "for element in {'사자', '박쥐', '늑대', '곰'}:\n",
    "    print(element)"
   ]
  },
  {
   "cell_type": "code",
   "execution_count": 6,
   "metadata": {},
   "outputs": [
    {
     "name": "stdout",
     "output_type": "stream",
     "text": [
      "아메리카노\n",
      "2500\n",
      "카페 라테\n",
      "3000\n",
      "딸기 주스\n",
      "3500\n"
     ]
    }
   ],
   "source": [
    "# 사전의 키를 순회하기\n",
    "\n",
    "drinks = {\n",
    "    '아메리카노': 2500,\n",
    "    '카페 라테': 3000,\n",
    "    '딸기 주스': 3500,\n",
    "}\n",
    "\n",
    "for k in drinks:\n",
    "    print(k)          # ❶ 변수에는 사전의 키들이 대입된다\n",
    "    print(drinks[k])  # ❷ 키를 이용해 값을 구할 수도 있다."
   ]
  },
  {
   "cell_type": "markdown",
   "metadata": {},
   "source": [
    " - 주의사항!\n",
    " \n",
    " > 파이썬 3.7 이상 버전에서는 사전의 각 요소의 순서가 요소가 사전에 입력된 순으로 유지된다. 그래서 출력 결과를 보면, ‘아메리카노’, ‘카페 라테’, ‘딸기 주스’ 순으로 요소를 순회했다. (파이썬 3.5 이하 버전에서는 사전에 입력된 요소의 순서가 고정되지 않으니 주의해야 한다. 파이썬 3.6 버전에서는 인터프리터마다 구현이 다르다.)\n",
    " > \n",
    " > 3.6의 ipython notebook은 사전에서 순서대로 접근이 가능한 것으로 보인다"
   ]
  },
  {
   "cell_type": "code",
   "execution_count": 5,
   "metadata": {},
   "outputs": [
    {
     "name": "stdout",
     "output_type": "stream",
     "text": [
      "아메리카노\n",
      "2500\n",
      "카페 라테\n",
      "3000\n",
      "딸기 주스\n",
      "3500\n"
     ]
    }
   ],
   "source": [
    "# 사전의 키와 값을 나란히 순회하기\n",
    "\n",
    "for k, v in drinks.items():\n",
    "    print(k)  # ❶\n",
    "    print(v)  # ❷"
   ]
  },
  {
   "cell_type": "markdown",
   "metadata": {},
   "source": [
    "##### 연습문제 7-4 국가별 행복도 출력하기\n",
    "\n",
    " - 다음은 몇몇 국가의 행복도를 나타낸 사전이다.\n",
    "\n",
    "```\n",
    "happiness = {\n",
    "    '호주': 7.95,\n",
    "    '노르웨이': 7.9,\n",
    "    '미국': 7.85,\n",
    "    '일본': 6.2,\n",
    "    '한국': 5.75,\n",
    "}\n",
    "```\n",
    "\n",
    " - 이 사전을 순회하며 다음과 같은 텍스트를 화면에 출력해 보아라.\n",
    "\n",
    " > 호주 사람들은 7.95 만큼 행복합니다.\n",
    " >\n",
    " > 노르웨이 사람들은 7.9 만큼 행복합니다.\n",
    " >\n",
    " > 미국 사람들은 7.85 만큼 행복합니다.\n",
    " >\n",
    " > 일본 사람들은 6.2 만큼 행복합니다.\n",
    " >\n",
    " > 한국 사람들은 5.75 만큼 행복합니다."
   ]
  },
  {
   "cell_type": "code",
   "execution_count": null,
   "metadata": {},
   "outputs": [],
   "source": []
  },
  {
   "cell_type": "markdown",
   "metadata": {},
   "source": [
    "#### 중첩 컬렉션 순회하기\n",
    "\n",
    " - 위에서 단일한 구조를 가지는 컬렉션에 대하여 요소에 대해 순회하며 접근을 해보았다\n",
    " \n",
    " - for문을 응용하면 중첩되어 있는, 어떠한 구조를 띄는 컬렉션도 순회할 수 있다"
   ]
  },
  {
   "cell_type": "code",
   "execution_count": 7,
   "metadata": {},
   "outputs": [],
   "source": [
    "# 체스판을 나타내는 이차원 리스트\n",
    "\n",
    "board = [\n",
    "    [['black', '룩'], None, None, None, None, None, None, None],\n",
    "    [None, None, None, ['black', '킹'], None, None, None, None],\n",
    "    [None, None, None, None, None, None, None, None],\n",
    "    [None, None, None, None, None, None, None, None],\n",
    "    [None, None, ['white', '비숍'], None, None, None, None, None],\n",
    "    [None, None, None, None, None, None, None, None],\n",
    "    [None, None, None, None, None, None, None, None],\n",
    "    [None, None, None, None, ['white', '킹'], None, None, None],\n",
    "]"
   ]
  },
  {
   "cell_type": "code",
   "execution_count": 8,
   "metadata": {},
   "outputs": [
    {
     "name": "stdout",
     "output_type": "stream",
     "text": [
      "[['black', '룩'], None, None, None, None, None, None, None]\n",
      "[None, None, None, ['black', '킹'], None, None, None, None]\n",
      "[None, None, None, None, None, None, None, None]\n",
      "[None, None, None, None, None, None, None, None]\n",
      "[None, None, ['white', '비숍'], None, None, None, None, None]\n",
      "[None, None, None, None, None, None, None, None]\n",
      "[None, None, None, None, None, None, None, None]\n",
      "[None, None, None, None, ['white', '킹'], None, None, None]\n"
     ]
    }
   ],
   "source": [
    "# 체스판의 각 행 출력하기\n",
    "\n",
    "for row in board:  # 체스판(바깥쪽 리스트)의 각 행(요소)을 순회한다\n",
    "    print(row)     # 각 행을 화면에 출력한다"
   ]
  },
  {
   "cell_type": "code",
   "execution_count": 9,
   "metadata": {},
   "outputs": [
    {
     "name": "stdout",
     "output_type": "stream",
     "text": [
      "I . . . . . . . \n",
      ". . . I . . . . \n",
      ". . . . . . . . \n",
      ". . . . . . . . \n",
      ". . I . . . . . \n",
      ". . . . . . . . \n",
      ". . . . . . . . \n",
      ". . . . I . . . \n"
     ]
    }
   ],
   "source": [
    "# 체스판 전체 순회하며 출력하기\n",
    "for row in board:                 # ❶ 체스판(바깥쪽 리스트)의 각 행(요소)을 순회한다\n",
    "    for piece in row:             # ❷ 행(안쪽 리스트)의 각 체스말(요소)을 순회한다\n",
    "        if piece:                 # ❸ 체스말이 있으면 I를, 없으면 .을 출력한다\n",
    "            print('I', end=' ')\n",
    "        else:\n",
    "            print('.', end=' ')\n",
    "    print()                       # ❹ 바깥쪽 리스트를 순회할 때마다 행을 바꾼다"
   ]
  },
  {
   "cell_type": "code",
   "execution_count": 10,
   "metadata": {},
   "outputs": [
    {
     "data": {
      "image/png": "[encoded data removed]",
      "text/plain": [
       "<IPython.core.display.Image object>"
      ]
     },
     "execution_count": 10,
     "metadata": {},
     "output_type": "execute_result"
    }
   ],
   "source": [
    "# 비교해보자!\n",
    "from IPython.display import Image\n",
    "Image(\"img/01_img.png\")"
   ]
  },
  {
   "cell_type": "markdown",
   "metadata": {},
   "source": [
    "##### 연습문제 7-5 육십갑자표\n",
    "\n",
    " - 과거에는 연도를 나타내기 위해 육십갑자를 사용했다. \n",
    " \n",
    " - 육십갑자는 10개의 천간(십간)과 16개의 지지(십이지)를 교차하여 나열한 것이다. \n",
    " \n",
    " - 다음과 같이 천간 리스트와 지지 리스트를 정의하라.\n",
    "\n",
    "```\n",
    "천간 = ['갑', '을', '병', '정', '무', '기', '경', '신', '임', '계']\n",
    "지지 = ['자', '축', '인', '묘', '진', '사', '오', '미', '신', '유', '술', '해']\n",
    "```\n",
    "\n",
    " - 그리고 이들을 교차 출력하여 육십갑자표를 출력하라.\n",
    "\n",
    " - 출력 결과는 다음과 같아야 한다.\n",
    "\n",
    "```\n",
    "갑자 갑축 갑인 갑묘 갑진 갑사 갑오 갑미 갑신 갑유 갑술 갑해 \n",
    "을자 을축 을인 을묘 을진 을사 을오 을미 을신 을유 을술 을해 \n",
    "병자 병축 병인 병묘 병진 병사 병오 병미 병신 병유 병술 병해 \n",
    "정자 정축 정인 정묘 정진 정사 정오 정미 정신 정유 정술 정해 \n",
    "무자 무축 무인 무묘 무진 무사 무오 무미 무신 무유 무술 무해 \n",
    "기자 기축 기인 기묘 기진 기사 기오 기미 기신 기유 기술 기해 \n",
    "경자 경축 경인 경묘 경진 경사 경오 경미 경신 경유 경술 경해 \n",
    "신자 신축 신인 신묘 신진 신사 신오 신미 신신 신유 신술 신해 \n",
    "임자 임축 임인 임묘 임진 임사 임오 임미 임신 임유 임술 임해 \n",
    "계자 계축 계인 계묘 계진 계사 계오 계미 계신 계유 계술 계해 \n",
    "```"
   ]
  },
  {
   "cell_type": "code",
   "execution_count": null,
   "metadata": {},
   "outputs": [],
   "source": []
  },
  {
   "cell_type": "markdown",
   "metadata": {},
   "source": [
    "#### 여러개의 컬렉션을 나란히 순회하기\n",
    "\n",
    " - 구조를 가지는 컬렉션을 순회하여 하나하나 요소에 접근할 수 있음을 보았다\n",
    " \n",
    " - 구조를 가지지 않지만 구조를 가지게 만들고 싶은 여러 컬렉션이 있다면 for문을 사용하여 구조화할 수 있다\n",
    " \n",
    " - 위의 접근 방법을 반대로 생각해보면 가능하다!\n",
    " \n",
    " - 아래의 예시를 보자"
   ]
  },
  {
   "cell_type": "code",
   "execution_count": 11,
   "metadata": {},
   "outputs": [],
   "source": [
    "# 서로 독립된 여러 개의 컬렉션\n",
    "\n",
    "seasons = ['봄', '여름', '가을', '겨울']\n",
    "mountains = ['금강산', '봉래산', '풍악산', '개골산']"
   ]
  },
  {
   "cell_type": "markdown",
   "metadata": {},
   "source": [
    " - 원하는 구조는 아래와 같음\n",
    " \n",
    " ```\n",
    " 봄에는 금강산\n",
    " 여름에는 봉래산\n",
    " 가을에는 풍악산\n",
    " 겨울에는 개골산\n",
    " ```"
   ]
  },
  {
   "cell_type": "code",
   "execution_count": 12,
   "metadata": {},
   "outputs": [
    {
     "name": "stdout",
     "output_type": "stream",
     "text": [
      "봄에는 금강산\n",
      "봄에는 봉래산\n",
      "봄에는 풍악산\n",
      "봄에는 개골산\n",
      "여름에는 금강산\n",
      "여름에는 봉래산\n",
      "여름에는 풍악산\n",
      "여름에는 개골산\n",
      "가을에는 금강산\n",
      "가을에는 봉래산\n",
      "가을에는 풍악산\n",
      "가을에는 개골산\n",
      "겨울에는 금강산\n",
      "겨울에는 봉래산\n",
      "겨울에는 풍악산\n",
      "겨울에는 개골산\n"
     ]
    }
   ],
   "source": [
    "# 반복을 중첩하는 것으로는 두 리스트를 나란히 순회할 수 없다\n",
    "# 무언가 잘못되었다!\n",
    "\n",
    "for season in seasons:\n",
    "    for mountain in mountains:\n",
    "        print(season + '에는 ' + mountain)"
   ]
  },
  {
   "cell_type": "markdown",
   "metadata": {},
   "source": [
    " - zip 함수를 이용하면 시퀀스로 묶어 해결할 수 있다\n",
    " \n",
    " - zip() 함수는 여러 컬렉션의 요소들을 순서대로 엮는다\n",
    " \n",
    " - zip() 함수를 이용하여 컬렉션들을 엮어 나란히 순회할 수 있다"
   ]
  },
  {
   "cell_type": "code",
   "execution_count": 13,
   "metadata": {},
   "outputs": [
    {
     "data": {
      "text/plain": [
       "[(1, 'a', '가'), (2, 'b', '나'), (3, 'c', '다')]"
      ]
     },
     "execution_count": 13,
     "metadata": {},
     "output_type": "execute_result"
    }
   ],
   "source": [
    "# zip() 함수로 시퀀스 엮기\n",
    "\n",
    "list(zip([1, 2, 3], ['a', 'b', 'c'], ['가', '나', '다']))"
   ]
  },
  {
   "cell_type": "code",
   "execution_count": 14,
   "metadata": {},
   "outputs": [
    {
     "name": "stdout",
     "output_type": "stream",
     "text": [
      "봄에는 금강산\n",
      "여름에는 봉래산\n",
      "가을에는 풍악산\n",
      "겨울에는 개골산\n"
     ]
    }
   ],
   "source": [
    "# zip() 함수를 이용해 위의 계절에 따른 산에 대한 두 리스트를 나란히 순회하기\n",
    "\n",
    "for season, mountain in zip(seasons, mountains):\n",
    "    print(season + '에는 ' + mountain)"
   ]
  },
  {
   "cell_type": "markdown",
   "metadata": {},
   "source": [
    "##### 연습문제 7-6 두 시퀀스의 요소 합하기\n",
    "\n",
    " - 두 시퀀스의 요소를 합하는 함수 plus_elements()를 정의하여라. \n",
    " \n",
    " - 이 함수는 두 개의 시퀀스를 전달받은 후 각 요소를 순서대로 합한 리스트를 반환한다. \n",
    " \n",
    " - 예를 들어, (1, 2, 3)과 [4, 5, 6]을 전달받은 경우 [5, 7, 9]를 반환한다."
   ]
  },
  {
   "cell_type": "code",
   "execution_count": null,
   "metadata": {},
   "outputs": [],
   "source": []
  }
 ],
 "metadata": {
  "kernelspec": {
   "display_name": "Python 3",
   "language": "python",
   "name": "python3"
  },
  "language_info": {
   "codemirror_mode": {
    "name": "ipython",
    "version": 3
   },
   "file_extension": ".py",
   "mimetype": "text/x-python",
   "name": "python",
   "nbconvert_exporter": "python",
   "pygments_lexer": "ipython3",
   "version": "3.6.8"
  }
 },
 "nbformat": 4,
 "nbformat_minor": 2
}
