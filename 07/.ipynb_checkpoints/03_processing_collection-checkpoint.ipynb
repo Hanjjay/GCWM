{
 "cells": [
  {
   "cell_type": "markdown",
   "metadata": {},
   "source": [
    "### 컬렉션 가공하기\n",
    "\n",
    " - 컬렉션에는 여러 데이터들이 담겨있음\n",
    " \n",
    " - 이러한 컬렉션의 데이터들을 그냥 읽고 저장하는 것을 넘어서 어떠한 처리를 할 수 있어야 함\n",
    " \n",
    " - 예시\n",
    " \n",
    " > 모든 요소에 연산 적용하기 (예: 음료 가격을 50 원씩 올리기)\n",
    " >\n",
    " > 모든 요소 누적하기 (예: 음료 가격의 평균 구하기)\n",
    " >\n",
    " > 선별하기 (예: 음료 가격이 2천 원 이하인 것만 구하기)\n",
    " >\n",
    " > 정렬하기 (예: 음료 가격을 싼 것부터 비싼 것 순으로 정렬하기)"
   ]
  },
  {
   "cell_type": "markdown",
   "metadata": {},
   "source": [
    "#### 모든요소에 연산을 적용하기"
   ]
  },
  {
   "cell_type": "code",
   "execution_count": 2,
   "metadata": {},
   "outputs": [],
   "source": [
    "# 어떤 가계의 음료 값\n",
    "prices = [2500, 3000, 1800, 3500, 2000, 3000, 2500, 2000]"
   ]
  },
  {
   "cell_type": "code",
   "execution_count": 3,
   "metadata": {},
   "outputs": [
    {
     "data": {
      "text/plain": [
       "[2550, 3050, 1850, 3550, 2050, 3050, 2550, 2050]"
      ]
     },
     "execution_count": 3,
     "metadata": {},
     "output_type": "execute_result"
    }
   ],
   "source": [
    "# for 문으로 모든 요소에 연산 적용하기\n",
    "new_prices = []                    # ❶ 인상된 가격을 담을 새 리스트\n",
    "\n",
    "for price in prices:               # ❷ 가격 리스트를 순회하면서\n",
    "    new_prices.append(price + 50)  #    각 가격에 50을 더해 new_prices에 담는다\n",
    "\n",
    "\n",
    "new_prices                         # ❸ 50 원씩 인상된 가격의 리스트가 만들어졌다"
   ]
  },
  {
   "cell_type": "markdown",
   "metadata": {},
   "source": [
    "#### 리스트 조건제시법\n",
    "\n",
    " - 리스트 조건제시법(list comprehension)이란, 각 요소를 구하는 조건을 제시하여 컬렉션을 정의하는 방법\n",
    " \n",
    " - 다음은 [2, 4, 6, 8, 10] 리스트를 여러 가지 방법으로 정의해 본 것\n",
    "\n",
    " > 원소나열법: [2, 4, 6, 8, 10]\n",
    " > \n",
    " > 레인지: 2 이상 11 미만의 2씩 증가하는 수의 리스트\n",
    " >\n",
    " > 조건제시법: [1, 2, 3, 4, 5]의 각 요소에 2를 곱한 리스트\n",
    " \n",
    " - 리스트 조건제시법은 다음과 같은 양식으로 표현\n",
    "\n",
    " > [연산 for 변수 in 컬렉션]"
   ]
  },
  {
   "cell_type": "code",
   "execution_count": 4,
   "metadata": {},
   "outputs": [
    {
     "data": {
      "text/plain": [
       "[2, 4, 6, 8, 10]"
      ]
     },
     "execution_count": 4,
     "metadata": {},
     "output_type": "execute_result"
    }
   ],
   "source": [
    "# 리스트 조건제시법으로 리스트 정의하기\n",
    "\n",
    "[e * 2 for e in [1, 2, 3, 4, 5]]"
   ]
  },
  {
   "cell_type": "code",
   "execution_count": 5,
   "metadata": {},
   "outputs": [
    {
     "data": {
      "text/plain": [
       "[2550, 3050, 1850, 3550, 2050, 3050, 2550, 2050]"
      ]
     },
     "execution_count": 5,
     "metadata": {},
     "output_type": "execute_result"
    }
   ],
   "source": [
    "# 리스트 조건제시법으로 음료 가격 수정하기\n",
    "\n",
    "[price + 50 for price in prices]"
   ]
  },
  {
   "cell_type": "markdown",
   "metadata": {},
   "source": [
    "#### map() 함수\n",
    "\n",
    " - 리스트 조건제시법과 비슷한 기능을 하는 함수로 map()이 있음\n",
    " \n",
    " - map()은 각 요소에 적용할 연산과 컬렉션을 전달받아, 컬렉션의 모든 요소에 연산을 적용하는 함수"
   ]
  },
  {
   "cell_type": "code",
   "execution_count": 6,
   "metadata": {},
   "outputs": [
    {
     "data": {
      "text/plain": [
       "[2550, 3050, 1850, 3550, 2050, 3050, 2550, 2050]"
      ]
     },
     "execution_count": 6,
     "metadata": {},
     "output_type": "execute_result"
    }
   ],
   "source": [
    "# map() 함수로 음료 가격 수정하기\n",
    "\n",
    "def plus50(n):             # ❶ 각 요소에 적용할 연산을 함수로 정의해 둔다\n",
    "    return n + 50\n",
    "\n",
    "\n",
    "list(map(plus50, prices))  # ❷ prices의 각 요소에 plus50 함수를 적용한 리스트 생성하"
   ]
  },
  {
   "cell_type": "markdown",
   "metadata": {},
   "source": [
    " - 위의 plus50() 함수는 map() 함수에서 한 번만 쓰고 마는 일회용 함수\n",
    " \n",
    " - 일회용 함수를 def 문으로 정의해두는 것은 장황하고 번거로우므로 lambda를 사용할 수 있음"
   ]
  },
  {
   "cell_type": "code",
   "execution_count": 7,
   "metadata": {},
   "outputs": [
    {
     "data": {
      "text/plain": [
       "[2550, 3050, 1850, 3550, 2050, 3050, 2550, 2050]"
      ]
     },
     "execution_count": 7,
     "metadata": {},
     "output_type": "execute_result"
    }
   ],
   "source": [
    "# map() 함수에 람다 식 전달하기\n",
    "\n",
    "list(map(lambda n: n + 50, prices))"
   ]
  },
  {
   "cell_type": "markdown",
   "metadata": {},
   "source": [
    "###### 제곱 리스트 1\n",
    "\n",
    " - 리스트 [0, 1, 4, 9, 16, 25, 36, 49, 64, 81]를 레인지와 리스트 조건제시법을 활용해 요소를 직접 나열하지 않고 작성해 보아라.\n",
    "\n",
    " > 힌트: 이 리스트는 [0, 1, 2, 3, 4, 5, 6, 7, 8, 9]의 각 요소를 제곱한 것이다."
   ]
  },
  {
   "cell_type": "code",
   "execution_count": null,
   "metadata": {},
   "outputs": [],
   "source": []
  },
  {
   "cell_type": "markdown",
   "metadata": {},
   "source": [
    "###### 제곱 리스트 2\n",
    "\n",
    " - 위에서 만든 리스트를 레인지와 map() 함수를 이용해 작성해 보아라."
   ]
  },
  {
   "cell_type": "code",
   "execution_count": null,
   "metadata": {},
   "outputs": [],
   "source": []
  },
  {
   "cell_type": "markdown",
   "metadata": {},
   "source": [
    "#### 모든 요소 누적하기\n",
    "\n",
    " - 각 요소에 연산을 하지 않고 모든 요소를 사용하여 연산한 결과를 보아야할 때도 있음\n",
    " \n",
    " > 예시 : 평균, 전체의 합, 가장 낮은 값 등등"
   ]
  },
  {
   "cell_type": "code",
   "execution_count": 9,
   "metadata": {},
   "outputs": [
    {
     "data": {
      "text/plain": [
       "2537.5"
      ]
     },
     "execution_count": 9,
     "metadata": {},
     "output_type": "execute_result"
    }
   ],
   "source": [
    "# 음료의 평균 값 구하기\n",
    "\n",
    "total_price = 0           # ❶ 총 가격을 저장할 변수\n",
    "num_items = 0             #    전체 항목 개수를 저장할 변수\n",
    "\n",
    "for price in prices:      # ❷ prices의 모든 요소를 순회하며\n",
    "    total_price += price  #    각 음료 가격을 누적하고 (총 가격 구하기)\n",
    "    num_items += 1        #    전체 항목 개수를 1씩 증가시킨다 (전체 항목 개수 세기)\n",
    "    \n",
    "    \n",
    "total_price / num_items   # ❸ 평균 구하기"
   ]
  },
  {
   "cell_type": "code",
   "execution_count": 10,
   "metadata": {},
   "outputs": [
    {
     "data": {
      "text/plain": [
       "3500"
      ]
     },
     "execution_count": 10,
     "metadata": {},
     "output_type": "execute_result"
    }
   ],
   "source": [
    "# 최저성적 구하기\n",
    "\n",
    "most_expensive = 0              # ❶ 가장 비싼 가격을 기억할 변수\n",
    "\n",
    "for price in prices:            # ❷ prices의 모든 요소를 순회하며\n",
    "    if most_expensive < price:  # ❸ 요소가 가장 비싼 가격보다 크면\n",
    "        most_expensive = price  #    이 요소를 가장 비싼 가격으로 기억한다\n",
    "\n",
    "\n",
    "most_expensive"
   ]
  },
  {
   "cell_type": "markdown",
   "metadata": {},
   "source": [
    " - 실제로 이러한 연산은 많이 사용되지 않음\n",
    " \n",
    " - sum(), len(), min(), max() 같은 통계 함수를 사용하는 것이 좋음 (잘 만들어져 있다!)\n",
    " \n",
    " - 하지만 이러한 연산을 사용하지 않고 어떤 다른 모든 요소를 사용한 연산을 진행한다면 위와 같은 방법으로 하나하나 접근해야 함"
   ]
  },
  {
   "cell_type": "markdown",
   "metadata": {},
   "source": [
    "###### 시퀀스의 길이 세기\n",
    "\n",
    " - len() 함수를 흉내낸 length() 함수를 정의해 보아라. \n",
    " \n",
    " - 이 함수는 시퀀스 하나를 매개변수로 입력받아 요소의 개수를 반환한다. \n",
    " \n",
    " - 단, len() 함수를 사용하면 안 된다."
   ]
  },
  {
   "cell_type": "code",
   "execution_count": null,
   "metadata": {},
   "outputs": [],
   "source": []
  },
  {
   "cell_type": "markdown",
   "metadata": {},
   "source": [
    "###### 가장 긴 리스트 구하기\n",
    "\n",
    " - 여러 개의 시퀀스를 입력받아, 그 중 가장 많은 요소를 가진 시퀀스를 반환하는 함수 longest()를 정의해 보아라.\n",
    " \n",
    " - 다음은 이 함수의 실행 예다.\n",
    " \n",
    "```\n",
    ">>> longest([1, 2, 3], (4, 5), [], 'abcdefg', range(5))\n",
    "'abcdefg'\n",
    "\n",
    ">>> longest('파이썬', '프로그래밍')\n",
    "'프로그래밍'\n",
    "\n",
    ">>> longest(range(10), range(100), range(50))\n",
    "range(0, 100)\n",
    "```\n",
    "\n",
    " > 힌트: 함수에서 정해지지 않은 여러 개의 매개변수를 전달받으려면 패킹과 언패킹(5.5절 참고)을 활용한다."
   ]
  },
  {
   "cell_type": "markdown",
   "metadata": {},
   "source": [
    "#### 선별하기\n",
    " \n",
    " - 사람은 매순간 눈, 손, 코, 입 등등으로 수많은 정보를 받아들임\n",
    " \n",
    " - 이 중 필요한 정보만을 조합하고 선별하게됨\n",
    " \n",
    " > 예를 들어 배가 아프다면 배가 아픈 것과 관련된 동시에 이를 해소하기 위한 정보만을 다룰 것이다\n",
    " >\n",
    " > 맛있는 냄새를 맡더라도 배가 아프면 무시하게되는 것\n",
    " \n",
    " - 코드를 작성하다보면 컬렉션 데이터 중 선별을 진행해야하는 경우가 생기게 됨"
   ]
  },
  {
   "cell_type": "code",
   "execution_count": 11,
   "metadata": {},
   "outputs": [
    {
     "data": {
      "text/plain": [
       "[1800, 2000, 2000]"
      ]
     },
     "execution_count": 11,
     "metadata": {},
     "output_type": "execute_result"
    }
   ],
   "source": [
    "# for 문으로 음료 가격 선별하기\n",
    "\n",
    "filtered_prices = []                   # ❶ 조건에 맞는 가격을 담을 리스트\n",
    "\n",
    "for price in prices:                   # ❷ prices 리스트의 모든 요소를 순회하며\n",
    "    if price <= 2000:                  # ❸ 각 요소가 조건에 맞는 경우\n",
    "        filtered_prices.append(price)  #    새 리스트에 담는다\n",
    "\n",
    "filtered_prices"
   ]
  },
  {
   "cell_type": "code",
   "execution_count": 12,
   "metadata": {},
   "outputs": [
    {
     "name": "stdout",
     "output_type": "stream",
     "text": [
      "[2500, 3000, 1800, 3500, 2000, 3000, 2500, 2000]\n",
      "[2500, 3000, 1800, 3500, 2000, 3000, 2500, 2000]\n",
      "[1800, 2000, 2000]\n"
     ]
    }
   ],
   "source": [
    "#리스트 조건제시법으로 선별하기\n",
    "\n",
    "print(prices)  # ❶\n",
    "\n",
    "print([price for price in prices])  # ❷\n",
    "\n",
    "print([price for price in prices if price <= 2000])  # ❸"
   ]
  },
  {
   "cell_type": "code",
   "execution_count": null,
   "metadata": {},
   "outputs": [],
   "source": []
  }
 ],
 "metadata": {
  "kernelspec": {
   "display_name": "Python 3",
   "language": "python",
   "name": "python3"
  },
  "language_info": {
   "codemirror_mode": {
    "name": "ipython",
    "version": 3
   },
   "file_extension": ".py",
   "mimetype": "text/x-python",
   "name": "python",
   "nbconvert_exporter": "python",
   "pygments_lexer": "ipython3",
   "version": "3.6.8"
  }
 },
 "nbformat": 4,
 "nbformat_minor": 2
}
