{
 "cells": [
  {
   "cell_type": "markdown",
   "metadata": {},
   "source": [
    "### 컬렉션 가공하기\n",
    "\n",
    " - 컬렉션에는 여러 데이터들이 담겨있음\n",
    " \n",
    " - 이러한 컬렉션의 데이터들을 그냥 읽고 저장하는 것을 넘어서 어떠한 처리를 할 수 있어야 함\n",
    " \n",
    " - 예시\n",
    " \n",
    " > 모든 요소에 연산 적용하기 (예: 음료 가격을 50 원씩 올리기)\n",
    " >\n",
    " > 모든 요소 누적하기 (예: 음료 가격의 평균 구하기)\n",
    " >\n",
    " > 선별하기 (예: 음료 가격이 2천 원 이하인 것만 구하기)\n",
    " >\n",
    " > 정렬하기 (예: 음료 가격을 싼 것부터 비싼 것 순으로 정렬하기)"
   ]
  },
  {
   "cell_type": "markdown",
   "metadata": {},
   "source": [
    "#### 모든요소에 연산을 적용하기"
   ]
  },
  {
   "cell_type": "code",
   "execution_count": 1,
   "metadata": {},
   "outputs": [],
   "source": [
    "# 어떤 가계의 음료 값\n",
    "prices = [2500, 3000, 1800, 3500, 2000, 3000, 2500, 2000]"
   ]
  },
  {
   "cell_type": "code",
   "execution_count": 2,
   "metadata": {},
   "outputs": [
    {
     "data": {
      "text/plain": [
       "[2550, 3050, 1850, 3550, 2050, 3050, 2550, 2050]"
      ]
     },
     "execution_count": 2,
     "metadata": {},
     "output_type": "execute_result"
    }
   ],
   "source": [
    "# for 문으로 모든 요소에 연산 적용하기\n",
    "new_prices = []                    # ❶ 인상된 가격을 담을 새 리스트\n",
    "\n",
    "for price in prices:               # ❷ 가격 리스트를 순회하면서\n",
    "    new_prices.append(price + 50)  #    각 가격에 50을 더해 new_prices에 담는다\n",
    "\n",
    "\n",
    "new_prices                         # ❸ 50 원씩 인상된 가격의 리스트가 만들어졌다"
   ]
  },
  {
   "cell_type": "markdown",
   "metadata": {},
   "source": [
    "#### 리스트 조건제시법\n",
    "\n",
    " - 리스트 조건제시법(list comprehension)이란, 각 요소를 구하는 조건을 제시하여 컬렉션을 정의하는 방법\n",
    " \n",
    " - 다음은 [2, 4, 6, 8, 10] 리스트를 여러 가지 방법으로 정의해 본 것\n",
    "\n",
    " > 원소나열법: [2, 4, 6, 8, 10]\n",
    " > \n",
    " > 레인지: 2 이상 11 미만의 2씩 증가하는 수의 리스트\n",
    " >\n",
    " > 조건제시법: [1, 2, 3, 4, 5]의 각 요소에 2를 곱한 리스트\n",
    " \n",
    " - 리스트 조건제시법은 다음과 같은 양식으로 표현\n",
    "\n",
    " > [연산 for 변수 in 컬렉션]"
   ]
  },
  {
   "cell_type": "code",
   "execution_count": 3,
   "metadata": {},
   "outputs": [
    {
     "data": {
      "text/plain": [
       "[2, 4, 6, 8, 10]"
      ]
     },
     "execution_count": 3,
     "metadata": {},
     "output_type": "execute_result"
    }
   ],
   "source": [
    "# 리스트 조건제시법으로 리스트 정의하기\n",
    "\n",
    "[e * 2 for e in [1, 2, 3, 4, 5]]"
   ]
  },
  {
   "cell_type": "code",
   "execution_count": null,
   "metadata": {},
   "outputs": [],
   "source": []
  }
 ],
 "metadata": {
  "kernelspec": {
   "display_name": "Python 3",
   "language": "python",
   "name": "python3"
  },
  "language_info": {
   "codemirror_mode": {
    "name": "ipython",
    "version": 3
   },
   "file_extension": ".py",
   "mimetype": "text/x-python",
   "name": "python",
   "nbconvert_exporter": "python",
   "pygments_lexer": "ipython3",
   "version": "3.6.8"
  }
 },
 "nbformat": 4,
 "nbformat_minor": 2
}
