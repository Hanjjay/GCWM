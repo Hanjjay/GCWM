{
 "cells": [
  {
   "cell_type": "markdown",
   "metadata": {},
   "source": [
    "### 컬렉션 가공하기\n",
    "\n",
    " - 컬렉션에는 여러 데이터들이 담겨있음\n",
    " \n",
    " - 이러한 컬렉션의 데이터들을 그냥 읽고 저장하는 것을 넘어서 어떠한 처리를 할 수 있어야 함\n",
    " \n",
    " - 예시\n",
    " \n",
    " > 모든 요소에 연산 적용하기 (예: 음료 가격을 50 원씩 올리기)\n",
    " >\n",
    " > 모든 요소 누적하기 (예: 음료 가격의 평균 구하기)\n",
    " >\n",
    " > 선별하기 (예: 음료 가격이 2천 원 이하인 것만 구하기)\n",
    " >\n",
    " > 정렬하기 (예: 음료 가격을 싼 것부터 비싼 것 순으로 정렬하기)"
   ]
  },
  {
   "cell_type": "markdown",
   "metadata": {},
   "source": [
    "#### 모든요소에 연산을 적용하기"
   ]
  },
  {
   "cell_type": "code",
   "execution_count": 2,
   "metadata": {},
   "outputs": [],
   "source": [
    "# 어떤 가계의 음료 값\n",
    "prices = [2500, 3000, 1800, 3500, 2000, 3000, 2500, 2000]"
   ]
  },
  {
   "cell_type": "code",
   "execution_count": 3,
   "metadata": {},
   "outputs": [
    {
     "data": {
      "text/plain": [
       "[2550, 3050, 1850, 3550, 2050, 3050, 2550, 2050]"
      ]
     },
     "execution_count": 3,
     "metadata": {},
     "output_type": "execute_result"
    }
   ],
   "source": [
    "# for 문으로 모든 요소에 연산 적용하기\n",
    "new_prices = []                    # ❶ 인상된 가격을 담을 새 리스트\n",
    "\n",
    "for price in prices:               # ❷ 가격 리스트를 순회하면서\n",
    "    new_prices.append(price + 50)  #    각 가격에 50을 더해 new_prices에 담는다\n",
    "\n",
    "\n",
    "new_prices                         # ❸ 50 원씩 인상된 가격의 리스트가 만들어졌다"
   ]
  },
  {
   "cell_type": "markdown",
   "metadata": {},
   "source": [
    "#### 리스트 조건제시법\n",
    "\n",
    " - 리스트 조건제시법(list comprehension)이란, 각 요소를 구하는 조건을 제시하여 컬렉션을 정의하는 방법\n",
    " \n",
    " - 다음은 [2, 4, 6, 8, 10] 리스트를 여러 가지 방법으로 정의해 본 것\n",
    "\n",
    " > 원소나열법: [2, 4, 6, 8, 10]\n",
    " > \n",
    " > 레인지: 2 이상 11 미만의 2씩 증가하는 수의 리스트\n",
    " >\n",
    " > 조건제시법: [1, 2, 3, 4, 5]의 각 요소에 2를 곱한 리스트\n",
    " \n",
    " - 리스트 조건제시법은 다음과 같은 양식으로 표현\n",
    "\n",
    " > [연산 for 변수 in 컬렉션]"
   ]
  },
  {
   "cell_type": "code",
   "execution_count": 4,
   "metadata": {},
   "outputs": [
    {
     "data": {
      "text/plain": [
       "[2, 4, 6, 8, 10]"
      ]
     },
     "execution_count": 4,
     "metadata": {},
     "output_type": "execute_result"
    }
   ],
   "source": [
    "# 리스트 조건제시법으로 리스트 정의하기\n",
    "\n",
    "[e * 2 for e in [1, 2, 3, 4, 5]]"
   ]
  },
  {
   "cell_type": "code",
   "execution_count": 5,
   "metadata": {},
   "outputs": [
    {
     "data": {
      "text/plain": [
       "[2550, 3050, 1850, 3550, 2050, 3050, 2550, 2050]"
      ]
     },
     "execution_count": 5,
     "metadata": {},
     "output_type": "execute_result"
    }
   ],
   "source": [
    "# 리스트 조건제시법으로 음료 가격 수정하기\n",
    "\n",
    "[price + 50 for price in prices]"
   ]
  },
  {
   "cell_type": "markdown",
   "metadata": {},
   "source": [
    "#### map() 함수\n",
    "\n",
    " - 리스트 조건제시법과 비슷한 기능을 하는 함수로 map()이 있음\n",
    " \n",
    " - map()은 각 요소에 적용할 연산과 컬렉션을 전달받아, 컬렉션의 모든 요소에 연산을 적용하는 함수"
   ]
  },
  {
   "cell_type": "code",
   "execution_count": 6,
   "metadata": {},
   "outputs": [
    {
     "data": {
      "text/plain": [
       "[2550, 3050, 1850, 3550, 2050, 3050, 2550, 2050]"
      ]
     },
     "execution_count": 6,
     "metadata": {},
     "output_type": "execute_result"
    }
   ],
   "source": [
    "# map() 함수로 음료 가격 수정하기\n",
    "\n",
    "def plus50(n):             # ❶ 각 요소에 적용할 연산을 함수로 정의해 둔다\n",
    "    return n + 50\n",
    "\n",
    "\n",
    "list(map(plus50, prices))  # ❷ prices의 각 요소에 plus50 함수를 적용한 리스트 생성하"
   ]
  },
  {
   "cell_type": "markdown",
   "metadata": {},
   "source": [
    " - 위의 plus50() 함수는 map() 함수에서 한 번만 쓰고 마는 일회용 함수\n",
    " \n",
    " - 일회용 함수를 def 문으로 정의해두는 것은 장황하고 번거로우므로 lambda를 사용할 수 있음"
   ]
  },
  {
   "cell_type": "code",
   "execution_count": 7,
   "metadata": {},
   "outputs": [
    {
     "data": {
      "text/plain": [
       "[2550, 3050, 1850, 3550, 2050, 3050, 2550, 2050]"
      ]
     },
     "execution_count": 7,
     "metadata": {},
     "output_type": "execute_result"
    }
   ],
   "source": [
    "# map() 함수에 람다 식 전달하기\n",
    "\n",
    "list(map(lambda n: n + 50, prices))"
   ]
  },
  {
   "cell_type": "markdown",
   "metadata": {},
   "source": [
    "###### 제곱 리스트 1\n",
    "\n",
    " - 리스트 [0, 1, 4, 9, 16, 25, 36, 49, 64, 81]를 레인지와 리스트 조건제시법을 활용해 요소를 직접 나열하지 않고 작성해 보아라.\n",
    "\n",
    " > 힌트: 이 리스트는 [0, 1, 2, 3, 4, 5, 6, 7, 8, 9]의 각 요소를 제곱한 것이다."
   ]
  },
  {
   "cell_type": "code",
   "execution_count": null,
   "metadata": {},
   "outputs": [],
   "source": []
  },
  {
   "cell_type": "markdown",
   "metadata": {},
   "source": [
    "###### 제곱 리스트 2\n",
    "\n",
    " - 위에서 만든 리스트를 레인지와 map() 함수를 이용해 작성해 보아라."
   ]
  },
  {
   "cell_type": "code",
   "execution_count": null,
   "metadata": {},
   "outputs": [],
   "source": []
  },
  {
   "cell_type": "markdown",
   "metadata": {},
   "source": [
    "#### 모든 요소 누적하기\n",
    "\n",
    " - 각 요소에 연산을 하지 않고 모든 요소를 사용하여 연산한 결과를 보아야할 때도 있음\n",
    " \n",
    " > 예시 : 평균, 전체의 합, 가장 낮은 값 등등"
   ]
  },
  {
   "cell_type": "code",
   "execution_count": 9,
   "metadata": {},
   "outputs": [
    {
     "data": {
      "text/plain": [
       "2537.5"
      ]
     },
     "execution_count": 9,
     "metadata": {},
     "output_type": "execute_result"
    }
   ],
   "source": [
    "# 음료의 평균 값 구하기\n",
    "\n",
    "total_price = 0           # ❶ 총 가격을 저장할 변수\n",
    "num_items = 0             #    전체 항목 개수를 저장할 변수\n",
    "\n",
    "for price in prices:      # ❷ prices의 모든 요소를 순회하며\n",
    "    total_price += price  #    각 음료 가격을 누적하고 (총 가격 구하기)\n",
    "    num_items += 1        #    전체 항목 개수를 1씩 증가시킨다 (전체 항목 개수 세기)\n",
    "    \n",
    "    \n",
    "total_price / num_items   # ❸ 평균 구하기"
   ]
  },
  {
   "cell_type": "code",
   "execution_count": 10,
   "metadata": {},
   "outputs": [
    {
     "data": {
      "text/plain": [
       "3500"
      ]
     },
     "execution_count": 10,
     "metadata": {},
     "output_type": "execute_result"
    }
   ],
   "source": [
    "# 최저성적 구하기\n",
    "\n",
    "most_expensive = 0              # ❶ 가장 비싼 가격을 기억할 변수\n",
    "\n",
    "for price in prices:            # ❷ prices의 모든 요소를 순회하며\n",
    "    if most_expensive < price:  # ❸ 요소가 가장 비싼 가격보다 크면\n",
    "        most_expensive = price  #    이 요소를 가장 비싼 가격으로 기억한다\n",
    "\n",
    "\n",
    "most_expensive"
   ]
  },
  {
   "cell_type": "markdown",
   "metadata": {},
   "source": [
    " - 실제로 이러한 연산은 많이 사용되지 않음\n",
    " \n",
    " - sum(), len(), min(), max() 같은 통계 함수를 사용하는 것이 좋음 (잘 만들어져 있다!)\n",
    " \n",
    " - 하지만 이러한 연산을 사용하지 않고 어떤 다른 모든 요소를 사용한 연산을 진행한다면 위와 같은 방법으로 하나하나 접근해야 함"
   ]
  },
  {
   "cell_type": "markdown",
   "metadata": {},
   "source": [
    "###### 시퀀스의 길이 세기\n",
    "\n",
    " - len() 함수를 흉내낸 length() 함수를 정의해 보아라. \n",
    " \n",
    " - 이 함수는 시퀀스 하나를 매개변수로 입력받아 요소의 개수를 반환한다. \n",
    " \n",
    " - 단, len() 함수를 사용하면 안 된다."
   ]
  },
  {
   "cell_type": "code",
   "execution_count": null,
   "metadata": {},
   "outputs": [],
   "source": []
  },
  {
   "cell_type": "markdown",
   "metadata": {},
   "source": [
    "###### 가장 긴 리스트 구하기\n",
    "\n",
    " - 여러 개의 시퀀스를 입력받아, 그 중 가장 많은 요소를 가진 시퀀스를 반환하는 함수 longest()를 정의해 보아라.\n",
    " \n",
    " - 다음은 이 함수의 실행 예다.\n",
    " \n",
    "```\n",
    ">>> longest([1, 2, 3], (4, 5), [], 'abcdefg', range(5))\n",
    "'abcdefg'\n",
    "\n",
    ">>> longest('파이썬', '프로그래밍')\n",
    "'프로그래밍'\n",
    "\n",
    ">>> longest(range(10), range(100), range(50))\n",
    "range(0, 100)\n",
    "```\n",
    "\n",
    " > 힌트: 함수에서 정해지지 않은 여러 개의 매개변수를 전달받으려면 패킹과 언패킹(5.5절 참고)을 활용한다."
   ]
  },
  {
   "cell_type": "markdown",
   "metadata": {},
   "source": [
    "#### 선별하기\n",
    " \n",
    " - 사람은 매순간 눈, 손, 코, 입 등등으로 수많은 정보를 받아들임\n",
    " \n",
    " - 이 중 필요한 정보만을 조합하고 선별하게됨\n",
    " \n",
    " > 예를 들어 배가 아프다면 배가 아픈 것과 관련된 동시에 이를 해소하기 위한 정보만을 다룰 것이다\n",
    " >\n",
    " > 맛있는 냄새를 맡더라도 배가 아프면 무시하게되는 것\n",
    " \n",
    " - 코드를 작성하다보면 컬렉션 데이터 중 선별을 진행해야하는 경우가 생기게 됨"
   ]
  },
  {
   "cell_type": "code",
   "execution_count": 11,
   "metadata": {},
   "outputs": [
    {
     "data": {
      "text/plain": [
       "[1800, 2000, 2000]"
      ]
     },
     "execution_count": 11,
     "metadata": {},
     "output_type": "execute_result"
    }
   ],
   "source": [
    "# for 문으로 음료 가격 선별하기\n",
    "\n",
    "filtered_prices = []                   # ❶ 조건에 맞는 가격을 담을 리스트\n",
    "\n",
    "for price in prices:                   # ❷ prices 리스트의 모든 요소를 순회하며\n",
    "    if price <= 2000:                  # ❸ 각 요소가 조건에 맞는 경우\n",
    "        filtered_prices.append(price)  #    새 리스트에 담는다\n",
    "\n",
    "filtered_prices"
   ]
  },
  {
   "cell_type": "code",
   "execution_count": 12,
   "metadata": {},
   "outputs": [
    {
     "name": "stdout",
     "output_type": "stream",
     "text": [
      "[2500, 3000, 1800, 3500, 2000, 3000, 2500, 2000]\n",
      "[2500, 3000, 1800, 3500, 2000, 3000, 2500, 2000]\n",
      "[1800, 2000, 2000]\n"
     ]
    }
   ],
   "source": [
    "#리스트 조건제시법으로 선별하기\n",
    "\n",
    "print(prices)  # ❶\n",
    "\n",
    "print([price for price in prices])  # ❷\n",
    "\n",
    "print([price for price in prices if price <= 2000])  # ❸"
   ]
  },
  {
   "cell_type": "markdown",
   "metadata": {},
   "source": [
    " - filter() 함수 : 컬렉션에서 조건에 맞는 요소를 선별\n",
    " \n",
    " - map과 비슷함\n",
    " \n",
    " > map ... 연산과 컬렉션을 입력으로 받음\n",
    " >\n",
    " > filter ... 조건과 컬렉션을 입력으로 받음"
   ]
  },
  {
   "cell_type": "code",
   "execution_count": 13,
   "metadata": {},
   "outputs": [
    {
     "data": {
      "text/plain": [
       "[1800, 2000, 2000]"
      ]
     },
     "execution_count": 13,
     "metadata": {},
     "output_type": "execute_result"
    }
   ],
   "source": [
    "# filter() 함수를 이용해 선별하기\n",
    "\n",
    "list(filter(lambda n: n <= 2000, prices))"
   ]
  },
  {
   "cell_type": "markdown",
   "metadata": {},
   "source": [
    "###### 용의자 프로파일링\n",
    "\n",
    " - 김파이 씨는 개 다섯 마리를 키우고 있다. \n",
    " \n",
    " - 어느날 외출하고 돌아오니 누군가가 침대를 물어뜯어 부순 것이 아닌가! \n",
    " \n",
    " - 현장 조사 결과, 범인은 주둥이가 작고, 발이 크고, 흰색 털을 가진 개라는 것을 알 수 있었다. \n",
    " - 김파이 씨는 용의자를 좁히기 위해 개의 정보를 정리했다. \n",
    " \n",
    " - 이 데이터를 선별해 용의자로 의심되는 개를 모두 찾아 그 이름을 화면에 출력해라.\n",
    "\n",
    "```\n",
    "용의자 = [\n",
    "    {'이름': '멍멍', '털': '흰색', '주둥이': '크다', '발': '크다'},\n",
    "    {'이름': '킁킁', '털': '검은색', '주둥이': '작다', '발': '크다'},\n",
    "    {'이름': '왈왈', '털': '흰색', '주둥이': '작다', '발': '크다'},\n",
    "    {'이름': '꿀꿀', '털': '검은색', '주둥이': '작다', '발': '작다'},\n",
    "    {'이름': '낑낑', '털': '흰색', '주둥이': '작다', '발': '작다'},\n",
    "]\n",
    "```"
   ]
  },
  {
   "cell_type": "code",
   "execution_count": null,
   "metadata": {},
   "outputs": [],
   "source": []
  },
  {
   "cell_type": "markdown",
   "metadata": {},
   "source": [
    "###### 불량율 계산\n",
    "\n",
    " - 파이중공업은 여러 개의 베어링을 무작위로 선택하여 지름을 측정해 리스트에 담은 후, 이 정보를 이용해 베어링의 불량율을 계산하려 한다. \n",
    " \n",
    " - 지름이 0.99 mm 이상 1.01 mm 미만인 베어링을 정상 제품이라고 가정하고, 베어링의 지름을 담은 리스트를 전달받아 불량율을 계산하는 함수 faulty_rate()를 정의해라.\n",
    "\n",
    " - 다음은 이 함수로 10개의 베어링으로 불량율을 계산한 예다.\n",
    "\n",
    "```\n",
    ">>> diameters = [0.985, 0.992, 1.004, 0.995, 0.899, 1.001, 1.002, 1.003, 1.009, 0.998]\n",
    ">>> faulty_rate(diameters)\n",
    "0.2\n",
    "```"
   ]
  },
  {
   "cell_type": "code",
   "execution_count": null,
   "metadata": {},
   "outputs": [],
   "source": []
  },
  {
   "cell_type": "markdown",
   "metadata": {},
   "source": [
    "#### 정렬하기\n",
    "\n",
    " - 정렬(sort)이란 어떤 기준을 정해 컬렉션의 요소를 순서대로 재배열하는 것\n",
    " \n",
    " - '영국에서 3번째로 인기있는 커피는?' 같은 문제를 해결하려면 정렬이 필요\n",
    " \n",
    " - 여러가지 정렬 알고리즘이 있음\n",
    " \n",
    " > 1. 거품 정렬(bubble sort): 바로 옆의 두 요소를 각각 비교하는 알고리즘. 비효율적이고 정렬 속도가 느리지만 단순해서 쉽게 이해할 수 있다.\n",
    " >\n",
    " > 2. 퀵 정렬(quicksort): 요소 하나를 기준점으로 삼고 그보다 작은 요소와 큰 요소를 나누어 배치하는 과정을 반복하는 알고리즘.\n",
    " >\n",
    " > 3. 삽입 정렬(insertion sort): 각 요소를 이미 정렬된 부분의 제 위치에 삽입하는 과정을 반복하는 알고리즘.\n",
    " >\n",
    " > 4. 합병 정렬(merge sort): 전체를 작은 단위로 나눈 후 다시 합치면서 정렬하는 알고리즘.\n",
    " \n",
    " - python의 sorted() 함수는 Timsort라는 기법을 사용\n",
    " \n",
    " - 먼저 커품 정렬을 먼저 시도해보자"
   ]
  },
  {
   "cell_type": "code",
   "execution_count": 14,
   "metadata": {},
   "outputs": [
    {
     "name": "stdout",
     "output_type": "stream",
     "text": [
      "[1, 2]\n"
     ]
    }
   ],
   "source": [
    "# 요소가 두 개인 리스트 정렬하기\n",
    "\n",
    "coll = [2, 1]\n",
    "\n",
    "if coll[0] > coll[1]:                    # ❶ 왼쪽 요소가 오른쪽 요소보다 크다면\n",
    "    coll[0], coll[1] = coll[1], coll[0]  # ❷ 위치를 서로 바꾼다\n",
    "print(coll)                              # ❸ 결과: [1, 2]"
   ]
  },
  {
   "cell_type": "code",
   "execution_count": 15,
   "metadata": {},
   "outputs": [
    {
     "name": "stdout",
     "output_type": "stream",
     "text": [
      "[5, 10, 1]\n",
      "[5, 1, 10]\n"
     ]
    }
   ],
   "source": [
    "# 요소가 세 개인 리스트 정렬하기\n",
    "\n",
    "coll = [10, 5, 1]\n",
    "\n",
    "if coll[0] > coll[1]:                    # ❶ 첫 번째와 두 번째 요소를 비교·교환\n",
    "    coll[0], coll[1] = coll[1], coll[0]\n",
    "print(coll)                              # 결과: [5, 10, 1]\n",
    "\n",
    "if coll[1] > coll[2]:                    # ❷ 두 번째와 세 번째 요소를 비교·교환\n",
    "    coll[1], coll[2] = coll[2], coll[1]\n",
    "print(coll)                              # 결과: [5, 1, 10]"
   ]
  },
  {
   "cell_type": "code",
   "execution_count": 16,
   "metadata": {},
   "outputs": [
    {
     "name": "stdout",
     "output_type": "stream",
     "text": [
      "[5, 1, 9, 7, 3, 10]\n"
     ]
    }
   ],
   "source": [
    "# 거품 정렬의 한 단계 수행하기\n",
    "\n",
    "coll = [10, 5, 1, 9, 7, 3]\n",
    "\n",
    "for i in range(len(coll) - 1):  # ❶ 요소 개수보다 하나 적은 횟수만큼 반복한다\n",
    "    if coll[i] > coll[i + 1]:   # ❷ 컬렉션의 i번째 요소와 i+1번째 요소를 비교·교환한다\n",
    "        coll[i], coll[i + 1] = coll[i + 1], coll[i]\n",
    "\n",
    "print(coll)                     # ❸ 결과: [5, 1, 9, 7, 3, 10]"
   ]
  },
  {
   "cell_type": "code",
   "execution_count": 17,
   "metadata": {},
   "outputs": [
    {
     "name": "stdout",
     "output_type": "stream",
     "text": [
      "[1, 3, 5, 7, 9, 10]\n"
     ]
    }
   ],
   "source": [
    "# 거품 정렬의 모든 단계 수행하기\n",
    "\n",
    "coll = [10, 5, 1, 9, 7, 3]\n",
    "\n",
    "for _ in coll:                      # ❶ 컬렉션의 요소의 개수만큼 반복하여\n",
    "    for i in range(len(coll) - 1):  # ❷ 각 주기마다 거품 정렬의 한 단계를 수행한다\n",
    "        if coll[i] > coll[i + 1]:\n",
    "            coll[i], coll[i + 1] = coll[i + 1], coll[i]\n",
    "\n",
    "print(coll)  # [1, 3, 5, 7, 9, 10]"
   ]
  },
  {
   "cell_type": "markdown",
   "metadata": {},
   "source": [
    " - 거퓸 정렬은 이해하기 쉽고 편하기 구현할 수 있음\n",
    " \n",
    " - 하지만 연산 비용이 너무 많이드는 단점이 있음\n",
    " \n",
    " > 컬렉션의 요소가 100 개이면 약 1만 회의 연산이, 1000 개이면 약 1백만 회의 연산이 필요"
   ]
  },
  {
   "cell_type": "markdown",
   "metadata": {},
   "source": [
    " - python은 sorted() 함수가 있음\n",
    " \n",
    " - 이 함수에 컬렉션을 전달하면 요소를 오름차순으로 정렬한 새 리스트를 얻을 수 있음"
   ]
  },
  {
   "cell_type": "code",
   "execution_count": 18,
   "metadata": {},
   "outputs": [
    {
     "data": {
      "text/plain": [
       "[1, 3, 5, 7, 9, 10]"
      ]
     },
     "execution_count": 18,
     "metadata": {},
     "output_type": "execute_result"
    }
   ],
   "source": [
    "# sorted() 함수로 정렬하기\n",
    "\n",
    "sorted([10, 5, 1, 9, 7, 3])"
   ]
  },
  {
   "cell_type": "code",
   "execution_count": 20,
   "metadata": {},
   "outputs": [
    {
     "name": "stdout",
     "output_type": "stream",
     "text": [
      "[1, 3, 5, 7, 9, 10]\n",
      "[10, 5, 1, 9, 7, 3]\n",
      "[1, 3, 5, 7, 9, 10]\n"
     ]
    }
   ],
   "source": [
    "# sorted() 함수는 원본 컬렉션을 수정하지 않는다\n",
    "\n",
    "coll = [10, 5, 1, 9, 7, 3]\n",
    "print(sorted(coll))# coll을 정렬한 리스트 구하기\n",
    "\n",
    "print(coll)                 # 원본의 순서는 변하지 않는다\n",
    "\n",
    "coll = sorted(coll)  # 정렬한 리스트로 바꾸기\n",
    "print(coll)"
   ]
  },
  {
   "cell_type": "code",
   "execution_count": 21,
   "metadata": {},
   "outputs": [
    {
     "data": {
      "text/plain": [
       "['금', '목', '수', '월', '화']"
      ]
     },
     "execution_count": 21,
     "metadata": {},
     "output_type": "execute_result"
    }
   ],
   "source": [
    "# 요소의 크기를 비교할 수 있다면 수가 아니라도 정렬이 가능하다\n",
    "\n",
    "sorted(['월', '화', '수', '목', '금'])"
   ]
  },
  {
   "cell_type": "code",
   "execution_count": 22,
   "metadata": {},
   "outputs": [
    {
     "name": "stdout",
     "output_type": "stream",
     "text": [
      "[1, 2, 3, 4, 5]\n",
      "['녕', '세', '안', '요', '하']\n",
      "['곰', '늑대', '박쥐', '사자']\n"
     ]
    }
   ],
   "source": [
    "# sorted() 함수로 정렬한 결과는 리스트로 반환된다\n",
    "\n",
    "print(sorted((5, 4, 3, 2, 1)))                 # 튜플 정렬하기\n",
    "\n",
    "print(sorted('안녕하세요'))                    # 문자열 정렬하기\n",
    "\n",
    "print(sorted({'사자', '박쥐', '늑대', '곰'}))  # 집합 정렬하기"
   ]
  },
  {
   "cell_type": "code",
   "execution_count": 23,
   "metadata": {},
   "outputs": [
    {
     "name": "stdout",
     "output_type": "stream",
     "text": [
      "[1, 2, 3, 4, 5]\n",
      "[5, 4, 3, 2, 1]\n"
     ]
    }
   ],
   "source": [
    "# 오름차순(ascending order) 정렬과 내림차순(descending order) 정렬\n",
    "\n",
    "print(sorted([3, 5, 1, 2, 4]))                # 오름차순 정렬\n",
    "\n",
    "print(sorted([3, 5, 1, 2, 4], reverse=True))  # 내림차순 정렬"
   ]
  },
  {
   "cell_type": "markdown",
   "metadata": {},
   "source": [
    " - key 매개변수를 지정하여 sorted 함수를 사용할 수 있음"
   ]
  },
  {
   "cell_type": "code",
   "execution_count": 24,
   "metadata": {},
   "outputs": [
    {
     "data": {
      "text/plain": [
       "[1, -2, 3, -4, -5]"
      ]
     },
     "execution_count": 24,
     "metadata": {},
     "output_type": "execute_result"
    }
   ],
   "source": [
    "# 절대값으로 비교하기\n",
    "sorted([3, -5, 1, -2, -4], key=abs)"
   ]
  },
  {
   "cell_type": "code",
   "execution_count": 26,
   "metadata": {},
   "outputs": [
    {
     "name": "stdout",
     "output_type": "stream",
     "text": [
      "[{'name': '아메리카노', 'price': 2000},\n",
      " {'name': '카푸치노', 'price': 2400},\n",
      " {'name': '카페 라테', 'price': 2500}]\n"
     ]
    },
    {
     "data": {
      "text/plain": [
       "[{'name': '아메리카노', 'price': 2000},\n",
       " {'name': '카푸치노', 'price': 2400},\n",
       " {'name': '카페 라테', 'price': 2500}]"
      ]
     },
     "execution_count": 26,
     "metadata": {},
     "output_type": "execute_result"
    }
   ],
   "source": [
    "import pprint\n",
    "\n",
    "# 사전의 특정 키-값으로 비교\n",
    "items = [\n",
    "    {'name': '아메리카노', 'price': 2000},\n",
    "    {'name': '카페 라테', 'price': 2500},\n",
    "    {'name': '카푸치노', 'price': 2400},\n",
    "]\n",
    "\n",
    "sorted_items = sorted(items, key=lambda item: item['price'])\n",
    "\n",
    "pprint.pprint(sorted_items)\n",
    "[{'name': '아메리카노', 'price': 2000},\n",
    " {'name': '카푸치노', 'price': 2400},\n",
    " {'name': '카페 라테', 'price': 2500}]"
   ]
  },
  {
   "cell_type": "markdown",
   "metadata": {},
   "source": [
    "###### 길이로 정렬하기\n",
    "\n",
    " - 문자열이 담긴 리스트를 sorted() 함수로 정렬하면 가나다순으로 정렬된다.\n",
    "\n",
    "```\n",
    ">>> fruits = ['배', '사과', '복숭아', '블루베리']\n",
    ">>> sorted(fruits)\n",
    "['배', '복숭아', '블루베리', '사과']\n",
    "```\n",
    "\n",
    " - 문자열을 길이를 기준으로 정렬하려면 어떻게 해야 할까? \n",
    " \n",
    " - sorted() 함수를 활용해 위의 fruits 데이터를 이름이 긴 것에서 짧은 것 순서로 정렬하라. \n",
    " \n",
    " - 정렬 결과는 다음과 같아야 한다.\n",
    "\n",
    "```\n",
    "['블루베리', '복숭아', '사과', '배']\n",
    "```"
   ]
  },
  {
   "cell_type": "code",
   "execution_count": null,
   "metadata": {},
   "outputs": [],
   "source": []
  }
 ],
 "metadata": {
  "kernelspec": {
   "display_name": "Python 3",
   "language": "python",
   "name": "python3"
  },
  "language_info": {
   "codemirror_mode": {
    "name": "ipython",
    "version": 3
   },
   "file_extension": ".py",
   "mimetype": "text/x-python",
   "name": "python",
   "nbconvert_exporter": "python",
   "pygments_lexer": "ipython3",
   "version": "3.6.8"
  }
 },
 "nbformat": 4,
 "nbformat_minor": 2
}
