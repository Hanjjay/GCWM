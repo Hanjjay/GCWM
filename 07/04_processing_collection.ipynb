{
 "cells": [
  {
   "cell_type": "markdown",
   "metadata": {},
   "source": [
    "### 반복자\n",
    "\n",
    " - for 문은 시퀀스뿐 아니라 집합과 사전 등 순서가 없는 컬렉션에서도 동작\n",
    " \n",
    " - for 문은 반복자(iterator)를 제공하는 데이터라면 모두 순회할 수 있음\n",
    " \n",
    " - 반복자는 다음에 무엇을 출력할 차례인지를 기억하여 데이터를 순서대로 꺼낼 수 있도록 돕는 인터페이스\n",
    " \n",
    " - iter() 함수와 next() 함수가 필요하다. iter() 함수는 전달된 데이터의 반복자를 꺼내 반환\n",
    " \n",
    " - next() 함수는 반복자를 입력받아 그 반복자가 다음에 출력해야 할 요소를 반환\n",
    " \n",
    " - iter() 함수로 반복자를 구하고 그 반복자를 next() 함수에 전달하여 요소를 차례대로 꺼낼 수 있음"
   ]
  },
  {
   "cell_type": "code",
   "execution_count": 1,
   "metadata": {},
   "outputs": [],
   "source": [
    "# 반복자로 리스트 순회하기\n",
    "\n",
    "it = iter([1, 2, 3])  # [1, 2, 3]의 반복자 구하기"
   ]
  },
  {
   "cell_type": "code",
   "execution_count": 2,
   "metadata": {},
   "outputs": [
    {
     "data": {
      "text/plain": [
       "1"
      ]
     },
     "execution_count": 2,
     "metadata": {},
     "output_type": "execute_result"
    }
   ],
   "source": [
    "next(it)              # 반복자의 다음 요소 구하기"
   ]
  },
  {
   "cell_type": "code",
   "execution_count": 3,
   "metadata": {},
   "outputs": [
    {
     "data": {
      "text/plain": [
       "2"
      ]
     },
     "execution_count": 3,
     "metadata": {},
     "output_type": "execute_result"
    }
   ],
   "source": [
    "next(it)              # 반복자의 다음 요소 구하기"
   ]
  },
  {
   "cell_type": "code",
   "execution_count": 4,
   "metadata": {},
   "outputs": [
    {
     "data": {
      "text/plain": [
       "3"
      ]
     },
     "execution_count": 4,
     "metadata": {},
     "output_type": "execute_result"
    }
   ],
   "source": [
    "next(it)              # 반복자의 다음 요소 구하기"
   ]
  },
  {
   "cell_type": "code",
   "execution_count": 5,
   "metadata": {},
   "outputs": [
    {
     "ename": "StopIteration",
     "evalue": "",
     "output_type": "error",
     "traceback": [
      "\u001b[1;31m---------------------------------------------------------------------------\u001b[0m",
      "\u001b[1;31mStopIteration\u001b[0m                             Traceback (most recent call last)",
      "\u001b[1;32m<ipython-input-5-de689143316a>\u001b[0m in \u001b[0;36m<module>\u001b[1;34m\u001b[0m\n\u001b[1;32m----> 1\u001b[1;33m \u001b[0mnext\u001b[0m\u001b[1;33m(\u001b[0m\u001b[0mit\u001b[0m\u001b[1;33m)\u001b[0m              \u001b[1;31m# 더 구할 요소가 없으면 오류가 발생한다\u001b[0m\u001b[1;33m\u001b[0m\u001b[1;33m\u001b[0m\u001b[0m\n\u001b[0m",
      "\u001b[1;31mStopIteration\u001b[0m: "
     ]
    }
   ],
   "source": [
    "next(it)              # 더 구할 요소가 없으면 오류가 발생한다"
   ]
  },
  {
   "cell_type": "markdown",
   "metadata": {},
   "source": [
    " - 정리하면 아래와 같음\n",
    "\n",
    " > - 반복 가능한 데이터: iter() 함수로 반복자를 구할 수 있는 데이터\n",
    " >\n",
    " > - 반복자: next() 함수로 값을 하나씩 꺼낼 수 있는 데이터\n",
    " >\n",
    " > - iter() 함수: 반복 가능한 데이터를 입력받아 반복자를 반환하는 함수\n",
    " >\n",
    " > - next() 함수: 반복자를 입력받아 다음 출력값을 반환하는 함수\n",
    " \n",
    " - iter() 함수와 next() 함수를 활용하면 for 문을 사용하지 않고도 컬렉션을 순회할 수 있음\n",
    " \n",
    " - 원한다면 for 문을 흉내내는 함수를 정의할 수도 있을 것"
   ]
  },
  {
   "cell_type": "markdown",
   "metadata": {},
   "source": [
    "#### 생성기\n",
    "\n",
    " - 반복자는 흔히 컬렉션을 순회하는 데 쓰이지만, 반복자가 컬렉션만을 위한 것은 아님\n",
    " \n",
    " - 반복자는 next() 함수에 의해 값을 하나씩 내어놓기만 할 뿐\n",
    " \n",
    " - 내어 놓는 값의 원천이 컬렉션이든 아니든 상관없음\n",
    " \n",
    " - 정해둔 순서대로 값을 생성하는 함수를 정의하면, 이 함수를 이용해 값을 하나씩 꺼내는 반복자를 만들 수 있음\n",
    " \n",
    " - 이런 식으로 값을 생성해 내는 반복자를 생성기(generator)라고 함"
   ]
  },
  {
   "cell_type": "markdown",
   "metadata": {},
   "source": [
    "##### yield 문\n",
    "\n",
    " - 함수로 생성기를 만들기 위해서는 yield 문이 필요\n",
    " \n",
    " - yield 문은 return 문처럼 함수가 값을 반환하고 정지하도록 하는데, 그 함수를 나중에 다시 실행하면 정지했던 위치부터 다시 실행되도록 함\n",
    " \n",
    " - yield 문이 포함된 함수는 일반 함수와 달리, 호출했을 때 생성기를 반환"
   ]
  },
  {
   "cell_type": "code",
   "execution_count": 6,
   "metadata": {},
   "outputs": [
    {
     "data": {
      "text/plain": [
       "<generator object abc at 0x000002E9B08926D0>"
      ]
     },
     "execution_count": 6,
     "metadata": {},
     "output_type": "execute_result"
    }
   ],
   "source": [
    "# 생성기 만들기\n",
    "\n",
    "def abc():  # ❶ 생성기를 반환하는 함수 정의하기\n",
    "    \"a, b, c를 출력하는 생성기를 반환한다.\"\n",
    "    yield 'a'\n",
    "    yield 'b'\n",
    "    yield 'c'\n",
    "    \n",
    "abc()       # ❷ 생성기 만들기"
   ]
  },
  {
   "cell_type": "markdown",
   "metadata": {},
   "source": [
    " - ❶ 함수 abc()를 정의했는데, 이 함수 자체는 생성기가 아니라 그냥 함수\n",
    " \n",
    " - ❷와 같이 abc()를 실행했을 때 그 결과로 생성기 <generator object abc at 0x7fdcd41583b8>가 만들어진 것을 볼 수 있음"
   ]
  },
  {
   "cell_type": "code",
   "execution_count": 7,
   "metadata": {},
   "outputs": [],
   "source": [
    "# next() 함수로 생성기에서 값 꺼내기\n",
    "\n",
    "abc_generator = abc()  # ❶ 생성기 만들기"
   ]
  },
  {
   "cell_type": "code",
   "execution_count": 8,
   "metadata": {},
   "outputs": [
    {
     "data": {
      "text/plain": [
       "'a'"
      ]
     },
     "execution_count": 8,
     "metadata": {},
     "output_type": "execute_result"
    }
   ],
   "source": [
    "next(abc_generator)    # ❷ 생성기의 다음 값 꺼내기"
   ]
  },
  {
   "cell_type": "code",
   "execution_count": 9,
   "metadata": {},
   "outputs": [
    {
     "data": {
      "text/plain": [
       "'b'"
      ]
     },
     "execution_count": 9,
     "metadata": {},
     "output_type": "execute_result"
    }
   ],
   "source": [
    "next(abc_generator)    # ❷ 생성기의 다음 값 꺼내기"
   ]
  },
  {
   "cell_type": "code",
   "execution_count": 10,
   "metadata": {},
   "outputs": [
    {
     "data": {
      "text/plain": [
       "'c'"
      ]
     },
     "execution_count": 10,
     "metadata": {},
     "output_type": "execute_result"
    }
   ],
   "source": [
    "next(abc_generator)    # ❷ 생성기의 다음 값 꺼내기"
   ]
  },
  {
   "cell_type": "code",
   "execution_count": 11,
   "metadata": {},
   "outputs": [
    {
     "ename": "StopIteration",
     "evalue": "",
     "output_type": "error",
     "traceback": [
      "\u001b[1;31m---------------------------------------------------------------------------\u001b[0m",
      "\u001b[1;31mStopIteration\u001b[0m                             Traceback (most recent call last)",
      "\u001b[1;32m<ipython-input-11-be37ca01b087>\u001b[0m in \u001b[0;36m<module>\u001b[1;34m\u001b[0m\n\u001b[1;32m----> 1\u001b[1;33m \u001b[0mnext\u001b[0m\u001b[1;33m(\u001b[0m\u001b[0mabc_generator\u001b[0m\u001b[1;33m)\u001b[0m    \u001b[1;31m# ❸ 더 구할 요소가 없으면 오류가 발생한다\u001b[0m\u001b[1;33m\u001b[0m\u001b[1;33m\u001b[0m\u001b[0m\n\u001b[0m",
      "\u001b[1;31mStopIteration\u001b[0m: "
     ]
    }
   ],
   "source": [
    "next(abc_generator)    # ❸ 더 구할 요소가 없으면 오류가 발생한다"
   ]
  },
  {
   "cell_type": "code",
   "execution_count": 12,
   "metadata": {},
   "outputs": [],
   "source": [
    "# 생성기 함수의 본문은 next() 함수에 의해 실행된다\n",
    "# 생성기 함수 사이에 print로 상황을 확인해보자\n",
    "\n",
    "def one_to_three():\n",
    "    \"\"\"1, 2, 3을 반환하는 생성기를 반환한다.\"\"\"\n",
    "    print('생성기가 1을 내어 놓습니다.')\n",
    "    yield 1\n",
    "    print('생성기가 2를 내어 놓습니다.')\n",
    "    yield 2\n",
    "    print('생성기가 3을 내어 놓습니다.')\n",
    "    yield 3\n",
    "\n",
    "one_to_three_generator = one_to_three()"
   ]
  },
  {
   "cell_type": "code",
   "execution_count": 13,
   "metadata": {},
   "outputs": [
    {
     "name": "stdout",
     "output_type": "stream",
     "text": [
      "생성기가 1을 내어 놓습니다.\n"
     ]
    },
    {
     "data": {
      "text/plain": [
       "1"
      ]
     },
     "execution_count": 13,
     "metadata": {},
     "output_type": "execute_result"
    }
   ],
   "source": [
    "next(one_to_three_generator)"
   ]
  },
  {
   "cell_type": "code",
   "execution_count": 14,
   "metadata": {},
   "outputs": [
    {
     "name": "stdout",
     "output_type": "stream",
     "text": [
      "생성기가 2를 내어 놓습니다.\n"
     ]
    },
    {
     "data": {
      "text/plain": [
       "2"
      ]
     },
     "execution_count": 14,
     "metadata": {},
     "output_type": "execute_result"
    }
   ],
   "source": [
    "next(one_to_three_generator)"
   ]
  },
  {
   "cell_type": "code",
   "execution_count": 15,
   "metadata": {},
   "outputs": [
    {
     "name": "stdout",
     "output_type": "stream",
     "text": [
      "생성기가 3을 내어 놓습니다.\n"
     ]
    },
    {
     "data": {
      "text/plain": [
       "3"
      ]
     },
     "execution_count": 15,
     "metadata": {},
     "output_type": "execute_result"
    }
   ],
   "source": [
    "next(one_to_three_generator)"
   ]
  },
  {
   "cell_type": "code",
   "execution_count": 16,
   "metadata": {},
   "outputs": [
    {
     "ename": "StopIteration",
     "evalue": "",
     "output_type": "error",
     "traceback": [
      "\u001b[1;31m---------------------------------------------------------------------------\u001b[0m",
      "\u001b[1;31mStopIteration\u001b[0m                             Traceback (most recent call last)",
      "\u001b[1;32m<ipython-input-16-496bb88718bf>\u001b[0m in \u001b[0;36m<module>\u001b[1;34m\u001b[0m\n\u001b[1;32m----> 1\u001b[1;33m \u001b[0mnext\u001b[0m\u001b[1;33m(\u001b[0m\u001b[0mone_to_three_generator\u001b[0m\u001b[1;33m)\u001b[0m\u001b[1;33m\u001b[0m\u001b[1;33m\u001b[0m\u001b[0m\n\u001b[0m",
      "\u001b[1;31mStopIteration\u001b[0m: "
     ]
    }
   ],
   "source": [
    "next(one_to_three_generator)"
   ]
  },
  {
   "cell_type": "markdown",
   "metadata": {},
   "source": [
    " - 생성기는 반복자의 한 종류\n",
    "\n",
    " - 생성기는 yield 문이 포함된 함수를 실행하여 만들 수 있음\n",
    "\n",
    " - yield 문이 포함된 함수를 실행하면 생성기가 반환\n",
    " \n",
    " - 생성기를 next() 함수에 전달해 실행시키면 함수의 본문이 실행됨\n",
    "\n",
    " - yield 문은 값을 내어준 후 생성기의 실행을 일시정지\n",
    " \n",
    " - next() 함수가 실행되면 정지했던 위치에서부터 다시 실행이 이어짐"
   ]
  },
  {
   "cell_type": "markdown",
   "metadata": {},
   "source": [
    " - 생성기를 어디에 활용할까?\n",
    " \n",
    " - 생성기는 원본이 되는 데이터가 없더라도 순회할 수 있음\n",
    " \n",
    " - **순회하는 시점에 데이터를 생성**\n",
    " \n",
    " - 컴퓨터의 메모리는 한정되어 있으므로 순회해야 할 데이터를 미리 정의해 두는 것이 불가능할 때도 있음\n",
    " \n",
    " - 예시\n",
    " \n",
    " > 1. 저장하지 않고 순간 순간 데이터를 만들어내야하는 경우 ... 비밀스러운 암호관리(?)\n",
    " >\n",
    " > 2. 큰 수량의 수를 만들어내어 다룰 때"
   ]
  },
  {
   "cell_type": "code",
   "execution_count": 17,
   "metadata": {},
   "outputs": [],
   "source": [
    "# 1부터 무한대 범위의 자연수를 출력하는 생성기\n",
    "\n",
    "def one_to_infinite():\n",
    "    \"\"\"1 - 무한대의 자연수를 순서대로 내는 생성기를 반환한다.\"\"\"\n",
    "    n = 1                            # n은 1에서 시작한다\n",
    "    while True:                      # ❶ 무한 반복\n",
    "        yield n                      # ❷ 실행을 일시정지하고 n을 반환한다\n",
    "        n += 1                       # n에 1을 더한다"
   ]
  },
  {
   "cell_type": "code",
   "execution_count": 18,
   "metadata": {},
   "outputs": [],
   "source": [
    "natural_numbers = one_to_infinite()  # ❸ 생성기를 만들어"
   ]
  },
  {
   "cell_type": "code",
   "execution_count": 19,
   "metadata": {},
   "outputs": [
    {
     "data": {
      "text/plain": [
       "1"
      ]
     },
     "execution_count": 19,
     "metadata": {},
     "output_type": "execute_result"
    }
   ],
   "source": [
    "next(natural_numbers)                # 무한한 수를 생성!"
   ]
  },
  {
   "cell_type": "markdown",
   "metadata": {},
   "source": [
    " - 생성기는 각 요소를 구하는 비용이 클 때도 활용하면 좋음\n",
    " \n",
    " - 요소 하나를 구하는 데 1초가 걸린다면, 1천 개짜리 컬렉션을 미리 만들기 위해서는 1천 초가 필요"
   ]
  },
  {
   "cell_type": "code",
   "execution_count": 20,
   "metadata": {},
   "outputs": [],
   "source": [
    "# 생성기를 리스트와 튜플로 변환하기\n",
    "\n",
    "def countdown(start, end):\n",
    "    \"\"\"start(포함)부터 end(비포함)까지 거꾸로 세는 생성기를 반환한다.\"\"\"\n",
    "    n = start              # n은 start에서 시작한다\n",
    "    while end < n:         # n이 end에 도달하지 않은 동안 반복한다\n",
    "        yield n            # 실행을 일시정지하고 n을 반환한다\n",
    "        n -= 1"
   ]
  },
  {
   "cell_type": "code",
   "execution_count": 21,
   "metadata": {},
   "outputs": [
    {
     "data": {
      "text/plain": [
       "[10, 9, 8, 7, 6, 5, 4, 3, 2, 1]"
      ]
     },
     "execution_count": 21,
     "metadata": {},
     "output_type": "execute_result"
    }
   ],
   "source": [
    "list(countdown(10, 0))     # 생성기를 리스트로 변환하기"
   ]
  },
  {
   "cell_type": "code",
   "execution_count": 22,
   "metadata": {},
   "outputs": [
    {
     "data": {
      "text/plain": [
       "(100, 99, 98, 97, 96)"
      ]
     },
     "execution_count": 22,
     "metadata": {},
     "output_type": "execute_result"
    }
   ],
   "source": [
    "tuple(countdown(100, 95))  # 생성기를 튜플로 변환하기"
   ]
  },
  {
   "cell_type": "markdown",
   "metadata": {},
   "source": [
    " - 정리하면, 생성기는 일반적인 반복자처럼 순회할 수 있음\n",
    " \n",
    " - 생성기를 이용해 규모가 매우 큰 컬렉션을 흉내낼 수 있음\n",
    " \n",
    " - 요소를 생성하는 비용이 큰 컬렉션은 모든 요소를 미리 만들기보다, 생성기를 이용해 그 때 그 때 필요한 요소만 생성하는 편이 좋을 수도 있음"
   ]
  },
  {
   "cell_type": "markdown",
   "metadata": {},
   "source": [
    "###### 무한 난수 생성기\n",
    "\n",
    " - 난수(random number)란 예측할 수 없는 임의의 수를 말함\n",
    " \n",
    " - 현실에서는 주사위를 던져 난수를 구할 수 있음\n",
    " \n",
    " - 파이썬에서는 random 모듈(11장)의 random.randint() 함수를 이용해 매개변수로 지정한 범위 사이의의 난수를 구할 수 있음\n",
    " \n",
    " - 다음은 random.randint() 함수를 사용하는 예\n",
    "\n",
    "```\n",
    ">>> import random          # random 모듈 임포트\n",
    ">>> random.randint(0, 63)  # 0 이상 63 이하의 임의의 수\n",
    "24\n",
    "\n",
    ">>> random.randint(0, 63)\n",
    "62\n",
    "\n",
    ">>> random.randint(0, 63)\n",
    "0\n",
    "\n",
    ">>> [random.randint(0, 63) for _ in range(5)]  # 난수 5개의 리스트\n",
    "[39, 38, 43, 46, 29]\n",
    "```\n",
    "\n",
    " - random.randint() 함수를 이용해 무한한 개수의 난수를 꺼낼 수 있는 무한 난수 생성기를 만들어 보자"
   ]
  },
  {
   "cell_type": "code",
   "execution_count": null,
   "metadata": {},
   "outputs": [],
   "source": []
  },
  {
   "cell_type": "markdown",
   "metadata": {},
   "source": [
    "#### 생성기 식\n",
    "\n",
    " - 생성기 식(generator expression)은 생성기를 표현하는 식\n",
    " \n",
    " - 생성기 식은 원본 반복 가능 데이터를 가공하여 데이터를 생성\n",
    " \n",
    " - 생성기 식은 앞에서 배운 리스트 조건제시법과 유사"
   ]
  },
  {
   "cell_type": "code",
   "execution_count": 23,
   "metadata": {},
   "outputs": [
    {
     "data": {
      "text/plain": [
       "[0, 1, 8, 27, 64, 125, 216, 343, 512, 729]"
      ]
     },
     "execution_count": 23,
     "metadata": {},
     "output_type": "execute_result"
    }
   ],
   "source": [
    "# 리스트 조건제시법으로 표현한 세제곱수 리스트\n",
    "\n",
    "[e ** 3 for e in range(10)]"
   ]
  },
  {
   "cell_type": "code",
   "execution_count": 25,
   "metadata": {},
   "outputs": [
    {
     "ename": "NameError",
     "evalue": "name '오래걸린다' is not defined",
     "output_type": "error",
     "traceback": [
      "\u001b[1;31m---------------------------------------------------------------------------\u001b[0m",
      "\u001b[1;31mNameError\u001b[0m                                 Traceback (most recent call last)",
      "\u001b[1;32m<ipython-input-25-44a6580ff65d>\u001b[0m in \u001b[0;36m<module>\u001b[1;34m\u001b[0m\n\u001b[0;32m      1\u001b[0m \u001b[1;31m# 리스트 조건제시법으로 세제곱수를 10억 개 만들기\u001b[0m\u001b[1;33m\u001b[0m\u001b[1;33m\u001b[0m\u001b[1;33m\u001b[0m\u001b[0m\n\u001b[1;32m----> 2\u001b[1;33m \u001b[0m오래걸린다\u001b[0m\u001b[1;33m\u001b[0m\u001b[1;33m\u001b[0m\u001b[0m\n\u001b[0m\u001b[0;32m      3\u001b[0m \u001b[1;33m\u001b[0m\u001b[0m\n\u001b[0;32m      4\u001b[0m \u001b[1;33m[\u001b[0m\u001b[0me\u001b[0m \u001b[1;33m**\u001b[0m \u001b[1;36m3\u001b[0m \u001b[1;32mfor\u001b[0m \u001b[0me\u001b[0m \u001b[1;32min\u001b[0m \u001b[0mrange\u001b[0m\u001b[1;33m(\u001b[0m\u001b[1;36m1000000000\u001b[0m\u001b[1;33m)\u001b[0m\u001b[1;33m]\u001b[0m  \u001b[1;31m# 오랜 시간이 걸린다\u001b[0m\u001b[1;33m\u001b[0m\u001b[1;33m\u001b[0m\u001b[0m\n",
      "\u001b[1;31mNameError\u001b[0m: name '오래걸린다' is not defined"
     ]
    }
   ],
   "source": [
    "# 리스트 조건제시법으로 세제곱수를 10억 개 만들기\n",
    "오래걸린다\n",
    "\n",
    "[e ** 3 for e in range(1000000000)]  # 오랜 시간이 걸린다"
   ]
  },
  {
   "cell_type": "markdown",
   "metadata": {},
   "source": [
    " - 리스트의 크기가 클 때는 리스트 조건제시법을 사용하기 어렵다\n",
    " \n",
    " - 다음은 생성기 식의 양식이다. 리스트 조건제시법과 거의 똑같음\n",
    " \n",
    " - 대괄호를 소괄호로 바꾸었을 뿐\n",
    "\n",
    "``` \n",
    "(연산 for 변수 in 컬렉션 if 조건)\n",
    "```"
   ]
  },
  {
   "cell_type": "code",
   "execution_count": 26,
   "metadata": {},
   "outputs": [
    {
     "data": {
      "text/plain": [
       "<generator object <genexpr> at 0x000002E9B0892BA0>"
      ]
     },
     "execution_count": 26,
     "metadata": {},
     "output_type": "execute_result"
    }
   ],
   "source": [
    "# 세제곱수를 10억 개 만들어내는 생성기\n",
    "\n",
    "(e ** 3 for e in range(1000000000))  # 대괄호가 아닌 괄호 사용"
   ]
  },
  {
   "cell_type": "code",
   "execution_count": 28,
   "metadata": {},
   "outputs": [
    {
     "data": {
      "text/plain": [
       "8"
      ]
     },
     "execution_count": 28,
     "metadata": {},
     "output_type": "execute_result"
    }
   ],
   "source": [
    "# 생성기 식으로 만든 생성기를 next() 함수로 실행하기\n",
    "\n",
    "cube_generator = (e ** 3 for e in range(1000000000))\n",
    "next(cube_generator) # 0\n",
    "next(cube_generator) # 1\n",
    "next(cube_generator) # 8"
   ]
  },
  {
   "cell_type": "markdown",
   "metadata": {},
   "source": [
    "###### 주문을 즉시 처리하기\n",
    "\n",
    " - 사용자의 음료 주문을 받아 제조를 지시하는 프로그램을 만들었다. \n",
    " \n",
    " - input_orders() 함수는 사용자로부터 n 개의 주문을 입력받아 리스트로 반환한다. \n",
    " \n",
    " - 이 함수를 이용해 음료를 세 개 입력받고 제조를 지시하도록 했다.\n",
    "\n",
    "```\n",
    "def input_orders(n):\n",
    "    \"\"\"n개의 음료를 주문받아 리스트로 반환한다.\"\"\"\n",
    "    return [input() for _ in range(n)]\n",
    "\n",
    "# 음료 주문 세 개를 입력받아 각 음료마다 제조 지시한다\n",
    "for drink in input_orders(3):\n",
    "    print(drink, '만들어 주세요!')\n",
    "```    \n",
    "\n",
    " - 이 프로그램을 실행하면, 음료 세 개를 먼저 입력받은 뒤 이어서 제조 지시를 세 번 한다.\n",
    "\n",
    "```\n",
    "아메리카노\n",
    "카페 라테\n",
    "딸기 주스\n",
    "아메리카노 만들어 주세요!\n",
    "카페 라테 만들어 주세요!\n",
    "딸기 주스 만들어 주세요!\n",
    "```\n",
    " - 이 프로그램의 input_names() 함수에서 사용된 리스트 조건제시법을 생성기 식으로 수정하고 프로그램을 실행해 보아라. \n",
    " \n",
    " - 실행 결과가 어떻게 달라지는지 확인하고, 왜 그런지 설명해 보아라."
   ]
  },
  {
   "cell_type": "code",
   "execution_count": null,
   "metadata": {},
   "outputs": [],
   "source": []
  }
 ],
 "metadata": {
  "kernelspec": {
   "display_name": "Python 3",
   "language": "python",
   "name": "python3"
  },
  "language_info": {
   "codemirror_mode": {
    "name": "ipython",
    "version": 3
   },
   "file_extension": ".py",
   "mimetype": "text/x-python",
   "name": "python",
   "nbconvert_exporter": "python",
   "pygments_lexer": "ipython3",
   "version": "3.6.8"
  }
 },
 "nbformat": 4,
 "nbformat_minor": 2
}
