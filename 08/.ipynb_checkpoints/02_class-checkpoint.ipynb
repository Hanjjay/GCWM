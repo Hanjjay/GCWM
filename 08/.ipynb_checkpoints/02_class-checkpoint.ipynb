{
 "cells": [
  {
   "cell_type": "markdown",
   "metadata": {},
   "source": [
    "### 클래스: 데이터 유형\n",
    "\n",
    " - 파이썬이 제공하는 기본 데이터 유형을 생각해 보자\n",
    " \n",
    " - 0, 1, 2는 정수, 0.0, 1.0, 2.0은 실수, '0', '1', '2'는 문자열 / 이 외에도 불리언, 리스트, 사전, 집합 등 여러 가지 데이터 유형들 ... \n",
    " \n",
    " - type() 함수를 이용해 데이터의 유형을 구할 수 있음"
   ]
  },
  {
   "cell_type": "code",
   "execution_count": 1,
   "metadata": {},
   "outputs": [
    {
     "name": "stdout",
     "output_type": "stream",
     "text": [
      "<class 'int'>\n",
      "<class 'str'>\n"
     ]
    }
   ],
   "source": [
    "# 데이터의 유형 확인하기\n",
    "\n",
    "print(type(0))      # 0의 유형은 int (정수)\n",
    "\n",
    "print(type('0'))    # '0'의 유형은 str (문자열)"
   ]
  },
  {
   "cell_type": "markdown",
   "metadata": {},
   "source": [
    " - type() 함수가 반환하는 이 데이터 자체는 무엇일까? \n",
    " \n",
    " - type() 함수가 반환한 결과를 다시 type() 함수에 전달해 그 유형을 확인해 보자"
   ]
  },
  {
   "cell_type": "code",
   "execution_count": 2,
   "metadata": {},
   "outputs": [
    {
     "name": "stdout",
     "output_type": "stream",
     "text": [
      "<class 'type'>\n",
      "<class 'type'>\n"
     ]
    }
   ],
   "source": [
    "# 데이터의 유형을 나타내는 데이터의 유형은 무엇일까?\n",
    "\n",
    "print(type(type(0)))        # 0의 유형의 유형은 type (유형)\n",
    "\n",
    "print(type(type(type(0))))  # 0의 유형의 유형의 유형도 type (유형)"
   ]
  },
  {
   "cell_type": "markdown",
   "metadata": {},
   "source": [
    " - type() 함수가 반환하는 데이터가 type이라는 데이터 유형\n",
    " \n",
    " - 다시 말하면, 데이터의 유형을 나타내기 위한 데이터가 존재한다는 뜻 --> 이 데이터가 바로 클래스\n",
    " \n",
    " - int, float, str은 데이터 유형을 나타내는 데이터\n",
    " \n",
    " - 0, 1, 2의 데이터 유형이 정수인 것처럼, int, float, str의 데이터 유형은 클래스"
   ]
  },
  {
   "cell_type": "markdown",
   "metadata": {},
   "source": [
    " - 데이터: 값과 유형으로 구성된 정보.\n",
    "\n",
    " - 데이터 유형: 데이터가 어떤 범주에 속하는지를 나타내는 데이터의 구성요소. --> 클래스로 표현\n",
    "\n",
    " - 클래스: 데이터 유형을 나타내는 데이터. (int, float, str 등)"
   ]
  },
  {
   "cell_type": "markdown",
   "metadata": {},
   "source": [
    "### 객체: 개별 데이터\n",
    "\n",
    " - 컴퓨터 프로그램은 정보가 어떤 경로(네트워크, 디스크, 센서, 사람의 손 등)로 입력되든지, 결국은 그 정보를 메모리 위에 올린 뒤에 처리\n",
    " \n",
    " - 메모리는 그냥 비트(숫자)를 나열한 단순하고 넓은 판이기 때문에, 메모리 위에 올려 둔 정보를 의미 있는 덩어리로 묶어두기 위한 단위가 필요\n",
    " \n",
    " - 파이썬에서는 객체(object)라는 단위로 메모리 위의 정보를 관리\n",
    " \n",
    " - 객체에는 값(value)·유형(type)·정체성(identity)이라는 세 특성이 있음\n",
    " \n",
    " > 1. 값 : 메모리에 기록된 내용\n",
    " > \n",
    " > 2. 유형 : 데이터의 종류로, 유형에 따라 그 값을 어떻게 읽고 다루어야 할지가 결정\n",
    " > \n",
    " > 3. 정체성 : 각각의 객체를 식별하기 위한 고유번호\n",
    " \n",
    " - 값과 유형이 동일한 데이터가 데이터가 메모리 공간에 여러 개 존재할 수 있지만, 이들은 서로 별개의 객체이며 정체성이 서로 다름"
   ]
  },
  {
   "cell_type": "code",
   "execution_count": 3,
   "metadata": {},
   "outputs": [
    {
     "data": {
      "text/plain": [
       "1789"
      ]
     },
     "execution_count": 3,
     "metadata": {},
     "output_type": "execute_result"
    }
   ],
   "source": [
    "# 객체의 값, 유형, 정체성 구하기\n",
    "\n",
    "year = 1789  # 객체를 만들어 변수에 대입\n",
    "\n",
    "year         # 객체의 값 (객체 자신) 구하기"
   ]
  },
  {
   "cell_type": "code",
   "execution_count": 4,
   "metadata": {},
   "outputs": [
    {
     "data": {
      "text/plain": [
       "int"
      ]
     },
     "execution_count": 4,
     "metadata": {},
     "output_type": "execute_result"
    }
   ],
   "source": [
    "type(year)   # 객체의 유형 (클래스) 구하기"
   ]
  },
  {
   "cell_type": "code",
   "execution_count": 5,
   "metadata": {},
   "outputs": [
    {
     "data": {
      "text/plain": [
       "2062757853744"
      ]
     },
     "execution_count": 5,
     "metadata": {},
     "output_type": "execute_result"
    }
   ],
   "source": [
    "id(year)     # 객체의 정체성 (고유번호) 구하기"
   ]
  },
  {
   "cell_type": "code",
   "execution_count": 6,
   "metadata": {},
   "outputs": [
    {
     "data": {
      "text/plain": [
       "True"
      ]
     },
     "execution_count": 6,
     "metadata": {},
     "output_type": "execute_result"
    }
   ],
   "source": [
    "# 두 객체의 값, 유형, 정체성 비교\n",
    "\n",
    "new_year = 1789               # 다른 객체\n",
    "\n",
    "year == new_year              # 두 객체의 값 비교"
   ]
  },
  {
   "cell_type": "code",
   "execution_count": 7,
   "metadata": {},
   "outputs": [
    {
     "data": {
      "text/plain": [
       "True"
      ]
     },
     "execution_count": 7,
     "metadata": {},
     "output_type": "execute_result"
    }
   ],
   "source": [
    "type(year) == type(new_year)  # 두 객체의 유형 비교"
   ]
  },
  {
   "cell_type": "code",
   "execution_count": 8,
   "metadata": {},
   "outputs": [
    {
     "data": {
      "text/plain": [
       "False"
      ]
     },
     "execution_count": 8,
     "metadata": {},
     "output_type": "execute_result"
    }
   ],
   "source": [
    "id(year) == id(new_year)      # 두 객체의 정체성 비교"
   ]
  },
  {
   "cell_type": "code",
   "execution_count": 9,
   "metadata": {},
   "outputs": [
    {
     "data": {
      "text/plain": [
       "True"
      ]
     },
     "execution_count": 9,
     "metadata": {},
     "output_type": "execute_result"
    }
   ],
   "source": [
    "same_year = year              # 동일한 객체를 다른 변수에 대입하면,\n",
    "id(year) == id(same_year)     # 두 변수가 같은 객체를 가리킨다."
   ]
  },
  {
   "cell_type": "markdown",
   "metadata": {},
   "source": [
    "그림"
   ]
  },
  {
   "cell_type": "markdown",
   "metadata": {},
   "source": [
    " - 객체는 변수와 다르다!\n",
    " \n",
    " - 객체를 변수에 대입해 둘 때가 많으므로 변수를 곧 객체로 오해하기가 쉬움\n",
    " \n",
    " - year = 1789라고 대입해 두었을 때, 1789라는 값을 갖는 어떤 객체가 있고, year라는 변수가 그 객체를 가리킬 뿐\n",
    " \n",
    " - year 변수를 평가하면 그 객체를 구할 수 있으나, 그 객체는 그 변수가 아니고 그 변수 또한 그 객체가 아님\n",
    " \n",
    " - 실체와 이름을 혼동하면 안 된다. 변수는 객체에 붙인 이름이고, 객체 하나에 이름을 여러 개 붙여둘 수도 있음"
   ]
  },
  {
   "cell_type": "markdown",
   "metadata": {},
   "source": [
    " - 객체: 메모리에 존재하는 개별 데이터를 가리키는 개념\n",
    "\n",
    " - 객체의 값: 객체를 통해 구할 수 있는 정보 그 자체. 가변 객체는 값이 바뀔 수 있다.\n",
    "\n",
    " - 객체의 유형: 객체가 어떤 범주에 속하고 어떻게 다뤄야 하는지를 구별하기 위한 분류. 파이썬에서는 클래스로 유형을 나타내며, type() 함수로 구할 수 있다.\n",
    "\n",
    " - 객체의 정체성: 객체를 다른 객체와 구별하기 위한 고유번호이자, 메모리 상의 위치. id() 함수로 구할 수 있다.\n",
    "\n",
    " - 변수: 객체에 붙인 이름. 한 객체에 여러 개의 이름을 붙일 수도 있다."
   ]
  },
  {
   "cell_type": "markdown",
   "metadata": {},
   "source": [
    "###### 연습문제 8-3 객체 비교하기\n",
    "\n",
    " - 다음 질문에 답해 보라.\n",
    "\n",
    "```\n",
    " 1. 1 == 1.0을 평가하면 참이다. 그렇다면 1과 1.0은 동일한 객체인가?\n",
    "\n",
    " 2. type(a) == type(b)가 참이면, a == b도 참인가?\n",
    "\n",
    " 3. id(a) == id(b)가 참이면, type(a) == type(a)와 a == b도 참인가?\n",
    "\n",
    " 4. type(a) == type(b)와 a == b가 참이면, id(a) == id(b)도 참인가?\n",
    "```"
   ]
  },
  {
   "cell_type": "markdown",
   "metadata": {},
   "source": [
    "### 클래스와 인스턴스의 관계\n",
    "\n",
    " - 객체가 어떤 클래스에 속할 때, 그 객체는 그 클래스의 인스턴스(instance)\n",
    " \n",
    " - 영어 단어 ‘instance’는 ‘사례’라는 뜻 ... 어떤 범주에 속하는 사례는 여러 가지가 될 수 있듯이, 클래스에 속하는 인스턴스도 여러 개 존재할 수 있음\n",
    " \n",
    " - 1, 2, 3, 4는 모두 int 클래스의 인스턴스"
   ]
  },
  {
   "cell_type": "code",
   "execution_count": 10,
   "metadata": {},
   "outputs": [
    {
     "data": {
      "text/plain": [
       "True"
      ]
     },
     "execution_count": 10,
     "metadata": {},
     "output_type": "execute_result"
    }
   ],
   "source": [
    "# isinstance() 함수를 이용해 객체가 유형에 속하는지 확인하기\n",
    "\n",
    "isinstance(1789, int)  # 1789는 int의 인스턴스인가?"
   ]
  },
  {
   "cell_type": "code",
   "execution_count": 11,
   "metadata": {},
   "outputs": [
    {
     "data": {
      "text/plain": [
       "False"
      ]
     },
     "execution_count": 11,
     "metadata": {},
     "output_type": "execute_result"
    }
   ],
   "source": [
    "isinstance(3.14, int)  # 3.14는 int의 인스턴스인가?"
   ]
  },
  {
   "cell_type": "markdown",
   "metadata": {},
   "source": [
    " - **한 객체는 동시에 여러 클래스의 인스턴스일 수 있음**\n",
    "\n",
    " - 객체 하나의 유형은 클래스 하나로 정해져 있다. type() 함수는 하나의 값만을 반환\n",
    " \n",
    " - 한 객체는 동시에 여러 클래스의 인스턴스일 수 있음\n",
    " \n",
    " - 범주에 계층이 있기 때문\n",
    " \n",
    " - 다음 식을 생각해보자.\n",
    "\n",
    " > 사람 ⊂ 동물 ⊂ 생물\n",
    "\n",
    " - 우리는 사람이라는 범주에 속한다. 그런데 여러분은 또한 동물이며 생물이기도 하다. \n",
    " \n",
    " - 사람은 동물이라는 더 넓은 범주에 속하고, 동물은 생물이라는 더 넓은 범주에 속하기 때문\n",
    " \n",
    " - 파이썬 방식으로 표현하면, 우리는 ‘사람’ 클래스의 인스턴스이고, 동시에 ‘동물’ 클래스와 ‘생물’ 클래스의 인스턴스이기도 하다.\n",
    "\n",
    " - 파이썬에서 클래스는 다른 클래스의 하위 클래스가 될 수 있다. \n",
    " \n",
    " - 객체의 유형은 하나의 클래스이지만, 그 유형의 상위 클래스가 있다면 그 객체는 그 상위 클래스의 인스턴스이기도 하다"
   ]
  },
  {
   "cell_type": "code",
   "execution_count": 12,
   "metadata": {},
   "outputs": [
    {
     "data": {
      "text/plain": [
       "True"
      ]
     },
     "execution_count": 12,
     "metadata": {},
     "output_type": "execute_result"
    }
   ],
   "source": [
    "# 한 객체는 동시에 여러 클래스의 인스턴스일 수 있다\n",
    "\n",
    "isinstance(1789, int)     # 정수의 인스턴스인가?"
   ]
  },
  {
   "cell_type": "code",
   "execution_count": 13,
   "metadata": {},
   "outputs": [
    {
     "data": {
      "text/plain": [
       "False"
      ]
     },
     "execution_count": 13,
     "metadata": {},
     "output_type": "execute_result"
    }
   ],
   "source": [
    "isinstance(1789, float)   # 실수의 인스턴스인가?"
   ]
  },
  {
   "cell_type": "code",
   "execution_count": 14,
   "metadata": {},
   "outputs": [
    {
     "data": {
      "text/plain": [
       "True"
      ]
     },
     "execution_count": 14,
     "metadata": {},
     "output_type": "execute_result"
    }
   ],
   "source": [
    "isinstance(1789, object)  # object의 인스턴스인가?"
   ]
  },
  {
   "cell_type": "markdown",
   "metadata": {},
   "source": [
    " - 1789를 isinstance() 함수로 확인해보니, int의 인스턴스이기도 하고 object의 인스턴스이기도 함\n",
    " \n",
    " - object 클래스는 모든 클래스의 최상위 범주인 특별한 클래스"
   ]
  },
  {
   "cell_type": "markdown",
   "metadata": {},
   "source": [
    "#### 인스턴스 만들기\n",
    "\n",
    " - 파이썬의 모든 데이터는 객체 --> 모든 객체는 어떤 유형(클래스)에 속함\n",
    " \n",
    " - 즉, 파이썬의 모든 데이터는 인스턴스\n",
    " \n",
    " - 파이썬에서 데이터를 생성하는 것은 곧 인스턴스를 생성하는 것"
   ]
  },
  {
   "cell_type": "markdown",
   "metadata": {},
   "source": [
    "- 첫번째 방법은 파이썬 코드를 평가하면 바로 객체가 되는 것\n",
    "\n",
    "- 수, 문자열 같은 기본 데이터 유형은 코드를 평가하면 그대로 객체\n",
    "\n",
    "- 예를 들어, 1이라는 코드는 수 1을 나타내는 객체로 평가된다. \n",
    "\n",
    "- 이런 코드를 리터럴(literal)이라고 부르며‘literal’은 ‘문자 그대로’라는 뜻을 지님"
   ]
  },
  {
   "cell_type": "code",
   "execution_count": 15,
   "metadata": {},
   "outputs": [
    {
     "data": {
      "text/plain": [
       "1789"
      ]
     },
     "execution_count": 15,
     "metadata": {},
     "output_type": "execute_result"
    }
   ],
   "source": [
    "# 리터럴을 평가해 인스턴스 만들기\n",
    "\n",
    "1789      # 정수 리터럴: 정수 인스턴스가 만들어진다"
   ]
  },
  {
   "cell_type": "code",
   "execution_count": 16,
   "metadata": {},
   "outputs": [
    {
     "data": {
      "text/plain": [
       "3.1415"
      ]
     },
     "execution_count": 16,
     "metadata": {},
     "output_type": "execute_result"
    }
   ],
   "source": [
    "3.1415    # 실수 리터럴: 실수 인스턴스가 만들어진다"
   ]
  },
  {
   "cell_type": "code",
   "execution_count": 17,
   "metadata": {},
   "outputs": [
    {
     "data": {
      "text/plain": [
       "(1-2j)"
      ]
     },
     "execution_count": 17,
     "metadata": {},
     "output_type": "execute_result"
    }
   ],
   "source": [
    "1-2j      # 복소수 리터럴: 복소수 인스턴스가 만들어진다"
   ]
  },
  {
   "cell_type": "code",
   "execution_count": 18,
   "metadata": {},
   "outputs": [
    {
     "data": {
      "text/plain": [
       "'파이썬'"
      ]
     },
     "execution_count": 18,
     "metadata": {},
     "output_type": "execute_result"
    }
   ],
   "source": [
    "'파이썬'  # 문자열 리터럴: 문자열 인스턴스가 만들어진다"
   ]
  },
  {
   "cell_type": "markdown",
   "metadata": {},
   "source": [
    " - 인스턴스를 만드는 두번째 방법은 식을 평가하는 것\n",
    " \n",
    " - 식을 평가하면 결과가 나오는데, 그 결과는 데이터\n",
    " \n",
    " - 즉, 식은 인스턴스를 만들어 냄 "
   ]
  },
  {
   "cell_type": "code",
   "execution_count": 19,
   "metadata": {},
   "outputs": [
    {
     "data": {
      "text/plain": [
       "25"
      ]
     },
     "execution_count": 19,
     "metadata": {},
     "output_type": "execute_result"
    }
   ],
   "source": [
    "# 식을 평가해 인스턴스 만들기\n",
    "\n",
    "5 * 5             # 산술 식: 수 인스턴스 만들기"
   ]
  },
  {
   "cell_type": "code",
   "execution_count": 20,
   "metadata": {},
   "outputs": [
    {
     "data": {
      "text/plain": [
       "[1, 2, 3]"
      ]
     },
     "execution_count": 20,
     "metadata": {},
     "output_type": "execute_result"
    }
   ],
   "source": [
    "[1, 2, 3]         # 리스트 식: 리스트 인스턴스 만들기"
   ]
  },
  {
   "cell_type": "code",
   "execution_count": 21,
   "metadata": {},
   "outputs": [
    {
     "data": {
      "text/plain": [
       "{'year': 1789}"
      ]
     },
     "execution_count": 21,
     "metadata": {},
     "output_type": "execute_result"
    }
   ],
   "source": [
    "{'year': 1789}    # 사전 식: 사전 인스턴스 만들기"
   ]
  },
  {
   "cell_type": "code",
   "execution_count": 22,
   "metadata": {},
   "outputs": [
    {
     "data": {
      "text/plain": [
       "<function __main__.<lambda>(x)>"
      ]
     },
     "execution_count": 22,
     "metadata": {},
     "output_type": "execute_result"
    }
   ],
   "source": [
    "lambda x: x * x   # 람다 식: 함수 인스턴스 만들기"
   ]
  },
  {
   "cell_type": "markdown",
   "metadata": {},
   "source": [
    " - 리터럴은 파이썬의 문법으로 정의되어 있음\n",
    " \n",
    " - 그런데 파이썬에는 수많은 클래스가 있어, 모든 클래스에 고유한 문법을 부여할 수는 없음\n",
    " \n",
    " - 인스턴스를 만드는 세 번째 방법은 모든 클래스에 적용할 수 있는 보편적인 방법으로, 인스턴스화(instantiation)라고 부름\n",
    " \n",
    " - 인스턴스화는 클래스 이름에 괄호를 붙여(클래스이름()) 수행\n",
    " \n",
    " - 양식이 함수를 호출하는 것과 똑같음\n",
    " \n",
    " - 다음은 인스턴스화를 수행해 정수(int)의 인스턴스와 리스트(list)의 인스턴스를 만드는 예"
   ]
  },
  {
   "cell_type": "code",
   "execution_count": 23,
   "metadata": {},
   "outputs": [
    {
     "data": {
      "text/plain": [
       "0"
      ]
     },
     "execution_count": 23,
     "metadata": {},
     "output_type": "execute_result"
    }
   ],
   "source": [
    "# 인스턴스화를 이용해 클래스의 인스턴스 만들기\n",
    "\n",
    "int()            # 정수의 기본 인스턴스 만들기"
   ]
  },
  {
   "cell_type": "code",
   "execution_count": 24,
   "metadata": {},
   "outputs": [
    {
     "data": {
      "text/plain": [
       "1789"
      ]
     },
     "execution_count": 24,
     "metadata": {},
     "output_type": "execute_result"
    }
   ],
   "source": [
    "int(1789)        # 1789에 대응하는 정수의 인스턴스 만들기"
   ]
  },
  {
   "cell_type": "code",
   "execution_count": 25,
   "metadata": {},
   "outputs": [
    {
     "data": {
      "text/plain": [
       "1789"
      ]
     },
     "execution_count": 25,
     "metadata": {},
     "output_type": "execute_result"
    }
   ],
   "source": [
    "int('1789')      # '1789'에 대응하는 정수의 인스턴스 만들기"
   ]
  },
  {
   "cell_type": "code",
   "execution_count": 26,
   "metadata": {},
   "outputs": [
    {
     "data": {
      "text/plain": [
       "1789"
      ]
     },
     "execution_count": 26,
     "metadata": {},
     "output_type": "execute_result"
    }
   ],
   "source": [
    "int(1789.0)      # 1789.0에 대응하는 정수의 인스턴스 만들기"
   ]
  },
  {
   "cell_type": "code",
   "execution_count": 27,
   "metadata": {},
   "outputs": [
    {
     "data": {
      "text/plain": [
       "[]"
      ]
     },
     "execution_count": 27,
     "metadata": {},
     "output_type": "execute_result"
    }
   ],
   "source": [
    "list()           # 리스트의 기본 인스턴스 만들기"
   ]
  },
  {
   "cell_type": "code",
   "execution_count": 28,
   "metadata": {},
   "outputs": [
    {
     "data": {
      "text/plain": [
       "[0, 1, 2]"
      ]
     },
     "execution_count": 28,
     "metadata": {},
     "output_type": "execute_result"
    }
   ],
   "source": [
    "list((0, 1, 2))  # (0, 1, 2)에 대응하는 리스트의 인스턴스 만들기"
   ]
  },
  {
   "cell_type": "code",
   "execution_count": 29,
   "metadata": {},
   "outputs": [
    {
     "data": {
      "text/plain": [
       "[0, 1, 2]"
      ]
     },
     "execution_count": 29,
     "metadata": {},
     "output_type": "execute_result"
    }
   ],
   "source": [
    "list(range(3))   # range(3)에 대응하는 리스트의 인스턴스 만들기"
   ]
  },
  {
   "cell_type": "markdown",
   "metadata": {},
   "source": [
    " - 인스턴스: 어떤 클래스에 속하는 객체. 객체는 동시에 여러 클래스의 인스턴스일 수 있음\n",
    "\n",
    " - isinstance() 함수로 객체가 어떤 클래스의 인스턴스인지 확인할 수 있음\n",
    "\n",
    " - 인스턴스 만들기: 리터럴·식을 평가하거나 인스턴스화(클래스이름())를 수행해 클래스의 인스턴스를 만들 수 있음"
   ]
  },
  {
   "cell_type": "markdown",
   "metadata": {},
   "source": [
    "###### 연습문제 8-4 인스턴스 생성하기\n",
    "\n",
    " - 인스턴스화를 수행해, 다음 인스턴스를 생성해 보아라.\n",
    "\n",
    "```\n",
    "1. 원소가 없는 튜플(tuple)\n",
    "\n",
    "2. 원소가 없는 집합(set)\n",
    "\n",
    "3. 1 이상 10 미만의 자연수를 원소로 갖는 집합(set)\n",
    "\n",
    "4. 사용자로부터 '1789'라는 텍스트를 입력받아, 그것을 해석한 정수(int)\n",
    "\n",
    "5. 1789라는 정수를 나타내는 문자열(str)\n",
    "\n",
    "6. 원소가 없는 리스트([])가 참인지 거짓인지 평가한 불리언(bool)\n",
    "```"
   ]
  },
  {
   "cell_type": "code",
   "execution_count": null,
   "metadata": {},
   "outputs": [],
   "source": []
  }
 ],
 "metadata": {
  "kernelspec": {
   "display_name": "Python 3",
   "language": "python",
   "name": "python3"
  },
  "language_info": {
   "codemirror_mode": {
    "name": "ipython",
    "version": 3
   },
   "file_extension": ".py",
   "mimetype": "text/x-python",
   "name": "python",
   "nbconvert_exporter": "python",
   "pygments_lexer": "ipython3",
   "version": "3.6.8"
  }
 },
 "nbformat": 4,
 "nbformat_minor": 2
}
