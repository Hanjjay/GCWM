{
 "cells": [
  {
   "cell_type": "markdown",
   "metadata": {},
   "source": [
    "### class 문\n",
    "\n",
    " - 데이터 유형을 클래스로 직접 정의해 볼 차례\n",
    " \n",
    " - 클래스를 정의한 뒤에는 그 클래스에 속하는 인스턴스로 생성\n",
    " \n",
    " - 클래스·인스턴스의 이름공간과 그 속의 속성에 대해 살펴보자\n",
    " \n",
    " - 클래스를 정의할 때는 class 문을 사용하며 class 문은 함수를 정의하는 def 문과 형태가 비슷\n",
    " \n",
    " - 기본 형식은 아래와 같음\n",
    " \n",
    " ```\n",
    " class 클래스이름:    # ❶ 첫 행\n",
    "    \"\"\"독스트링\"\"\"   # ❷ 클래스의 의미와 역할 설명\n",
    "    본문             # ❸ 클래스 공용 속성 정의\n",
    " ```\n",
    " - ❶ 첫 행에는 class 예약어, 클래스의 이름, 그리고 콜론을 사용 --> 클래스의 이름을 지을 때는 파스칼 표기법을 따르는 것이 관례\n",
    " \n",
    " - ❷ 클래스에도 함수처럼 독스트링을 입력할 수 있음\n",
    " \n",
    " - ❸ 클래스의 본문에는 클래스에 속하는 속성(attribute)을 정의할 수 있음\n",
    " \n",
    " > 다양한 이름 표기법\n",
    " >\n",
    " > 1. 파스칼 표기법(PascalCase): PythonProgramming\n",
    " > \n",
    " > 2. 뱀 표기법(snake_case): python_programming\n",
    " >\n",
    " > 3. 낙타 표기법(camelCase): pythonProgamming"
   ]
  },
  {
   "cell_type": "code",
   "execution_count": 4,
   "metadata": {},
   "outputs": [
    {
     "data": {
      "text/plain": [
       "__main__.Cake"
      ]
     },
     "execution_count": 4,
     "metadata": {},
     "output_type": "execute_result"
    }
   ],
   "source": [
    "# Cake 클래스 정의하기\n",
    "\n",
    "class Cake:                       # ❶ 첫 행\n",
    "    \"\"\"케익을 나타내는 클래스\"\"\"\n",
    "    coat = '생크림'               # ❷ 이 클래스의 공용 속성\n",
    "    \n",
    "Cake                              # ❸ 정의한 클래스 확인하기"
   ]
  },
  {
   "cell_type": "markdown",
   "metadata": {},
   "source": [
    " - ❶ 첫 행에서 파스칼 표기법으로 클래스의 이름을 Cake이라고 지었다. \n",
    " \n",
    " - ❷에서는 클래스의 공용 속성으로 coat를 정의했다. \n",
    " \n",
    " - ❸ 클래스의 이름을 평가하면 정의한 클래스를 확인할 수 있다. --> 클래스도 type 클래스에 속하는 인스턴스\n",
    " \n",
    " - Cake이라는 이름 앞에 붙은 `__main__`은 이 클래스가 정의된 모듈을 의미"
   ]
  },
  {
   "cell_type": "code",
   "execution_count": 5,
   "metadata": {},
   "outputs": [
    {
     "data": {
      "text/plain": [
       "__main__.Cake"
      ]
     },
     "execution_count": 5,
     "metadata": {},
     "output_type": "execute_result"
    }
   ],
   "source": [
    "# Cake의 인스턴스 만들기\n",
    "\n",
    "cake_1 = Cake()           # ❶ Cake의 인스턴스 만들기\n",
    "cake_2 = Cake()           # ❷ 인스턴스를 여러 개 만들 수 있다\n",
    "type(cake_1)              # ❸ cake_1의 데이터 유형 확인"
   ]
  },
  {
   "cell_type": "code",
   "execution_count": 6,
   "metadata": {},
   "outputs": [
    {
     "data": {
      "text/plain": [
       "True"
      ]
     },
     "execution_count": 6,
     "metadata": {},
     "output_type": "execute_result"
    }
   ],
   "source": [
    "isinstance(cake_2, Cake)  # ❹ cake_2가 Cake의 인스턴스인지 확인"
   ]
  },
  {
   "cell_type": "markdown",
   "metadata": {},
   "source": [
    "###### 연습문제 8-5 좌표 클래스 정의하기\n",
    "\n",
    " - 좌표를 나타내는 클래스 Coordinate를 정의해 보아라. \n",
    " \n",
    " - 이 클래스의 속성으로 x와 y를 정의하라. 두 속성의 값은 0으로 정의해 두면 된다."
   ]
  },
  {
   "cell_type": "markdown",
   "metadata": {},
   "source": [
    "### 속성과 이름 공간\n",
    "\n",
    " - 속성은 일반적인 변수와 같은 것(즉, 이름이 붙은 데이터)인데, 클래스와 인스턴스 속에 정의된다는 것이 특징\n",
    " \n",
    " - 클래스의 속성은 그 클래스와 인스턴스 전체가 공유하는 특성을 나타냄\n",
    " \n",
    " - 인스턴스의 속성은 개별 인스턴스의 고유한 특성을 나타냄"
   ]
  },
  {
   "cell_type": "markdown",
   "metadata": {},
   "source": [
    "#### 클래스의 공용 속성\n",
    "\n",
    " - 클래스의 속성은 클래스 객체 뿐 아니라 그 클래스의 모든 인스턴스가 공유"
   ]
  },
  {
   "cell_type": "code",
   "execution_count": 7,
   "metadata": {},
   "outputs": [
    {
     "data": {
      "text/plain": [
       "'생크림'"
      ]
     },
     "execution_count": 7,
     "metadata": {},
     "output_type": "execute_result"
    }
   ],
   "source": [
    "# 클래스와 인스턴스의 속성 읽기\n",
    "\n",
    "Cake.coat    # Cake 클래스의 coat 속성 읽기"
   ]
  },
  {
   "cell_type": "code",
   "execution_count": 8,
   "metadata": {},
   "outputs": [
    {
     "data": {
      "text/plain": [
       "'생크림'"
      ]
     },
     "execution_count": 8,
     "metadata": {},
     "output_type": "execute_result"
    }
   ],
   "source": [
    "cake_1.coat  # cake_1 객체의 coat 속성 읽기"
   ]
  },
  {
   "cell_type": "code",
   "execution_count": 9,
   "metadata": {},
   "outputs": [
    {
     "data": {
      "text/plain": [
       "'생크림'"
      ]
     },
     "execution_count": 9,
     "metadata": {},
     "output_type": "execute_result"
    }
   ],
   "source": [
    "cake_2.coat  # cake_2 객체의 coat 속성 읽기"
   ]
  },
  {
   "cell_type": "code",
   "execution_count": 10,
   "metadata": {},
   "outputs": [
    {
     "data": {
      "text/plain": [
       "'초콜릿'"
      ]
     },
     "execution_count": 10,
     "metadata": {},
     "output_type": "execute_result"
    }
   ],
   "source": [
    "# 이미 정의한 클래스의 속성 수정하기\n",
    "\n",
    "Cake.coat = '초콜릿'  # 기존 속성 수정하기\n",
    "Cake.coat             # 수정한 속성 확인하기"
   ]
  },
  {
   "cell_type": "code",
   "execution_count": 11,
   "metadata": {},
   "outputs": [
    {
     "data": {
      "text/plain": [
       "4000"
      ]
     },
     "execution_count": 11,
     "metadata": {},
     "output_type": "execute_result"
    }
   ],
   "source": [
    "Cake.price = 4000     # 새 속성 추가하기\n",
    "Cake.price            # 추가한 속성 확인하기"
   ]
  },
  {
   "cell_type": "code",
   "execution_count": 12,
   "metadata": {},
   "outputs": [
    {
     "data": {
      "text/plain": [
       "'초콜릿'"
      ]
     },
     "execution_count": 12,
     "metadata": {},
     "output_type": "execute_result"
    }
   ],
   "source": [
    "# 클래스의 속성을 수정한 뒤 인스턴스의 속성 확인하기\n",
    "\n",
    "cake_1.coat      # ❶ 이전에 생성한 인스턴스의 속성 확인하기"
   ]
  },
  {
   "cell_type": "code",
   "execution_count": 13,
   "metadata": {},
   "outputs": [
    {
     "data": {
      "text/plain": [
       "4000"
      ]
     },
     "execution_count": 13,
     "metadata": {},
     "output_type": "execute_result"
    }
   ],
   "source": [
    "cake_1.price"
   ]
  },
  {
   "cell_type": "code",
   "execution_count": 14,
   "metadata": {},
   "outputs": [],
   "source": [
    "cake_3 = Cake()  # ❷ 인스턴스를 새로 생성하면?"
   ]
  },
  {
   "cell_type": "code",
   "execution_count": 15,
   "metadata": {},
   "outputs": [
    {
     "data": {
      "text/plain": [
       "'초콜릿'"
      ]
     },
     "execution_count": 15,
     "metadata": {},
     "output_type": "execute_result"
    }
   ],
   "source": [
    "cake_3.coat"
   ]
  },
  {
   "cell_type": "code",
   "execution_count": 16,
   "metadata": {},
   "outputs": [
    {
     "data": {
      "text/plain": [
       "4000"
      ]
     },
     "execution_count": 16,
     "metadata": {},
     "output_type": "execute_result"
    }
   ],
   "source": [
    "cake_3.price"
   ]
  },
  {
   "cell_type": "markdown",
   "metadata": {},
   "source": [
    " - ❶과 ❷를 보면, 클래스의 속성을 수정하면 과거에 만든 인스턴스와 미래에 만들 인스턴스가 모두 영향을 받는다는 것을 알 수 있음\n",
    " \n",
    " - 클래스의 속성은 모든 인스턴스가 공유하기 때문에, 클래스의 속성을 수정하면 인스턴스에서도 수정된 데이터를 읽을 수 있음\n",
    " \n",
    " - 일반적으로 클래스의 속성은 class 문에서 확정하고, 나중에는 수정하지 않음\n",
    " \n",
    " - 클래스의 속성은 모든 인스턴스가 공유하는 데이터여서 마구 바꾸면 혼란스럽다\n",
    " \n",
    " - 만약 자주 변경되어야 하는 속성이 있다면, 그 속성은 클래스가 아니라 인스턴스의 속성이어야 할 가능성이 높음"
   ]
  },
  {
   "cell_type": "markdown",
   "metadata": {},
   "source": [
    "#### 인스턴스 전용 속성\n",
    "\n",
    " - 인스턴스는 자신만의 속성을 가질 수 있음\n",
    " \n",
    " - 인스턴스의 속성은 클래스나 다른 인스턴스와 공유되지 않음\n",
    " \n",
    " - 인스턴스에 속성을 추가하려면 인스턴스.속성 = 값과 같이 인스턴스 속성 이름을 쓰고 값을 대입"
   ]
  },
  {
   "cell_type": "code",
   "execution_count": 17,
   "metadata": {},
   "outputs": [
    {
     "data": {
      "text/plain": [
       "'블루베리'"
      ]
     },
     "execution_count": 17,
     "metadata": {},
     "output_type": "execute_result"
    }
   ],
   "source": [
    "# 인스턴스에 속성 추가하기\n",
    "\n",
    "cake_1.topping = '블루베리'  # ❶ 인스턴스에 topping 속성 추가하기\n",
    "cake_1.topping               # ❷ 인스턴스에 속성이 추가되었다"
   ]
  },
  {
   "cell_type": "code",
   "execution_count": 18,
   "metadata": {},
   "outputs": [
    {
     "ename": "AttributeError",
     "evalue": "type object 'Cake' has no attribute 'topping'",
     "output_type": "error",
     "traceback": [
      "\u001b[1;31m---------------------------------------------------------------------------\u001b[0m",
      "\u001b[1;31mAttributeError\u001b[0m                            Traceback (most recent call last)",
      "\u001b[1;32m<ipython-input-18-cb6b8b5aba18>\u001b[0m in \u001b[0;36m<module>\u001b[1;34m\u001b[0m\n\u001b[1;32m----> 1\u001b[1;33m \u001b[0mCake\u001b[0m\u001b[1;33m.\u001b[0m\u001b[0mtopping\u001b[0m                 \u001b[1;31m# ❸ 클래스에는 새로 추가한 속성이 없다\u001b[0m\u001b[1;33m\u001b[0m\u001b[1;33m\u001b[0m\u001b[0m\n\u001b[0m",
      "\u001b[1;31mAttributeError\u001b[0m: type object 'Cake' has no attribute 'topping'"
     ]
    }
   ],
   "source": [
    "Cake.topping                 # ❸ 클래스에는 새로 추가한 속성이 없다"
   ]
  },
  {
   "cell_type": "code",
   "execution_count": 19,
   "metadata": {},
   "outputs": [
    {
     "ename": "AttributeError",
     "evalue": "'Cake' object has no attribute 'topping'",
     "output_type": "error",
     "traceback": [
      "\u001b[1;31m---------------------------------------------------------------------------\u001b[0m",
      "\u001b[1;31mAttributeError\u001b[0m                            Traceback (most recent call last)",
      "\u001b[1;32m<ipython-input-19-ae89dd655f8f>\u001b[0m in \u001b[0;36m<module>\u001b[1;34m\u001b[0m\n\u001b[1;32m----> 1\u001b[1;33m \u001b[0mcake_2\u001b[0m\u001b[1;33m.\u001b[0m\u001b[0mtopping\u001b[0m               \u001b[1;31m# ❹ 다른 인스턴스에도 새로 추가한 속성이 없다\u001b[0m\u001b[1;33m\u001b[0m\u001b[1;33m\u001b[0m\u001b[0m\n\u001b[0m",
      "\u001b[1;31mAttributeError\u001b[0m: 'Cake' object has no attribute 'topping'"
     ]
    }
   ],
   "source": [
    "cake_2.topping               # ❹ 다른 인스턴스에도 새로 추가한 속성이 없다"
   ]
  },
  {
   "cell_type": "markdown",
   "metadata": {},
   "source": [
    " - ❶ cake_1 객체에 topping 속성을 추가\n",
    " \n",
    " - ❷ 이 속성은 cake_1 객체에서만 포함되어 있고, ❸ Cake 클래스나 ❹ 다른 객체에는 포함되어 있지 않음"
   ]
  },
  {
   "cell_type": "code",
   "execution_count": 20,
   "metadata": {},
   "outputs": [
    {
     "data": {
      "text/plain": [
       "'초콜릿'"
      ]
     },
     "execution_count": 20,
     "metadata": {},
     "output_type": "execute_result"
    }
   ],
   "source": [
    "# 클래스에 존재하는 속성을 인스턴스에서 덮어썼을 때\n",
    "\n",
    "cake_1.coat                 # ❶ Cake 클래스의 coat 속성을 가리키고 있다"
   ]
  },
  {
   "cell_type": "code",
   "execution_count": 21,
   "metadata": {},
   "outputs": [],
   "source": [
    "cake_1.coat = '아이스크림'  # ❷ cake_1 객체에 coat 속성을 추가한다"
   ]
  },
  {
   "cell_type": "code",
   "execution_count": 22,
   "metadata": {},
   "outputs": [
    {
     "data": {
      "text/plain": [
       "'아이스크림'"
      ]
     },
     "execution_count": 22,
     "metadata": {},
     "output_type": "execute_result"
    }
   ],
   "source": [
    "cake_1.coat                 # ❸ cake_1은 이제 자신의 고유한 coat 속성을 갖고 있다"
   ]
  },
  {
   "cell_type": "code",
   "execution_count": 23,
   "metadata": {},
   "outputs": [
    {
     "data": {
      "text/plain": [
       "'초콜릿'"
      ]
     },
     "execution_count": 23,
     "metadata": {},
     "output_type": "execute_result"
    }
   ],
   "source": [
    "Cake.coat                   # ❹ Cake 클래스는 자신의 coat 속성을 유지하고 있다"
   ]
  },
  {
   "cell_type": "code",
   "execution_count": 24,
   "metadata": {},
   "outputs": [
    {
     "data": {
      "text/plain": [
       "'초콜릿'"
      ]
     },
     "execution_count": 24,
     "metadata": {},
     "output_type": "execute_result"
    }
   ],
   "source": [
    "cake_2.coat                 # ❺ 다른 객체는 계속 클래스의 coat 속성을 공유하고 있다"
   ]
  },
  {
   "cell_type": "markdown",
   "metadata": {},
   "source": [
    " - ❶ cake_1 객체에 인스턴스 속성을 대입하기 전, coat 속성을 읽으면 Cake 클래스의 공용 속성으로 평가되었다\n",
    " \n",
    " - 하지만 ❷ 인스턴스 속성을 대입하면 cake_1 객체에 자신만의 인스턴스 속성 coat가 추가되며, 기존의 공용 속성은 가려진다\n",
    " \n",
    " - 클래스의 속성을 수정한 게 아니라는 점을 주의하자\n",
    " \n",
    " - ❸ 이제 cake_1 객체는 자신만의 coat 속성을 갖지만, ❹ Cake 클래스와 ❺ 다른 인스턴스는 여전히 클래스 속성을 공유한다"
   ]
  },
  {
   "cell_type": "code",
   "execution_count": 25,
   "metadata": {},
   "outputs": [],
   "source": [
    "from IPython.display import Image"
   ]
  },
  {
   "cell_type": "code",
   "execution_count": 26,
   "metadata": {},
   "outputs": [
    {
     "data": {
      "image/png": "[encoded data removed]",
      "text/plain": [
       "<IPython.core.display.Image object>"
      ]
     },
     "execution_count": 26,
     "metadata": {},
     "output_type": "execute_result"
    }
   ],
   "source": [
    "Image(\"img/04_img.png\")"
   ]
  },
  {
   "cell_type": "markdown",
   "metadata": {},
   "source": [
    " - 정리하면 아래와 같음\n",
    " \n",
    "```\n",
    " 1. 클래스 속성: 클래스의 전체 특성을 나타내는 정보. 클래스 속에 정의된 이름이며 클래스에 속하는 인스턴스가 공유\n",
    " 2. 인스턴스 속성: 인스턴스의 고유한 특성을 나타내는 정보. 인스턴스 속에 정의된 이름이며 인스턴스마다 각자 따로 가지고 있음\n",
    "```"
   ]
  },
  {
   "cell_type": "markdown",
   "metadata": {},
   "source": [
    "#### 이름 공간 (namespace)\n",
    "\n",
    " - 같은 이름이라도 문맥에 따라 가리키는 대상이 달라짐\n",
    " \n",
    " - ‘파이썬’이라는 이름은 이 책에서는 프로그래밍 언어를 가리키지만, 동물도감에서는 뱀의 한 종류를 가리킨다\n",
    " \n",
    " - 문맥은 간결한 이름으로도 구체적인 대상을 가리킬 수 있게 도와준다\n",
    " \n",
    " - 이름공간은 프로그래밍 언어에서 이름이 가리키는 대상을 제한하는 범위\n",
    " \n",
    " - 클래스와 인스턴스는 이름공간이기 때문에, 그 안에서 짧고 간편한 이름을 사용할 수 있다\n",
    " \n",
    " - 같은 이름이 여럿 있더라도 문맥에 따라 무엇을 가리키는지 알 수 있음\n",
    " \n",
    " - 예를 들면...\n",
    " \n",
    " > coat라는 속성을 서로 다른 이름공간에서 정의함\n",
    " >\n",
    " > 이름공간이 없다면 각 속성을 표현하기 위해 Cake_coat, cake_1_coat처럼 매번 다른 이름을 길게 붙여야 함\n",
    " \n",
    " - 위의 코드를 예로 들면...\n",
    " \n",
    " > Cake 클래스의 이름공간에서는 일반적인 케익의 코팅을 의미한다\n",
    " >\n",
    " > cake_1 객체의 이름공간에서는 그 케익만의 고유한 코팅을 의미한다"
   ]
  },
  {
   "cell_type": "code",
   "execution_count": 27,
   "metadata": {},
   "outputs": [
    {
     "name": "stdout",
     "output_type": "stream",
     "text": [
      "['__class__',\n",
      " '__delattr__',\n",
      " '__dict__',\n",
      " '__dir__',\n",
      " '__doc__',\n",
      " '__eq__',\n",
      " '__format__',\n",
      " '__ge__',\n",
      " '__getattribute__',\n",
      " '__gt__',\n",
      " '__hash__',\n",
      " '__init__',\n",
      " '__init_subclass__',\n",
      " '__le__',\n",
      " '__lt__',\n",
      " '__module__',\n",
      " '__ne__',\n",
      " '__new__',\n",
      " '__reduce__',\n",
      " '__reduce_ex__',\n",
      " '__repr__',\n",
      " '__setattr__',\n",
      " '__sizeof__',\n",
      " '__str__',\n",
      " '__subclasshook__',\n",
      " '__weakref__',\n",
      " 'coat',\n",
      " 'price']\n"
     ]
    }
   ],
   "source": [
    "# Cake 클래스에 정의된 모든 이름 출력\n",
    "\n",
    "import pprint             # 출력되는 속성이 많으니 pprint를 사용하자\n",
    "pprint.pprint(dir(Cake))  # Cake 클래스의 모든 속성을 구해 출력"
   ]
  },
  {
   "cell_type": "markdown",
   "metadata": {},
   "source": [
    " - dir() 함수로 Cake 클래스의 속성을 구해 보았다\n",
    " \n",
    " - 직접 정의한 coat 외에도 `밑줄 두 개(__)`로 시작하고 끝나는 속성이 많이 보인다. --> 이 속성들은 자동으로 정의된 것\n",
    " \n",
    " - 다른 사람이 정의한 클래스에 어떤 속성이 있는지 확인하고 싶을 때 dir() 함수를 활용"
   ]
  },
  {
   "cell_type": "markdown",
   "metadata": {},
   "source": [
    "###### 좌표 클래스의 인스턴스 생성하기\n",
    "\n",
    " - 위에서 정의한 Coordinate() 클래스의 인스턴스를 두 개 생성하고, 인스턴스의 속성을 다음과 같이 각각 부여해라.\n",
    "\n",
    "```\n",
    "첫번째 인스턴스(point_1): x 축의 좌표는 -1, y 축의 좌표는 2\n",
    "두번째 인스턴스(point_2): x 축의 좌표는 2, y 축의 좌표는 3\n",
    "```"
   ]
  },
  {
   "cell_type": "code",
   "execution_count": null,
   "metadata": {},
   "outputs": [],
   "source": []
  },
  {
   "cell_type": "markdown",
   "metadata": {},
   "source": [
    "###### 좌표 인스턴스의 거리 계산하기\n",
    "\n",
    " - 위에서 생성한 두 인스턴스의 거리를 계산하려 한다. 코드 8-2에서 정의한 두 점 사이의 거리를 계산하는 함수를 다음과 같이 정의하였다.\n",
    "\n",
    "```\n",
    "import math\n",
    "\n",
    "def square(x):\n",
    "    \"\"\"전달받은 수의 제곱을 반환한다.\"\"\"\n",
    "    return x * x\n",
    "\n",
    "def distance(point_a, point_b):\n",
    "    \"\"\"두 점 사이의 거리를 계산해 반환한다. (피타고라스의 정리)\"\"\"\n",
    "    return math.sqrt(square(point_a['x'] - point_b['x']) +\n",
    "                     square(point_a['y'] - point_b['y']))\n",
    "                     \n",
    "```\n",
    "\n",
    " - 이 함수를 참고해, Coordinate 인스턴스 두 개를 전달받아 거리를 계산하는 함수 distance()를 정의해라.\n",
    "\n",
    " - 다음은 이 함수를 이용해 인스턴스의 거리를 계산한 예다.\n",
    "\n",
    "```\n",
    " distance(point_1, point_2)   # 3.1622776601683795 반환\n",
    "```\n",
    " - 힌트: 매핑(사전)에 저장된 값을 읽는 방법과 클래스에서 속성을 읽는 방법은 문법이 서로 다르다."
   ]
  },
  {
   "cell_type": "markdown",
   "metadata": {},
   "source": [
    "### 메서드\n",
    "\n",
    " - 클래스와 인스턴스의 이름공간에는 다양한 데이터를 속성으로 정의할 수 있다\n",
    " \n",
    " - 함수도 데이터이므로 속성이 될 수 있다\n",
    " \n",
    " - 클래스나 인스턴스에 속한 함수는 그 데이터 종류를 위한 전용 함수로 기능하게 된다\n",
    " \n",
    " - 이 함수를 메서드(method)라고 명명 --> 영어 단어 ‘method’는 ‘방법’이란는 뜻\n",
    " \n",
    " - 즉, 메서드는 데이터 유형을 다루는 방법이 정의된 함수"
   ]
  },
  {
   "cell_type": "markdown",
   "metadata": {},
   "source": [
    "#### 메서드 정의하기\n",
    "\n",
    " - 메서드는 속성이므로, 클래스 공용 또는 특정 인스턴스 전용으로 정의할 수 있음\n",
    " \n",
    " - 하지만 대부분의 메서드는 클래스 공용 속성으로 정의\n",
    " \n",
    " - 데이터 유형을 다루는 방법은 데이터 유형에 따라 정하기 마련이기 때문\n",
    " \n",
    " - ‘절대값’ 메서드를 정수에 대해서 정하지, 2나 -3에 대해서 정하지 않는 것\n",
    " \n",
    " - 따라서 메서드는 대부분 class 문 안에서 정의\n",
    " \n",
    " - class 문 안에 메서드를 포함하면 class 문은 다음과 같은 형태가 됨\n",
    " \n",
    "```\n",
    "class 클래스이름:\n",
    "    \"\"\"독스트링\"\"\"\n",
    "    클래스 공용 속성\n",
    "    \n",
    "    def 메서드():\n",
    "        \"\"\"이 클래스를 다루는 함수\"\"\"\n",
    "        메서드 본문\n",
    "    \n",
    "    ...(필요한 만큼 메서드를 추가 정의)\n",
    "```"
   ]
  },
  {
   "cell_type": "code",
   "execution_count": 28,
   "metadata": {},
   "outputs": [],
   "source": [
    "# 메서드 정의하기\n",
    "\n",
    "class Cake:\n",
    "    \"\"\"케익을 나타내는 클래스\"\"\"\n",
    "    coat = '생크림'\n",
    "    #                                                           ❶ 빈 행\n",
    "    def describe():                                           # ❷ 메서드 정의하기\n",
    "        \"\"\"이 케익에 관한 정보를 화면에 출력한다.\"\"\"\n",
    "        print('이 케익은', Cake.coat, '으로 덮여 있다.')      # ❸"
   ]
  },
  {
   "cell_type": "markdown",
   "metadata": {},
   "source": [
    " - ❶ def 문 앞에는 빈 행을 하나 삽입하는 것이 관례다\n",
    " \n",
    " - 만약 대화식 셸에서 정의하는 경우에는 class 문의 정의가 끝나버리기 때문에 이를 방지하기 위해 샵 기호(#)로 주석 처리해야 한다\n",
    " \n",
    " - 파이썬 파일에서 클래스를 정의할 때는 이렇게 주석 처리할 필요가 없다\n",
    "\n",
    " - ❷ 클래스 안에서 def 문으로 describe() 메서드를 정의했다\n",
    " \n",
    " - coat 속성을 읽어 케익(클래스 또는 인스턴스)이 어떤 재질로 만들어졌는지를 화면에 출력하는 함수다\n",
    " \n",
    " - 메서드는 별도의 이름공간을 가지기 때문에 본문에서 속성을 가리키지 못한다\n",
    " \n",
    " - coat이라고만 쓰면 이름 오류가 발생하므로, Cake.coat와 같이 속성을 가진 클래스의 이름을 붙여야 한다"
   ]
  },
  {
   "cell_type": "code",
   "execution_count": 29,
   "metadata": {},
   "outputs": [
    {
     "name": "stdout",
     "output_type": "stream",
     "text": [
      "이 케익은 생크림 으로 덮여 있다.\n"
     ]
    }
   ],
   "source": [
    "# 클래스 객체를 기준으로 메서드 호출하기\n",
    "\n",
    "Cake.describe()"
   ]
  },
  {
   "cell_type": "markdown",
   "metadata": {},
   "source": [
    " - Cake 클래스 객체를 기준으로 메서드를 호출한 예다\n",
    " \n",
    " - 메서드를 클래스 공용 속성으로 정의했으므로, 클래스뿐 아니라 인스턴스에서도 실행할 수 있을 것이다\n",
    " \n",
    " - 그런데 이 메서드는 클래스 공용 속성인 Cake.coat을 읽어 출력하도록 정의해 두었다\n",
    " \n",
    " - 이 방법으로는 인스턴스 전용 속성을 출력하지는 못할 것이다\n",
    " \n",
    " - ‘이 케익의 토핑’을 출력하고 싶은데 ‘케익 일반의 토핑’만 출력하는 메서드가 된 것이다 --> 메서드에서 인스턴스의 속성을 읽을 수 있을까?"
   ]
  },
  {
   "cell_type": "markdown",
   "metadata": {},
   "source": [
    "#### 인스턴스를 위한 메서드\n",
    "\n",
    " - 클래스가 아닌 인스턴스를 기준으로 describe() 메서드를 호출했을 때, 어떤 결과가 일어나는지 실험해 보자\n",
    " \n",
    " - Cake 클래스의 인스턴스를 하나 만들고, 클래스 공유 속성과는 다른 값을 인스턴스 전용 속성으로 대입해 두자"
   ]
  },
  {
   "cell_type": "code",
   "execution_count": 30,
   "metadata": {},
   "outputs": [],
   "source": [
    "# 클래스를 기준으로 메서드 실행하기\n",
    "\n",
    "cake_1 = Cake()  # 클래스를 새로 정의했으니, 인스턴스도 새로 생성해야 한다\n",
    "cake_1.coat = '초콜릿'"
   ]
  },
  {
   "cell_type": "markdown",
   "metadata": {},
   "source": [
    " - 인스턴스는 준비 됐다\n",
    " \n",
    " - cake_1.describe()와 같이 인스턴스를 기준으로 메서드를 호출해 볼 것\n",
    " \n",
    " - 어떤 실행 결과가 나올지 예상할 수 있겠는가? 다음 중 하나일 것이다\n",
    "\n",
    "```\n",
    "1. 이 케익은 초콜릿 으로 덮여 있다.가 출력된다.\n",
    "2. 이 케익은 생크림 으로 덮여 있다.가 출력된다.\n",
    "3. 오류가 발생한다.\n",
    "```"
   ]
  },
  {
   "cell_type": "code",
   "execution_count": 31,
   "metadata": {},
   "outputs": [
    {
     "data": {
      "image/png": "[encoded data removed]",
      "text/plain": [
       "<IPython.core.display.Image object>"
      ]
     },
     "execution_count": 31,
     "metadata": {},
     "output_type": "execute_result"
    }
   ],
   "source": [
    "Image(\"img/05_img.png\")"
   ]
  },
  {
   "cell_type": "code",
   "execution_count": 32,
   "metadata": {},
   "outputs": [
    {
     "ename": "TypeError",
     "evalue": "describe() takes 0 positional arguments but 1 was given",
     "output_type": "error",
     "traceback": [
      "\u001b[1;31m---------------------------------------------------------------------------\u001b[0m",
      "\u001b[1;31mTypeError\u001b[0m                                 Traceback (most recent call last)",
      "\u001b[1;32m<ipython-input-32-e5ec35b45ad3>\u001b[0m in \u001b[0;36m<module>\u001b[1;34m\u001b[0m\n\u001b[0;32m      1\u001b[0m \u001b[1;31m# 인스턴스를 기준으로 메서드 호출\u001b[0m\u001b[1;33m\u001b[0m\u001b[1;33m\u001b[0m\u001b[1;33m\u001b[0m\u001b[0m\n\u001b[0;32m      2\u001b[0m \u001b[1;33m\u001b[0m\u001b[0m\n\u001b[1;32m----> 3\u001b[1;33m \u001b[0mcake_1\u001b[0m\u001b[1;33m.\u001b[0m\u001b[0mdescribe\u001b[0m\u001b[1;33m(\u001b[0m\u001b[1;33m)\u001b[0m\u001b[1;33m\u001b[0m\u001b[1;33m\u001b[0m\u001b[0m\n\u001b[0m",
      "\u001b[1;31mTypeError\u001b[0m: describe() takes 0 positional arguments but 1 was given"
     ]
    }
   ],
   "source": [
    "# 인스턴스를 기준으로 메서드 호출\n",
    "\n",
    "cake_1.describe()"
   ]
  },
  {
   "cell_type": "markdown",
   "metadata": {},
   "source": [
    " - 오류 메시지를 해석해보면, “describe()는 인자를 0개 전달받는 함수인데, 여기에 인자 1개가 전달되었다.”라는 의미\n",
    " \n",
    " - cake_1.describe() 코드는 인자를 하나도 전달하지 않는데, 인자가 전달되었다니?\n",
    " \n",
    " - 파이썬에서는 클래스를 기준으로 할 때와 인스턴스를 기준으로 할 때 메서드 호출 방식이 서로 다르다\n",
    " \n",
    " - 인스턴스를 기준으로 메서드를 호출하면 암묵적으로 메서드 호출의 기준이 되는 인스턴스가 첫번째 인자로 메서드에 전달 = Cake.coat\n",
    " \n",
    " - 아래와 같이 작성하면 해결 가능!"
   ]
  },
  {
   "cell_type": "code",
   "execution_count": 33,
   "metadata": {},
   "outputs": [],
   "source": [
    "# 인스턴스를 위한 메서드 정의하기\n",
    "\n",
    "class Cake:\n",
    "    \"\"\"케익을 나타내는 클래스\"\"\"\n",
    "    coat = '생크림'\n",
    "    \n",
    "    def describe(self):                                    # ❶\n",
    "        \"\"\"이 케익에 관한 정보를 화면에 출력한다.\"\"\"\n",
    "        print('이 케익은', self.coat, '으로 덮여 있다.')   # ❷"
   ]
  },
  {
   "cell_type": "markdown",
   "metadata": {},
   "source": [
    " - ❶ describe() 메서드에 인스턴스를 전달받기 위한 매개변수 self를 추가했다\n",
    " \n",
    " - ❷ 클래스의 속성 Cake.coat 대신 인스턴스의 속성 self.coat를 화면에 출력하도록 변경\n",
    " \n",
    " - 파이썬에서 인스턴스를 전달받는 메서드의 매개변수 이름으로 이 이름을 사용하는 것이 관례"
   ]
  },
  {
   "cell_type": "code",
   "execution_count": 34,
   "metadata": {},
   "outputs": [
    {
     "name": "stdout",
     "output_type": "stream",
     "text": [
      "이 케익은 초콜릿 으로 덮여 있다.\n"
     ]
    }
   ],
   "source": [
    "# 인스턴스를 위한 메서드 호출하기\n",
    "\n",
    "cake_1 = Cake()  # 클래스를 새로 정의했으니, 인스턴스도 새로 생성해야 한다\n",
    "cake_1.coat = '초콜릿'\n",
    "cake_1.describe()"
   ]
  },
  {
   "cell_type": "markdown",
   "metadata": {},
   "source": [
    " - 메서드가 의도한대로 동작!\n",
    " \n",
    " - 메서드는 클래스보다는 개별 인스턴스를 조작하기 위한 것일 때가 많음\n",
    " \n",
    " - 그래서 대부분의 메서드는 self 매개변수를 첫 번째 매개변수로 갖는다\n",
    " \n",
    " - 클래스 정의하는 양식을 수정하여 메서드에 self 매개변수를 추가하는 것을 기본으로 하자\n",
    "\n",
    "```\n",
    "class 클래스이름:\n",
    "    \"\"\"독스트링\"\"\"\n",
    "    클래스 공용 속성\n",
    "    \n",
    "    def 메서드(self, ...):\n",
    "        \"\"\"이 클래스의 인스턴스를 self 매개변수에 전달받아 처리하는 함수\"\"\"\n",
    "        메서드 본문\n",
    "    \n",
    "    ...(필요한 만큼 메서드를 추가 정의)\n",
    "```"
   ]
  },
  {
   "cell_type": "markdown",
   "metadata": {},
   "source": [
    " - 이와 같이 인스턴스를 전달받도록 메서드를 정의해 두면, 클래스를 기준으로 메서드를 호출했을 때 오류가 발생"
   ]
  },
  {
   "cell_type": "code",
   "execution_count": 35,
   "metadata": {},
   "outputs": [
    {
     "ename": "TypeError",
     "evalue": "describe() missing 1 required positional argument: 'self'",
     "output_type": "error",
     "traceback": [
      "\u001b[1;31m---------------------------------------------------------------------------\u001b[0m",
      "\u001b[1;31mTypeError\u001b[0m                                 Traceback (most recent call last)",
      "\u001b[1;32m<ipython-input-35-c43d9028ae60>\u001b[0m in \u001b[0;36m<module>\u001b[1;34m\u001b[0m\n\u001b[0;32m      1\u001b[0m \u001b[1;31m# 인스턴스를 전달받는 메서드를 클래스 객체에서 호출하면 오류가 발생한다\u001b[0m\u001b[1;33m\u001b[0m\u001b[1;33m\u001b[0m\u001b[1;33m\u001b[0m\u001b[0m\n\u001b[0;32m      2\u001b[0m \u001b[1;33m\u001b[0m\u001b[0m\n\u001b[1;32m----> 3\u001b[1;33m \u001b[0mCake\u001b[0m\u001b[1;33m.\u001b[0m\u001b[0mdescribe\u001b[0m\u001b[1;33m(\u001b[0m\u001b[1;33m)\u001b[0m      \u001b[1;31m# 클래스를 기준으로 메서드 호출: 오류\u001b[0m\u001b[1;33m\u001b[0m\u001b[1;33m\u001b[0m\u001b[0m\n\u001b[0m",
      "\u001b[1;31mTypeError\u001b[0m: describe() missing 1 required positional argument: 'self'"
     ]
    }
   ],
   "source": [
    "# 인스턴스를 전달받는 메서드를 클래스 객체에서 호출하면 오류가 발생한다\n",
    "\n",
    "Cake.describe()      # 클래스를 기준으로 메서드 호출: 오류"
   ]
  },
  {
   "cell_type": "markdown",
   "metadata": {},
   "source": [
    " - 메서드는 여러 인스턴스가 공유하기 때문에 클래스의 속성으로 정의\n",
    " \n",
    " - 메서드는 클래스가 아니라 인스턴스를 기준으로 실행할 때가 많다\n",
    " \n",
    " - 정의하는 곳과 사용하는 곳이 다르다. --> 헷갈리지 않도록 주의\n",
    " \n",
    " - 정리!\n",
    " \n",
    " > 1. 메서드는 클래스와 인스턴스의 속성으로 정의된 함수이며, 특정 데이터 유형을 다루는 방법을 나타낸다.\n",
    " >\n",
    " > 2. 메서드는 대부분 class 문 내부에서 클래스 공용 속성으로 정의된다.\n",
    " >\n",
    " > 3. 메서드는 클래스 또는 인스턴스를 기준으로 호출할 수 있다. 인스턴스를 기준으로 호출할 때는 인스턴스가 메서드에 전달된다. 이를 통해 메서드에서 인스턴스 전용 속성에 접근할 수 있다."
   ]
  },
  {
   "cell_type": "markdown",
   "metadata": {},
   "source": [
    "###### 좌표 인스턴스의 거리를 메서드로 계산하기\n",
    "\n",
    " - 위에서 정의한 Coordinate 클래스를 새로 정의하여, 두 좌표 사이의 거리를 계산해 반환하는 메서드 distance()를 정의해라. \n",
    " \n",
    " - 이 메서드는 메서드 호출의 기준이 된 인스턴스와 거리를 계산할 다른 인스턴스를 각각 매개변수로 전달받아 거리를 계산한다.\n",
    "\n",
    " - 클래스를 재정의한 뒤에는 연습문제 8-6의 인스턴스를 새로 생성하여 다음과 같이 메서드를 테스트해 보아라.\n",
    "\n",
    "```\n",
    ">>> point_1.distance(point_2)\n",
    "3.1622776601683795\n",
    "```\n",
    "\n",
    " - 힌트: self 매개변수를 빼먹지 않도록 주의하자."
   ]
  },
  {
   "cell_type": "markdown",
   "metadata": {},
   "source": [
    "### 인스턴스 초기화하기\n",
    "\n",
    " - 케익에 꽂힌 초의 개수를 표현한다면, 클래스의 속성과 인스턴스의 속성 중 어느 것으로 하는 것이 바람직할까? \n",
    " \n",
    " - 모든 케익에 똑같은 개수의 초를 꽂는다면 클래스의 속성이 좋을 것이다\n",
    " \n",
    " - 하지만 실제로는 케익을 누구에게 선물하는지에 따라 꽂는 초의 개수가 다를 것이다\n",
    " \n",
    " - 이처럼 각 인스턴스마다 다른 정보를 가져야 한다면 그 정보는 인스턴스의 속성으로 정의해야 한다\n",
    " \n",
    " - 인스턴스를 생성하면 가장 먼저 인스턴스 속성을 정의 --> 이것을 초기화(initialization)라고 한다"
   ]
  },
  {
   "cell_type": "code",
   "execution_count": 36,
   "metadata": {},
   "outputs": [],
   "source": [
    "# 인스턴스의 속성을 일일이 초기화하기가 번거롭다\n",
    "\n",
    "cake_1 = Cake()\n",
    "cake_2 = Cake()\n",
    "cake_3 = Cake()\n",
    "cake_1.candles = 0\n",
    "cake_2.candles = 0\n",
    "cake_3.candles = 0"
   ]
  },
  {
   "cell_type": "markdown",
   "metadata": {},
   "source": [
    " - 위와 같치 초기화를 할 수 있음\n",
    " \n",
    " - 하지만 초기화하는 속성이 candles 하나 뿐인데도 코드가 여러 줄 필요\n",
    " \n",
    " - 이런 방식으로는 인스턴스의 개수와 속성의 개수의 곱만큼 작성해야 하는 코드가 늘어나 몹시 불편"
   ]
  },
  {
   "cell_type": "markdown",
   "metadata": {},
   "source": [
    "#### `__init__()` 메서드로 인스턴스 초기화하기\n",
    "\n",
    "- 우리가 Cake()과 같이 인스턴스화를 명령하면, 파이썬은 다음 두 단계에 걸쳐 인스턴스화를 수행\n",
    "\n",
    "```\n",
    "1. __new__() 메서드를 실행해 새 객체를 만든다.\n",
    "2. __init__() 메서드를 실행해 객체를 초기화\n",
    "```\n",
    "- `__new__` 메서드는 새 객체를 만드는 방법을 담은 메서드\n",
    "\n",
    "- 파이썬이 기본으로 제공하기 때문에 여러분이 직접 정의할 필요는 없음\n",
    "\n",
    "- `__init__()`는 새로 만들어진 객체의 속성을 초기화하는 메서드\n",
    "\n",
    "- 기본 제공되는 `__init__()` 메서드는 객체에 아무런 속성도 부여하지 않지만, 여러분이 이 메서드를 직접 정의하면 인스턴스의 초기화 방법을 지시할 수 있다\n",
    "\n",
    "- 다음은 코드 8-31의 Cake 클래스에 `__init__()` 메서드를 추가한 것"
   ]
  },
  {
   "cell_type": "code",
   "execution_count": 37,
   "metadata": {},
   "outputs": [],
   "source": [
    "# __init__() 메서드 정의하기\n",
    "\n",
    "class Cake:\n",
    "    \"\"\"케익을 나타내는 클래스\"\"\"\n",
    "    coat = '생크림'\n",
    "    \n",
    "    def __init__(self, candles):                          # ❶\n",
    "        \"\"\"인스턴스를 초기화한다.\"\"\"\n",
    "        self.candles = candles\n",
    "    \n",
    "    def describe(self):\n",
    "        \"\"\"이 케익에 관한 정보를 화면에 출력한다.\"\"\"\n",
    "        print('이 케익은', self.coat, '으로 덮여 있다.')\n",
    "        print('초가', self.candles, '개 꽂혀 있다.')      # ❷"
   ]
  },
  {
   "cell_type": "markdown",
   "metadata": {},
   "source": [
    " - ❶ __init__ 메서드를 새로 추가\n",
    " \n",
    " - 매개변수로는 생성된 인스턴스를 전달받을 self와 초기값으로 지정할 값을 전달받을 candles를 정의\n",
    " \n",
    " - 전달받은 candles는 메서드 본문에서 self.candles에 대입하여 케익의 속성으로 초기화\n",
    " \n",
    " - ❷ describe() 메서드에서 인스턴스 속성 candles를 화면에 출력하도록 했는데, 이제 모든 객체가 초기화 과정에서 candles 속성을 갖게 될 것이므로 문제 없이 실행될 것\n",
    " \n",
    " - 이 클래스를 실제로 인스턴스화해 보자"
   ]
  },
  {
   "cell_type": "code",
   "execution_count": 38,
   "metadata": {},
   "outputs": [
    {
     "name": "stdout",
     "output_type": "stream",
     "text": [
      "케익 1:\n",
      "초 개수: 12\n"
     ]
    }
   ],
   "source": [
    "# 인스턴스화 과정에서 초기화가 수행된다\n",
    "\n",
    "cake_1 = Cake(12)   # 이제 초기값을 지정하여\n",
    "cake_2 = Cake(100)  # 인스턴스화할 수 있다\n",
    "\n",
    "print('케익 1:')\n",
    "print('초 개수:', cake_1.candles)"
   ]
  },
  {
   "cell_type": "code",
   "execution_count": 39,
   "metadata": {},
   "outputs": [
    {
     "name": "stdout",
     "output_type": "stream",
     "text": [
      "케익 2:\n",
      "이 케익은 생크림 으로 덮여 있다.\n",
      "초가 100 개 꽂혀 있다.\n"
     ]
    }
   ],
   "source": [
    "print('케익 2:')\n",
    "cake_2.describe()"
   ]
  },
  {
   "cell_type": "markdown",
   "metadata": {},
   "source": [
    " - `__init__()` 메서드를 잘 정의해두면 인스턴스화 과정에서 초기화가 함께 수행되도록 할 수 있다\n",
    " \n",
    " - 대부분의 객체는 초기화가 필요하므로, 클래스를 정의할 때 `__init__()` 메서드를 함께 정의해야 할 때가 많음\n",
    " \n",
    " - 그러므로 클래스 정의 양식을 다음과 같이 확장해 기억하자\n",
    "\n",
    "```\n",
    "class 클래스이름:\n",
    "    \"\"\"독스트링\"\"\"\n",
    "    클래스 공용 속성\n",
    "    \n",
    "    def __init__(self, ...):\n",
    "        \"\"\"인스턴스를 초기화한다.\"\"\"\n",
    "        인스턴스 전용 속성 초기화\n",
    "    \n",
    "    def 메서드(self, ...):\n",
    "        \"\"\"이 클래스의 인스턴스를 self 매개변수에 전달받아 처리하는 함수\"\"\"\n",
    "        메서드 본문\n",
    "    \n",
    "    ...(필요한 만큼 메서드를 추가 정의)\n",
    "```"
   ]
  },
  {
   "cell_type": "markdown",
   "metadata": {},
   "source": [
    "#### 인스턴스가 가져야 할 속성\n",
    "\n",
    " - **클래스 공용 속성으로는 메서드와 그 범주의 일반적 속성을 정의하고, 인스턴스 전용 속성으로는 개별 객체의 고유한 속성을 정의해야 한다**\n",
    " \n",
    " - `__init__()` 메서드는 인스턴스가 가져야 할 속성을 정하는 역할을 한다.\n",
    "\n",
    " - 각 케익마다 토핑, 가격, 초 개수를 모두 다르게 취급한다고 하자\n",
    " \n",
    " - 그러면 이 속성들은 인스턴스의 속성이 되어야 한다\n",
    " \n",
    " - Cake 클래스의 모든 속성을 인스턴스 속성으로 수정해 보자"
   ]
  },
  {
   "cell_type": "code",
   "execution_count": 42,
   "metadata": {},
   "outputs": [],
   "source": [
    "# 인스턴스가 가져야 할 속성을 __init__() 메서드에 정의\n",
    "\n",
    "class Cake:\n",
    "    \"\"\"케익을 나타내는 클래스\"\"\"\n",
    "    coat = '생크림'\n",
    "    \n",
    "    def __init__(self, topping, price, candles=0):\n",
    "        \"\"\"인스턴스를 초기화한다.\"\"\"\n",
    "        self.topping = topping   # 케익에 올린 토핑\n",
    "        self.price = price      # 케익의 가격\n",
    "        self.candles = candles  # 케익에 꽂은 초 개수\n",
    "    \n",
    "    def describe(self):\n",
    "        \"\"\"이 케익에 관한 정보를 화면에 출력한다.\"\"\"\n",
    "        print('이 케익은', self.coat, '으로 덮여 있다.')\n",
    "        print(self.topping, '을 올려 장식했다.')\n",
    "        print('가격은', self.price, '원이다.')\n",
    "        print('초가', self.candles, '개 꽂혀 있다.')"
   ]
  },
  {
   "cell_type": "markdown",
   "metadata": {},
   "source": [
    " - 새 Cake 클래스는 개별 케익 객체가 가져야 할 정보를 `__init__()` 메서드가 전달받아 초기화한다\n",
    " \n",
    " - `__init__` 메서드를 보면 인스턴스 속성으로 topping, price, candles가 있다는 것을 알 수 있다\n",
    " \n",
    " - 케익이 처음 나올 때는 초를 꽂아두지 않을 것이므로, cendles 매개변수는 기본값을 0으로 지정해 두었다\n",
    " \n",
    " - 이제 Cake 클래스를 인스턴스화할 때 케익의 속성을 모두 지정할 수 있다"
   ]
  },
  {
   "cell_type": "code",
   "execution_count": 43,
   "metadata": {},
   "outputs": [
    {
     "name": "stdout",
     "output_type": "stream",
     "text": [
      "케익 1:\n",
      "이 케익은 생크림 으로 덮여 있다.\n",
      "눈사람 사탕 을 올려 장식했다.\n",
      "가격은 10000 원이다.\n",
      "초가 0 개 꽂혀 있다.\n",
      "케익 2:\n",
      "이 케익은 생크림 으로 덮여 있다.\n",
      "한라봉 을 올려 장식했다.\n",
      "가격은 9000 원이다.\n",
      "초가 8 개 꽂혀 있다.\n"
     ]
    }
   ],
   "source": [
    "# 개별적 정보가 입력된 인스턴스\n",
    "\n",
    "cake_1 = Cake('눈사람 사탕', 10000)\n",
    "cake_2 = Cake('한라봉', 9000, 8)\n",
    "\n",
    "print('케익 1:')\n",
    "cake_1.describe()\n",
    "\n",
    "print('케익 2:')\n",
    "cake_2.describe()"
   ]
  },
  {
   "cell_type": "code",
   "execution_count": 44,
   "metadata": {},
   "outputs": [
    {
     "ename": "TypeError",
     "evalue": "__init__() missing 1 required positional argument: 'price'",
     "output_type": "error",
     "traceback": [
      "\u001b[1;31m---------------------------------------------------------------------------\u001b[0m",
      "\u001b[1;31mTypeError\u001b[0m                                 Traceback (most recent call last)",
      "\u001b[1;32m<ipython-input-44-083074dbbe09>\u001b[0m in \u001b[0;36m<module>\u001b[1;34m\u001b[0m\n\u001b[0;32m      1\u001b[0m \u001b[1;31m# 초기화에 필요한 속성이 누락될 경우 인스턴스 생성이 방지된다\u001b[0m\u001b[1;33m\u001b[0m\u001b[1;33m\u001b[0m\u001b[1;33m\u001b[0m\u001b[0m\n\u001b[0;32m      2\u001b[0m \u001b[1;33m\u001b[0m\u001b[0m\n\u001b[1;32m----> 3\u001b[1;33m \u001b[0mcake_2\u001b[0m \u001b[1;33m=\u001b[0m \u001b[0mCake\u001b[0m\u001b[1;33m(\u001b[0m\u001b[1;34m'복숭아'\u001b[0m\u001b[1;33m)\u001b[0m\u001b[1;33m\u001b[0m\u001b[1;33m\u001b[0m\u001b[0m\n\u001b[0m",
      "\u001b[1;31mTypeError\u001b[0m: __init__() missing 1 required positional argument: 'price'"
     ]
    }
   ],
   "source": [
    "# 초기화에 필요한 속성이 누락될 경우 인스턴스 생성이 방지된다\n",
    "\n",
    "cake_2 = Cake('복숭아')"
   ]
  },
  {
   "cell_type": "markdown",
   "metadata": {},
   "source": [
    "###### 좌표 인스턴스 초기화하기\n",
    "\n",
    " - 위의 문제에서 정의한 Coordinate 클래스를 새로 정의하여, 인스턴스화 과정에서 속성 x와 속성 y를 초기화할 수 있도록 해보자\n",
    " \n",
    " - 인스턴스화할 때 초기값을 전달되지 않은 경우에는 기본값 0으로 초기화되도록하자\n",
    "\n",
    " - 다음은 클래스를 새로 정의한 후에 인스턴스화를 수행하고 테스트하는 예다\n",
    "\n",
    "```\n",
    ">>> point_1 = Coordinate(-1, 2)\n",
    ">>> point_2 = Coordinate(y=3, x=2)\n",
    ">>> point_3 = Coordinate()\n",
    ">>> point_4 = Coordinate(10)\n",
    ">>> point_1.x, point_1.y\n",
    "(-1, 2)\n",
    "\n",
    ">>> point_2.x, point_2.y\n",
    "(2, 3)\n",
    "\n",
    ">>> point_3.x, point_3.y\n",
    "(0, 0)\n",
    "\n",
    ">>> point_4.x, point_4.y\n",
    "(10, 0)\n",
    "\n",
    ">>> point_1.distance(point_2)\n",
    "3.1622776601683795\n",
    "```"
   ]
  },
  {
   "cell_type": "code",
   "execution_count": null,
   "metadata": {},
   "outputs": [],
   "source": []
  }
 ],
 "metadata": {
  "kernelspec": {
   "display_name": "Python 3",
   "language": "python",
   "name": "python3"
  },
  "language_info": {
   "codemirror_mode": {
    "name": "ipython",
    "version": 3
   },
   "file_extension": ".py",
   "mimetype": "text/x-python",
   "name": "python",
   "nbconvert_exporter": "python",
   "pygments_lexer": "ipython3",
   "version": "3.6.8"
  }
 },
 "nbformat": 4,
 "nbformat_minor": 2
}
