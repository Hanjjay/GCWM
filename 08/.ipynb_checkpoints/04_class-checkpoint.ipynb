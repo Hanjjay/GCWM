{
 "cells": [
  {
   "cell_type": "markdown",
   "metadata": {},
   "source": [
    "### 클래스의 포함 관계\n",
    "\n",
    " - 집합의 개념에서 볼 때, 다음과 같이 생각할 수 있음\n",
    " \n",
    " > 초콜릿 케익 ⊂ 케익 ⊂ 음식\n",
    "\n",
    " - 초콜릿 케익은 케익에 포함되고, 케익은 음식에 포함된다\n",
    " \n",
    " - 범주는 더 넓은 범주에 포함되고, 더 좁은 범주를 포함한다\n",
    " \n",
    " - 데이터의 범주도 마찬가지여서, ‘케익’ 유형에 속하는 ‘초콜릿 케익’ 유형과 ‘아이스크림 케익’ 유형을 정의할 수도 있다\n",
    " \n",
    " - 다른 클래스에 포함되는 하위 클래스를 정의하는 방법과 클래스의 포함 관계에서 나타나는 특징을 알아보자"
   ]
  },
  {
   "cell_type": "markdown",
   "metadata": {},
   "source": [
    "### 하위 클래스 정의하기\n",
    "\n",
    " - 클래스를 정의할 때 상위 클래스를 지정할 수 있다\n",
    " \n",
    " - 헤더 행에서 클래스 이름 뒤에 괄호를 붙이고, 괄호 속에 상위 클래스로 삼을 클래스를 표기하면 된다\n",
    "\n",
    "```\n",
    "class B(A):\n",
    "    \"\"\"A 클래스의 하위 클래스인 B 클래스\"\"\"\n",
    "    이 하위 클래스의 공용 속성\n",
    "```\n",
    "\n",
    " - 케익이라는 범주는 초콜릿 케익, 치즈 케익, 과일 케익 등의 하위 범주로 세분화해 볼 수 있다\n",
    " \n",
    " - 다음은 Cake 클래스의 하위 클래스로 초콜릿 케익을 나타내는 ChocolateCake 클래스를 정의해 본 것"
   ]
  },
  {
   "cell_type": "code",
   "execution_count": 3,
   "metadata": {},
   "outputs": [],
   "source": [
    "# Cake 클래스 정의하기 ... 03_class 참조\n",
    "\n",
    "class Cake:\n",
    "    \"\"\"케익을 나타내는 클래스\"\"\"\n",
    "    coat = '생크림'\n",
    "    \n",
    "    def __init__(self, topping, price, candles=0):\n",
    "        \"\"\"인스턴스를 초기화한다.\"\"\"\n",
    "        self.topping = topping   # 케익에 올린 토핑\n",
    "        self.price = price      # 케익의 가격\n",
    "        self.candles = candles  # 케익에 꽂은 초 개수\n",
    "    \n",
    "    def describe(self):\n",
    "        \"\"\"이 케익에 관한 정보를 화면에 출력한다.\"\"\"\n",
    "        print('이 케익은', self.coat, '으로 덮여 있다.')\n",
    "        print(self.topping, '을 올려 장식했다.')\n",
    "        print('가격은', self.price, '원이다.')\n",
    "        print('초가', self.candles, '개 꽂혀 있다.')   \n",
    "        \n",
    "#‘케익’ 클래스를 상위 클래스로 삼는 ‘초콜릿 케익’ 클래스 정의하기\n",
    "\n",
    "class ChocolateCake(Cake):                # ❶ \n",
    "    \"\"\"초콜릿 케익을 나타내는 클래스.\"\"\"\n",
    "    coat = '초콜릿'                       # ❷\n",
    "    cacao_percent = 32.0                  # ❸"
   ]
  },
  {
   "cell_type": "markdown",
   "metadata": {},
   "source": [
    " - ❶ ChocolateCake 클래스 정의에서 괄호 안에 Cake을 표기했다 ... Cake 클래스를 상위 클래스로 두는 것\n",
    "\n",
    " - ❷ coat 속성은 상위 클래스인 Cake에 '생크림'으로 정의되어 있다. --> ChocolateCake 클래스에서는 초콜릿으로 정의\n",
    " \n",
    " - 하위 클래스에서 coat 속성을 읽으면 상위 클래스의 '생크림'이 아니라 새로 정의한 '초콜렛'으로 평가된다\n",
    " \n",
    " > 이처럼 상위 클래스에 정의된 속성은 하위 클래스에서 고쳐 정의할 수 있다 ... 이를 재정의(override)라고 함\n",
    "\n",
    " - ❸ cacao_percent는 Cake에는 없지만 ChocolateCake에서 새로 추가되었다. \n",
    " \n",
    " >이처럼 상위 클래스에 없는 속성을 하위 클래스에 추가로 정의할 수도 있다"
   ]
  },
  {
   "cell_type": "code",
   "execution_count": 4,
   "metadata": {},
   "outputs": [
    {
     "name": "stdout",
     "output_type": "stream",
     "text": [
      "초콜릿\n",
      "32.0\n",
      "이 케익은 초콜릿 으로 덮여 있다.\n",
      "이슬 을 올려 장식했다.\n",
      "가격은 12000 원이다.\n",
      "초가 0 개 꽂혀 있다.\n"
     ]
    }
   ],
   "source": [
    "# ChocolateCake 클래스와 인스턴스의 동작\n",
    "\n",
    "print(ChocolateCake.coat)           # ❶ 재정의한 클래스 속성\n",
    "print(ChocolateCake.cacao_percent)  # ❷ 추가한 클래스 속성\n",
    "\n",
    "# ❸ 상위 클래스 Cake의 __init__() 메서드와 __describe__() 메서드 이용하기\n",
    "chocolate_cake_1 = ChocolateCake('이슬', 12000)\n",
    "chocolate_cake_1.describe()"
   ]
  },
  {
   "cell_type": "markdown",
   "metadata": {},
   "source": [
    " - ❶ 하위 클래스에서 재정의한 속성은 상위 클래스의 속성을 덮어버린다\n",
    " \n",
    " - ❷ 하위 클래스에서 추가한 속성은 하위 클래스에서 읽을 수 있다\n",
    " \n",
    " - ❸ 재정의하지 않은 속성과 메서드는 그대로 사용할 수 있다\n",
    " \n",
    " > chocolate_cake_1 인스턴스를 만들고 사용할 때, 상위 클래스 Cake의 __init__() 메서드와 describe() 메서드를 그대로 사용"
   ]
  },
  {
   "cell_type": "code",
   "execution_count": null,
   "metadata": {},
   "outputs": [],
   "source": []
  }
 ],
 "metadata": {
  "kernelspec": {
   "display_name": "Python 3",
   "language": "python",
   "name": "python3"
  },
  "language_info": {
   "codemirror_mode": {
    "name": "ipython",
    "version": 3
   },
   "file_extension": ".py",
   "mimetype": "text/x-python",
   "name": "python",
   "nbconvert_exporter": "python",
   "pygments_lexer": "ipython3",
   "version": "3.6.8"
  }
 },
 "nbformat": 4,
 "nbformat_minor": 2
}
