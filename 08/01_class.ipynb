{
 "cells": [
  {
   "cell_type": "markdown",
   "metadata": {},
   "source": [
    "### 클래스란 무엇일까?\n",
    "\n",
    " - 세상에는 수없이 많은 나무들이 있음\n",
    " \n",
    " - 이 많은 나무들을 모두 ‘나무’라는 하나의 범주로 지칭할 수 있음\n",
    " \n",
    " - 세부적으로 나누어서보면 소나무, 은행나무, 밤나무 등등 나누어서 나무의 이름을 지칭할 수 있음\n",
    " \n",
    " - 이러한 '나무'들은 특징들을 공유하지만 세부적으로 다름\n",
    " \n",
    " > - 공유하는 특징 : 잎을 가짐 / 뿌리를 가짐 / 줄기를 가짐 / 향이 있음 / 불에 잘 탐\n",
    " >\n",
    " > - 공유하지 않는 특징 : 은행나무는 노란 잎을 가지며 열매로 인한 구리구리한 향을 가짐 / 소나무는 뾰족한 잎을 가지며 향긋한 향을 가짐\n",
    " \n",
    " - 데이터라는 것을 정리할 때 위와 같은 범주와 특징 분류를 사용할 수 있다면 좋을 것 같다?! -> class!"
   ]
  },
  {
   "cell_type": "code",
   "execution_count": null,
   "metadata": {},
   "outputs": [],
   "source": []
  }
 ],
 "metadata": {
  "kernelspec": {
   "display_name": "Python 3",
   "language": "python",
   "name": "python3"
  },
  "language_info": {
   "codemirror_mode": {
    "name": "ipython",
    "version": 3
   },
   "file_extension": ".py",
   "mimetype": "text/x-python",
   "name": "python",
   "nbconvert_exporter": "python",
   "pygments_lexer": "ipython3",
   "version": "3.6.8"
  }
 },
 "nbformat": 4,
 "nbformat_minor": 2
}
