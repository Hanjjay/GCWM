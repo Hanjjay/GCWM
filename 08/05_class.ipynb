{
 "cells": [
  {
   "cell_type": "markdown",
   "metadata": {},
   "source": [
    "## 데이터 유형에 맞는 연산 정의하기\n",
    "\n",
    " - 데이터를 어떻게 다루어야 하는지는 그 데이터의 유형에 따라 결정된다\n",
    " \n",
    " - 수 데이터는 반올림 연산을 할 수 있지만, 문자열 데이터는 그럴 수 없다\n",
    " \n",
    " - 똑같이 + 연산자로 계산하더라도 수는 합을 구하지만 문자열은 연결한 문자열('a' + 'b' == 'ab')을 구한다.\n",
    "\n",
    " - 이렇게 데이터 유형마다 연산 방식이 다른 것은, 파이썬에 이 데이터 유형들이 그렇게 정의되어 있기 때문이다\n",
    " \n",
    " - 데이터 유형은 데이터의 취급 방식을 결정하기 위해 필요한 것\n",
    " \n",
    " - 데이터 유형을 정의할 때 그 데이터 유형에 맞는 연산을 정의할 필요가 있다\n",
    " \n",
    " - 이전에 배운 메서드를 활용해 이용해 데이터 유형(클래스)에 따라 데이터(인스턴스)를 다루는 연산을 정의하는 방법을 알아보자"
   ]
  },
  {
   "cell_type": "markdown",
   "metadata": {},
   "source": [
    "### 데이터 유형의 인터페이스\n",
    "\n",
    " - **인터페이스(interface, 접점)** 는 한 대상이 다른 대상과 맞닿는 면이다\n",
    " \n",
    " - 전자 제품이나 소프트웨어처럼 내부 구조가 복잡한 제품에서는 인터페이스가 사용자가 제품을 사용하는 방법이 된다\n",
    " \n",
    " - 우리는 텔레비전의 원리를 모르더라도 리모컨을 사용해 쉽게 텔레비전을 시청할 수 있고, 전기 이론을 몰라도 콘센트와 플러그를 이용해 안전하게 전기 에너지를 이용할 수 있다\n",
    " \n",
    " - 리모컨·플러그와 같이 인터페이스를 친절하게 만들어 놓으면 사용자가 복잡한 내부 구조를 신경쓰지 않고도 쉽고 안전하게 제품을 사용할 수 있다\n",
    "\n",
    " - 다루기 어렵고 복잡한 데이터 유형을 정의해야 할 때도 마찬가지 원리를 적용할 수 있다\n",
    " \n",
    " - 좋은 클래스에는 쉽고 안전한 인터페이스가 있다\n",
    " \n",
    " - 예를 들어, 부동소수점 수(float)는 사칙연산과 반올림 등의 연산을 제공한다. +, - 등의 연산자와 round() 등의 함수를 사용하면 되는데, 이 연산들이 바로 부동소수점 수의 인터페이스다\n",
    "\n",
    " - 클래스를 정의할 때, 클래스의 속성을 감추어두고 연산자와 메서드를 인터페이스로 제공하는 방법을 **캡슐화(encapsulation)** 라고 부른다\n",
    " \n",
    " - 부동 소수점 수를 직접 구현해 실수 연산을 수행하려면 부호·가수부·지수부 등 여러 속성을 정의하고 조작해야 할 것이다\n",
    " \n",
    " - 하지만 파이썬의 float 클래스는 사칙연산 연산자와 round() 함수를 사용할 수 있게 정의되어 있어서 클래스의 속성을 직접 조작할 필요가 없다\n",
    " \n",
    " - 캡슐화를 하면 클래스를 사용하기 쉽게 정의할 수 있고, 속성을 잘못 조작하는 실수도 막을 수 있다\n",
    "\n",
    " > **인터페이스** : 어떤 대상이 다른 대상과 맞닿는 면. 클래스의 인터페이스가 간편하면 복잡한 세부 사항을 모르더라도 인스턴스를 쉽고 안전하게 취급할 수 있다\n",
    " >\n",
    " > **캡슐화** : 속성을 감추고, 연산자와 메서드를 제공하여 사용하도록 하는 클래스 정의 방법"
   ]
  },
  {
   "cell_type": "markdown",
   "metadata": {},
   "source": [
    "#### 메서드를 이용해 속성 조작하기\n",
    "\n",
    "- 다음은 과일 주스를 나타내는 클래스다\n",
    "\n",
    "- 과일 주스에는 몇몇 과일만 재료로 넣을 수 있다\n",
    "\n",
    "- 올바르지 않은 재료를 넣으려고 하면, 안 된다는 메시지를 출력하기로 하자"
   ]
  },
  {
   "cell_type": "code",
   "execution_count": 1,
   "metadata": {},
   "outputs": [],
   "source": [
    "# 과일 케익을 나타내는 클래스\n",
    "\n",
    "class FruitJuice():\n",
    "    \"\"\"과일 주스를 나타내는 클래스\"\"\"\n",
    "    valid_fruits = {'귤', '복숭아', '청포도', '딸기', '사과'}  # 넣을 수 있는 과일\n",
    "    \n",
    "    def __init__(self):\n",
    "        \"\"\"인스턴스를 초기화한다.\"\"\"\n",
    "        self.ingredients = []   # 주스에 들어가는 재료\n",
    "    \n",
    "    def add_ingredient(self, ingredient):\n",
    "        \"\"\"재료(ingredient)를 이 주스에 추가한다.\"\"\"\n",
    "        if ingredient in self.valid_fruits:\n",
    "            self.ingredients.append(ingredient)\n",
    "        else:\n",
    "            print(ingredient, '는 과일 주스에 넣을 수 없습니다.')\n",
    "    \n",
    "    def describe(self):\n",
    "        \"\"\"이 주스에 관한 정보를 화면에 출력한다.\"\"\"\n",
    "        print('이 주스에는', len(self.ingredients), '개의 재료가 들어 있습니다.')\n",
    "        print('넣은 재료:', end=' ')\n",
    "        for ingredient in self.ingredients:\n",
    "            print(ingredient, end=', ')"
   ]
  },
  {
   "cell_type": "markdown",
   "metadata": {},
   "source": [
    " - 이 클래스의 속성은 무엇이 있고 인터페이스(어떤 방식으로 사용해야 하는지)는 무엇일까?\n",
    "\n",
    " > 각 주스 인스턴스는 재료 리스트(ingredients)를 속성으로 가진다\n",
    " >\n",
    " > 주스 인스턴스를 생성할 때 초기값을 지정하지 않는다\n",
    " >\n",
    " > 주스에 재료를 추가할 때 add_ingredient() 메서드를 사용한다\n",
    " >\n",
    " > 주스의 정보를 화면에 출력할 때 describe() 메서드를 사용한다\n",
    " \n",
    " - 확인한 인터페이스에 따라, 과일 주스 클래스의 인스턴스를 만들어 사용해 보자"
   ]
  },
  {
   "cell_type": "code",
   "execution_count": 2,
   "metadata": {},
   "outputs": [
    {
     "name": "stdout",
     "output_type": "stream",
     "text": [
      "도라지 는 과일 주스에 넣을 수 없습니다.\n",
      "이 주스에는 2 개의 재료가 들어 있습니다.\n",
      "넣은 재료: 청포도, 복숭아, "
     ]
    }
   ],
   "source": [
    "# 메서드를 이용해 인스턴스 조작하기\n",
    "\n",
    "juice_1 = FruitJuice()\n",
    "juice_1.add_ingredient('청포도')  # 재료 추가하기\n",
    "juice_1.add_ingredient('복숭아')  # 재료 추가하기\n",
    "juice_1.add_ingredient('도라지')  # 잘못된 재료 추가하기\n",
    "juice_1.describe()"
   ]
  },
  {
   "cell_type": "markdown",
   "metadata": {},
   "source": [
    " - 주스 재료를 추가할 때, juice_1.ingredients 속성을 직접 조작하지 않고 add_ingredient() 메서드를 이용하면 된다\n",
    " \n",
    " - 인스턴스의 내부 속성이 어떤 식으로 구현되어 있는지 신경쓸 필요가 없다\n",
    " \n",
    " - 잘못된 재료를 입력하는 것도 메서드가 막아 준다\n",
    " \n",
    " - 메서드를 제공하지 않고 클래스를 사용하는 프로그래머가 ingredients 속성을 직접 조작하도록 했다면, 실수로 도라지를 넣어 주스 맛을 망칠 수도 있었다\n",
    "\n",
    " - **클래스를 정의할 때는 클래스의 내부 속성과 구현 방식을 클래스 감추고, 클래스를 조작하는 방법을 메서드로 제공하는 것이 좋다**"
   ]
  },
  {
   "cell_type": "markdown",
   "metadata": {},
   "source": [
    "#### 비공개 속성\n",
    "\n",
    " - 위에서 클래스를 사용하는 프로그래머가 메서드를 통하지 않고 속성을 직접 조작할 수도 있다\n",
    " \n",
    " - add_ingredient() 메서드가 있는 줄 모르고, ingredients 속성을 조작하면 어떻게 될까?"
   ]
  },
  {
   "cell_type": "code",
   "execution_count": 3,
   "metadata": {},
   "outputs": [
    {
     "name": "stdout",
     "output_type": "stream",
     "text": [
      "이 주스에는 1 개의 재료가 들어 있습니다.\n",
      "넣은 재료: 도라지, "
     ]
    }
   ],
   "source": [
    "# 인스턴스의 속성을 직접 조작하는 문제\n",
    "\n",
    "juice_2 = FruitJuice()\n",
    "juice_2.ingredients.append('도라지')  # 속성을 직접 조작하기\n",
    "juice_2.describe()"
   ]
  },
  {
   "cell_type": "markdown",
   "metadata": {},
   "source": [
    " - 이처럼, ingredient 속성을 직접 조작하면 잘못된 재료를 넣는 것이 가능하다\n",
    " \n",
    " - 클래스를 정의할 때는 클래스 사용자자 속성을 잘못 조작하는 것을 막기 위해 속성을 비공개로 정의할 필요가 있다\n",
    " \n",
    " - 비공개 속성이란 클래스 내부 메서드에서는 가리킬 수 있지만 클래스 밖에서는 직접 가리킬 수 없는 속성이다\n",
    "\n",
    " - 파이썬 문화에서는 속성 이름을 지을 때, `_secret`과 같이 밑줄 기호(`_`) 하나로 시작하는 경우 --> “이 속성 비공개 속성이니 직접 조작하지 마세요\"\n",
    " \n",
    " - 필요하다면 `_secret`을 읽고 조작할 수도 있지만, 그 책임은 클래스를 사용하는 프로그래머에게 따른다\n",
    " \n",
    " - 다음은 FruitJuice 클래스에서 비공개로 취급되어야 할 속성의 이름을 밑줄로 시작하도록 수정한 것이다"
   ]
  },
  {
   "cell_type": "code",
   "execution_count": 4,
   "metadata": {},
   "outputs": [],
   "source": [
    "# 밑줄 기호로 비공개 속성 나타내기\n",
    "\n",
    "class FruitJuice():\n",
    "    \"\"\"과일 주스를 나타내는 클래스\"\"\"\n",
    "    _valid_fruits = {'귤', '복숭아', '청포도', '딸기', '사과'}  # 넣을 수 있는 과일\n",
    "    \n",
    "    def __init__(self):\n",
    "        \"\"\"인스턴스를 초기화한다.\"\"\"\n",
    "        self._ingredients = []   # 주스에 들어가는 재료\n",
    "    \n",
    "    def add_ingredient(self, ingredient):\n",
    "        \"\"\"재료(ingredient)를 이 주스에 추가한다.\"\"\"\n",
    "        if ingredient in self._valid_fruits:\n",
    "            self._ingredients.append(ingredient)\n",
    "        else:\n",
    "            print(ingredient, '는 과일 주스에 넣을 수 없습니다.')\n",
    "    \n",
    "    def describe(self):\n",
    "        \"\"\"이 주스에 관한 정보를 화면에 출력한다.\"\"\"\n",
    "        print('이 주스에는', len(self._ingredients), '개의 재료가 들어 있습니다.')\n",
    "        print('넣은 재료:', end=' ')\n",
    "        for ingredient in self._ingredients:\n",
    "            print(ingredient, end=', ')"
   ]
  },
  {
   "cell_type": "markdown",
   "metadata": {},
   "source": [
    " - **클래스에서 밑줄 기호 하나로 시작하는 속성은 비공개 속성**"
   ]
  },
  {
   "cell_type": "markdown",
   "metadata": {},
   "source": [
    "###### 연습문제 8-12 주사위\n",
    "\n",
    " - 다음 조건에 맞춰 주사위를 나타내는 클래스(Dice)를 정의하여라\n",
    "\n",
    " > 1. 각 주사위 객체마다 면의 수가 다르다. 예를 들어 육면체 주사위는 6개의 면을 갖는다. 이 ‘면의 수’를 비공개 인스턴스 속성으로 정의하라.\n",
    " >\n",
    " > 2. 각 주사위 객체는 항상 어느 한 면이 위를 향하고 있으며, 그 면은 1과 ‘면의 수’ 사이의 자연수다. 이 ‘나온 면’을 비공개 인스턴스 속성으로 정의하라.\n",
    " >\n",
    " > 3. 주사위 인스턴스는 Dice(sides)와 같이 하나의 인자를 전달하여 생성한다. 인스턴스화 과정에서 ‘면의 수’는 sides가 전달받는 값으로, ‘나온 면’은 자신이 가질 수 있는 임의의 값으로 초기화된다.\n",
    " >\n",
    " > 4. 인스턴스의 현재 ‘나온 면’을 반환하는 top() 메서드를 정의하라.\n",
    " >\n",
    " > 5. 인스턴스의 ‘나온 면’을 새 임의의 값으로 설정하고 반환하는 role() 메서드를 정의하라.\n",
    " >\n",
    " > 6. n 이상 m 이하의 임의의 수는 random.randint(n, m) 함수를 사용하여 구한다. 예를 들어 1 이상 8 이하의 임의의 수는 random.randint(1, 8)이다. (이 함수를 사용하려면 먼저 random 모듈을 임포트해야 한다.)\n",
    " \n",
    " - 클래스를 정의한 후 프로그램 하단에 다음 코드를 삽입해 테스트해 보아라.\n",
    "\n",
    "```\n",
    "dice_4 = Dice(4)      # 사면체 주사위 생성\n",
    "print('사면체 주사위 테스트 ----')\n",
    "print('처음 나온 면:', dice_4.top())\n",
    "print('다시 굴리기:', dice_4.roll())\n",
    "print('다시 굴리기:', dice_4.roll())\n",
    "\n",
    "dice_100 = Dice(100)  # 백면체 주사위 생성\n",
    "print('백면체 주사위 테스트 ----')\n",
    "print('처음 나온 면:', dice_100.top())\n",
    "print('다시 굴리기:', dice_100.roll())\n",
    "print('다시 굴리기:', dice_100.roll())\n",
    "```\n",
    "\n",
    " - 이 프로그램을 실행한 결과는 다음과 같다. 임의의 값이 사용되므로 나온 수는 차이가 있을 것이다.\n",
    "\n",
    "```\n",
    "사면체 주사위 테스트 ----\n",
    "나온 면: 2\n",
    "다시 굴리기: 2\n",
    "다시 굴리기: 1\n",
    "백면체 주사위 테스트 ----\n",
    "나온 면: 42\n",
    "다시 굴리기: 54\n",
    "다시 굴리기: 79\n",
    "```"
   ]
  },
  {
   "cell_type": "code",
   "execution_count": null,
   "metadata": {},
   "outputs": [],
   "source": []
  },
  {
   "cell_type": "markdown",
   "metadata": {},
   "source": [
    "### 연산자의 동작 정의하기\n",
    "\n",
    " - 클래스의 전용 연산은 메서드로 제공될 때가 많지만, +, - 같은 연산자로 연산을 수행할 수 있게 지원하는 클래스도 있다\n",
    " \n",
    " - 예를 들어, 문자열은 대소문자 변환과 문자 개수 세기 등의 연산을 메서드로 제공하지만, 문자열과 문자열을 서로 연결하는 연산은 덧셈 연산자(+)로 제공한다\n",
    " \n",
    " - 이처럼 클래스 전용 연산 중에는 메서드보다 연산자를 이용할 때 더 직관적이고 간결한 경우가 있다\n",
    "\n",
    " - ‘맛’과 ‘칼로리’라는 두 속성을 가진 ‘음식’ 클래스를 정의하며, 클래스에서 연산자의 동작을 정의하는 방법을 알아보자"
   ]
  },
  {
   "cell_type": "code",
   "execution_count": 5,
   "metadata": {},
   "outputs": [],
   "source": [
    "# 음식 클래스\n",
    "\n",
    "class Food:\n",
    "    \"\"\"음식을 나타내는 클래스\"\"\"\n",
    "    def __init__(self, taste, calorie):              # ❶\n",
    "        \"\"\"인스턴스를 초기화한다.\"\"\"\n",
    "        self._taste = taste      # 맛\n",
    "        self._calorie = calorie  # 칼로리\n",
    "    \n",
    "    def to_string(self):                             # ❷\n",
    "        \"\"\"이 음식을 표현하는 문자열을 반환한다.\"\"\"\n",
    "        return str(self._taste) + '만큼 맛있고, ' + str(self._calorie) + '만큼 든든한 음식'\n",
    "    \n",
    "    def add(self, other):                            # ❸\n",
    "        \"\"\"이 음식(self)과 다른 음식(other)을 더한\n",
    "        새 음식을 반환한다.\"\"\"\n",
    "        taste = self._taste + other._taste           # 두 음식의 맛을 더한다\n",
    "        calorie = self._calorie + other._calorie     # 두 음식의 칼로리를 더한다\n",
    "        return Food(taste, calorie)                  # 새 음식 인스턴스를 생성하여 반환한다"
   ]
  },
  {
   "cell_type": "markdown",
   "metadata": {},
   "source": [
    " - ❶ Food 클래스의 인스턴스는 `_taste`와 `_calorie` 두 속성으로 맛과 칼로리를 나타낸다\n",
    " \n",
    " - ❷ to_string() 메서드를 이용해 문자열로 표현할 수 있다\n",
    " \n",
    " - ❸ add() 메서드를 이용해 두 음식을 서로 더할 수도 있게 하였다\n",
    " \n",
    " - 다음은 Food 클래스를 대화식 셸에 입력하고, 인스턴스화하여 사용해 본 예다"
   ]
  },
  {
   "cell_type": "code",
   "execution_count": 6,
   "metadata": {},
   "outputs": [
    {
     "name": "stdout",
     "output_type": "stream",
     "text": [
      "7만큼 맛있고, 85만큼 든든한 음식\n",
      "12만큼 맛있고, 266만큼 든든한 음식\n",
      "19만큼 맛있고, 351만큼 든든한 음식\n"
     ]
    }
   ],
   "source": [
    "# Food 클래스 사용하기\n",
    "\n",
    "food1 = Food(7, 85)\n",
    "print(food1.to_string())  # ❶ 음식 인스턴스를 문자열로 표현하기\n",
    "\n",
    "food2 = Food(12, 266)\n",
    "print(food2.to_string())\n",
    "\n",
    "food3 = food1.add(food2)  # ❷ 두 음식 인스턴스 합하기\n",
    "print(food3.to_string())"
   ]
  },
  {
   "cell_type": "markdown",
   "metadata": {},
   "source": [
    "- 음식 객체는 ❶ to_string() 메서드를 이용해 문자열로 변환하여 print() 함수로 출력할 수 있다\n",
    "\n",
    "- ❷ add() 메서드로 두 음식을 합하는 것도 가능하다\n",
    "\n",
    "- 그런데 음식 객체를 to_string() 메서드를 사용하지 않고 화면에 출력하면 무엇이 출력될까? \n",
    "\n",
    "- 또, add() 메서드 대신 덧셈 연산자(+)로 두 인스턴스를 더하면 어떻게 될까?"
   ]
  },
  {
   "cell_type": "code",
   "execution_count": 7,
   "metadata": {},
   "outputs": [
    {
     "name": "stdout",
     "output_type": "stream",
     "text": [
      "<__main__.Food object at 0x00000218F3672780>\n"
     ]
    },
    {
     "ename": "TypeError",
     "evalue": "unsupported operand type(s) for +: 'Food' and 'Food'",
     "output_type": "error",
     "traceback": [
      "\u001b[1;31m---------------------------------------------------------------------------\u001b[0m",
      "\u001b[1;31mTypeError\u001b[0m                                 Traceback (most recent call last)",
      "\u001b[1;32m<ipython-input-7-352126fd533b>\u001b[0m in \u001b[0;36m<module>\u001b[1;34m\u001b[0m\n\u001b[0;32m      3\u001b[0m \u001b[0mprint\u001b[0m\u001b[1;33m(\u001b[0m\u001b[0mfood1\u001b[0m\u001b[1;33m)\u001b[0m   \u001b[1;31m# ❶ 음식 객체를 그냥 출력했을 때: 알기 힘든 내용 출력\u001b[0m\u001b[1;33m\u001b[0m\u001b[1;33m\u001b[0m\u001b[0m\n\u001b[0;32m      4\u001b[0m \u001b[1;33m\u001b[0m\u001b[0m\n\u001b[1;32m----> 5\u001b[1;33m \u001b[0mfood1\u001b[0m \u001b[1;33m+\u001b[0m \u001b[0mfood2\u001b[0m  \u001b[1;31m# ❷ 음식 객체를 덧셈 연산자로 더할 때: 오류 발생\u001b[0m\u001b[1;33m\u001b[0m\u001b[1;33m\u001b[0m\u001b[0m\n\u001b[0m",
      "\u001b[1;31mTypeError\u001b[0m: unsupported operand type(s) for +: 'Food' and 'Food'"
     ]
    }
   ],
   "source": [
    "# Food 클래스의 부족한 점\n",
    "\n",
    "print(food1)   # ❶ 음식 객체를 그냥 출력했을 때: 알기 힘든 내용 출력\n",
    "\n",
    "food1 + food2  # ❷ 음식 객체를 덧셈 연산자로 더할 때: 오류 발생"
   ]
  },
  {
   "cell_type": "markdown",
   "metadata": {},
   "source": [
    " - ❶ 음식 객체를 print() 함수에 그냥 넘겨 출력하면 “메모리의 0x7fc527d50f60번째 위치에 존재하는 Food 형식의 객체”라는 의미의 정보만 출력되는데, 객체의 의미를 알기 어렵다\n",
    " \n",
    " - 이보다는 to_string() 메서드의 결과를 출력하는 편이 더 유용할 것 같다\n",
    " \n",
    " - ❷ 덧셈 연산자로 두 객체를 더하면 Food과 Food을 더하는 연산이 지원되지 않는다며 TypeError 오류가 발생한다\n",
    " \n",
    " - 덧셈 연산자로도 add() 메서드와 같이 두 음식의 합을 구할 수 있으면 좋겠다"
   ]
  },
  {
   "cell_type": "markdown",
   "metadata": {},
   "source": [
    "#### 이중 밑줄 메서드\n",
    "\n",
    " - print(food1)처럼, 인스턴스를 문자열로 표현내야 하는 경우에는 클래스에 정의된 `__str__()`이라는 메서드가 저절로 호출된다\n",
    " \n",
    " - 마찬가지로, 인스턴스를 + 연산자로 더하려 하면 `__add__()`라는 메서드가 저절로 호출된다\n",
    " \n",
    " - 이처럼 문자열 변환·연산자 실행 등 특정한 경우에 저절로 실행되는 메서드들은 모두 밑줄 기호 두 개로 시작하고 밑줄 기호 두 개로 끝나며, 이중 밑줄 메서드라고 부른다\n",
    " \n",
    " - 인스턴스를 초기화할 때 호출되는 `__init__()` 메서드도 이중 밑줄 메서드 중의 하나다\n",
    " \n",
    " - Food 클래스에 `__str__()` 메서드와 `__add__()` 메서드를 정의해 보자"
   ]
  },
  {
   "cell_type": "code",
   "execution_count": 8,
   "metadata": {},
   "outputs": [],
   "source": [
    "# __add__() 메서드와 __str__() 메서드 정의하기\n",
    "\n",
    "class Food:\n",
    "    \"\"\"음식을 나타내는 클래스\"\"\"\n",
    "    def __init__(self, taste, calorie):\n",
    "        \"\"\"인스턴스를 초기화한다.\"\"\"\n",
    "        self._taste = taste      # 맛\n",
    "        self._calorie = calorie  # 칼로리\n",
    "    \n",
    "    def __str__(self):           # ❶ to_string() 메서드의 이름을 __str__()로 수정했다\n",
    "        \"\"\"이 음식을 표현하는 문자열을 반환한다.\"\"\"\n",
    "        return str(self._taste) + '만큼 맛있고, ' + str(self._calorie) + '만큼 든든한 음식'\n",
    "    \n",
    "    def __add__(self, other):    # ❷ add() 메서드의 이름을 __add__()로 수정했다\n",
    "        \"\"\"이 음식(self)과 다른 음식(other)을 더한\n",
    "        새 음식을 반환한다.\"\"\"\n",
    "        taste = self._taste + other._taste           # 두 음식의 맛을 더한다\n",
    "        calorie = self._calorie + other._calorie     # 두 음식의 칼로리를 더한다\n",
    "        return Food(taste, calorie)                  # 새 음식 인스턴스를 생성하여 반환한다"
   ]
  },
  {
   "cell_type": "markdown",
   "metadata": {},
   "source": [
    " - to_string() 메서드와 add() 메서드의 이름을 각각 ❶ `__str__()`와 ❷ `__add__()`로 수정했을 뿐"
   ]
  },
  {
   "cell_type": "code",
   "execution_count": 9,
   "metadata": {},
   "outputs": [
    {
     "name": "stdout",
     "output_type": "stream",
     "text": [
      "19만큼 맛있고, 351만큼 든든한 음식\n"
     ]
    }
   ],
   "source": [
    "# 이중 밑줄 메서드가 자동으로 호출된다\n",
    "\n",
    "print(Food(7, 85) + Food(12, 266))"
   ]
  },
  {
   "cell_type": "markdown",
   "metadata": {},
   "source": [
    " - 이 외에도 다양한 이중 밑줄 메서드가 있다\n",
    " \n",
    " - 아래의 표에서 몇 가지만 소개한다\n",
    " \n",
    " - 이것을 모두 외울 필요는 없고 가끔 연산자에 따른 동작을 정의해야할 때 찾아보면 충분하다"
   ]
  },
  {
   "cell_type": "code",
   "execution_count": 10,
   "metadata": {},
   "outputs": [
    {
     "data": {
      "image/png": "[encoded data removed]",
      "text/plain": [
       "<IPython.core.display.Image object>"
      ]
     },
     "execution_count": 10,
     "metadata": {},
     "output_type": "execute_result"
    }
   ],
   "source": [
    "from IPython.display import Image\n",
    "Image(\"img/10_img.png\")"
   ]
  },
  {
   "cell_type": "markdown",
   "metadata": {},
   "source": [
    " - 그동안 사용해 온 정수 연산, 문자열 연산 등은 실제로는 int 클래스와 str 클래스에 정의된 이중 밑줄 메서드를 호출한 것과 같다\n",
    " \n",
    " - 이 점은 이중 밑줄 메서드를 직접 호출하여 확인할 수 있다"
   ]
  },
  {
   "cell_type": "code",
   "execution_count": 11,
   "metadata": {},
   "outputs": [
    {
     "data": {
      "text/plain": [
       "False"
      ]
     },
     "execution_count": 11,
     "metadata": {},
     "output_type": "execute_result"
    }
   ],
   "source": [
    "number = 10\n",
    "number.__eq__(20)   # number == 20"
   ]
  },
  {
   "cell_type": "code",
   "execution_count": 12,
   "metadata": {},
   "outputs": [
    {
     "data": {
      "text/plain": [
       "50"
      ]
     },
     "execution_count": 12,
     "metadata": {},
     "output_type": "execute_result"
    }
   ],
   "source": [
    "number.__mul__(5)   # number * 5"
   ]
  },
  {
   "cell_type": "code",
   "execution_count": 13,
   "metadata": {},
   "outputs": [
    {
     "data": {
      "text/plain": [
       "True"
      ]
     },
     "execution_count": 13,
     "metadata": {},
     "output_type": "execute_result"
    }
   ],
   "source": [
    "number.__lt__(20)   # number < 20"
   ]
  },
  {
   "cell_type": "code",
   "execution_count": 14,
   "metadata": {},
   "outputs": [
    {
     "data": {
      "text/plain": [
       "10.0"
      ]
     },
     "execution_count": 14,
     "metadata": {},
     "output_type": "execute_result"
    }
   ],
   "source": [
    "number.__float__()  # float(number)"
   ]
  },
  {
   "cell_type": "code",
   "execution_count": 15,
   "metadata": {},
   "outputs": [
    {
     "data": {
      "text/plain": [
       "'10'"
      ]
     },
     "execution_count": 15,
     "metadata": {},
     "output_type": "execute_result"
    }
   ],
   "source": [
    "number.__str__()    # str(number)"
   ]
  },
  {
   "cell_type": "code",
   "execution_count": 16,
   "metadata": {},
   "outputs": [
    {
     "data": {
      "text/plain": [
       "True"
      ]
     },
     "execution_count": 16,
     "metadata": {},
     "output_type": "execute_result"
    }
   ],
   "source": [
    "number.__bool__()   # bool(number)"
   ]
  },
  {
   "cell_type": "markdown",
   "metadata": {},
   "source": [
    " - ==, + 등의 연산자와 abs(), int() 함수 등이 실제로 하는 일은 객체의 이중 밑줄 메서드를 호출하는 것이다\n",
    " \n",
    " - 새로 정의하는 클래스도 기본 데이터 유형처럼 다양한 연산자를 지원할 수 있다\n",
    "\n",
    " - 연산자에 연결하는 메서드는 연산자에 따른 동작을 직관적으로 유추할 수 있는 것이어야 한다\n",
    " \n",
    " - 가령, `__add__()` 메서드가 두 인스턴스의 크기를 비교하는 연산을 수행하도록 정의한다면 몹시 혼란스러울 것이다\n",
    " \n",
    " - 클래스의 인터페이스는 클래스를 처음 사용하는 사람도 오해 없이 쉽게 사용할 수 있도록 설계하는 것이 좋다"
   ]
  },
  {
   "cell_type": "markdown",
   "metadata": {},
   "source": [
    "###### 연습문제 8-13 음식 클래스에 연산 추가하기\n",
    "\n",
    " - 위의 음식 클래스 Food에 크기 비교 연산을 추가해 보아라\n",
    " \n",
    " - 맛이 좋으면 더 큰 것이고, 같은 맛이면 칼로리가 더 적은 것이 더 큰 것이다\n",
    " \n",
    " - 맛과 칼로리가 모두 같으면 두 음식의 크기가 같다\n",
    " \n",
    " - 클래스를 정의한 후 그 아래에 다음 코드를 입력하여 잘 실행되는지 확인해 보아라\n",
    "\n",
    "```\n",
    "strawberry = Food(9, 32)\n",
    "potato = Food(6, 66)\n",
    "sweet_potato = Food(12, 131)\n",
    "pizza = Food(13, 266)\n",
    "print('딸기 < 감자: ', strawberry < potato)\n",
    "print('감자 + 감자 < 고구마: ', potato + potato < sweet_potato)\n",
    "print('피자 >= 딸기: ', pizza >= strawberry)\n",
    "print('피자 >= 피자: ', pizza >= strawberry)\n",
    "print('감자 + 딸기 < 피자: ', potato + strawberry < pizza)\n",
    "print('딸기 == 딸기: ', potato == potato)\n",
    "```\n",
    "\n",
    " - 이 프로그램의 올바른 실행 결과는 다음과 같다.\n",
    "\n",
    "```\n",
    "딸기 < 감자:  False\n",
    "감자 + 감자 < 고구마:  True\n",
    "피자 >= 딸기:  True\n",
    "피자 >= 피자:  True\n",
    "감자 + 딸기 < 피자:  False\n",
    "딸기 == 딸기:  True\n",
    "```"
   ]
  },
  {
   "cell_type": "code",
   "execution_count": null,
   "metadata": {},
   "outputs": [],
   "source": []
  }
 ],
 "metadata": {
  "kernelspec": {
   "display_name": "Python 3",
   "language": "python",
   "name": "python3"
  },
  "language_info": {
   "codemirror_mode": {
    "name": "ipython",
    "version": 3
   },
   "file_extension": ".py",
   "mimetype": "text/x-python",
   "name": "python",
   "nbconvert_exporter": "python",
   "pygments_lexer": "ipython3",
   "version": "3.6.8"
  }
 },
 "nbformat": 4,
 "nbformat_minor": 2
}
