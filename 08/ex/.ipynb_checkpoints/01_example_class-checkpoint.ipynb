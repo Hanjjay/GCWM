{
 "cells": [
  {
   "cell_type": "markdown",
   "metadata": {},
   "source": [
    "###### 연습문제 8-1 체스말, 바둑돌 정의하기\n",
    "\n",
    " - 다음은 사전을 이용해 체스말과 바둑돌 데이터를 나타낸 예\n",
    " \n",
    " - 체스 말 데이터에서 ‘x’, ‘y’가 위치, ‘color’가 색, ‘role’이 역할을 나타낸다. \n",
    " \n",
    " - 바둑돌 데이터에서는 ‘x’, ‘y’가 돌의 위치, ‘order’가 몇 수째에 둔 것인지를 뜻하는 수, ‘color’가 돌의 색을 나타낸다.\n",
    " \n",
    "\n",
    "```\n",
    "# 이곳에 체스말 데이터 유형 정의하기\n",
    "체스말1 = {'x': 'A', 'y': '8', 'color': 'black', 'role': '룩'}\n",
    "체스말2 = {'x': 'E', 'y': '1', 'color': 'white', 'role': '킹'}\n",
    "\n",
    "# 이곳에 바둑돌 데이터 유형 정의하기\n",
    "바둑돌1 = {'x': 8, 'y': 14, 'order': 83, 'color': '흑'}\n",
    "바둑돌2 = {'x': 12, 'y': 3, 'order': 84, 'color': '백'}\n",
    "```\n",
    "\n",
    " - 이 프로그램을 수정하여 체스말 데이터 유형과 바둑돌 데이터 유형을 주석으로 정의해 보아라."
   ]
  },
  {
   "cell_type": "code",
   "execution_count": 1,
   "metadata": {},
   "outputs": [],
   "source": [
    "# 유형: '체스말'은 다음 키를 갖는 사전이다.\n",
    "#     * 'x': x축의 위치 (좌표 / string)\n",
    "#     * 'y': y축의 위치 (좌표 / string)\n",
    "#     * 'color': 팀의 색깔 (white, black이 있음 / string)\n",
    "#     * 'role': 이 말의 역할 (킹, 퀸, 나이트, 비숍, 룩, 폰이 있음 / string)\n",
    "체스말1 = {'x': 'A', 'y': '8', 'color': 'black', 'role': '룩'}\n",
    "체스말2 = {'x': 'E', 'y': '1', 'color': 'white', 'role': '킹'}\n",
    "\n",
    "# 유형: '바둑돌'은 다음 키를 갖는 사전이다.\n",
    "#     * 'x': x축의 위치 (좌표 / int)\n",
    "#     * 'y': y축의 위치 (좌표 / int)\n",
    "#     * 'order': 말이 놓인 순서 (1~361 / int)\n",
    "#     * 'color': 팀의 색깔 (백, 흑이 있음 / string)\n",
    "바둑돌1 = {'x': 8, 'y': 14, 'order': 83, 'color': '흑'}\n",
    "바둑돌2 = {'x': 12, 'y': 3, 'order': 84, 'color': '백'}"
   ]
  },
  {
   "cell_type": "markdown",
   "metadata": {},
   "source": [
    "###### 연습문제 8-2 체스말, 바둑돌 출력하기\n",
    "\n",
    " - 연습문제 8-1에서 정의한 체스말 또는 바둑돌 데이터를 전달받아 화면에 출력하는 함수 print_piece()를 정의해라. \n",
    " \n",
    " - 이 함수는 전달받은 데이터가 체스말인지, 바둑돌인지를 식별해 각각 다른 방식으로 출력해야 한다. \n",
    " \n",
    " - 다음은 이 함수를 실행한 예다.\n",
    "\n",
    "```\n",
    ">>> print_piece(체스말1)\n",
    "black 룩이 A8 위치에 놓여 있어요.\n",
    "\n",
    ">>> print_piece(바둑돌2)\n",
    "제 84 수: 백이 (12, 3) 위치에 두었습니다.\n",
    "```"
   ]
  },
  {
   "cell_type": "code",
   "execution_count": 13,
   "metadata": {},
   "outputs": [
    {
     "data": {
      "text/plain": [
       "'A'"
      ]
     },
     "execution_count": 13,
     "metadata": {},
     "output_type": "execute_result"
    }
   ],
   "source": [
    "체스말1.get('x')"
   ]
  },
  {
   "cell_type": "code",
   "execution_count": 15,
   "metadata": {},
   "outputs": [
    {
     "name": "stdout",
     "output_type": "stream",
     "text": [
      "black 룩이 A8 위치에 놓여 있어요.\n",
      "제 84 수: 백이 (12, 3) 위치에 두었습니다.\n"
     ]
    }
   ],
   "source": [
    "def print_piece(data_dict):\n",
    "    if 'role' in data_dict: # 체스\n",
    "        print(data_dict.get('color') + ' '\n",
    "              + data_dict.get('role') + '이 '\n",
    "              + data_dict.get('x') + data_dict.get('y')\n",
    "              + ' 위치에 놓여 있어요.')\n",
    "    elif 'order' in data_dict: # 바둑\n",
    "        print('제 ' + str(data_dict.get('order')) + ' 수: '\n",
    "              + data_dict.get('color') + '이 '\n",
    "              + '(' + str(data_dict.get('x')) + ', ' + str(data_dict.get('y')) + ')'\n",
    "              + ' 위치에 두었습니다.')\n",
    "\n",
    "print_piece(체스말1)\n",
    "print_piece(바둑돌2)"
   ]
  },
  {
   "cell_type": "markdown",
   "metadata": {},
   "source": [
    "###### 연습문제 8-3 객체 비교하기\n",
    "\n",
    " - 다음 질문에 답해 보라.\n",
    "\n",
    "```\n",
    " 1. 1 == 1.0을 평가하면 참이다. 그렇다면 1과 1.0은 동일한 객체인가?\n",
    "\n",
    " 2. type(a) == type(b)가 참이면, a == b도 참인가?\n",
    "\n",
    " 3. id(a) == id(b)가 참이면, type(a) == type(b)와 a == b도 참인가?\n",
    "\n",
    " 4. type(a) == type(b)와 a == b가 참이면, id(a) == id(b)도 참인가?\n",
    "```"
   ]
  },
  {
   "cell_type": "code",
   "execution_count": 16,
   "metadata": {},
   "outputs": [
    {
     "name": "stdout",
     "output_type": "stream",
     "text": [
      "True\n",
      "1823834224\n",
      "2773438809816\n"
     ]
    }
   ],
   "source": [
    "# 1. false\n",
    "print(1 == 1.0)\n",
    "print(id(1))\n",
    "print(id(1.0))"
   ]
  },
  {
   "cell_type": "code",
   "execution_count": 17,
   "metadata": {},
   "outputs": [
    {
     "name": "stdout",
     "output_type": "stream",
     "text": [
      "True\n",
      "False\n"
     ]
    }
   ],
   "source": [
    "# 2. false\n",
    "a = 1\n",
    "b = 2\n",
    "print(type(a) == type(b))\n",
    "print(a == b)"
   ]
  },
  {
   "cell_type": "code",
   "execution_count": 18,
   "metadata": {},
   "outputs": [
    {
     "name": "stdout",
     "output_type": "stream",
     "text": [
      "True\n",
      "True\n",
      "True\n"
     ]
    }
   ],
   "source": [
    "# 3. true\n",
    "a = 1\n",
    "b = a\n",
    "print(id(a) == id(b))\n",
    "print(type(a) == type(b))\n",
    "print(a == b)"
   ]
  },
  {
   "cell_type": "code",
   "execution_count": 22,
   "metadata": {},
   "outputs": [
    {
     "name": "stdout",
     "output_type": "stream",
     "text": [
      "True\n",
      "True\n",
      "True\n"
     ]
    }
   ],
   "source": [
    "# 4. true\n",
    "a = 1\n",
    "b = 1\n",
    "print(type(a) == type(b))\n",
    "print(a == b)\n",
    "print(id(a) == id(b))"
   ]
  },
  {
   "cell_type": "markdown",
   "metadata": {},
   "source": [
    "###### 연습문제 8-4 인스턴스 생성하기\n",
    "\n",
    " - 인스턴스화를 수행해, 다음 인스턴스를 생성해 보아라.\n",
    "\n",
    "```\n",
    "1. 원소가 없는 튜플(tuple)\n",
    "\n",
    "2. 원소가 없는 집합(set)\n",
    "\n",
    "3. 1 이상 10 미만의 자연수를 원소로 갖는 집합(set)\n",
    "\n",
    "4. 사용자로부터 '1789'라는 텍스트를 입력받아, 그것을 해석한 정수(int)\n",
    "\n",
    "5. 1789라는 정수를 나타내는 문자열(str)\n",
    "\n",
    "6. 원소가 없는 리스트([])가 참인지 거짓인지 평가한 불리언(bool)\n",
    "```"
   ]
  },
  {
   "cell_type": "code",
   "execution_count": null,
   "metadata": {},
   "outputs": [],
   "source": [
    "# 생략"
   ]
  },
  {
   "cell_type": "markdown",
   "metadata": {},
   "source": [
    "###### 연습문제 8-5 좌표 클래스 정의하기\n",
    "\n",
    " - 좌표를 나타내는 클래스 Coordinate를 정의해 보아라. \n",
    " \n",
    " - 이 클래스의 속성으로 x와 y를 정의하라. 두 속성의 값은 0으로 정의해 두면 된다."
   ]
  },
  {
   "cell_type": "code",
   "execution_count": 2,
   "metadata": {},
   "outputs": [],
   "source": [
    "class Coordinate:\n",
    "    \"\"\"\n",
    "    2차원의 좌표값을 나타앨 수 있는 클래스\n",
    "    x = x의 값\n",
    "    y = y의 값\n",
    "    \"\"\"\n",
    "    x = 0\n",
    "    y = 0"
   ]
  },
  {
   "cell_type": "markdown",
   "metadata": {},
   "source": [
    "###### 연습문제 8-6 좌표 클래스의 인스턴스 생성하기\n",
    "\n",
    " - 연습문제 8-5에서 정의한 Coordinate() 클래스의 인스턴스를 두 개 생성하고, 인스턴스의 속성을 다음과 같이 각각 부여해라.\n",
    "\n",
    "```\n",
    "첫번째 인스턴스(point_1): x 축의 좌표는 -1, y 축의 좌표는 2\n",
    "두번째 인스턴스(point_2): x 축의 좌표는 2, y 축의 좌표는 3\n",
    "```"
   ]
  },
  {
   "cell_type": "code",
   "execution_count": 3,
   "metadata": {},
   "outputs": [],
   "source": [
    "point_1 = Coordinate()\n",
    "point_1.x = -1\n",
    "point_1.y = +2\n",
    "\n",
    "point_2 = Coordinate()\n",
    "point_2.x = +2\n",
    "point_2.y = +3"
   ]
  },
  {
   "cell_type": "markdown",
   "metadata": {},
   "source": [
    "###### 연습문제 8-7 좌표 인스턴스의 거리 계산하기\n",
    "\n",
    " - 연습문제 8-6에서 생성한 두 인스턴스의 거리를 계산하려 한다. 코드 8-2에서 정의한 두 점 사이의 거리를 계산하는 함수를 다음과 같이 정의하였다.\n",
    "\n",
    "```\n",
    "import math\n",
    "\n",
    "def square(x):\n",
    "    \"\"\"전달받은 수의 제곱을 반환한다.\"\"\"\n",
    "    return x * x\n",
    "\n",
    "def distance(point_a, point_b):\n",
    "    \"\"\"두 점 사이의 거리를 계산해 반환한다. (피타고라스의 정리)\"\"\"\n",
    "    return math.sqrt(square(point_a['x'] - point_b['x']) +\n",
    "                     square(point_a['y'] - point_b['y']))\n",
    "                     \n",
    "```\n",
    "\n",
    " - 이 함수를 참고해, Coordinate 인스턴스 두 개를 전달받아 거리를 계산하는 함수 distance()를 정의해라.\n",
    "\n",
    " - 다음은 이 함수를 이용해 인스턴스의 거리를 계산한 예다.\n",
    "\n",
    "```\n",
    " distance(point_1, point_2)   # 3.1622776601683795 반환\n",
    "```\n",
    " - 힌트: 매핑(사전)에 저장된 값을 읽는 방법과 클래스에서 속성을 읽는 방법은 문법이 서로 다르다."
   ]
  },
  {
   "cell_type": "code",
   "execution_count": 4,
   "metadata": {},
   "outputs": [
    {
     "name": "stdout",
     "output_type": "stream",
     "text": [
      "3.1622776601683795\n"
     ]
    }
   ],
   "source": [
    "import math\n",
    "\n",
    "def square(x):\n",
    "    \"\"\"전달받은 수의 제곱을 반환한다.\"\"\"\n",
    "    return x * x\n",
    "\n",
    "def distance(point_a, point_b):\n",
    "    \"\"\"두 점 사이의 거리를 계산해 반환한다. (피타고라스의 정리)\"\"\"\n",
    "    return math.sqrt(square(point_a.x - point_b.x) +\n",
    "                     square(point_a.y - point_b.y))\n",
    "\n",
    "print(distance(point_1, point_2))"
   ]
  },
  {
   "cell_type": "markdown",
   "metadata": {},
   "source": [
    "###### 연습문제 8-8 좌표 인스턴스의 거리를 메서드로 계산하기\n",
    "\n",
    " - 연습문제 8-5에서 정의한 Coordinate 클래스를 새로 정의하여, 두 좌표 사이의 거리를 계산해 반환하는 메서드 distance()를 정의해라. \n",
    " \n",
    " - 이 메서드는 메서드 호출의 기준이 된 인스턴스와 거리를 계산할 다른 인스턴스를 각각 매개변수로 전달받아 거리를 계산한다.\n",
    "\n",
    " - 클래스를 재정의한 뒤에는 연습문제 8-6의 인스턴스를 새로 생성하여 다음과 같이 메서드를 테스트해 보아라.\n",
    "\n",
    "```\n",
    ">>> point_1.distance(point_2)\n",
    "3.1622776601683795\n",
    "```\n",
    "\n",
    " - 힌트: self 매개변수를 빼먹지 않도록 주의하자."
   ]
  },
  {
   "cell_type": "code",
   "execution_count": 8,
   "metadata": {},
   "outputs": [
    {
     "name": "stdout",
     "output_type": "stream",
     "text": [
      "3.1622776601683795\n"
     ]
    }
   ],
   "source": [
    "import math\n",
    "\n",
    "class Coordinate:\n",
    "    \"\"\"\n",
    "    2차원의 좌표값을 나타앨 수 있는 클래스\n",
    "    x = x의 값\n",
    "    y = y의 값\n",
    "    \"\"\"\n",
    "    x = 0\n",
    "    y = 0\n",
    "    \n",
    "    def square(s):\n",
    "        \"\"\"전달받은 수의 제곱을 반환한다.\"\"\"\n",
    "        return s * s\n",
    "\n",
    "    def distance(self, point):\n",
    "        \"\"\"두 점 사이의 거리를 계산해 반환한다. (피타고라스의 정리)\"\"\"\n",
    "        return math.sqrt(square(self.x - point.x) +\n",
    "                         square(self.y - point.y))\n",
    "    \n",
    "point_1 = Coordinate()\n",
    "point_1.x = -1\n",
    "point_1.y = +2\n",
    "\n",
    "point_2 = Coordinate()\n",
    "point_2.x = +2\n",
    "point_2.y = +3\n",
    "\n",
    "print(point_1.distance(point_2))"
   ]
  },
  {
   "cell_type": "markdown",
   "metadata": {},
   "source": [
    "###### 연습문제 8-9 좌표 인스턴스 초기화하기\n",
    "\n",
    " - 연습문제 8-8에서 정의한 Coordinate 클래스를 새로 정의하여, 인스턴스화 과정에서 속성 x와 속성 y를 초기화할 수 있도록 해보자\n",
    " \n",
    " - 인스턴스화할 때 초기값을 전달되지 않은 경우에는 기본값 0으로 초기화되도록하자\n",
    "\n",
    " - 다음은 클래스를 새로 정의한 후에 인스턴스화를 수행하고 테스트하는 예다\n",
    "\n",
    "```\n",
    ">>> point_1 = Coordinate(-1, 2)\n",
    ">>> point_2 = Coordinate(y=3, x=2)\n",
    ">>> point_3 = Coordinate()\n",
    ">>> point_4 = Coordinate(10)\n",
    ">>> point_1.x, point_1.y\n",
    "(-1, 2)\n",
    "\n",
    ">>> point_2.x, point_2.y\n",
    "(2, 3)\n",
    "\n",
    ">>> point_3.x, point_3.y\n",
    "(0, 0)\n",
    "\n",
    ">>> point_4.x, point_4.y\n",
    "(10, 0)\n",
    "\n",
    ">>> point_1.distance(point_2)\n",
    "3.1622776601683795\n",
    "```"
   ]
  },
  {
   "cell_type": "code",
   "execution_count": 11,
   "metadata": {},
   "outputs": [],
   "source": [
    "import math\n",
    "\n",
    "class Coordinate:\n",
    "    \"\"\"\n",
    "    2차원의 좌표값을 나타앨 수 있는 클래스\n",
    "    x = x의 값\n",
    "    y = y의 값\n",
    "    \"\"\"\n",
    "    x = 0\n",
    "    y = 0\n",
    "    \n",
    "    def __init__(self, x = 0, y = 0):\n",
    "        \"\"\"x와 y 값을 초기화한다.\"\"\"\n",
    "        self.x = x\n",
    "        self.y = y\n",
    "    \n",
    "    def square(s):\n",
    "        \"\"\"전달받은 수의 제곱을 반환한다.\"\"\"\n",
    "        return s * s\n",
    "\n",
    "    def distance(self, point):\n",
    "        \"\"\"두 점 사이의 거리를 계산해 반환한다. (피타고라스의 정리)\"\"\"\n",
    "        return math.sqrt(square(self.x - point.x) +\n",
    "                         square(self.y - point.y))"
   ]
  },
  {
   "cell_type": "code",
   "execution_count": 12,
   "metadata": {},
   "outputs": [],
   "source": [
    "point_1 = Coordinate(-1, 2)\n",
    "point_2 = Coordinate(y=3, x=2)\n",
    "point_3 = Coordinate()\n",
    "point_4 = Coordinate(10)"
   ]
  },
  {
   "cell_type": "code",
   "execution_count": 13,
   "metadata": {},
   "outputs": [
    {
     "data": {
      "text/plain": [
       "(-1, 2)"
      ]
     },
     "execution_count": 13,
     "metadata": {},
     "output_type": "execute_result"
    }
   ],
   "source": [
    "point_1.x, point_1.y"
   ]
  },
  {
   "cell_type": "code",
   "execution_count": 14,
   "metadata": {},
   "outputs": [
    {
     "data": {
      "text/plain": [
       "(2, 3)"
      ]
     },
     "execution_count": 14,
     "metadata": {},
     "output_type": "execute_result"
    }
   ],
   "source": [
    "point_2.x, point_2.y"
   ]
  },
  {
   "cell_type": "code",
   "execution_count": 15,
   "metadata": {},
   "outputs": [
    {
     "data": {
      "text/plain": [
       "(0, 0)"
      ]
     },
     "execution_count": 15,
     "metadata": {},
     "output_type": "execute_result"
    }
   ],
   "source": [
    "point_3.x, point_3.y"
   ]
  },
  {
   "cell_type": "code",
   "execution_count": 16,
   "metadata": {},
   "outputs": [
    {
     "data": {
      "text/plain": [
       "(10, 0)"
      ]
     },
     "execution_count": 16,
     "metadata": {},
     "output_type": "execute_result"
    }
   ],
   "source": [
    "point_4.x, point_4.y"
   ]
  },
  {
   "cell_type": "code",
   "execution_count": 17,
   "metadata": {},
   "outputs": [
    {
     "data": {
      "text/plain": [
       "3.1622776601683795"
      ]
     },
     "execution_count": 17,
     "metadata": {},
     "output_type": "execute_result"
    }
   ],
   "source": [
    "point_1.distance(point_2)"
   ]
  },
  {
   "cell_type": "markdown",
   "metadata": {},
   "source": [
    "###### 연습문제 8-10 도형 클래스 정의하기 1\n",
    "\n",
    " - 다음 요구사항을 참고해 도형(Shape), 삼각형(Triangle), 사각형(Rectangle)을 나타내는 클래스를 정의하여라.\n",
    "\n",
    " > 1. Shape: 도형을 나타내는 클래스\n",
    " >\n",
    " >     - 클래스 메서드 describe(): “이 도형은 3 개의 변을 갖고 있습니다.”와 같이 이 도형의 특징을 화면에 출력한다. 변의 개수는 self.sides 속성을 읽어 구한다.\n",
    " >\n",
    " > 2. Triangle: 삼각형을 나타내는 클래스\n",
    " >\n",
    " >     - Shape 클래스를 상속\n",
    " >\n",
    " >     - 클래스 속성 sides: 변의 개수를 나타내는 속성. 3으로 고정\n",
    " >\n",
    " > 3. Rectangle: 사각형을 나타내는 클래스\n",
    " >\n",
    " >     - Shape 클래스를 상속\n",
    " >\n",
    " >     - 클래스 속성 sides: 변의 개수를 나타내는 속성. 4로 고정\n",
    "\n",
    " - 클래스를 정의한 후에는 프로그램 하단에 도형의 인스턴스를 만들어 특징을 출력하는 다음 코드를 삽입하여라.\n",
    "\n",
    "```\n",
    "shapes = [\n",
    "    Triangle(),\n",
    "    Rectangle(),\n",
    "]\n",
    "for shape in shapes:\n",
    "    shape.describe()\n",
    "```    \n",
    "\n",
    " - 프로그램을 실행한 결과는 다음과 같아야 한다.\n",
    "\n",
    "```\n",
    "이 도형은 3 개의 변을 갖고 있습니다.\n",
    "이 도형은 4 개의 변을 갖고 있습니다.\n",
    "```"
   ]
  },
  {
   "cell_type": "code",
   "execution_count": 20,
   "metadata": {},
   "outputs": [],
   "source": [
    "class Shape:\n",
    "    \"\"\"\n",
    "    도형을 나타내는 클래스\n",
    "    \"\"\"\n",
    "    sides = 0\n",
    "    \n",
    "    def describe(self):\n",
    "        print('이 도형은 ' + str(self.sides) + '개의 변을 갖고 있습니다.')\n",
    "        \n",
    "class Triangle(Shape):\n",
    "    \"\"\"\n",
    "    삼각형을 나타내는 클래스\n",
    "    \"\"\"\n",
    "    sides = 3\n",
    "\n",
    "class Rectangle(Shape):\n",
    "    \"\"\"\n",
    "    사각형을 나타내는 클래스\n",
    "    \"\"\"\n",
    "    sides = 4"
   ]
  },
  {
   "cell_type": "code",
   "execution_count": 21,
   "metadata": {},
   "outputs": [
    {
     "name": "stdout",
     "output_type": "stream",
     "text": [
      "이 도형은 3개의 변을 갖고 있습니다.\n",
      "이 도형은 4개의 변을 갖고 있습니다.\n"
     ]
    }
   ],
   "source": [
    "shapes = [\n",
    "    Triangle(),\n",
    "    Rectangle(),\n",
    "]\n",
    "for shape in shapes:\n",
    "    shape.describe()"
   ]
  },
  {
   "cell_type": "markdown",
   "metadata": {},
   "source": [
    "###### 연습문제 8-11 도형 클래스 정의하기 2\n",
    "\n",
    " - 아래 사항을 참고해 연습문제 8-10 정의한 도형 클래스에 도형의 각 좌표 속성과 둘레 계산 메서드를 추가하여라\n",
    " \n",
    " - 이 때, Coordinate 클래스는 이전에 정의한 것을 활용하도록 한다.\n",
    "\n",
    " > 1. Triangle 클래스에 추가할 속성\n",
    " >\n",
    " >     - 클래스 메서드 circumference(): 이 삼각형의 둘레를 계산하여 반환한다.\n",
    " >\n",
    " >     - 인스턴스 속성 point_a: 꼭지점 A의 좌표. (Coordinate 유형)\n",
    " >\n",
    " >     - 인스턴스 속성 point_b: 꼭지점 B의 좌표. (Coordinate 유형)\n",
    " >\n",
    " >     - 인스턴스 속성 point_c: 꼭지점 C의 좌표. (Coordinate 유형)\n",
    " >\n",
    " > 2. Rectangle 클래스에 추가할 속성\n",
    " >\n",
    " >     - 클래스 메서드 circumference(): 이 사각형의 둘레를 계산하여 반환한다.\n",
    " >\n",
    " >     - 인스턴스 속성 point_a: 꼭지점 A의 좌표. (Coordinate 유형)\n",
    " >\n",
    " >     - 인스턴스 속성 point_b: 꼭지점 B의 좌표. (Coordinate 유형)\n",
    " >\n",
    " >     - 인스턴스 속성 point_c: 꼭지점 C의 좌표. (Coordinate 유형)\n",
    " >\n",
    " >     - 인스턴스 속성 point_d: 꼭지점 D의 좌표. (Coordinate 유형)\n",
    "\n",
    " - 클래스를 정의한 후에는 프로그램 하단에 도형의 인스턴스를 만들어 특징과 둘레를 출력하는 다음 코드를 삽입하여라.\n",
    "\n",
    "```\n",
    "shapes = [\n",
    "    Triangle(Coordinate(0, 0), Coordinate(3, 0), Coordinate(3, 4)),\n",
    "    Rectangle(Coordinate(2, 2), Coordinate(6, 2), Coordinate(6, 6), Coordinate(2, 6)),\n",
    "]\n",
    "for shape in shapes:\n",
    "    shape.describe()\n",
    "    print('둘레:', shape.circumference())\n",
    "```\n",
    "\n",
    " - 프로그램을 실행한 결과는 다음과 같아야 한다.\n",
    "\n",
    "```\n",
    "이 도형은 3 개의 변을 갖고 있습니다.\n",
    "둘레: 12.0\n",
    "이 도형은 4 개의 변을 갖고 있습니다.\n",
    "둘레: 16.0\n",
    "```\n",
    "\n",
    " - 힌트: Coordinate 클래스의 거리 계산 메서드 distance()를 활용해라.\n",
    "\n",
    " - 힌트: 인스턴스의 속성은 초기화 메서드 __init__()를 이용해 정의해라."
   ]
  },
  {
   "cell_type": "code",
   "execution_count": 26,
   "metadata": {},
   "outputs": [],
   "source": [
    "class Triangle(Shape):\n",
    "    \"\"\"\n",
    "    삼각형을 나타내는 클래스\n",
    "    \"\"\"\n",
    "    sides = 3\n",
    "    point_a = Coordinate()\n",
    "    point_b = Coordinate()\n",
    "    point_c = Coordinate()\n",
    "    \n",
    "    def __init__(self, point_a, point_b, point_c):\n",
    "        \"\"\"point_a, point_b, point_c 값을 초기화한다.\"\"\"\n",
    "        self.point_a = point_a\n",
    "        self.point_b = point_b\n",
    "        self.point_c = point_c\n",
    "    \n",
    "    def circumference(self): \n",
    "        \"\"\"\n",
    "        이 삼각형의 둘레를 계산하여 반환한다.\n",
    "        \"\"\"\n",
    "        cir = (self.point_a.distance(self.point_b)\n",
    "             + self.point_b.distance(self.point_c)\n",
    "             + self.point_c.distance(self.point_a))\n",
    "        \n",
    "        return cir\n",
    "\n",
    "class Rectangle(Shape):\n",
    "    \"\"\"\n",
    "    사각형을 나타내는 클래스\n",
    "    \"\"\"\n",
    "    sides = 4\n",
    "    point_a = Coordinate()\n",
    "    point_b = Coordinate()\n",
    "    point_c = Coordinate()\n",
    "    point_d = Coordinate()\n",
    "    \n",
    "    \n",
    "    def __init__(self, point_a, point_b, point_c, point_d):\n",
    "        \"\"\"point_a, point_b, point_c, point_d 값을 초기화한다.\"\"\"\n",
    "        self.point_a = point_a\n",
    "        self.point_b = point_b\n",
    "        self.point_c = point_c\n",
    "        self.point_d = point_d\n",
    "    \n",
    "    def circumference(self): \n",
    "        \"\"\"\n",
    "        이 사각형의 둘레를 계산하여 반환한다.\n",
    "        \"\"\"\n",
    "        cir = (self.point_a.distance(self.point_b)\n",
    "             + self.point_b.distance(self.point_c)\n",
    "             + self.point_c.distance(self.point_d)\n",
    "             + self.point_d.distance(self.point_a))\n",
    "        \n",
    "        return cir"
   ]
  },
  {
   "cell_type": "code",
   "execution_count": 27,
   "metadata": {},
   "outputs": [
    {
     "name": "stdout",
     "output_type": "stream",
     "text": [
      "이 도형은 3개의 변을 갖고 있습니다.\n",
      "둘레: 12.0\n",
      "이 도형은 4개의 변을 갖고 있습니다.\n",
      "둘레: 16.0\n"
     ]
    }
   ],
   "source": [
    "shapes = [\n",
    "    Triangle(Coordinate(0, 0), Coordinate(3, 0), Coordinate(3, 4)),\n",
    "    Rectangle(Coordinate(2, 2), Coordinate(6, 2), Coordinate(6, 6), Coordinate(2, 6)),\n",
    "]\n",
    "for shape in shapes:\n",
    "    shape.describe()\n",
    "    print('둘레:', shape.circumference())"
   ]
  },
  {
   "cell_type": "markdown",
   "metadata": {},
   "source": [
    "###### 연습문제 8-12 주사위\n",
    "\n",
    " - 다음 조건에 맞춰 주사위를 나타내는 클래스(Dice)를 정의하여라\n",
    "\n",
    " > 1. 각 주사위 객체마다 면의 수가 다르다. 예를 들어 육면체 주사위는 6개의 면을 갖는다. 이 ‘면의 수’를 비공개 인스턴스 속성으로 정의하라.\n",
    " >\n",
    " > 2. 각 주사위 객체는 항상 어느 한 면이 위를 향하고 있으며, 그 면은 1과 ‘면의 수’ 사이의 자연수다. 이 ‘나온 면’을 비공개 인스턴스 속성으로 정의하라.\n",
    " >\n",
    " > 3. 주사위 인스턴스는 Dice(sides)와 같이 하나의 인자를 전달하여 생성한다. 인스턴스화 과정에서 ‘면의 수’는 sides가 전달받는 값으로, ‘나온 면’은 자신이 가질 수 있는 임의의 값으로 초기화된다.\n",
    " >\n",
    " > 4. 인스턴스의 현재 ‘나온 면’을 반환하는 top() 메서드를 정의하라.\n",
    " >\n",
    " > 5. 인스턴스의 ‘나온 면’을 새 임의의 값으로 설정하고 반환하는 role() 메서드를 정의하라.\n",
    " >\n",
    " > 6. n 이상 m 이하의 임의의 수는 random.randint(n, m) 함수를 사용하여 구한다. 예를 들어 1 이상 8 이하의 임의의 수는 random.randint(1, 8)이다. (이 함수를 사용하려면 먼저 random 모듈을 임포트해야 한다.)\n",
    " \n",
    " - 클래스를 정의한 후 프로그램 하단에 다음 코드를 삽입해 테스트해 보아라.\n",
    "\n",
    "```\n",
    "dice_4 = Dice(4)      # 사면체 주사위 생성\n",
    "print('사면체 주사위 테스트 ----')\n",
    "print('처음 나온 면:', dice_4.top())\n",
    "print('다시 굴리기:', dice_4.roll())\n",
    "print('다시 굴리기:', dice_4.roll())\n",
    "\n",
    "dice_100 = Dice(100)  # 백면체 주사위 생성\n",
    "print('백면체 주사위 테스트 ----')\n",
    "print('처음 나온 면:', dice_100.top())\n",
    "print('다시 굴리기:', dice_100.roll())\n",
    "print('다시 굴리기:', dice_100.roll())\n",
    "```\n",
    "\n",
    " - 이 프로그램을 실행한 결과는 다음과 같다. 임의의 값이 사용되므로 나온 수는 차이가 있을 것이다.\n",
    "\n",
    "```\n",
    "사면체 주사위 테스트 ----\n",
    "나온 면: 2\n",
    "다시 굴리기: 2\n",
    "다시 굴리기: 1\n",
    "백면체 주사위 테스트 ----\n",
    "나온 면: 42\n",
    "다시 굴리기: 54\n",
    "다시 굴리기: 79\n",
    "```"
   ]
  },
  {
   "cell_type": "code",
   "execution_count": 28,
   "metadata": {},
   "outputs": [],
   "source": [
    "import random\n",
    "\n",
    "class Dice:\n",
    "    \"\"\"\n",
    "    n개의 면을 가진 주사위를 나타내는 클래스\n",
    "    \"\"\"\n",
    "    _num_of_sides = 0\n",
    "    _top_of_side = 0\n",
    "    \n",
    "    def __init__(self, _num_of_side):\n",
    "        \"\"\"인스턴스를 초기화한다.\"\"\"\n",
    "        self._num_of_sides = _num_of_side\n",
    "        self._top_of_side = random.randint(1, self._num_of_sides)\n",
    "        \n",
    "    def top(self):\n",
    "        \"\"\"주사위의 면\"\"\"\n",
    "        return self._top_of_side\n",
    "        \n",
    "    def roll(self):\n",
    "        \"\"\"주사위 굴리기\"\"\"\n",
    "        self._top_of_side = random.randint(1, self._num_of_sides)\n",
    "        return self._top_of_side"
   ]
  },
  {
   "cell_type": "code",
   "execution_count": 29,
   "metadata": {},
   "outputs": [
    {
     "name": "stdout",
     "output_type": "stream",
     "text": [
      "사면체 주사위 테스트 ----\n",
      "처음 나온 면: 3\n",
      "다시 굴리기: 4\n",
      "다시 굴리기: 4\n"
     ]
    }
   ],
   "source": [
    "dice_4 = Dice(4)      # 사면체 주사위 생성\n",
    "print('사면체 주사위 테스트 ----')\n",
    "print('처음 나온 면:', dice_4.top())\n",
    "print('다시 굴리기:', dice_4.roll())\n",
    "print('다시 굴리기:', dice_4.roll())"
   ]
  },
  {
   "cell_type": "code",
   "execution_count": 30,
   "metadata": {},
   "outputs": [
    {
     "name": "stdout",
     "output_type": "stream",
     "text": [
      "백면체 주사위 테스트 ----\n",
      "처음 나온 면: 82\n",
      "다시 굴리기: 50\n",
      "다시 굴리기: 37\n"
     ]
    }
   ],
   "source": [
    "dice_100 = Dice(100)  # 백면체 주사위 생성\n",
    "print('백면체 주사위 테스트 ----')\n",
    "print('처음 나온 면:', dice_100.top())\n",
    "print('다시 굴리기:', dice_100.roll())\n",
    "print('다시 굴리기:', dice_100.roll())"
   ]
  },
  {
   "cell_type": "markdown",
   "metadata": {},
   "source": [
    "###### 연습문제 8-13 음식 클래스에 연산 추가하기\n",
    "\n",
    " - 위의 음식 클래스 Food에 크기 비교 연산을 추가해 보아라\n",
    " \n",
    " - 맛이 좋으면 더 큰 것이고, 같은 맛이면 칼로리가 더 적은 것이 더 큰 것이다\n",
    " \n",
    " - 맛과 칼로리가 모두 같으면 두 음식의 크기가 같다\n",
    " \n",
    " - 클래스를 정의한 후 그 아래에 다음 코드를 입력하여 잘 실행되는지 확인해 보아라\n",
    "\n",
    "```\n",
    "strawberry = Food(9, 32)\n",
    "potato = Food(6, 66)\n",
    "sweet_potato = Food(12, 131)\n",
    "pizza = Food(13, 266)\n",
    "print('딸기 < 감자: ', strawberry < potato)\n",
    "print('감자 + 감자 < 고구마: ', potato + potato < sweet_potato)\n",
    "print('피자 >= 딸기: ', pizza >= strawberry)\n",
    "print('피자 >= 피자: ', pizza >= strawberry)\n",
    "print('감자 + 딸기 < 피자: ', potato + strawberry < pizza)\n",
    "print('딸기 == 딸기: ', potato == potato)\n",
    "```\n",
    "\n",
    " - 이 프로그램의 올바른 실행 결과는 다음과 같다.\n",
    "\n",
    "```\n",
    "딸기 < 감자:  False\n",
    "감자 + 감자 < 고구마:  True\n",
    "피자 >= 딸기:  True\n",
    "피자 >= 피자:  True\n",
    "감자 + 딸기 < 피자:  False\n",
    "딸기 == 딸기:  True\n",
    "```"
   ]
  },
  {
   "cell_type": "code",
   "execution_count": 31,
   "metadata": {},
   "outputs": [],
   "source": [
    "class Food:\n",
    "    \"\"\"음식을 나타내는 클래스\"\"\"\n",
    "    def __init__(self, taste, calorie):\n",
    "        \"\"\"인스턴스를 초기화한다.\"\"\"\n",
    "        self._taste = taste      # 맛\n",
    "        self._calorie = calorie  # 칼로리\n",
    "    \n",
    "    def __str__(self):           # ❶ to_string() 메서드의 이름을 __str__()로 수정했다\n",
    "        \"\"\"이 음식을 표현하는 문자열을 반환한다.\"\"\"\n",
    "        return str(self._taste) + '만큼 맛있고, ' + str(self._calorie) + '만큼 든든한 음식'\n",
    "    \n",
    "    def __add__(self, other):    # ❷ add() 메서드의 이름을 __add__()로 수정했다\n",
    "        \"\"\"이 음식(self)과 다른 음식(other)을 더한\n",
    "        새 음식을 반환한다.\"\"\"\n",
    "        taste = self._taste + other._taste           # 두 음식의 맛을 더한다\n",
    "        calorie = self._calorie + other._calorie     # 두 음식의 칼로리를 더한다\n",
    "        return Food(taste, calorie)                  # 새 음식 인스턴스를 생성하여 반환한다\n",
    "    \n",
    "    def __It__(self, other):\n",
    "        \"\"\"미만 계산\"\"\"\n",
    "        result = False\n",
    "        \n",
    "        if(self._taste > other._taste):\n",
    "            result = False\n",
    "        elif(self._taste < other._taste):\n",
    "            result = True\n",
    "        else:\n",
    "            if(self._calorie > other._calorie):\n",
    "                result = False\n",
    "            elif(self._calorie < other._calorie):\n",
    "                result = True\n",
    "            else:\n",
    "                result = False\n",
    "        \n",
    "        return result\n",
    "        \n",
    "    def __gt__(self, other):\n",
    "        \"\"\"초과 계산\"\"\"\n",
    "        result = False\n",
    "        \n",
    "        if(self._taste > other._taste):\n",
    "            result = True\n",
    "        elif(self._taste < other._taste):\n",
    "            result = False\n",
    "        else:\n",
    "            if(self._calorie > other._calorie):\n",
    "                result = True\n",
    "            elif(self._calorie < other._calorie):\n",
    "                result = False\n",
    "            else:\n",
    "                result = False\n",
    "        \n",
    "        return result\n",
    "        \n",
    "    def __le__(self, other):\n",
    "        \"\"\"이하 계산\"\"\"\n",
    "        result = False\n",
    "        \n",
    "        if(self._taste > other._taste):\n",
    "            result = False\n",
    "        elif(self._taste < other._taste):\n",
    "            result = True\n",
    "        else:\n",
    "            if(self._calorie > other._calorie):\n",
    "                result = False\n",
    "            elif(self._calorie < other._calorie):\n",
    "                result = True\n",
    "            else:\n",
    "                result = True\n",
    "        \n",
    "        return result\n",
    "            \n",
    "    def __ge__(self, other):\n",
    "        \"\"\"이상 계산\"\"\"\n",
    "        result = False\n",
    "        \n",
    "        if(self._taste > other._taste):\n",
    "            result = True\n",
    "        elif(self._taste < other._taste):\n",
    "            result = False\n",
    "        else:\n",
    "            if(self._calorie > other._calorie):\n",
    "                result = True\n",
    "            elif(self._calorie < other._calorie):\n",
    "                result = False\n",
    "            else:\n",
    "                result = True\n",
    "        \n",
    "        return result\n",
    "            \n",
    "    def __eq__(self, other):\n",
    "        \"\"\"동등 계산\"\"\"\n",
    "        result = False\n",
    "        \n",
    "        if(self._taste != other._taste):\n",
    "            result = False\n",
    "        else:\n",
    "            if(self._calorie == other._calorie):\n",
    "                result = True\n",
    "            else:\n",
    "                result = False\n",
    "        \n",
    "        return result\n",
    "            \n",
    "    def __ne__(self, other):\n",
    "        \"\"\"부등 계산\"\"\"\n",
    "        result = False\n",
    "        \n",
    "        if(self._taste != other._taste):\n",
    "            result = True\n",
    "        else:\n",
    "            if(self._calorie == other._calorie):\n",
    "                result = False\n",
    "            else:\n",
    "                result = True\n",
    "        \n",
    "        return result"
   ]
  },
  {
   "cell_type": "code",
   "execution_count": 33,
   "metadata": {},
   "outputs": [
    {
     "name": "stdout",
     "output_type": "stream",
     "text": [
      "딸기 < 감자:  False\n",
      "감자 + 감자 < 고구마:  False\n",
      "피자 >= 딸기:  True\n",
      "피자 >= 피자:  True\n",
      "감자 + 딸기 < 피자:  False\n",
      "딸기 == 딸기:  True\n"
     ]
    },
    {
     "data": {
      "text/plain": [
       "'\\n딸기 < 감자:  False\\n감자 + 감자 < 고구마:  True\\n피자 >= 딸기:  True\\n피자 >= 피자:  True\\n감자 + 딸기 < 피자:  False\\n딸기 == 딸기:  True\\n'"
      ]
     },
     "execution_count": 33,
     "metadata": {},
     "output_type": "execute_result"
    }
   ],
   "source": [
    "strawberry = Food(9, 32)\n",
    "potato = Food(6, 66)\n",
    "sweet_potato = Food(12, 131)\n",
    "pizza = Food(13, 266)\n",
    "\n",
    "print('딸기 < 감자: ', strawberry < potato)\n",
    "print('감자 + 감자 < 고구마: ', (potato + potato) < sweet_potato)\n",
    "print('피자 >= 딸기: ', pizza >= strawberry)\n",
    "print('피자 >= 피자: ', pizza >= pizza)\n",
    "print('감자 + 딸기 < 피자: ', potato + strawberry < pizza)\n",
    "print('딸기 == 딸기: ', strawberry == strawberry)\n",
    "\n",
    "\"\"\"\n",
    "딸기 < 감자:  False\n",
    "감자 + 감자 < 고구마:  False\n",
    "피자 >= 딸기:  True\n",
    "피자 >= 피자:  True\n",
    "감자 + 딸기 < 피자:  False\n",
    "딸기 == 딸기:  True\n",
    "\"\"\""
   ]
  },
  {
   "cell_type": "code",
   "execution_count": null,
   "metadata": {},
   "outputs": [],
   "source": []
  }
 ],
 "metadata": {
  "kernelspec": {
   "display_name": "Python 3",
   "language": "python",
   "name": "python3"
  },
  "language_info": {
   "codemirror_mode": {
    "name": "ipython",
    "version": 3
   },
   "file_extension": ".py",
   "mimetype": "text/x-python",
   "name": "python",
   "nbconvert_exporter": "python",
   "pygments_lexer": "ipython3",
   "version": "3.6.8"
  }
 },
 "nbformat": 4,
 "nbformat_minor": 2
}
