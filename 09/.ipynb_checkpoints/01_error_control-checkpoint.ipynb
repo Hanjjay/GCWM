{
 "cells": [
  {
   "cell_type": "markdown",
   "metadata": {},
   "source": [
    "### error!\n",
    "\n",
    " - 프로그래밍 실습 도중 오류가 발생하면 학습에 방해가 될 뿐더러 어떻게 해결해야 할지, 원인은 무엇인지 몰라 당황스럽다\n",
    " \n",
    " - 책에서 시키는대로 똑바로 했는데… 왜 오류가 발생하는 걸까...?\n",
    " \n",
    " - 오류는 발생 시점과 원인에 따라서 **구문 오류(syntax error), 실행시간 오류(runtime error), 논리 오류(logical error)** 로 분류할 수 있다"
   ]
  },
  {
   "cell_type": "code",
   "execution_count": 1,
   "metadata": {},
   "outputs": [
    {
     "data": {
      "image/png": "[encoded data removed]",
      "text/plain": [
       "<IPython.core.display.Image object>"
      ]
     },
     "execution_count": 1,
     "metadata": {},
     "output_type": "execute_result"
    }
   ],
   "source": [
    "from IPython.display import Image\n",
    "Image(\"img/01_img.png\")"
   ]
  },
  {
   "cell_type": "markdown",
   "metadata": {},
   "source": [
    "### 구문 오류\n",
    "\n",
    " >“끓다육수 냄비넣다”\n",
    "\n",
    " - 레시피에 이런 지시가 있다면 따를 수 있을까? 이 표현은 우리말 문법에 맞지 않아 무슨 의미인지 정확히 알 수 없다\n",
    "\n",
    " - 컴파일러와 인터프리터는 프로그래밍 언어로 기술된 프로그램을 실행 가능한 기계어 코드로 번역한다\n",
    " \n",
    " - 그런데 번역하려는 프로그램에 문법에 맞지 않는 표현이 있다면? 번역을 할 수 없으므로 번역 과정이 중단된다\n",
    " \n",
    " - 기계어 코드가 만들어지지 않으므로 당연히 실행도 할 수 없다. 구문 오류는 이 때 일어나는 오류다\n",
    "\n",
    " - (+ 1 2 3 4)라는 표현을 파이썬에 대화식 셸에 입력하면 ‘SyntaxError: invalid syntax’라는 메시지와 함께 구문 오류가 발생한다\n",
    " \n",
    " - 파이썬 문법에 맞지 않고, 따라서 번역할 수 없기 때문이다"
   ]
  },
  {
   "cell_type": "code",
   "execution_count": 2,
   "metadata": {},
   "outputs": [
    {
     "ename": "SyntaxError",
     "evalue": "invalid syntax (<ipython-input-2-86ace03c71a3>, line 3)",
     "output_type": "error",
     "traceback": [
      "\u001b[1;36m  File \u001b[1;32m\"<ipython-input-2-86ace03c71a3>\"\u001b[1;36m, line \u001b[1;32m3\u001b[0m\n\u001b[1;33m    (+ 1 2 3 4)\u001b[0m\n\u001b[1;37m         ^\u001b[0m\n\u001b[1;31mSyntaxError\u001b[0m\u001b[1;31m:\u001b[0m invalid syntax\n"
     ]
    }
   ],
   "source": [
    "# 구문 오류의 예\n",
    "\n",
    "(+ 1 2 3 4)"
   ]
  },
  {
   "cell_type": "markdown",
   "metadata": {},
   "source": [
    " - 비록 프로그래밍 언어를 새로 배울 때는 구문 오류를 많이 경험하겠지만, 문법에 익숙해진 뒤에는 구문 오류는 별로 까다로운 문제가 아니다\n",
    " \n",
    " - 코드가 문법에 맞는지를 컴퓨터 프로그램으로 검사할 수 있기 때문이다\n",
    " \n",
    " - 예를 들어, 파이참 IDE를 사용해 코드를 작성하면 구문 오류를 실시간으로 확인할 수 있다"
   ]
  },
  {
   "cell_type": "markdown",
   "metadata": {},
   "source": [
    "### 항상 발생하는 실행시간 오류\n",
    "\n",
    " > “소주잔에 육수 1 리터를 담고 센 불로 끓인다.”\n",
    "\n",
    " - 어이쿠! 육수가 넘쳐버렸네! 소주잔에 육수 1리터를 넣을 수는 없다\n",
    " \n",
    " - 문법적으로 올바르고 기계어로 번역도 가능하지만, 정작 그것을 실행하는 것은 불가능한 명령이 있다\n",
    " \n",
    " - 이런 명령은 자신이 실행되어야 할 시점에 오류를 일으키며 프로그램의 동작을 중지시킨다\n",
    " \n",
    " - 이 오류를 실행시간 오류라고 한다.\n",
    "\n",
    " - 1 / 0은 문법에 맞는 파이썬 코드다 --> 하지만 이 코드를 실행하면 오류가 발생한다 --> 0은 나누는 수가 될 수 없기 때문이다\n",
    " \n",
    " - '붕어빵' - '붕어'도 뺄셈 연산자 좌우에 피연산자를 입력한 문법적으로는 올바른 표현이다\n",
    " \n",
    " - 하지만 문자열 유형은 뺄셈 연산을 지원하지 않으므로 오류가 발생한다"
   ]
  },
  {
   "cell_type": "code",
   "execution_count": 3,
   "metadata": {},
   "outputs": [
    {
     "ename": "ZeroDivisionError",
     "evalue": "division by zero",
     "output_type": "error",
     "traceback": [
      "\u001b[1;31m---------------------------------------------------------------------------\u001b[0m",
      "\u001b[1;31mZeroDivisionError\u001b[0m                         Traceback (most recent call last)",
      "\u001b[1;32m<ipython-input-3-76b3605ec4a6>\u001b[0m in \u001b[0;36m<module>\u001b[1;34m\u001b[0m\n\u001b[0;32m      1\u001b[0m \u001b[1;31m# 실행시간 오류의 예\u001b[0m\u001b[1;33m\u001b[0m\u001b[1;33m\u001b[0m\u001b[1;33m\u001b[0m\u001b[0m\n\u001b[0;32m      2\u001b[0m \u001b[1;33m\u001b[0m\u001b[0m\n\u001b[1;32m----> 3\u001b[1;33m \u001b[1;36m1\u001b[0m \u001b[1;33m/\u001b[0m \u001b[1;36m0\u001b[0m              \u001b[1;31m# 실행시간 오류: 0은 나누는 수가 될 수 없다\u001b[0m\u001b[1;33m\u001b[0m\u001b[1;33m\u001b[0m\u001b[0m\n\u001b[0m",
      "\u001b[1;31mZeroDivisionError\u001b[0m: division by zero"
     ]
    }
   ],
   "source": [
    "# 실행시간 오류의 예\n",
    "\n",
    "1 / 0              # 실행시간 오류: 0은 나누는 수가 될 수 없다"
   ]
  },
  {
   "cell_type": "code",
   "execution_count": 4,
   "metadata": {},
   "outputs": [
    {
     "ename": "TypeError",
     "evalue": "unsupported operand type(s) for -: 'str' and 'str'",
     "output_type": "error",
     "traceback": [
      "\u001b[1;31m---------------------------------------------------------------------------\u001b[0m",
      "\u001b[1;31mTypeError\u001b[0m                                 Traceback (most recent call last)",
      "\u001b[1;32m<ipython-input-4-425f24ec039d>\u001b[0m in \u001b[0;36m<module>\u001b[1;34m\u001b[0m\n\u001b[1;32m----> 1\u001b[1;33m \u001b[1;34m'붕어빵'\u001b[0m \u001b[1;33m-\u001b[0m \u001b[1;34m'붕어'\u001b[0m  \u001b[1;31m# 실행시간 오류: 문자열 뺄셈은 지원되지 않는다\u001b[0m\u001b[1;33m\u001b[0m\u001b[1;33m\u001b[0m\u001b[0m\n\u001b[0m",
      "\u001b[1;31mTypeError\u001b[0m: unsupported operand type(s) for -: 'str' and 'str'"
     ]
    }
   ],
   "source": [
    "'붕어빵' - '붕어'  # 실행시간 오류: 문자열 뺄셈은 지원되지 않는다"
   ]
  },
  {
   "cell_type": "markdown",
   "metadata": {},
   "source": [
    " - 어떤 조건에서 실행하더라도 항상 발생한다\n",
    " \n",
    " - 항상 발생하는 실행시간 오류는 프로그래밍 언어에 익숙해지면 해결하기가 쉽다\n",
    " \n",
    " - 파이참 IDE 같은 개발 도구의 경고를 받을 수도 있다\n",
    " \n",
    " - 따라서 구문 오류와 마찬가지로 대개는 까다로운 문제거리가 되지 않는다\n",
    "\n",
    " - 하지만 실행시간 오류 중에는 ‘상황에 따라 발생하는 것’도 있다 ... 이런 오류는 ‘상황에 따라’ 큰 문제가 될 수 있다"
   ]
  },
  {
   "cell_type": "markdown",
   "metadata": {},
   "source": [
    "### 상황에 따라 발생하는 실행시간 오류\n",
    "\n",
    " > “냄비에 육수 1리터를 담고 센 불로 끓인다.” … 그런데 냄비가 없다면?\n",
    "\n",
    " - 이 레시피는 문제가 없어 보인다. 그러나 냄비가 없다면 조리를 할 수 있을까?\n",
    "\n",
    " - 문법적으로 올바르고, 실행도 잘 되는 코드가 특정 상황에서만 실행시간 오류를 일으키는 경우가 있다\n",
    " \n",
    " - 예를 들어, 1 / int(input())은 많은 경우 정상 동작하겠지만, 사용자가 0을 입력하거나 숫자가 아닌 문자를 입력할 경우에는 오류를 일으킨다"
   ]
  },
  {
   "cell_type": "code",
   "execution_count": 5,
   "metadata": {},
   "outputs": [
    {
     "name": "stdout",
     "output_type": "stream",
     "text": [
      "2\n"
     ]
    },
    {
     "data": {
      "text/plain": [
       "0.5"
      ]
     },
     "execution_count": 5,
     "metadata": {},
     "output_type": "execute_result"
    }
   ],
   "source": [
    "# 상황에 따라 발생하는 실행시간 오류의 예\n",
    "\n",
    "1 / int(input())   # 정상 동작: 사용자가 2를 입력"
   ]
  },
  {
   "cell_type": "code",
   "execution_count": 6,
   "metadata": {},
   "outputs": [
    {
     "name": "stdout",
     "output_type": "stream",
     "text": [
      "0\n"
     ]
    },
    {
     "ename": "ZeroDivisionError",
     "evalue": "division by zero",
     "output_type": "error",
     "traceback": [
      "\u001b[1;31m---------------------------------------------------------------------------\u001b[0m",
      "\u001b[1;31mZeroDivisionError\u001b[0m                         Traceback (most recent call last)",
      "\u001b[1;32m<ipython-input-6-935d3caaa76d>\u001b[0m in \u001b[0;36m<module>\u001b[1;34m\u001b[0m\n\u001b[1;32m----> 1\u001b[1;33m \u001b[1;36m1\u001b[0m \u001b[1;33m/\u001b[0m \u001b[0mint\u001b[0m\u001b[1;33m(\u001b[0m\u001b[0minput\u001b[0m\u001b[1;33m(\u001b[0m\u001b[1;33m)\u001b[0m\u001b[1;33m)\u001b[0m   \u001b[1;31m# 실행시간 오류: 사용자가 0을 입력\u001b[0m\u001b[1;33m\u001b[0m\u001b[1;33m\u001b[0m\u001b[0m\n\u001b[0m",
      "\u001b[1;31mZeroDivisionError\u001b[0m: division by zero"
     ]
    }
   ],
   "source": [
    "1 / int(input())   # 실행시간 오류: 사용자가 0을 입력"
   ]
  },
  {
   "cell_type": "code",
   "execution_count": 7,
   "metadata": {},
   "outputs": [
    {
     "name": "stdout",
     "output_type": "stream",
     "text": [
      "여덟\n"
     ]
    },
    {
     "ename": "ValueError",
     "evalue": "invalid literal for int() with base 10: '여덟'",
     "output_type": "error",
     "traceback": [
      "\u001b[1;31m---------------------------------------------------------------------------\u001b[0m",
      "\u001b[1;31mValueError\u001b[0m                                Traceback (most recent call last)",
      "\u001b[1;32m<ipython-input-7-55a41c6dabb4>\u001b[0m in \u001b[0;36m<module>\u001b[1;34m\u001b[0m\n\u001b[1;32m----> 1\u001b[1;33m \u001b[1;36m1\u001b[0m \u001b[1;33m/\u001b[0m \u001b[0mint\u001b[0m\u001b[1;33m(\u001b[0m\u001b[0minput\u001b[0m\u001b[1;33m(\u001b[0m\u001b[1;33m)\u001b[0m\u001b[1;33m)\u001b[0m   \u001b[1;31m# 실행시간 오류: 사용자가 숫자 외 문자를 입력\u001b[0m\u001b[1;33m\u001b[0m\u001b[1;33m\u001b[0m\u001b[0m\n\u001b[0m",
      "\u001b[1;31mValueError\u001b[0m: invalid literal for int() with base 10: '여덟'"
     ]
    }
   ],
   "source": [
    "1 / int(input())   # 실행시간 오류: 사용자가 숫자 외 문자를 입력"
   ]
  },
  {
   "cell_type": "markdown",
   "metadata": {},
   "source": [
    " - 이처럼 같은 코드라도 입력된 데이터에 따라 정상 동작하기도 하고 실행시간 오류를 일으키기도 한다\n",
    " \n",
    " - 따라서 함수나 프로그램이 외부 환경에서 데이터를 입력받을 때는 어떤 데이터를 허용할 것인지 잘 판단하고 확인해야 한다\n",
    "\n",
    " - 실행시간 오류는 입력 데이터뿐 아니라 프로그램의 실행 환경에 의해서도 발생할 수 있다\n",
    " \n",
    " - 몇 가지 예를 아래에서 확인할 수 있다\n",
    "\n",
    " > 1. 인터넷으로 데이터를 교환하는 코드: 사용자의 컴퓨터가 인터넷에 연결되어 있지 않다\n",
    " >\n",
    " > 2. 인쇄기에 글자를 출력하는 코드: 인쇄 재료가 다 떨어졌다\n",
    " >\n",
    " > 3. 큰 파일을 메모리로 읽어들이는 코드: 시스템에 가용 메모리가 부족하다\n",
    " >\n",
    " > 4. 이런 문제는 실행 환경이 적절하다면 일어나지 않는 문제이기도 하다. 프로그래머가 운이 좋아서(사실은 운이 나빠서) 프로그램이 잘 실행되는 환경에서만 프로그램을 테스트했다면 이런 오류를 미리 방지하기가 어려울 것이다\n",
    "\n",
    " - 상황에 따라 발생하는 실행시간 오류는 비교적 대응하기가 어렵다\n",
    " \n",
    " - 오류가 일어날 것을 미리 예상하거나 다양한 경우를 테스트하여 오류를 발견해야 한다\n",
    " \n",
    " - 일단 오류가 일어날 조건을 예견했다면, 이에 맞는 대응책을 프로그램에 제시해야 한다"
   ]
  },
  {
   "cell_type": "markdown",
   "metadata": {},
   "source": [
    "### 논리 오류\n",
    "\n",
    " > “냄비에 육수 1리터를 담고 일주일 동안 상온에 방치한다.”\n",
    "\n",
    " - 이 레시피를 따르는 데는 문제가 없으나, 결과물로는 상한 육수밖에 얻지 못할 것이다\n",
    "\n",
    " - 구문 오류나 실행시간 오류가 발생하지 않았지만, 프로그램을 실행한 결과가 올바르지 않게 되는 것을 논리 오류라고 한다\n",
    " \n",
    " - 단지 잘 실행되는 것만으로는 완성된 프로그램이라고 할 수 없다\n",
    " \n",
    " - 프로그램은 목표로 하는 결과를 산출해내야 한다\n",
    "\n",
    " - 논리 오류는 프로그램의 설계를 잘못하여 발생할 수도 있고, 연산자·수·변수 이름을 잘못 쓰는 등의 사소한 실수를 저질러서 발생할 수 있다\n",
    " \n",
    " - 입력받은 수가 홀수인지 검사하는 함수를 다음과 같이 잘못 작성했다고 해 보자"
   ]
  },
  {
   "cell_type": "code",
   "execution_count": 8,
   "metadata": {},
   "outputs": [],
   "source": [
    "# 논리 오류의 예\n",
    "\n",
    "def is_odd(n):\n",
    "    \"\"\"n이 홀수인지 검사한다.\"\"\"\n",
    "    return n / 2 != 0    # % 연산자를 / 연산자로 잘못 표기했다"
   ]
  },
  {
   "cell_type": "code",
   "execution_count": 9,
   "metadata": {},
   "outputs": [
    {
     "data": {
      "text/plain": [
       "False"
      ]
     },
     "execution_count": 9,
     "metadata": {},
     "output_type": "execute_result"
    }
   ],
   "source": [
    "is_odd(0)  # 0은 홀수가 아니다"
   ]
  },
  {
   "cell_type": "code",
   "execution_count": 10,
   "metadata": {},
   "outputs": [
    {
     "data": {
      "text/plain": [
       "True"
      ]
     },
     "execution_count": 10,
     "metadata": {},
     "output_type": "execute_result"
    }
   ],
   "source": [
    "is_odd(1)  # 1은 홀수다"
   ]
  },
  {
   "cell_type": "code",
   "execution_count": 11,
   "metadata": {},
   "outputs": [
    {
     "data": {
      "text/plain": [
       "True"
      ]
     },
     "execution_count": 11,
     "metadata": {},
     "output_type": "execute_result"
    }
   ],
   "source": [
    "is_odd(2)  # 2는 홀수가 아닌데...?"
   ]
  },
  {
   "cell_type": "markdown",
   "metadata": {},
   "source": [
    " - 위 코드에서 한 실수는 단순히 %를 /로 잘못 표기한 것 뿐이다\n",
    " \n",
    " - 이런 사소한 실수로도 쉽게 발견하기 힘든 논리 오류를 일으킬 수 있다\n",
    " \n",
    " - 심지어 이 함수로 0, 1을 검사했을 때는 올바른 결과가 나오기까지 한다\n",
    " \n",
    " - 0 외의 짝수를 검사해보기 전에는 함수가 잘못됐다는 사실조차 모를 수 있다\n",
    "\n",
    " - **논리 오류는 구문 오류나 실행시간 오류와 달리 실행이 방해받지 않기 때문에 미리 발견하기가 어렵다**\n",
    " \n",
    " - 복잡한 프로그램 속에 조용히 숨어있다가 결정적인 상황에서 큰 피해를 입힐 수 있기 때문에 다른 오류보다도 더 위험하다\n",
    "\n",
    " - 실수를 적게 유발하는 코딩 스타일을 익히고 작성한 함수가 다양한 입력에 대해 정상적인 결과를 내는지 테스트하는 것이 논리 오류를 방지하는 데 도움이 된다\n",
    " \n",
    " - 장기적으로는 논리적 사고력과 프로그램 설계 능력을 갖춰야 한다\n",
    " \n",
    " - 논리적 사고력은 컴퓨터 과학과 이산수학을 학습하면 향상될 수 있다\n",
    " \n",
    " - 프로그램 설계 능력은 프로그래밍 경험과 함께 성장한다"
   ]
  },
  {
   "cell_type": "markdown",
   "metadata": {},
   "source": [
    " 1. 구문 오류: 프로그램의 문법이 잘못되어 기계어로 번역할 수 없을 때 발생하는 오류\n",
    "\n",
    " 2. 실행시간 오류: 프로그램의 문법에는 문제가 없으나, 명령을 실행할 수 없어 발생하는 오류 --> 특정 상황에서만 발생하는 실행시간 오류는 발견하고 대응하기가 어렵다\n",
    "\n",
    " 3. 논리 오류: 프로그램의 실행에는 문제가 없으나, 프로그램이 올바르게 동작하지 않는 오류. 발견하기가 어렵고 위험하다"
   ]
  },
  {
   "cell_type": "code",
   "execution_count": null,
   "metadata": {},
   "outputs": [],
   "source": []
  }
 ],
 "metadata": {
  "kernelspec": {
   "display_name": "Python 3",
   "language": "python",
   "name": "python3"
  },
  "language_info": {
   "codemirror_mode": {
    "name": "ipython",
    "version": 3
   },
   "file_extension": ".py",
   "mimetype": "text/x-python",
   "name": "python",
   "nbconvert_exporter": "python",
   "pygments_lexer": "ipython3",
   "version": "3.6.8"
  }
 },
 "nbformat": 4,
 "nbformat_minor": 2
}
