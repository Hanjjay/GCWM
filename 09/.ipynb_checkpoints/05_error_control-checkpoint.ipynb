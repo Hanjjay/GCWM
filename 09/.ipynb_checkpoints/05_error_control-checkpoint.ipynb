{
 "cells": [
  {
   "cell_type": "markdown",
   "metadata": {},
   "source": [
    "## 뒷정리\n",
    "\n",
    " - 운영 체제는 프로그램이 필요로 하는 자원을 충분히 제공하려고 노력하지만, 자원은 한정되어 있다\n",
    " \n",
    " - 프로세서, 메모리, 저장 매체(입출력 전송과 저장 공간) 등의 시스템 자원은 여러 프로그램이 공유하기 때문에 하나의 프로그램이 독점해서는 안 된다\n",
    "\n",
    " - 프로세서 자원은 운영 체제가 관리해주기 때문에 신경쓰지 않아도 된다\n",
    " \n",
    " - 메모리 자원도 파이썬 인터프리터가 필요한 만큼 빌렸다가 반납하는 일을 대신해 준다\n",
    " \n",
    " - 하지만 그 외의 장치(저장 매체의 파일, 네트워크 포트 등)를 다룰 때는 필요한 주의가 필요하다\n",
    " \n",
    " - 즉, 사용한 후에 뒷정리를 해야 한다\n",
    "\n",
    " - 뒷정리가 깔끔해야 좋다는 것은 누구나 알지만, 까먹기 쉽다는 것이 문제다"
   ]
  },
  {
   "cell_type": "markdown",
   "metadata": {},
   "source": [
    "### 파일 열고 닫기\n",
    "\n",
    " - 파일은 뒷정리가 필요한 대표적인 시스템 자원이다\n",
    " \n",
    " - 파일은 읽거나 쓰기 전, 먼저 열어야 하고, 사용을 마친 후에는 닫아야 한다\n",
    " \n",
    " - 파일을 여는 것은 자원을 요청하는 것이고, 파일을 닫는 것은 뒷정리에 해당된다\n",
    " \n",
    " - 파일을 열고 닫는 것 자체는 쉽다. open() 함수로 파일을 열어 파일 객체를 얻고, 파일 객체의 close() 메서드를 호출해 파일을 닫으면 된다\n",
    "\n",
    " - 다음은 텍스트 파일을 열고, 파일에서 숫자를 읽어 합계를 구해 출력하고, 파일을 닫는 프로그램이다."
   ]
  },
  {
   "cell_type": "code",
   "execution_count": 5,
   "metadata": {},
   "outputs": [
    {
     "name": "stdout",
     "output_type": "stream",
     "text": [
      "28\n"
     ]
    }
   ],
   "source": [
    "# 파일을 열고, 사용하고, 닫는 프로그램\n",
    "\n",
    "total = 0                 # 합계를 저장할 변수\n",
    "file = open('data/years.txt')  # 파일 열기\n",
    "for line in file:         # 파일의 숫자를 한 행씩 합한다\n",
    "    total += int(line)\n",
    "print(total)              # 결과 출력\n",
    "file.close()              # 파일 닫기"
   ]
  },
  {
   "cell_type": "markdown",
   "metadata": {},
   "source": [
    "### try 문에서 뒷정리하기\n",
    "\n",
    " - 파일을 열고 닫는 게 뭐 그리 어려울까? 닫는 것을 잊어버리지만 않으면 되는 것 아닌가?\n",
    "\n",
    " - 하지만 생각보다 그 간단한 것을 놓치기가 쉽다\n",
    " \n",
    " - 특히, 예외가 발생할 때가 그렇다\n",
    " \n",
    " - 아래의 코드는 읽어들이는 파일에 숫자가 아닌 텍스트가 있는 경우, int(line)을 평가할 때 ValueError 예외가 발생한다\n",
    " \n",
    " - 다음은 try 문을 이용해 이 예외를 처리한 것이다"
   ]
  },
  {
   "cell_type": "code",
   "execution_count": 6,
   "metadata": {},
   "outputs": [
    {
     "name": "stdout",
     "output_type": "stream",
     "text": [
      "28\n"
     ]
    }
   ],
   "source": [
    "# 예외를 처리했지만 문제가 생겼다\n",
    "\n",
    "try:\n",
    "    total = 0                 # 합계를 저장할 변수\n",
    "    file = open('data/years.txt')  # 파일 열기\n",
    "    for line in file:         # 파일의 숫자를 한 행씩 합한다\n",
    "        total += int(line)\n",
    "\n",
    "except ValueError:            # ValuError 예외 처리\n",
    "    print('숫자가 아닌 텍스트가 있네요!')\n",
    "\n",
    "else:                         # 예외가 발생하지 않은 경우\n",
    "    print(total)              # 결과 출력\n",
    "    file.close()              # 파일 닫기"
   ]
  },
  {
   "cell_type": "markdown",
   "metadata": {},
   "source": [
    " - try 문, except 절, else 절을 적절히 활용해 예외를 처리했다\n",
    " \n",
    " - 그렇다면 이제 이 프로그램에는 문제가 없을까? 아차, except 절에서 파일 닫는 것을 까먹었다! 이처럼 뒷정리는 자칫 잊어버리기가 쉽다\n",
    " \n",
    " - 처리할 예외의 종류가 많아지면 except 절도 많아질텐데, 그때마다 모든 except 절에 파일을 닫는 코드를 빠트리지 않고 추가할 수 있을까? \n",
    " \n",
    " - 파일을 닫는 동일한 코드가 여러 절에 중복될 텐데, 중복 코드를 하나로 통일할 방법은 없을까?"
   ]
  },
  {
   "cell_type": "markdown",
   "metadata": {},
   "source": [
    "#### finally 절\n",
    "\n",
    " - 어떤 작업을 마친 후 뒷정리하는 코드를 작성하기 위해, try 문은 finally 절을 지원한다\n",
    " \n",
    " - ‘finally’는 ‘마지막으로’라는 뜻이며, try 문은 마지막에 항상 finally 절의 코드를 실행한다\n",
    " \n",
    " - else 절은 예외가 발생하지 않았을 때만 실행되지만, finally 절은 예외 발생 여부와 관계없이 항상 마지막에 실행된다\n",
    " \n",
    " - finally 절은 else 절보다 아래인 맨 마지막 위치에 작성할 수 있다. try 문의 작성 양식에 finally 절을 추가해 다음과 같이 정리해두자.\n",
    "\n",
    "```\n",
    "try:\n",
    "    예외가 발생할 수 있는 코드 블록\n",
    "    ...\n",
    "\n",
    "except 예외종류 as 이름:\n",
    "    예외종류에 해당하는 예외가 발생했을 때 실행할 코드 블록\n",
    "    ...\n",
    "\n",
    "(필요에 따라 except 절을 추가로 작성)\n",
    "\n",
    "else:\n",
    "    예외가 발생하지 않은 경우 실행할 코드 블록\n",
    "\n",
    "finally:\n",
    "    항상 마지막으로 실행할 코드 블록\n",
    "```\n",
    "\n",
    " - 파일을 닫는 명령을 finally 절에만 작성해두면 언제든 파일이 닫힐 것이다"
   ]
  },
  {
   "cell_type": "code",
   "execution_count": 7,
   "metadata": {},
   "outputs": [
    {
     "name": "stdout",
     "output_type": "stream",
     "text": [
      "28\n"
     ]
    }
   ],
   "source": [
    "# finally 절로 파일 닫기\n",
    "\n",
    "try:\n",
    "    total = 0                 # 합계를 저장할 변수\n",
    "    file = open('data/years.txt')  # 파일 열기\n",
    "    for line in file:         # 파일의 숫자를 한 행씩 합한다\n",
    "        total += int(line)\n",
    "\n",
    "except ValueError:            # ValuError 예외 처리\n",
    "    print('숫자가 아닌 문자열이 있네요!')\n",
    "\n",
    "else:                         # 예외가 발생하지 않은 경우\n",
    "    print(total)              # 결과 출력\n",
    "\n",
    "finally:                      # (항상) 마지막으로\n",
    "    file.close()              # 파일 닫기"
   ]
  },
  {
   "cell_type": "markdown",
   "metadata": {},
   "source": [
    " - else 절과 except 절에서 파일을 닫는 코드를 삭제하고, finally 절에서만 파일을 닫도록 했다\n",
    " \n",
    " - 이제 나중에 except 절이 더 추가되더라도 실수로 파일을 닫지 않을 걱정은 하지 않아도 된다\n",
    " \n",
    " - try 절에서 시작한 작업은 finally 절에서 마무리한다는 것을 기억하자\n",
    "\n",
    " - try 문 안에서 뒷정리가 필요한 자원을 사용하는 경우, finally 절에서 뒷정리해야 한다"
   ]
  },
  {
   "cell_type": "markdown",
   "metadata": {},
   "source": [
    "### with 문으로 편하게 살자\n",
    "\n",
    " - 뒷정리를 할 때는 신경써야 할 요소가 많다\n",
    "\n",
    " - 함수 호출, if 문, for 문, while 문, try 문 등 프로그램의 흐름을 제어하는 코드 블록이 복잡하게 뒤엉킨 코드에서는 자원 반환을 빠트리기가 쉽다\n",
    " \n",
    " - 파이썬은 이를 방지하고 프로그래머를 편하게 해주기 위해 뒷정리를 자동으로 처리하는 with 문을 제공한다\n",
    "\n",
    " - with 문은 어떤 객체의 사용 준비 과정과 뒷정리 과정을 자동으로 실행하는 문법이다. 다음과 같은 간단한 양식으로 작성한다\n",
    "\n",
    "```\n",
    "with 객체 as 이름:\n",
    "    본문\n",
    "```\n",
    "\n",
    " - with 문에 작성한 객체는 지정한 이름으로 본문에서 사용할 수 있다\n",
    " \n",
    " - with 문은 본문의 내용이 실행되기 전에 객체의 준비 과정을 자동으로 수행하고, 본문의 실행이 끝난 후에 객체의 뒷정리도 자동으로 수행한다\n",
    " \n",
    " - 파일의 경우에는 with 문이 종료될 때 자동으로 파일의 close() 메서드를 실행한다"
   ]
  },
  {
   "cell_type": "code",
   "execution_count": 8,
   "metadata": {},
   "outputs": [
    {
     "name": "stdout",
     "output_type": "stream",
     "text": [
      "28\n"
     ]
    }
   ],
   "source": [
    "# with 문이 자동으로 파일을 닫아준다\n",
    "\n",
    "with open('data/years.txt') as file:   # 파일을 열고 본문을 실행\n",
    "    try:\n",
    "        total = 0                 # 합계를 저장할 변수\n",
    "        for line in file:         # 파일의 숫자를 한 행씩 합한다\n",
    "            total += int(line)\n",
    "    \n",
    "    except ValueError:            # ValueError 예외 처리\n",
    "        print('숫자가 아닌 문자열이 있네요!')\n",
    "    \n",
    "    else:                         # 예외가 발생하지 않은 경우\n",
    "        print(total)              # 결과 출력\n",
    "\n",
    "# with 문이 종료될 때, 파일은 저절로 닫힌다"
   ]
  },
  {
   "cell_type": "markdown",
   "metadata": {},
   "source": [
    " - with 문을 사용하면 finally 절과 파일을 닫는 명령은 불필요해진다\n",
    " \n",
    " - with 문은 예기치 않은 문제로 본문의 실행이 중단되는 경우에도 뒷정리 과정을 자동으로 실행해준다\n",
    " \n",
    " - 파일을 언제 닫아야 할지 고심하거나 실수할 일이 없다\n",
    " \n",
    " - 파일과 같이 뒷정리가 필요한 자원은 직접 관리하기보다는, with 문을 사용해 관리하는 것이 좋다"
   ]
  },
  {
   "cell_type": "markdown",
   "metadata": {},
   "source": [
    "#### with 문의 동작 원리\n",
    "\n",
    " - with 문은 객체의 종류에 관계없이 “알아서” 준비와 뒷정리를 해 준다\n",
    " \n",
    " - 그 비밀은 with 문이 객체에 정의된 **이중 밑줄 메서드**를 호출하는 것이다\n",
    " \n",
    " - with 문은 객체의 준비를 위해 객체의 `__enter__()` 메서드를 호출하고, 뒷정리를 위해 객체의 `__exit__()` 메서드를 호출한다\n",
    "\n",
    " - 두 메서드를 정의하여 with 문을 지원하는 클래스를 정의해 보자\n",
    " \n",
    "```\n",
    "with 문을 지원하는 클래스 정의하기\n",
    "\n",
    "# 주의: 실제로 네트워크 접속을 수행하는 예제가 아님\n",
    "class NetworkConnection:\n",
    "    \"\"\"네트워크 연결을 나타내는 클래스\"\"\"\n",
    "    \n",
    "    def __init__(self, url):\n",
    "        \"\"\"인스턴스를 초기화한다.\"\"\"\n",
    "        self.url = url\n",
    "        self.is_connected = False\n",
    "    \n",
    "    def connect(self):\n",
    "        \"\"\"네트워크에 연결한다.\"\"\"\n",
    "        print('네트워크에 연결합니다.')\n",
    "        self.is_connected = True\n",
    "    \n",
    "    def disconnect(self):\n",
    "        \"\"\"네트워크 연결을 중단한다.\"\"\"\n",
    "        print('네트워크 연결을 중단합니다.')\n",
    "        self.is_connected = False\n",
    "    \n",
    "    def read(self):\n",
    "        \"\"\"네트워크에서 데이터를 읽어들인다.\"\"\"\n",
    "        return '네트워크에서 읽어들인 데이터'\n",
    "    \n",
    "    def __enter__(self):\n",
    "        \"\"\"객체 사용을 준비한다.\"\"\"\n",
    "        self.connect()\n",
    "        return self\n",
    "    \n",
    "    def __exit__(self, exc_type, exc_value, traceback):\n",
    "        \"\"\"객체 사용을 마치고 뒷정리한다.\"\"\"\n",
    "        self.disconnect()\n",
    "\n",
    "# 네트워크에 연결하여 데이터를 읽은 후 연결을 종료한다\n",
    "with NetworkConnection('https://bakyeono.net') as connection:\n",
    "    print(connection.read())\n",
    "```\n",
    "\n",
    " - 실행 결과:\n",
    "\n",
    "```\n",
    "네트워크에 연결합니다.\n",
    "네트워크에서 읽어들인 데이터\n",
    "네트워크 연결을 중단합니다.\n",
    "```"
   ]
  },
  {
   "cell_type": "markdown",
   "metadata": {},
   "source": [
    " - 위 코드의 NetworkConnection 클래스는 실제로 네트워크에 접속하는 기능을 수행하지는 않지만, with 문을 통한 자원 관리가 어떤 식으로 이루어지는지 살펴보기에는 적당하다\n",
    " \n",
    " - `__enter__()` 메서드는 객체를 사용할 수 있도록 준비하여 with 문에 반환하고, `__exit__()` 메서드는 객체의 뒷정리를 수행한다\n",
    " \n",
    " - `__exit__()` 메서드의 여러 매개변수는 with 문 안에서 예외가 발생했을 때 처리하기 위한 것이다\n",
    "\n",
    " - 파이썬 용으로 제공되는 시스템 자원을 활용하는 라이브러리는 대부분 with 문을 지원한다\n",
    " \n",
    " - 파일이나 뒷정리가 필요한 자원을 사용할 때는 with 문을 사용하는 것을 당연하게 받아들이고, 간혹 with 문을 쓸 수 없을 때는 try 문에서 finally 절을 사용해 항상 뒷정리가 이루어질 수 있도록 하자\n",
    "\n",
    "\n",
    " - with 문을 이용하면 뒷정리가 자동으로 된다.\n",
    "\n",
    " - 오류는 프로그래밍을 할 때 수없이 마주하게 되는 상황이다\n",
    " \n",
    " - 오류를 두려워하지 말고 재미난 퍼즐로 받아들여 열심히 풀어 나가자"
   ]
  },
  {
   "cell_type": "code",
   "execution_count": null,
   "metadata": {},
   "outputs": [],
   "source": []
  }
 ],
 "metadata": {
  "kernelspec": {
   "display_name": "Python 3",
   "language": "python",
   "name": "python3"
  },
  "language_info": {
   "codemirror_mode": {
    "name": "ipython",
    "version": 3
   },
   "file_extension": ".py",
   "mimetype": "text/x-python",
   "name": "python",
   "nbconvert_exporter": "python",
   "pygments_lexer": "ipython3",
   "version": "3.6.8"
  }
 },
 "nbformat": 4,
 "nbformat_minor": 2
}
