{
 "cells": [
  {
   "cell_type": "markdown",
   "metadata": {},
   "source": [
    "## 예외 처리\n",
    "\n",
    " - 예외(exception)란 프로그램이 정상적으로 실행될 수 없는 상황을 뜻한다\n",
    " \n",
    " - 항상 동일하게 발생하는 오류는 프로그램을 고쳐 해결하면 된다\n",
    " \n",
    " - 하지만 프로그램 외부의 요인(사용자가 입력한 데이터·프로그램이 실행되는 환경 등)으로 발생하는 실행 오류는 어떻게 해결해야 할까?\n",
    " \n",
    " - 입력 데이터와 실행 환경은 프로그램을 사용하는 사람에게 달려있다\n",
    " \n",
    " - “F1 키를 절대 누르지 마시오”, “프로그램 사용 중 인터넷 연결을 끊지 마시오”라고 경고해본들, 문제는 여전히 일어날 수 있다\n",
    " \n",
    " - **외부 요인을 통제할 수 없다면, 프로그램 안에 예외 상황에 대한 대응책을 마련해두어야 한다**\n",
    " \n",
    " - 이를 **예외 처리(exception handling)** 라고 한다.\n",
    "\n",
    " > “냄비에 육수 1리터를 담고 센 불로 끓인다.”\n",
    "\n",
    " - 이 조리법은 조리도구와 식재료가 갖추어져 있을 것을 전제로 한다\n",
    " \n",
    " - 만약 냄비가 없다면 “냄비가 없다”라는 예외 상황이 발생하여 조리를 수행할 수 없을 것이다\n",
    " \n",
    " - 조리법을 수정하여 이 예외를 처리해보자\n",
    "\n",
    " > “냄비에 육수 1리터를 담고 센 불로 끓인다. 만약 냄비가 없을 경우 주전자를 대신 사용한다.”\n",
    "\n",
    " - 수정한 조리법은 “냄비가 없다”라는 예외를 처리할 수 있다\n",
    " \n",
    " - “만약 냄비가 없을 경우 …” 라는 표현에서 알 수 있듯이, 예외 처리는 어떤 ‘조건’에 따라 실행할 지시를 ‘선택’하는 것이다\n",
    " \n",
    " - if 문으로 예외 처리를 해 보고, 더 나은 방법도 알아볼 것이다.\n",
    "\n",
    " - 예외 처리는 어디까지...?\n",
    "\n",
    " > 위의 조리법에서 일어날 수 있는 예외가 “냄비가 없다”뿐일까? \n",
    " >\n",
    " > 냄비가 있더라도 용량이 1리터에 못미칠 수도 있고, 냄비가 없을 뿐 아니라 주전자도 없을 경우도 있다\n",
    " >\n",
    " > 조리법을 다시 수정하면 이런 예외도 처리할 수 있겠으나, 언제나 미처 생각하지 못한 새로운 예외가 발생할 수 있다\n",
    " >\n",
    " > 즉, 모든 예외를 예견하는 것은 불가능하다\n",
    " >\n",
    " > 예외 처리를 어디까지 할 것인지는 프로그램의 안정성이 어느 정도까지 요구되느냐에 달렸다"
   ]
  },
  {
   "cell_type": "markdown",
   "metadata": {},
   "source": [
    "### if 문으로 예외 처리하기\n",
    "\n",
    " - 사용자로부터 수를 입력받아 나누는 프로그램을 예로 들어 보자"
   ]
  },
  {
   "cell_type": "code",
   "execution_count": 1,
   "metadata": {},
   "outputs": [
    {
     "name": "stdout",
     "output_type": "stream",
     "text": [
      "0이 아닌 정수를 입력해 주세요: 4\n",
      "0.25\n"
     ]
    }
   ],
   "source": [
    "# 예외 처리가 필요한 프로그램\n",
    "\n",
    "# 데이터 입력\n",
    "print('0이 아닌 정수를 입력해 주세요:', end=' ')\n",
    "user_number = int(input())\n",
    "\n",
    "# 결과 출력\n",
    "print(1 / user_number)"
   ]
  },
  {
   "cell_type": "markdown",
   "metadata": {},
   "source": [
    " - 이 프로그램은 사용자가 0을 입력하는 경우 ZeroDivisionError 예외가 발생한다\n",
    " \n",
    " - 이 예외를 if 문으로 처리해 보자"
   ]
  },
  {
   "cell_type": "code",
   "execution_count": 1,
   "metadata": {},
   "outputs": [
    {
     "name": "stdout",
     "output_type": "stream",
     "text": [
      "0이 아닌 정수를 입력해 주세요: 0\n",
      "0으로 나눌 수 없습니다.\n"
     ]
    }
   ],
   "source": [
    "# if 문으로 예외 처리하기\n",
    "\n",
    "# 데이터 입력\n",
    "print('0이 아닌 정수를 입력해 주세요:', end=' ')\n",
    "user_number = int(input())\n",
    "\n",
    "# ❶ 예외 처리: 입력값이 0인 경우 프로그램 종료\n",
    "if user_number == 0:\n",
    "    print('0으로 나눌 수 없습니다.')\n",
    "    exit()   # ❷ 프로그램 종료"
   ]
  },
  {
   "cell_type": "markdown",
   "metadata": {},
   "source": [
    " - 수정한 프로그램은 ❶ if 문으로 사용자가 입력한 값을 검사하여 잘못된 값이 계산에 사용되는 것을 방지한다\n",
    " \n",
    " - if 문의 본문에는 예외를 감지한 경우의 대처법이 포함된다\n",
    " \n",
    " - 사용자가 다시 (올바른) 값을 입력하도록 요구할 수도 있고, 문제점을 알려준 뒤 프로그램을 종료할 수도 있다\n",
    " \n",
    " - ❷ exit() 함수를 호출하면 프로그램이 종료된다\n",
    " \n",
    " - 따라서 사용자가 0을 입력하지 않았을 때만 나눗셈 연산이 실행된다\n",
    " \n",
    " - 동일한 요령으로 사용자가 정수를 입력했는지도 검사할 수 있다"
   ]
  },
  {
   "cell_type": "code",
   "execution_count": 1,
   "metadata": {},
   "outputs": [
    {
     "name": "stdout",
     "output_type": "stream",
     "text": [
      "0이 아닌 정수를 입력해 주세요: 6\n"
     ]
    }
   ],
   "source": [
    "#두 가지 예외 처리하기\n",
    "\n",
    "# 데이터 입력\n",
    "print('0이 아닌 정수를 입력해 주세요:', end=' ')\n",
    "user_string = input()\n",
    "\n",
    "# 예외 처리: 입력값이 정수가 아닌 경우 프로그램 종료\n",
    "if not user_string.isnumeric():\n",
    "    print(user_string, '은 정수가 아닙니다.')\n",
    "    exit()   # 프로그램 종료\n",
    "\n",
    "# 입력값(문자열)을 정수로 변환\n",
    "user_number = int(user_string)\n",
    "\n",
    "# 예외 처리: 입력값이 0인 경우 프로그램 종료\n",
    "if user_number == 0:\n",
    "    print('0으로 나눌 수 없습니다.')\n",
    "    exit()   # 프로그램 종료"
   ]
  },
  {
   "cell_type": "markdown",
   "metadata": {},
   "source": [
    " - 사용자가 잘못된 값을 입력했을 때 입력을 다시 요청하는 것도 좋은 생각이다\n",
    " \n",
    " - 올바른 데이터를 입력할 때까지 계속 입력을 요청하도록 해야 한다면 while 문을 함께 활용하면 좋다"
   ]
  },
  {
   "cell_type": "code",
   "execution_count": null,
   "metadata": {},
   "outputs": [],
   "source": [
    "# 올바른 값이 입력될 때까지 반복 입력하기\n",
    "\n",
    "while(True):  # ❶ 무한 반복\n",
    "    # 데이터 입력\n",
    "    print('0이 아닌 정수를 입력해 주세요:', end=' ')\n",
    "    user_string = input()\n",
    "    \n",
    "    # 예외 처리: 입력값이 정수가 아닌 경우 다시 입력\n",
    "    if not user_string.isnumeric():\n",
    "        print(user_string, '은 정수가 아닙니다.')\n",
    "        continue  # ❷ while 문 본문의 시작 지점에서 다시 반복\n",
    "    \n",
    "    # 입력값(문자열)을 정수로 변환\n",
    "    user_number = int(user_string)\n",
    "    \n",
    "    # 예외 처리: 입력값이 0인 경우 다시 입력\n",
    "    if user_number == 0:\n",
    "        print('0으로 나눌 수 없습니다.')\n",
    "        continue  # ❷ while 문 본문의 시작 지점에서 다시 반복\n",
    "    \n",
    "    break  # ❸ 반복 중지\n",
    "\n",
    "# 결과 출력\n",
    "print(1 / user_number)"
   ]
  },
  {
   "cell_type": "markdown",
   "metadata": {},
   "source": [
    " - 위의 코드는 while 문을 이용한 무한 반복 블록 안에서 입력과 예외 처리를 계속 반복한다\n",
    " \n",
    " - 잘못된 값이 입력됐을 때는 ❷ continue 문으로 반복 블록을 처음부터 다시 수행하도록 하여 값을 다시 입력받는다\n",
    " \n",
    " - 올바른 값이 입력됐을 때는 ❸ break 문으로 반복을 중지한다\n",
    " \n",
    " - 입력값 검증\n",
    "\n",
    " > 사용자가 입력하는 모든 데이터는 의심스러운 데이터다\n",
    " >\n",
    " > 사용자는 실수로 잘못된 데이터를 입력해 오류를 유발하기도 하고, 고의로 잘못된 데이터를 입력해 해킹을 시도하기도 한다\n",
    " >\n",
    " > 상업용 프로그램에서는 사용자가 입력하는 모든 데이터를 검증해야 한다"
   ]
  },
  {
   "cell_type": "markdown",
   "metadata": {},
   "source": [
    "### if 문을 이용한 예외 처리의 한계\n",
    "\n",
    " - if 문을 이용해 예외 처리를 하면 몇 가지 문제점이 있다\n",
    "\n",
    " > 1. 예외를 나타내는 값(오류 코드)과 정상 값을 구별하기가 어렵다.\n",
    " >\n",
    " > 2. 함수를 연달아 호출할 때, 예외를 함수 밖으로 전달하기가 불편하다.\n",
    " >\n",
    " > 3. 예외 상황인지 항상 미리 검사해야 한다.\n",
    " \n",
    "#### 오류 코드와 정상 값을 구별하는 문제\n",
    "\n",
    " - 함수 안에서 예외 처리를 할 때는 생각해 보자\n",
    " \n",
    " - 함수는 return 문을 이용해 결과를 반환한다\n",
    " \n",
    " - 그런데 함수 호출 도중에 예외가 발생한다면, 예외가 발생한 사실을 함수 밖으로 어떻게 알릴 수 있을까?\n",
    "\n",
    " - 네트워크에 연결된 컴퓨터와 신호를 주고받는 데 걸리는 시간을 측정하여 반환하는 함수다\n",
    " \n",
    " - 정상적인 경우에는 응답에 걸린 시간을 수로 반환할 것이다\n",
    " \n",
    " - 하지만 서버에 접속할 수 없는 경우에는 어떤 값을 반환해야 할까?"
   ]
  },
  {
   "cell_type": "code",
   "execution_count": null,
   "metadata": {},
   "outputs": [],
   "source": [
    "# 함수 밖으로 예외 전달하기\n",
    "\n",
    "# 주의: 다음은 예를 위한 가짜 코드이며 실행되지 않는다.\n",
    "def ping(address):\n",
    "    \"\"\"대상 주소(address)의 컴퓨터와 신호를 주고받는 데 걸리는 시간(초)을 측정하여 반환한다.\"\"\"\n",
    "    \n",
    "    if 주소가_잘못된_경우:\n",
    "        return -1  # ❶ 오류 코드를 반환한다\n",
    "    \n",
    "    if 인터넷_연결이_안_된_경우:\n",
    "        return -2  # ❶\n",
    "    \n",
    "    if 서버에_접속할_수_없는_경우:\n",
    "        return -3  # ❶\n",
    "    \n",
    "    seconds = ...   # 정상적인 경우\n",
    "    return seconds  # ❷ 응답 시간을 반환한다"
   ]
  },
  {
   "cell_type": "markdown",
   "metadata": {},
   "source": [
    " - 위 코드의 ping() 함수는 예외를 함수 밖으로 알리기 위해 ❶ -1, -2, -3을 반환한다\n",
    " \n",
    " - 응답 시간은 음수가 될 수 없으므로, 함수를 호출한 쪽에서는 ❷ 양수를 정상적인 결과로, ❶ 음수를 예외로 판단할 수 있다\n",
    " \n",
    " - 함수를 호출한 쪽에서 어떤 예외가 일어났는지도 알 수 있도록 각 예외 상황마다 반환하는 값을 서로 다르게 정해 두었다\n",
    " \n",
    " - 이처럼 예외를 나타내는 값을 정해 둔 것을 **오류 코드(error code)** 라고 한다\n",
    " \n",
    " - 오류 코드는 함수마다 제각각 정의하게 될 가능성이 높다\n",
    " \n",
    " - 오류 코드는 ‘비정상적인 반환값’이어야 하는데, 그런 값은 함수마다 다를 수밖에 없기 때문이다\n",
    " \n",
    " - 예컨대 양수를 반환하는 함수는 음수를 오류 코드로 약속할 수 있겠지만, 음수를 반환하는 함수는 그렇게 할 수 없다\n",
    " \n",
    " - 모든 함수에서 사용할 수 있는 통일된 오류 코드를 만들기 어렵다"
   ]
  },
  {
   "cell_type": "markdown",
   "metadata": {},
   "source": [
    "#### 함수를 연달아 호출할 때, 예외 처리를 중복으로 해야 하는 문제\n",
    "\n",
    " - 함수를 연달아 호출할 때, 함수 밖으로 오류 코드를 전달하려면 호출되는 함수들 속에서 예외 처리를 중복으로 해야 한다\n",
    " \n",
    " - 앞의 ping() 함수를 호출하여 두 서버의 응답시간을 비교하는 함수를 정의한다고 해 보자"
   ]
  },
  {
   "cell_type": "code",
   "execution_count": 1,
   "metadata": {},
   "outputs": [],
   "source": [
    "# 함수 밖으로 전달된 예외를 더 바깥으로 전달하기\n",
    "\n",
    "def compare_two_servers(a, b):\n",
    "    \"\"\"두 서버 주소 a, b를 전달받아, 응답시간이 더 짧은 서버 주소를 반환한다.\"\"\"\n",
    "    # 서버 a와 서버 b의 응답시간 측정\n",
    "    response_a = ping(a)\n",
    "    response_b = ping(b)\n",
    "    \n",
    "    # ❶ 서버 a 또는 서버 b에서 예외가 발생한 경우 예외를 밖으로 전달\n",
    "    if response_a < 0:\n",
    "        return response_a\n",
    "    if response_b < 0:\n",
    "        return response_b\n",
    "    \n",
    "    # 예외가 발생하지 않은 경우, 응답시간이 더 짧은 서버 주소 반환\n",
    "    return a if response_a < response_b else b"
   ]
  },
  {
   "cell_type": "markdown",
   "metadata": {},
   "source": [
    " - compare_two_servers() 함수는 오류 코드를 반환하는 ping() 함수를 내부에서 호출한다\n",
    " \n",
    " - 이때 ❶과 같이 그 오류 코드를 자신을 호출한 곳으로 다시 전달해야 한다\n",
    " \n",
    " - 이미 ping() 함수에서 예외 검사를 마쳤지만 ping() 함수를 호출하는 곳에서는 모두 ping() 함수의 반환값을 검사해 밖으로 전달해야 하는 셈이다\n",
    " \n",
    " - 예외 처리를 중복으로 해야 하는 데다, 여러 함수에서 오류 코드를 관리하기가 더욱 힘들어진다"
   ]
  },
  {
   "cell_type": "markdown",
   "metadata": {},
   "source": [
    "#### 예외를 미리 검사해야 하는 문제\n",
    "\n",
    " - 다음 두 지시를 비교해 보자.\n",
    "\n",
    " > 1. “냄비가 있는지 확인한다. 냄비가 있으면 냄비에 육수 1리터를 담고 센 불로 끓인다. 냄비가 없으면 주전자를 대신 사용한다.”\n",
    " >\n",
    " > 2. “냄비에 육수 1리터를 담고 센 불로 끓인다. 냄비가 없을 경우 주전자를 대신 사용한다.”\n",
    " \n",
    " - 둘다 냄비가 없는 상황을 상정한 조리법이지만 접근법이 다르다\n",
    " \n",
    " - 1은 먼저 허락을 구한 뒤에 일을 하는 방법이다\n",
    " \n",
    " - 2는 일을 먼저 하고, 문제가 생기면 다른 용서를 구하는 방법이다\n",
    " \n",
    " - 1은 확인을 한 직후에 순식간에 상황이 바뀌어 버리면(확인할 때는 냄비가 있었는데, 조리할 때는 사라진 경우) 예외 처리를 할 수 없다는 단점이 있다"
   ]
  },
  {
   "cell_type": "markdown",
   "metadata": {},
   "source": [
    "### try 문: 잠재적인 예외 처리하기\n",
    "\n",
    " - 파이썬에서 예외 처리를 올바르게 하는 방법은 try 문을 사용하는 것이다\n",
    " \n",
    " - try 문을 사용하면 다음과 같은 장점이 있다\n",
    "\n",
    " > 1. 정상 값과 구별하기 어려운 오류 코드 대신, 예외 객체라는 특별한 정보로 예외를 전달할 수 있다\n",
    " >\n",
    " > 2. 함수 호출 속에서 예외가 발생하면 예외 객체가 함수 바깥으로 전달된다\n",
    " >\n",
    " > 3. 예외가 발생할 것을 미리 확인하는 대신, 예외가 발생했을 때 처리하는 방법을 따른다\n",
    " >\n",
    " > 4. 이 세 장점은 모두 앞에서 살펴본 if 문의 한계를 해결한 것이다"
   ]
  },
  {
   "cell_type": "markdown",
   "metadata": {},
   "source": [
    "#### try 문과 except 절\n",
    "\n",
    " - try 문은 except 절과 함께 사용한다\n",
    " \n",
    " - ‘try’는 ‘시도하라’라는 뜻이다\n",
    " \n",
    " - try 문의 본문 블록에 예외 발생 가능성이 있는 코드를 기술하여, 코드를 일단 ‘시도해’ 보도록 한다\n",
    " \n",
    " - ‘except’는 ‘~를 제외하고’라는 뜻이다\n",
    " \n",
    " - except 절에는 처리할 예외의 종류와 처리 방법을 기술한다\n",
    " \n",
    " - 예외의 종류에 따라 그 대처법도 다를 것이므로, 하나의 try 문은 여러 개의 except 절을 포함할 수 있다\n",
    " \n",
    " - 하지만 예외를 하나도 처리하지 않는다면 try 문 자체가 필요 없을 것이므로, except 절이 최소한 하나는 있어야 한다\n",
    "\n",
    "```\n",
    "try:\n",
    "    예외가 발생할 수 있는 코드 블록\n",
    "    ...\n",
    "except 예외종류:\n",
    "    예외종류에 해당하는 예외가 발생했을 때 실행할 코드 블록\n",
    "    ...\n",
    "(필요에 따라 except 절을 추가로 작성)\n",
    "```\n",
    "\n",
    " - ‘예외종류’란 예외를 나타내는 클래스다\n",
    " \n",
    " - 파이썬에는 다양한 예외 상황이 클래스로 정의되어 있다. 발생한 예외가 어떤 예외인지 알기 위해서는 오류 메시지를 확인하면 된다\n",
    " \n",
    " - 예를 들어, 0으로 나누는 오류의 메시지를 대화식 셸로 확인해 보면 다음과 같은 오류 메시지를 얻을 수 있다"
   ]
  },
  {
   "cell_type": "code",
   "execution_count": 2,
   "metadata": {},
   "outputs": [
    {
     "ename": "ZeroDivisionError",
     "evalue": "division by zero",
     "output_type": "error",
     "traceback": [
      "\u001b[1;31m---------------------------------------------------------------------------\u001b[0m",
      "\u001b[1;31mZeroDivisionError\u001b[0m                         Traceback (most recent call last)",
      "\u001b[1;32m<ipython-input-2-9e1622b385b6>\u001b[0m in \u001b[0;36m<module>\u001b[1;34m\u001b[0m\n\u001b[1;32m----> 1\u001b[1;33m \u001b[1;36m1\u001b[0m\u001b[1;33m/\u001b[0m\u001b[1;36m0\u001b[0m\u001b[1;33m\u001b[0m\u001b[1;33m\u001b[0m\u001b[0m\n\u001b[0m",
      "\u001b[1;31mZeroDivisionError\u001b[0m: division by zero"
     ]
    }
   ],
   "source": [
    "1/0"
   ]
  },
  {
   "cell_type": "markdown",
   "metadata": {},
   "source": [
    " - 오류 메시지의 마지막 행이 오류의 종류와 내용을 알려주는 행이다\n",
    " \n",
    " - 여기서 콜론(:) 왼쪽의 이름이 오류의 종류를 나타내는 클래스다\n",
    " \n",
    " - 즉, 0으로 나누는 오류는 파이썬에서 ZeroDivisionError로 정의되어 있다\n",
    "\n",
    " - try 문을 이용해 0으로 나누는 오류와 사용자가 입력한 값을 정수로 변환할 수 없는 오류를 처리해 보자"
   ]
  },
  {
   "cell_type": "code",
   "execution_count": 3,
   "metadata": {},
   "outputs": [
    {
     "name": "stdout",
     "output_type": "stream",
     "text": [
      "0이 아닌 정수를 입력해 주세요: 0\n",
      "0으로 나눌 수 없습니다.\n"
     ]
    }
   ],
   "source": [
    "# 0으로 나누는 오류의 오류 메시지\n",
    "\n",
    "# ❶ try 블록에 예외가 일어날 수 있는 코드를 기술한다.\n",
    "try:\n",
    "    print('0이 아닌 정수를 입력해 주세요:', end=' ')\n",
    "    user_number = int(input())\n",
    "    print(1 / user_number)\n",
    "# ❷ 처리해야 할 예외의 이름과 처리방법을 except 블록에 기술한다.\n",
    "except ZeroDivisionError:  # 0으로 나누는 오류 처리\n",
    "    print('0으로 나눌 수 없습니다.')\n",
    "except ValueError:         # int 유형이 될 수 없는 문자열의 오류 처리\n",
    "    print('입력한 값은 정수가 아닙니다.')"
   ]
  },
  {
   "cell_type": "markdown",
   "metadata": {},
   "source": [
    " - if 문을 이용한 이전의 코드에서는 계산을 실행하기에 앞서 값이 정수로 변환할 수 있는 문자열인지, 0은 아닌지 등을 미리 검사했다\n",
    " \n",
    " - 하지만 try 문을 이용한 위의 코드에서는 그런 검사를 수행하지 않았다\n",
    " \n",
    " - ❶ try 문에서 바로 코드를 실행하고, ❷ 예외가 일어나면 except 절의 코드를 실행하도록 했다.\n",
    "\n",
    " - try 문을 사용할 때도, 사용자가 올바른 값을 입력할 때까지 계속 반복 입력받도록 할 수 있다\n",
    " \n",
    " - try 문 전체를 while 문으로 감싸고 정상 실행되었을 때 break 문으로 반복 블록을 빠져나오면 된다"
   ]
  },
  {
   "cell_type": "code",
   "execution_count": null,
   "metadata": {},
   "outputs": [],
   "source": [
    "# 올바른 입력을 반복하여 요구하기\n",
    "\n",
    "while True:\n",
    "    try:\n",
    "        print('0이 아닌 정수를 입력해 주세요:', end=' ')\n",
    "        user_number = int(input())\n",
    "        print(1 / user_number)\n",
    "        break  # 예외가 발생하지 않은 경우, 반복을 빠져나간다\n",
    "    except ZeroDivisionError:\n",
    "        print('0으로 나눌 수 없습니다.')\n",
    "    except ValueError:\n",
    "        print('입력한 값은 정수가 아닙니다.')"
   ]
  },
  {
   "cell_type": "markdown",
   "metadata": {},
   "source": [
    " - try 문의 본문을 실행하는 도중 예외가 발생한 경우에는 본문의 나머지 내용을 실행하지 않고, 그 예외를 처리할 수 있는 except 절을 실행한다\n",
    " \n",
    " - 따라서 코드 9-25에서 ZeroDivisionError, ValueError 예외가 발생한 경우에는 try 문 마지막의 break 문은 실행되지 않고, 계속해서 반복 입력받는다"
   ]
  },
  {
   "cell_type": "markdown",
   "metadata": {},
   "source": [
    "#### try 문의 else 절\n",
    "\n",
    " - try 문에도 else 절을 작성할 수 있다\n",
    " \n",
    " - else 절에 작성한 코드는 try 문의 본문을 다 실행할 때까지 예외가 발생하지 않은 경우에 실행된다\n",
    " \n",
    " - try 절의 작성 양식에 else 절을 추가해 두자.\n",
    "\n",
    "```\n",
    "try:\n",
    "    예외가 발생할 수 있는 코드 블록\n",
    "    ...\n",
    "except 예외종류:\n",
    "    예외종류에 해당하는 예외가 발생했을 때 실행할 코드 블록\n",
    "    ...\n",
    "(필요에 따라 except 절을 추가로 작성)\n",
    "else:\n",
    "    예외가 발생하지 않은 경우 실행할 코드 블록\n",
    "```\n",
    "\n",
    " - else 절을 이용하면 위의 코드를 다음과 같이 수정할 수 있다"
   ]
  },
  {
   "cell_type": "code",
   "execution_count": null,
   "metadata": {},
   "outputs": [],
   "source": [
    "# try 문에서 else 절 사용하기\n",
    "\n",
    "while True:\n",
    "    try:\n",
    "        print('0이 아닌 정수를 입력해 주세요:', end=' ')\n",
    "        user_number = int(input())\n",
    "        result = 1 / user_number\n",
    "    except ZeroDivisionError:\n",
    "        print('0으로 나눌 수 없습니다.')\n",
    "    except ValueError:\n",
    "        print('입력한 값은 정수가 아닙니다.')\n",
    "    \n",
    "    # 예외가 발생하지 않은 경우에만 실행\n",
    "    else:\n",
    "        print(result)  # 결과를 출력하고\n",
    "        break          # 반복을 빠져나간다"
   ]
  },
  {
   "cell_type": "markdown",
   "metadata": {},
   "source": [
    " - try 절의 본문에 작성하지 않고 else 절에 코드를 작성하는 이유는 **의도하지 않은 예외 처리를 방지**하기 위해서다\n",
    " \n",
    " - 예외 처리의 대상이 되는 코드와 이어서 수행될 코드를 명시적으로 구별하는 것이다"
   ]
  },
  {
   "cell_type": "markdown",
   "metadata": {},
   "source": [
    "#### 처리되지 않은 예외의 전파\n",
    "\n",
    " - try 문은 except 절에 처리할 예외를 명시한다\n",
    " \n",
    " - except 절에서 처리하지 않은 예외가 발생한다면 어떤 일이 일어날까? \n",
    " \n",
    " - 바로 위에서 작성한 코드를 실행하고, 수를 입력하는 대신 Ctrl + C 키를 입력해 보자\n",
    " \n",
    " - 실행 결과 (Ctrl + C 입력):\n",
    "\n",
    "```\n",
    "0이 아닌 정수를 입력해 주세요: ^C\n",
    "Traceback (most recent call last):\n",
    "  File \"example_9_26.py\", line 4, in <module>\n",
    "    user_number = int(input())\n",
    "KeyboardInterrupt\n",
    "```\n",
    "\n",
    " - 파이썬 프로그램 실행중에 Ctrl + C 키를 입력하면 KeyboardInterrupt라는 예외가 발생한다\n",
    " \n",
    " - 바로 위의 코드에서 try 문에는 이 예외를 처리하는 except 절이 없기 때문에, 예외는 처리되지 않은 채로 try 문을 빠져나와 버린다\n",
    " \n",
    " - 예외가 try 문을 빠져나왔을 때의 결과는 try 문을 사용하지 않았을 때와 같다\n",
    " \n",
    " - 즉, 처리되지 않은 예외로 인해 실행시간 오류가 발생하고, 오류 메시지가 출력된 후 프로그램 실행이 중단된다\n",
    "\n",
    " - try 문을 빠져나온 예외는 그 바깥쪽의 try 문으로도 처리할 수 있다"
   ]
  },
  {
   "cell_type": "code",
   "execution_count": null,
   "metadata": {},
   "outputs": [],
   "source": [
    "# try 문을 빠져나온 예외 처리하기\n",
    "\n",
    "# 블록 1: 바깥쪽 try 문\n",
    "try:\n",
    "    \n",
    "    # 블록 2: while 문\n",
    "    while True:\n",
    "        \n",
    "        # 블록 3: 안쪽 try 문\n",
    "        try:\n",
    "            print('0이 아닌 정수를 입력해 주세요:', end=' ')\n",
    "            user_number = int(input())\n",
    "            result = 1 / user_number\n",
    "        except ZeroDivisionError:\n",
    "            print('0으로 나눌 수 없습니다.')\n",
    "        except ValueError:\n",
    "            print('입력한 값은 정수가 아닙니다.')\n",
    "        else:\n",
    "            print(result)  # 결과를 출력하고\n",
    "            break          # 반복을 빠져나간다\n",
    "\n",
    "# 바깥쪽의 try 문에서 KeyboardInterrupt 예외를 처리한다\n",
    "except KeyboardInterrupt:\n",
    "    print('Ctrl + C를 누르셨군요.')"
   ]
  },
  {
   "cell_type": "markdown",
   "metadata": {},
   "source": [
    " - 예외가 코드 블록 안에서 발생하는 경우 예외 객체는 가장 가까이 있는 try 문이 처리할 때까지 코드 블록을 차례대로 빠져나간다\n",
    " \n",
    " - 이 특징을 이용하면 함수 호출 안에서 일어난 예외를 함수 호출 밖에서 처리할 수 있다"
   ]
  },
  {
   "cell_type": "code",
   "execution_count": null,
   "metadata": {},
   "outputs": [],
   "source": [
    "# 함수 연쇄 호출 속의 오류\n",
    "\n",
    "def a(x):\n",
    "    return 8 / x      # x가 0인 경우 오류 발생\n",
    "\n",
    "def b(y):\n",
    "    return a(y - 1)   # y가 1인 경우 오류 발생\n",
    "\n",
    "def c(z):\n",
    "    return b(z - 2)   # z가 3인 경우 오류 발생\n",
    "\n",
    "def d():\n",
    "    print(c(int(input())))\n",
    "\n",
    "d()"
   ]
  },
  {
   "cell_type": "markdown",
   "metadata": {},
   "source": [
    " - 위 코드는 사용자가 무엇을 입력하느냐에 따라 정상 실행될 수도, 오류를 일으킬 수도 있다\n",
    " \n",
    " - 그런데 예외 처리를 어디에서 해야 할까? 8 / 0이 실행될 수 있는 a() 함수? a()에 잘못된 값을 전달할 가능성이 있는 b(), c() 두 함수? 사용자로부터 값을 입력받는 d() 함수? 모든 코드가 예외를 일으킬 가능성이 있다\n",
    " \n",
    " - 따라서 다음과 같이 예외 처리할 수 있다"
   ]
  },
  {
   "cell_type": "code",
   "execution_count": null,
   "metadata": {},
   "outputs": [],
   "source": [
    "# 함수 연쇄 호출 속의 오류 처리하기 (불필요한 방법)\n",
    "\n",
    "def a(x):\n",
    "    try:\n",
    "        return 8 / x     # x가 0인 경우 오류 발생\n",
    "    except ZeroDivisionError:\n",
    "        print('0으로는 나눌 수 없습니다.')\n",
    "\n",
    "def b(y):\n",
    "    try:\n",
    "        return a(y - 1)  # y가 1인 경우 오류 발생\n",
    "    except ZeroDivisionError:\n",
    "        print('0으로는 나눌 수 없습니다.')\n",
    "\n",
    "def c(z):\n",
    "    try:\n",
    "        return b(z - 2)  # z가 3인 경우 오류 발생\n",
    "    except ZeroDivisionError:\n",
    "        print('0으로는 나눌 수 없습니다.')\n",
    "\n",
    "def d():\n",
    "    try:\n",
    "        print(c(int(input())))\n",
    "    except ZeroDivisionError:\n",
    "        print('0으로는 나눌 수 없습니다.')\n",
    "\n",
    "try:\n",
    "    d()\n",
    "except ZeroDivisionError:\n",
    "    print('0으로는 나눌 수 없습니다.')"
   ]
  },
  {
   "cell_type": "markdown",
   "metadata": {},
   "source": [
    " - 위 코드와 같이 모든 함수에서 예외를 처리할 필요는 없다\n",
    " \n",
    " - try 문을 사용하면 안쪽에서 발생한 오류를 바깥에서 처리할 수 있다\n",
    " \n",
    " - 예외가 실행 흐름을 따라 밖으로 빠져나오는 경우, 그 사이의 한 지점에서 한 번만 예외를 처리해주면 된다"
   ]
  },
  {
   "cell_type": "code",
   "execution_count": null,
   "metadata": {},
   "outputs": [],
   "source": [
    "# 함수 연쇄 호출 속의 오류 처리하기\n",
    "\n",
    "def a(x):\n",
    "    return 8 / x     # x가 0인 경우 오류 발생\n",
    "\n",
    "def b(y):\n",
    "    return a(y - 1)  # y가 1인 경우 오류 발생\n",
    "\n",
    "def c(z):\n",
    "    return b(z - 2)  # z가 3인 경우 오류 발생\n",
    "\n",
    "def d():\n",
    "    try:\n",
    "        print(c(int(input())))\n",
    "    except ZeroDivisionError:\n",
    "        print('0으로는 나눌 수 없습니다.')\n",
    "\n",
    "d()"
   ]
  },
  {
   "cell_type": "markdown",
   "metadata": {},
   "source": [
    " - 위 코드는 d() 함수에서만 0으로 나누는 오류를 처리했다\n",
    " \n",
    " - 하지만 a()에서 오류가 발생하더라도 그 예외가 실행 흐름을 따라 빠져나와 결국 d() 함수에서 처리되므로 문제 없다\n",
    " \n",
    " - 단, a(8)과 같이 a() 함수를 직접 호출한다면 예외 처리가 되지 않을 것이다\n",
    "\n",
    " - try 문을 사용하는 방식을 if 문을 사용할 때와 비교해 보자\n",
    " \n",
    " > if ... if 문을 사용할 때는 코드를 실행하기 전에 예외 상황을 미리 검사해야 했다\n",
    " >\n",
    " > if ... 그리고 예외 정보를 함수 밖으로 전달하기 위해 return 문과 오류 코드를 써야 했다\n",
    " >\n",
    " > try ... try 문을 사용할 때는 예외 상황을 미리 검사하지 않는다\n",
    " >\n",
    " > try ...예외는 함수 호출과 코드 블록을 저절로 빠져나오며, 원하는 위치에서 처리할 수 있다\n",
    "\n",
    " - try 문을 이용하면 if 문보다 편리하고 정확하게 예외 처리를 할 수 있다\n",
    " \n",
    " - **실행시간 오류는 try 문으로 예외 처리**하는 것을 기억하자\n",
    "\n",
    " - 예외 처리를 할 때는 if 문과 오류 코드를 이용하기보다는, try 문을 이용하는 것이 좋다\n",
    "\n",
    " - 미리 허락을 구하는 것보다 저지른 후에 용서를 구하는 것이 쉽다(?)"
   ]
  },
  {
   "cell_type": "markdown",
   "metadata": {},
   "source": [
    "###### 연습문제 9-3 사칙연산 예외 처리\n",
    "\n",
    " - 연오는 사용자로부터 수 두 개를 입력받아 사칙연산 결과를 화면에 출력하는 프로그램을 다음과 작성했다.\n",
    "\n",
    "```\n",
    "print('첫번째 수를 입력하시오: ', end='')\n",
    "number1 = int(input())\n",
    "print('두번째 수를 입력하시오: ', end='')\n",
    "number2 = int(input())\n",
    "\n",
    "add = number1 + number2\n",
    "subtract = number1 - number2\n",
    "multiply = number1 * number2\n",
    "divide = number1 / number2\n",
    "\n",
    "print(number1, '+', number2, '=', add)\n",
    "print(number1, '-', number2, '=', subtract)\n",
    "print(number1, '*', number2, '=', multiply)\n",
    "print(number1, '/', number2, '=', divide)\n",
    "```\n",
    "\n",
    " - 이 프로그램을 실행하고, 두번째 수에 0을 입력하면 오류가 발생한다.\n",
    "\n",
    " - 실행 결과:\n",
    "\n",
    "```\n",
    "첫번째 수를 입력하시오: 1\n",
    "두번째 수를 입력하시오: 0\n",
    "Traceback (most recent call last):\n",
    "  File \"C:/Users/bakyeono/project/book-python3-textbook/exercise/exercise-9-3.py\", line 9, in <module>\n",
    "    divide = number1 / number2\n",
    "ZeroDivisionError: division by zero\n",
    "```\n",
    "\n",
    " - 이 프로그램을 try 문을 이용해 수정해라\n",
    " \n",
    " - 사용자가 두번째 수에 0을 입력했을 때, 오류를 일으키지 말고 나눗셈 연산의 결과가 None이 되도록 한다\n",
    "\n",
    " - 올바른 실행 결과:\n",
    "\n",
    "```\n",
    "첫번째 수를 입력하시오: 1\n",
    "두번째 수를 입력하시오: 0\n",
    "1 + 0 = 1\n",
    "1 - 0 = 1\n",
    "1 * 0 = 0\n",
    "1 / 0 = None\n",
    "```"
   ]
  },
  {
   "cell_type": "code",
   "execution_count": null,
   "metadata": {},
   "outputs": [],
   "source": []
  }
 ],
 "metadata": {
  "kernelspec": {
   "display_name": "Python 3",
   "language": "python",
   "name": "python3"
  },
  "language_info": {
   "codemirror_mode": {
    "name": "ipython",
    "version": 3
   },
   "file_extension": ".py",
   "mimetype": "text/x-python",
   "name": "python",
   "nbconvert_exporter": "python",
   "pygments_lexer": "ipython3",
   "version": "3.6.8"
  }
 },
 "nbformat": 4,
 "nbformat_minor": 2
}
