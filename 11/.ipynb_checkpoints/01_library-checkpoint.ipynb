{
 "cells": [
  {
   "cell_type": "markdown",
   "metadata": {},
   "source": [
    "## 수학, 통계학\n",
    "\n",
    " - 프로그램을 만들다 보면 수학 도구가 필요할 때가 많다\n",
    " \n",
    " - 여기까지 학습한 여러분이라면 사칙연산, 비교, 거듭제곱, 절대값, 반올림, 합계 같은 기본 연산에 익숙할 것이다\n",
    " \n",
    " - 하지만 이들은 수많은 수학 도구 가운데 일부분에 불과하다\n",
    " \n",
    " - 파이썬이 모듈이라는 도구 상자에 담아 제공하는 다양한 수학 도구들을 만나보자"
   ]
  },
  {
   "cell_type": "code",
   "execution_count": null,
   "metadata": {},
   "outputs": [],
   "source": []
  }
 ],
 "metadata": {
  "kernelspec": {
   "display_name": "Python 3",
   "language": "python",
   "name": "python3"
  },
  "language_info": {
   "codemirror_mode": {
    "name": "ipython",
    "version": 3
   },
   "file_extension": ".py",
   "mimetype": "text/x-python",
   "name": "python",
   "nbconvert_exporter": "python",
   "pygments_lexer": "ipython3",
   "version": "3.6.8"
  }
 },
 "nbformat": 4,
 "nbformat_minor": 2
}
