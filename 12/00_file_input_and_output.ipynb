{
 "cells": [
  {
   "cell_type": "markdown",
   "metadata": {},
   "source": [
    "### 파일 읽고(read) / 쓰기(write)\n",
    "\n",
    " - 컴퓨터에서 파일이란 형식을 가지는 데이터로 형식이 모여 기능을 할 수 있음\n",
    " \n",
    " - 형식 없이 기록만으로도 사용이 가능\n",
    " \n",
    " - 파일을 읽는다는 것은 기록된 데이터를 RAM에 옮겨 확인하는 작업\n",
    " \n",
    " - 파일을 쓴다는 것은 RAM에 저장된 값을 파일로 저장하는 작업 ... RAM을 효율적으로 쓸 수 있다\n",
    " \n",
    " - 파일을 읽는 것은 **책장(ROM; 컴퓨터 저장소)** 에 있던 **책(형식을 가질 때 역할을 할 수 있는 혹은 기록 자체로의 데이터)** 을 **책상(RAM; 컴퓨터 메모리)** 에 옮기는 작업\n",
    " \n",
    " - 파일을 쓰는 것은 **책상(RAM; 컴퓨터 메모리)** 에 있는 책에 **필기구로 글자를 세기고(데이터의 기록)** 책을 덮고 **책장(ROM; 컴퓨터 저장소)** 에 넣어두는 작업"
   ]
  },
  {
   "cell_type": "markdown",
   "metadata": {},
   "source": [
    "#### 텍스트 파일 읽고 쓰기\n",
    "\n",
    " - 파일 사용의 기본은 파일을 열고 닫는 법을 아는 것이다. \n",
    " \n",
    " - 파일은 운영 체제가 통제하는 파일 시스템에 의해 제공된다. \n",
    " \n",
    " - 응용 프로그램이 파일 입출력을 하려면 운영 체제에 요청하여 허락을 구해야 하며(파일 열기), 파일을 다 작성한 후에도 운영 체제에 끝났음을 알려주어야 한다(파일 닫기). \n",
    " \n",
    " - 파이썬에서는 다음과 같은 세 단계를 거친다.\n",
    "\n",
    "> 1. open() 함수로 파일을 열어, 파일 객체를 얻는다.\n",
    ">\n",
    "> 2. 파일 객체에서 입력 또는 출력을 수행한다.\n",
    ">\n",
    "> 3. 파일 객체의 close() 메서드로 파일을 닫는다.\n",
    "\n",
    " - 파일을 열 때 사용하는 open() 함수는 사용하려는 파일의 경로를 첫번째 매개변수로 전달받는다. \n",
    " \n",
    " - open() 함수는 지정된 경로의 파일을 열어 파일 객체를 반환한다. \n",
    " \n",
    " - 파일 객체는 파일에서 정보를 읽거나 기록하는 메서드를 제공한다. \n",
    " \n",
    " - 파일 객체를 다 사용한 후에는 close() 메서드로 닫아준다. (컴퓨터 메모리에서 데이터를 삭제하는 과정 ... 계속 읽기만하면 책상에 자리가 없다)\n",
    "\n",
    " - 다음은 이 세 단계에 따라 years.txt라는 텍스트 파일을 열고, 그 내용을 읽어 화면에 출력하고, 파일을 닫는 프로그램이다."
   ]
  },
  {
   "cell_type": "code",
   "execution_count": 1,
   "metadata": {},
   "outputs": [
    {
     "name": "stdout",
     "output_type": "stream",
     "text": [
      "data 1\n",
      "\n",
      "data 2\n",
      "\n",
      "data 3 data 4\n"
     ]
    }
   ],
   "source": [
    "# 파일을 열고, 사용하고, 닫는 프로그램\n",
    "\n",
    "file = open('years.txt')  # 텍스트 파일 열기\n",
    "for line in file:         # 파일 내용을 한 행씩 읽어 화면에 출력\n",
    "    print(line)\n",
    "file.close()              # 파일 닫기"
   ]
  },
  {
   "cell_type": "markdown",
   "metadata": {},
   "source": [
    " - 위 코드에서는 파일을 닫을 때 파일 객체의 close() 메서드를 직접 호출했다. \n",
    " \n",
    " - 하지만 9.5에서 설명했듯이, with 문을 사용해 파일 객체가 자동으로 닫히도록 하는 편이 더 좋다."
   ]
  },
  {
   "cell_type": "code",
   "execution_count": 2,
   "metadata": {},
   "outputs": [
    {
     "name": "stdout",
     "output_type": "stream",
     "text": [
      "data 1\n",
      "\n",
      "data 2\n",
      "\n",
      "data 3 data 4\n"
     ]
    }
   ],
   "source": [
    "# with 문으로 파일 읽기\n",
    "\n",
    "with open('years.txt') as file:  # 텍스트 파일 열기\n",
    "    for line in file:            # 파일 내용을 한 행씩 읽어 화면에 출력\n",
    "        print(line)"
   ]
  },
  {
   "cell_type": "markdown",
   "metadata": {},
   "source": [
    " - 위의 코드는 'years.txt' 파일을 열고, 파일 객체를 file 변수에 대입하여 사용한다\n",
    " \n",
    " - with 문의 본문에서 file 객체를 자유롭게 사용할 수 있다. \n",
    " \n",
    " - 본문이 다 실행된 후에는 파일이 저절로 닫히니 파일 객체의 close() 메서드를 직접 호출하지 않아도 된다."
   ]
  },
  {
   "cell_type": "markdown",
   "metadata": {},
   "source": [
    "#### 텍스트 파일에 정보 기록하기\n",
    "\n",
    " - 텍스트 파일에 텍스트 데이터를 출력하는 것은 화면에 텍스트 데이터를 출력하는 것과 비슷하다\n",
    " \n",
    " - 출력 대상을 화면이 아니라 파일로 지정해야 한다는 점이 다를 뿐이다\n",
    " \n",
    " - 다음은 1장에서 만들어 본 첫 파이썬 프로그램의 실행 결과를 화면이 아니라 파일에 출력하도록 한 예다"
   ]
  },
  {
   "cell_type": "code",
   "execution_count": 3,
   "metadata": {},
   "outputs": [
    {
     "name": "stdout",
     "output_type": "stream",
     "text": [
      "당신의 이름은 무엇인가요?\n",
      "name\n"
     ]
    }
   ],
   "source": [
    "# 쓰기 모드로 텍스트 파일을 열어 텍스트 출력하기\n",
    "\n",
    "print('당신의 이름은 무엇인가요?')\n",
    "name = input()\n",
    "\n",
    "with open('hello.txt', 'w') as file:\n",
    "    print(name, '님 반가워요.', file=file)"
   ]
  },
  {
   "cell_type": "markdown",
   "metadata": {},
   "source": [
    " - 파일을 열 때는 ‘읽기’ 또는 ‘쓰기’ 모드로 지정하여 열어야 한다. \n",
    " \n",
    " - 파일은 기본적으로 ‘읽기’ 모드로 열리기 때문에 파일에 무언가를 기록하고자 할 때는 ‘쓰기’ 모드로 열도록 지정해야 한다. \n",
    " \n",
    " - 위 코드에서 open('hello.txt', 'w') 함수 호출을 자세히 보면, open() 함수의 두 번째 매개변수에 'w'라는 문자열을 전달했다. \n",
    " \n",
    " - open() 함수의 두 번째 매개변수가 바로 파일의 열기 모드를 지정하기 위한 변수다. \n",
    " \n",
    " - 'w'는 쓰기 모드(write mode)의 머릿말으로, 파일을 쓰기 모드로 열겠다는 뜻이다."
   ]
  },
  {
   "cell_type": "code",
   "execution_count": 4,
   "metadata": {},
   "outputs": [
    {
     "data": {
      "image/png": "[encoded data removed]",
      "text/plain": [
       "<IPython.core.display.Image object>"
      ]
     },
     "execution_count": 4,
     "metadata": {},
     "output_type": "execute_result"
    }
   ],
   "source": [
    "from IPython.display import Image\n",
    "Image(\"img/00_img.png\")"
   ]
  },
  {
   "cell_type": "markdown",
   "metadata": {},
   "source": [
    " - print() 함수를 사용하는 대신 파일 객체의 write() 메서드를 사용해도 된다."
   ]
  },
  {
   "cell_type": "code",
   "execution_count": 5,
   "metadata": {},
   "outputs": [],
   "source": [
    "# file.write() 메서드로 기록하기\n",
    "\n",
    "from datetime import date\n",
    "today = date.today()\n",
    "text = f'안녕하세요! 오늘은 {today.month}월 {today.day}일 입니다.\\n'\n",
    "\n",
    "with open('hello.txt', 'w') as file:\n",
    "    file.write(text)"
   ]
  },
  {
   "cell_type": "markdown",
   "metadata": {},
   "source": [
    " - print() 함수는 전달된 인자가 문자열이 아니더라도 텍스트로 자동 변환해 주지만, 파일 객체의 write() 메서드에는 데이터를 문자열로 변경해 전달해야 한다. \n",
    " \n",
    " - 또한, 개행 문자(\\n)도 직접 출력해야 한다.\n",
    "\n",
    " - 위의 코드를 실행한 뒤 hello.txt 파일의 내용을 다시 확인해보면, 앞서 기록되어 있던 ‘xxx 님 안녕하세요!’ 는 사라졌고 ‘안녕하세요! 오늘은 11월 27일 입니다.’라는 새로운 내용만 기록된 것을 확인할 수 있을 것이다. \n",
    " \n",
    " - 쓰기 모드('w')로 파일을 열면 파일의 기존 내용은 삭제된다.\n",
    "\n",
    " - 파일이 이미 존재할 때 기존 내용 뒤에 새로운 덧붙여 작성하려면, 파일을 덧붙이기 모드(append mode)로 열어야 한다. \n",
    " \n",
    " - open() 함수에서 열기 모드를 'a'로 지정하면 된다."
   ]
  },
  {
   "cell_type": "code",
   "execution_count": 10,
   "metadata": {},
   "outputs": [],
   "source": [
    "# 덧붙이기 모드로 텍스트 파일을 열어 텍스트 출력하기\n",
    "\n",
    "from datetime import datetime\n",
    "now = datetime.now()\n",
    "text = f'현재 시각: {now.hour:02}:{now.minute:02}:{now.second:02}\\n'\n",
    "\n",
    "with open('time.txt', 'a') as file:\n",
    "    file.write(text)"
   ]
  },
  {
   "cell_type": "markdown",
   "metadata": {},
   "source": [
    " - 파일에 정보를 기록하는 방법을 살펴보면서, 파일을 여는 모드에 여러 가지가 있다는 것을 함께 알게 되었다. \n",
    " \n",
    " - open() 함수에서 지정할 수 있는 다양한 열기 모드는 아래의 표에 정리해두었다."
   ]
  },
  {
   "cell_type": "code",
   "execution_count": 7,
   "metadata": {},
   "outputs": [
    {
     "data": {
      "image/png": "[encoded data removed]",
      "text/plain": [
       "<IPython.core.display.Image object>"
      ]
     },
     "execution_count": 7,
     "metadata": {},
     "output_type": "execute_result"
    }
   ],
   "source": [
    "Image(\"img/00_1_img.png\")"
   ]
  },
  {
   "cell_type": "markdown",
   "metadata": {},
   "source": [
    "#### 텍스트 파일에서 정보 읽기\n",
    "\n",
    " - 프로그램에서 파일로 정보를 기록(출력)하는 것과 반대로, 파일에서 프로그램으로 정보를 읽어들이는(입력) 것도 가능하다. \n",
    " \n",
    " - open() 함수에서 파일을 읽기 모드(read mode)로 열면 된다. \n",
    " \n",
    " - 읽기 모드는 'r'로 지정할 수 있는데, open() 함수의 기본 동작이 읽기 모드로 수행되므로 생략해도 무방하다.\n",
    "\n",
    " - 읽기 모드로 파일을 연 뒤에는 파일 객체의 read() 메서드를 호출해 파일 내용을 읽어들일 수 있다. \n",
    " \n",
    " - 다음은 코드는 앞서 작성한 ‘time.txt’ 파일을 읽기 모드로 열고, read() 메서드로 파일 내용을 읽어들인다."
   ]
  },
  {
   "cell_type": "code",
   "execution_count": 11,
   "metadata": {},
   "outputs": [
    {
     "name": "stdout",
     "output_type": "stream",
     "text": [
      "현재 시각: 12:44:31\n",
      "현재 시각: 12:46:43\n",
      "현재 시각: 12:46:44\n",
      "\n"
     ]
    }
   ],
   "source": [
    "# 읽기 모드로 텍스트 파일을 열어 텍스트 입력받기\n",
    "\n",
    "with open('time.txt', 'r') as file:\n",
    "    data = file.read()\n",
    "\n",
    "print(data)   # 읽어들인 내용을 확인해보자"
   ]
  },
  {
   "cell_type": "markdown",
   "metadata": {},
   "source": [
    " - 읽어들인 내용을 확인하기 위해 print() 함수로 화면에 출력해 보았더니 다음과 같이 출력되었다. \n",
    " \n",
    " - 텍스트 파일의 전체 내용이 다 읽어진 것을 확인할 수 있다.\n",
    "\n",
    " - 파일 객체의 read() 메서드는 파일 내용의 전체를 다 읽어들인다. \n",
    " \n",
    " - 파일의 용량이 큰 경우에는 메모리가 부족하지 않도록 주의해야 한다. \n",
    " \n",
    " - 만약 파일을 한 행씩 읽어들이고 싶다면, 파일 내용을 한 행씩 읽어 반환하는 readline() 메서드를 사용한다. \n",
    " \n",
    " - 이번에는 대화식 셸에서 읽어들여 보자."
   ]
  },
  {
   "cell_type": "code",
   "execution_count": 12,
   "metadata": {},
   "outputs": [],
   "source": [
    "# 읽기 모드로 텍스트 파일을 열어 텍스트 입력받기\n",
    "\n",
    "file = open('time.txt')"
   ]
  },
  {
   "cell_type": "code",
   "execution_count": 13,
   "metadata": {},
   "outputs": [
    {
     "data": {
      "text/plain": [
       "'현재 시각: 12:44:31\\n'"
      ]
     },
     "execution_count": 13,
     "metadata": {},
     "output_type": "execute_result"
    }
   ],
   "source": [
    "file.readline()   # 파일 내용을 한 행씩 읽어 반환한다"
   ]
  },
  {
   "cell_type": "code",
   "execution_count": 14,
   "metadata": {},
   "outputs": [
    {
     "data": {
      "text/plain": [
       "'현재 시각: 12:46:43\\n'"
      ]
     },
     "execution_count": 14,
     "metadata": {},
     "output_type": "execute_result"
    }
   ],
   "source": [
    "file.readline()   # 파일 내용을 한 행씩 읽어 반환한다"
   ]
  },
  {
   "cell_type": "code",
   "execution_count": 15,
   "metadata": {},
   "outputs": [
    {
     "data": {
      "text/plain": [
       "'현재 시각: 12:46:44\\n'"
      ]
     },
     "execution_count": 15,
     "metadata": {},
     "output_type": "execute_result"
    }
   ],
   "source": [
    "file.readline()   # 파일 내용을 한 행씩 읽어 반환한다"
   ]
  },
  {
   "cell_type": "code",
   "execution_count": 16,
   "metadata": {},
   "outputs": [
    {
     "data": {
      "text/plain": [
       "''"
      ]
     },
     "execution_count": 16,
     "metadata": {},
     "output_type": "execute_result"
    }
   ],
   "source": [
    "file.readline()   # 더이상 읽을 것이 없으면 빈 문자열이 반환된다"
   ]
  },
  {
   "cell_type": "code",
   "execution_count": 17,
   "metadata": {},
   "outputs": [],
   "source": [
    "file.close()      # 파일을 닫는 것을 잊지 말자"
   ]
  },
  {
   "cell_type": "markdown",
   "metadata": {},
   "source": [
    " - 파일 객체는 파일의 각 행을 읽어들여 출력하는 반복자(7.4 절)를 제공한다. \n",
    " \n",
    " - 따라서 파일 객체를 for 문으로 순회하는 것도 가능하다. \n",
    " \n",
    " - 파일의 모든 행을 읽어들일 때까지 각 행을 읽어들인다."
   ]
  },
  {
   "cell_type": "code",
   "execution_count": 18,
   "metadata": {},
   "outputs": [
    {
     "name": "stdout",
     "output_type": "stream",
     "text": [
      "현재 시각: 12:44:31\n",
      "현재 시각: 12:46:43\n",
      "현재 시각: 12:46:44\n"
     ]
    }
   ],
   "source": [
    "#파일 객체를 순회하며 파일 내용 읽어들이기\n",
    "\n",
    "with open('time.txt') as file:\n",
    "    for line in file:\n",
    "        print(line, end='')"
   ]
  },
  {
   "cell_type": "markdown",
   "metadata": {},
   "source": [
    " - 개념 정리\n",
    "\n",
    " > - open() 함수로 텍스트 파일을 열 수 있다.\n",
    " >\n",
    " > - 파일 객체의 read() 메서드로 파일의 내용을 읽어들일 수 있다.\n",
    " >\n",
    " > - print() 함수 또는 파일 객체의 write() 메서드로 파일에 텍스트 데이터를 기록할 수 있다.\n",
    " >\n",
    " > - 파일을 사용한 뒤 close() 메서드로 닫아야 한다. 닫는 것을 잊지 않으려면 파일을 열 때 with 문을 사용한다."
   ]
  },
  {
   "cell_type": "markdown",
   "metadata": {},
   "source": [
    "###### 연습문제 11-4 텍스트 파일 복사\n",
    "\n",
    " - 파일 경로를 나타내는 문자열 두 개를 인자로 전달받아, 텍스트 파일을 복사하는 함수cp(src, dst)를 작성하라. \n",
    " \n",
    " - 예를 들어, 이 함수를 다음과 같이 호출하면 original.txt 파일을 clone.txt 파일로 복사한다.\n",
    "\n",
    " `cp('original.txt', 'clone.txt')`"
   ]
  },
  {
   "cell_type": "code",
   "execution_count": null,
   "metadata": {},
   "outputs": [],
   "source": []
  }
 ],
 "metadata": {
  "kernelspec": {
   "display_name": "Python 3",
   "language": "python",
   "name": "python3"
  },
  "language_info": {
   "codemirror_mode": {
    "name": "ipython",
    "version": 3
   },
   "file_extension": ".py",
   "mimetype": "text/x-python",
   "name": "python",
   "nbconvert_exporter": "python",
   "pygments_lexer": "ipython3",
   "version": "3.6.8"
  }
 },
 "nbformat": 4,
 "nbformat_minor": 2
}
