{
 "cells": [
  {
   "cell_type": "markdown",
   "metadata": {},
   "source": [
    "### 파일 읽고(read) / 쓰기(write)\n",
    "\n",
    " - 컴퓨터에서 파일이란 형식을 가지는 데이터로 형식이 모여 기능을 할 수 있음\n",
    " \n",
    " - 형식 없이 기록만으로도 사용이 가능\n",
    " \n",
    " - 파일을 읽는다는 것은 기록된 데이터를 RAM에 옮겨 확인하는 작업\n",
    " \n",
    " - 파일을 쓴다는 것은 RAM에 저장된 값을 파일로 저장하는 작업 ... RAM을 효율적으로 쓸 수 있다\n",
    " \n",
    " - 파일을 읽는 것은 **책장(ROM; 컴퓨터 저장소)** 에 있던 **책(형식을 가질 때 역할을 할 수 있는 혹은 기록 자체로의 데이터)** 을 **책상(RAM; 컴퓨터 메모리)** 에 옮기는 작업\n",
    " \n",
    " - 파일을 쓰는 것은 **책상(RAM; 컴퓨터 메모리)** 에 있는 책에 **필기구로 글자를 세기고(데이터의 기록)** 책을 덮고 **책장(ROM; 컴퓨터 저장소)** 에 넣어두는 작업"
   ]
  },
  {
   "cell_type": "markdown",
   "metadata": {},
   "source": [
    "#### 텍스트 파일 읽고 쓰기\n",
    "\n",
    " - 파일 사용의 기본은 파일을 열고 닫는 법을 아는 것이다. \n",
    " \n",
    " - 파일은 운영 체제가 통제하는 파일 시스템에 의해 제공된다. \n",
    " \n",
    " - 응용 프로그램이 파일 입출력을 하려면 운영 체제에 요청하여 허락을 구해야 하며(파일 열기), 파일을 다 작성한 후에도 운영 체제에 끝났음을 알려주어야 한다(파일 닫기). \n",
    " \n",
    " - 파이썬에서는 다음과 같은 세 단계를 거친다.\n",
    "\n",
    "> 1. open() 함수로 파일을 열어, 파일 객체를 얻는다.\n",
    ">\n",
    "> 2. 파일 객체에서 입력 또는 출력을 수행한다.\n",
    ">\n",
    "> 3. 파일 객체의 close() 메서드로 파일을 닫는다.\n",
    "\n",
    " - 파일을 열 때 사용하는 open() 함수는 사용하려는 파일의 경로를 첫번째 매개변수로 전달받는다. \n",
    " \n",
    " - open() 함수는 지정된 경로의 파일을 열어 파일 객체를 반환한다. \n",
    " \n",
    " - 파일 객체는 파일에서 정보를 읽거나 기록하는 메서드를 제공한다. \n",
    " \n",
    " - 파일 객체를 다 사용한 후에는 close() 메서드로 닫아준다. (컴퓨터 메모리에서 데이터를 삭제하는 과정 ... 계속 읽기만하면 책상에 자리가 없다)\n",
    "\n",
    " - 다음은 이 세 단계에 따라 years.txt라는 텍스트 파일을 열고, 그 내용을 읽어 화면에 출력하고, 파일을 닫는 프로그램이다."
   ]
  },
  {
   "cell_type": "code",
   "execution_count": 1,
   "metadata": {},
   "outputs": [
    {
     "name": "stdout",
     "output_type": "stream",
     "text": [
      "data 1\n",
      "\n",
      "data 2\n",
      "\n",
      "data 3 data 4\n"
     ]
    }
   ],
   "source": [
    "# 파일을 열고, 사용하고, 닫는 프로그램\n",
    "\n",
    "file = open('years.txt')  # 텍스트 파일 열기\n",
    "for line in file:         # 파일 내용을 한 행씩 읽어 화면에 출력\n",
    "    print(line)\n",
    "file.close()              # 파일 닫기"
   ]
  },
  {
   "cell_type": "markdown",
   "metadata": {},
   "source": [
    " - 위 코드에서는 파일을 닫을 때 파일 객체의 close() 메서드를 직접 호출했다. \n",
    " \n",
    " - 하지만 9.5에서 설명했듯이, with 문을 사용해 파일 객체가 자동으로 닫히도록 하는 편이 더 좋다."
   ]
  },
  {
   "cell_type": "code",
   "execution_count": 2,
   "metadata": {},
   "outputs": [
    {
     "name": "stdout",
     "output_type": "stream",
     "text": [
      "data 1\n",
      "\n",
      "data 2\n",
      "\n",
      "data 3 data 4\n"
     ]
    }
   ],
   "source": [
    "# with 문으로 파일 읽기\n",
    "\n",
    "with open('years.txt') as file:  # 텍스트 파일 열기\n",
    "    for line in file:            # 파일 내용을 한 행씩 읽어 화면에 출력\n",
    "        print(line)"
   ]
  },
  {
   "cell_type": "markdown",
   "metadata": {},
   "source": [
    " - 위의 코드는 'years.txt' 파일을 열고, 파일 객체를 file 변수에 대입하여 사용한다\n",
    " \n",
    " - with 문의 본문에서 file 객체를 자유롭게 사용할 수 있다. \n",
    " \n",
    " - 본문이 다 실행된 후에는 파일이 저절로 닫히니 파일 객체의 close() 메서드를 직접 호출하지 않아도 된다."
   ]
  },
  {
   "cell_type": "markdown",
   "metadata": {},
   "source": [
    "#### 텍스트 파일에 정보 기록하기\n",
    "\n",
    " - 텍스트 파일에 텍스트 데이터를 출력하는 것은 화면에 텍스트 데이터를 출력하는 것과 비슷하다\n",
    " \n",
    " - 출력 대상을 화면이 아니라 파일로 지정해야 한다는 점이 다를 뿐이다\n",
    " \n",
    " - 다음은 1장에서 만들어 본 첫 파이썬 프로그램의 실행 결과를 화면이 아니라 파일에 출력하도록 한 예다"
   ]
  },
  {
   "cell_type": "code",
   "execution_count": 3,
   "metadata": {},
   "outputs": [
    {
     "name": "stdout",
     "output_type": "stream",
     "text": [
      "당신의 이름은 무엇인가요?\n",
      "name\n"
     ]
    }
   ],
   "source": [
    "# 쓰기 모드로 텍스트 파일을 열어 텍스트 출력하기\n",
    "\n",
    "print('당신의 이름은 무엇인가요?')\n",
    "name = input()\n",
    "\n",
    "with open('hello.txt', 'w') as file:\n",
    "    print(name, '님 반가워요.', file=file)"
   ]
  },
  {
   "cell_type": "markdown",
   "metadata": {},
   "source": [
    " - 파일을 열 때는 ‘읽기’ 또는 ‘쓰기’ 모드로 지정하여 열어야 한다. \n",
    " \n",
    " - 파일은 기본적으로 ‘읽기’ 모드로 열리기 때문에 파일에 무언가를 기록하고자 할 때는 ‘쓰기’ 모드로 열도록 지정해야 한다. \n",
    " \n",
    " - 위 코드에서 open('hello.txt', 'w') 함수 호출을 자세히 보면, open() 함수의 두 번째 매개변수에 'w'라는 문자열을 전달했다. \n",
    " \n",
    " - open() 함수의 두 번째 매개변수가 바로 파일의 열기 모드를 지정하기 위한 변수다. \n",
    " \n",
    " - 'w'는 쓰기 모드(write mode)의 머릿말으로, 파일을 쓰기 모드로 열겠다는 뜻이다."
   ]
  },
  {
   "cell_type": "code",
   "execution_count": 4,
   "metadata": {},
   "outputs": [
    {
     "data": {
      "image/png": "[encoded data removed]",
      "text/plain": [
       "<IPython.core.display.Image object>"
      ]
     },
     "execution_count": 4,
     "metadata": {},
     "output_type": "execute_result"
    }
   ],
   "source": [
    "from IPython.display import Image\n",
    "Image(\"img/00_0_img.png\")"
   ]
  },
  {
   "cell_type": "markdown",
   "metadata": {},
   "source": [
    " - print() 함수를 사용하는 대신 파일 객체의 write() 메서드를 사용해도 된다."
   ]
  },
  {
   "cell_type": "code",
   "execution_count": 5,
   "metadata": {},
   "outputs": [],
   "source": [
    "# file.write() 메서드로 기록하기\n",
    "\n",
    "from datetime import date\n",
    "today = date.today()\n",
    "text = f'안녕하세요! 오늘은 {today.month}월 {today.day}일 입니다.\\n'\n",
    "\n",
    "with open('hello.txt', 'w') as file:\n",
    "    file.write(text)"
   ]
  },
  {
   "cell_type": "markdown",
   "metadata": {},
   "source": [
    " - print() 함수는 전달된 인자가 문자열이 아니더라도 텍스트로 자동 변환해 주지만, 파일 객체의 write() 메서드에는 데이터를 문자열로 변경해 전달해야 한다. \n",
    " \n",
    " - 또한, 개행 문자(\\n)도 직접 출력해야 한다.\n",
    "\n",
    " - 위의 코드를 실행한 뒤 hello.txt 파일의 내용을 다시 확인해보면, 앞서 기록되어 있던 ‘xxx 님 안녕하세요!’ 는 사라졌고 ‘안녕하세요! 오늘은 11월 27일 입니다.’라는 새로운 내용만 기록된 것을 확인할 수 있을 것이다. \n",
    " \n",
    " - 쓰기 모드('w')로 파일을 열면 파일의 기존 내용은 삭제된다.\n",
    "\n",
    " - 파일이 이미 존재할 때 기존 내용 뒤에 새로운 덧붙여 작성하려면, 파일을 덧붙이기 모드(append mode)로 열어야 한다. \n",
    " \n",
    " - open() 함수에서 열기 모드를 'a'로 지정하면 된다."
   ]
  },
  {
   "cell_type": "code",
   "execution_count": 10,
   "metadata": {},
   "outputs": [],
   "source": [
    "# 덧붙이기 모드로 텍스트 파일을 열어 텍스트 출력하기\n",
    "\n",
    "from datetime import datetime\n",
    "now = datetime.now()\n",
    "text = f'현재 시각: {now.hour:02}:{now.minute:02}:{now.second:02}\\n'\n",
    "\n",
    "with open('time.txt', 'a') as file:\n",
    "    file.write(text)"
   ]
  },
  {
   "cell_type": "markdown",
   "metadata": {},
   "source": [
    " - 파일에 정보를 기록하는 방법을 살펴보면서, 파일을 여는 모드에 여러 가지가 있다는 것을 함께 알게 되었다. \n",
    " \n",
    " - open() 함수에서 지정할 수 있는 다양한 열기 모드는 아래의 표에 정리해두었다."
   ]
  },
  {
   "cell_type": "code",
   "execution_count": 7,
   "metadata": {},
   "outputs": [
    {
     "data": {
      "image/png": "[encoded data removed]",
      "text/plain": [
       "<IPython.core.display.Image object>"
      ]
     },
     "execution_count": 7,
     "metadata": {},
     "output_type": "execute_result"
    }
   ],
   "source": [
    "Image(\"img/00_1_img.png\")"
   ]
  },
  {
   "cell_type": "markdown",
   "metadata": {},
   "source": [
    "#### 텍스트 파일에서 정보 읽기\n",
    "\n",
    " - 프로그램에서 파일로 정보를 기록(출력)하는 것과 반대로, 파일에서 프로그램으로 정보를 읽어들이는(입력) 것도 가능하다. \n",
    " \n",
    " - open() 함수에서 파일을 읽기 모드(read mode)로 열면 된다. \n",
    " \n",
    " - 읽기 모드는 'r'로 지정할 수 있는데, open() 함수의 기본 동작이 읽기 모드로 수행되므로 생략해도 무방하다.\n",
    "\n",
    " - 읽기 모드로 파일을 연 뒤에는 파일 객체의 read() 메서드를 호출해 파일 내용을 읽어들일 수 있다. \n",
    " \n",
    " - 다음은 코드는 앞서 작성한 ‘time.txt’ 파일을 읽기 모드로 열고, read() 메서드로 파일 내용을 읽어들인다."
   ]
  },
  {
   "cell_type": "code",
   "execution_count": 11,
   "metadata": {},
   "outputs": [
    {
     "name": "stdout",
     "output_type": "stream",
     "text": [
      "현재 시각: 12:44:31\n",
      "현재 시각: 12:46:43\n",
      "현재 시각: 12:46:44\n",
      "\n"
     ]
    }
   ],
   "source": [
    "# 읽기 모드로 텍스트 파일을 열어 텍스트 입력받기\n",
    "\n",
    "with open('time.txt', 'r') as file:\n",
    "    data = file.read()\n",
    "\n",
    "print(data)   # 읽어들인 내용을 확인해보자"
   ]
  },
  {
   "cell_type": "markdown",
   "metadata": {},
   "source": [
    " - 읽어들인 내용을 확인하기 위해 print() 함수로 화면에 출력해 보았더니 다음과 같이 출력되었다. \n",
    " \n",
    " - 텍스트 파일의 전체 내용이 다 읽어진 것을 확인할 수 있다.\n",
    "\n",
    " - 파일 객체의 read() 메서드는 파일 내용의 전체를 다 읽어들인다. \n",
    " \n",
    " - 파일의 용량이 큰 경우에는 메모리가 부족하지 않도록 주의해야 한다. \n",
    " \n",
    " - 만약 파일을 한 행씩 읽어들이고 싶다면, 파일 내용을 한 행씩 읽어 반환하는 readline() 메서드를 사용한다. \n",
    " \n",
    " - 이번에는 대화식 셸에서 읽어들여 보자."
   ]
  },
  {
   "cell_type": "code",
   "execution_count": 12,
   "metadata": {},
   "outputs": [],
   "source": [
    "# 읽기 모드로 텍스트 파일을 열어 텍스트 입력받기\n",
    "\n",
    "file = open('time.txt')"
   ]
  },
  {
   "cell_type": "code",
   "execution_count": 13,
   "metadata": {},
   "outputs": [
    {
     "data": {
      "text/plain": [
       "'현재 시각: 12:44:31\\n'"
      ]
     },
     "execution_count": 13,
     "metadata": {},
     "output_type": "execute_result"
    }
   ],
   "source": [
    "file.readline()   # 파일 내용을 한 행씩 읽어 반환한다"
   ]
  },
  {
   "cell_type": "code",
   "execution_count": 14,
   "metadata": {},
   "outputs": [
    {
     "data": {
      "text/plain": [
       "'현재 시각: 12:46:43\\n'"
      ]
     },
     "execution_count": 14,
     "metadata": {},
     "output_type": "execute_result"
    }
   ],
   "source": [
    "file.readline()   # 파일 내용을 한 행씩 읽어 반환한다"
   ]
  },
  {
   "cell_type": "code",
   "execution_count": 15,
   "metadata": {},
   "outputs": [
    {
     "data": {
      "text/plain": [
       "'현재 시각: 12:46:44\\n'"
      ]
     },
     "execution_count": 15,
     "metadata": {},
     "output_type": "execute_result"
    }
   ],
   "source": [
    "file.readline()   # 파일 내용을 한 행씩 읽어 반환한다"
   ]
  },
  {
   "cell_type": "code",
   "execution_count": 16,
   "metadata": {},
   "outputs": [
    {
     "data": {
      "text/plain": [
       "''"
      ]
     },
     "execution_count": 16,
     "metadata": {},
     "output_type": "execute_result"
    }
   ],
   "source": [
    "file.readline()   # 더이상 읽을 것이 없으면 빈 문자열이 반환된다"
   ]
  },
  {
   "cell_type": "code",
   "execution_count": 17,
   "metadata": {},
   "outputs": [],
   "source": [
    "file.close()      # 파일을 닫는 것을 잊지 말자"
   ]
  },
  {
   "cell_type": "markdown",
   "metadata": {},
   "source": [
    " - 파일 객체는 파일의 각 행을 읽어들여 출력하는 반복자(7.4 절)를 제공한다. \n",
    " \n",
    " - 따라서 파일 객체를 for 문으로 순회하는 것도 가능하다. \n",
    " \n",
    " - 파일의 모든 행을 읽어들일 때까지 각 행을 읽어들인다."
   ]
  },
  {
   "cell_type": "code",
   "execution_count": 18,
   "metadata": {},
   "outputs": [
    {
     "name": "stdout",
     "output_type": "stream",
     "text": [
      "현재 시각: 12:44:31\n",
      "현재 시각: 12:46:43\n",
      "현재 시각: 12:46:44\n"
     ]
    }
   ],
   "source": [
    "#파일 객체를 순회하며 파일 내용 읽어들이기\n",
    "\n",
    "with open('time.txt') as file:\n",
    "    for line in file:\n",
    "        print(line, end='')"
   ]
  },
  {
   "cell_type": "markdown",
   "metadata": {},
   "source": [
    " - 개념 정리\n",
    "\n",
    " > - open() 함수로 텍스트 파일을 열 수 있다.\n",
    " >\n",
    " > - 파일 객체의 read() 메서드로 파일의 내용을 읽어들일 수 있다.\n",
    " >\n",
    " > - print() 함수 또는 파일 객체의 write() 메서드로 파일에 텍스트 데이터를 기록할 수 있다.\n",
    " >\n",
    " > - 파일을 사용한 뒤 close() 메서드로 닫아야 한다. 닫는 것을 잊지 않으려면 파일을 열 때 with 문을 사용한다."
   ]
  },
  {
   "cell_type": "markdown",
   "metadata": {},
   "source": [
    "###### 연습문제 11-4 텍스트 파일 복사\n",
    "\n",
    " - 파일 경로를 나타내는 문자열 두 개를 인자로 전달받아, 텍스트 파일을 복사하는 함수cp(src, dst)를 작성하라. \n",
    " \n",
    " - 예를 들어, 이 함수를 다음과 같이 호출하면 original.txt 파일을 clone.txt 파일로 복사한다.\n",
    "\n",
    " `cp('original.txt', 'clone.txt')`"
   ]
  },
  {
   "cell_type": "code",
   "execution_count": null,
   "metadata": {},
   "outputs": [],
   "source": []
  },
  {
   "cell_type": "markdown",
   "metadata": {},
   "source": [
    "### 데이터 직렬화하기\n",
    "\n",
    " - 텍스트 파일로는 단순한 텍스트 정보만을 출력할 수 있다. \n",
    " \n",
    " - 리스트·사전 등 컬렉션을 중첩한 입체적인 데이터를 파일로 저장하고 읽어들이려면 어떻게 해야 할까? \n",
    " \n",
    " - 입체적인 데이터를 텍스트로 나타내기 위한 일정한 약속이 필요하다고 생각했다면 정답이다. \n",
    " \n",
    " - 이런 약속에 따라 입체적인 데이터를 텍스트나 바이트로 표현하는 것을 직렬화(serialization)라고 한다.\n",
    "\n",
    " - 직렬화를 위한 형식에는 여러 가지가 있다. \n",
    " \n",
    " - 그 가운데 요즘 가장 많이 사용되는 것은 CSV와 JSON이다. \n",
    " \n",
    " - CSV와 JSON은 파이썬 뿐 아니라 다양한 프로그래밍 환경에서 지원된다. \n",
    " \n",
    " - 파이썬에서 작성한 데이터를 다른 프로그래밍 언어로 작성한 프로그램으로 전송할 때에도 유용하게 사용할 수 있다.\n",
    "\n",
    "#### CSV: 표 형식의 정보 나타내기\n",
    "\n",
    " - CSV(comma-separated values, 쉼표로 구분된 값)는 표(table) 형식로 저장된 데이터를 표현하기 위한 형식이다. \n",
    " \n",
    " - CSV에 관해 설명하기 전, 먼저 표 형식의 데이터에 관해 잠시 알아보자.\n",
    "\n",
    " - 표는 가로·세로의 2차원으로 칸(cell)을 배열하고 칸 안에 정보를 기록하는 도구다. \n",
    " \n",
    " - 표를 가로로 잘라내면 잘라내면 행(row)이, 세로로 잘라내면 열(column)이 된다."
   ]
  },
  {
   "cell_type": "code",
   "execution_count": 19,
   "metadata": {},
   "outputs": [
    {
     "data": {
      "image/png": "[encoded data removed]",
      "text/plain": [
       "<IPython.core.display.Image object>"
      ]
     },
     "execution_count": 19,
     "metadata": {},
     "output_type": "execute_result"
    }
   ],
   "source": [
    "Image(\"img/00_2_img.png\")"
   ]
  },
  {
   "cell_type": "markdown",
   "metadata": {},
   "source": [
    " - CSV 형식의 텍스트 파일로 작성된 표 데이터를 파이썬으로 읽어들이려면 어떻게 해야 할까? \n",
    " \n",
    " - 파일을 행 단위로 읽어들인 뒤 각 행을 다시 쉼표(,) 분리하면 해석할 수 있을 것이다.\n",
    "\n",
    " - 하지만 CSV 형식을 해석해주는 파이썬 내장 모듈 csv를 사용하는 편이 더 좋다. \n",
    " \n",
    " - csv 모듈은 표 형식의 데이터를 CSV 형식으로 표현하거나, CSV 형식의 데이터를 리스트를 담은 리스트 또는 사전을 담은 리스트로 해석해 준다. \n",
    " \n",
    " - 다음은 csv 모듈을 이용해 CSV 파일을 읽어들이는 예다."
   ]
  },
  {
   "cell_type": "code",
   "execution_count": 20,
   "metadata": {},
   "outputs": [
    {
     "name": "stdout",
     "output_type": "stream",
     "text": [
      "[['title', 'genre', 'year'],\n",
      " ['Interstella', 'SF', '2014'],\n",
      " ['Braveheart', 'Drama', '1995'],\n",
      " ['Mary Poppins', 'Fantasy', '1964'],\n",
      " ['Gloomy Sunday', 'Drama', '2000']]\n"
     ]
    }
   ],
   "source": [
    "# CSV 파일 읽어들이기\n",
    "\n",
    "import csv  # csv 모듈 임포트\n",
    "import pprint\n",
    "\n",
    "# movies.csv 파일 열기\n",
    "with open('movies.csv') as file:\n",
    "    reader = csv.reader(file)  # CSV 파일을 읽어들이는 읽기 객체\n",
    "    movies = list(reader)      # CSV 파일 내용을 리스트로 읽어들인다\n",
    "\n",
    "pprint.pprint(movies)  # 읽어들인 내용을 화면에 출력"
   ]
  },
  {
   "cell_type": "markdown",
   "metadata": {},
   "source": [
    " - 이번에는 반대로, 파이썬에서 중첩 리스트로 저장한 표 데이터를 CSV 형식 파일로 출력해보자. \n",
    " \n",
    " - csv 모듈의 csv.writer() 함수로 쓰기 객체를 생성하고, 쓰기 객체의 writerows() 메서드를 사용하면 된다. \n",
    " \n",
    " - 다음 예를 따라해 보자."
   ]
  },
  {
   "cell_type": "code",
   "execution_count": 21,
   "metadata": {},
   "outputs": [],
   "source": [
    "# 중첩 리스트를 CSV 파일로 작성하기\n",
    "\n",
    "import csv\n",
    "\n",
    "# 표 데이터를 담은 중첩 리스트\n",
    "table = [\n",
    "    ['title', 'genre', 'year'],\n",
    "    ['Interstella', 'SF', '2014'],\n",
    "    ['Braveheart', 'Drama', '1995'],\n",
    "    ['Mary Poppins', 'Fantasy', '1964'],\n",
    "    ['Gloomy Sunday', 'Drama', '2000'],\n",
    "]\n",
    "\n",
    "# movies_output.csv 파일을 쓰기 모드로 열기\n",
    "with open('movies_output.csv', 'w') as file:\n",
    "    writer = csv.writer(file)  # CSV 파일을 작성하는 쓰기 객체\n",
    "    writer.writerows(table)    # 표를 전체 행을 CSV 파일에 써넣는다"
   ]
  },
  {
   "cell_type": "markdown",
   "metadata": {},
   "source": [
    " - 새로 만들어진 파일을 열어 보면 CSV 형식으로 작성된 표를 볼 수 있을 것이다.\n",
    "\n",
    " - CSV 형식의 파일은 마이크로소프트 엑셀 등의 스프레드시트 프로그램으로도 읽어들일 수 있다. \n",
    " \n",
    " - 뿐만 아니라 스프레드시트 프로그램에서 작성한 표를 CSV 형식으로 저장하는 것도 가능하다. \n",
    " \n",
    " - 이를 통해 스프레드시트 프로그램과 파이썬 사이에서 데이터를 주고받을 수 있다. \n",
    " \n",
    " - CSV는 그 외에도 다양한 프로그램에서 활용된다."
   ]
  },
  {
   "cell_type": "markdown",
   "metadata": {},
   "source": [
    "#### JSON: 입체적인 데이터 나타내기\n",
    "\n",
    " - CSV 형식은 표 형식의 평면적인 데이터를 나타내기에 좋다. \n",
    " \n",
    " - 하지만 리스트와 사전이 여러 층 중첩된 입체적인 데이터를 나타내기는 쉽지 않다. \n",
    " \n",
    " - 이런 데이터를 파일로 저장하거나 네트워크로 주고받으려면 더 복잡한 구조를 표현할 수 있는 형식이 필요하다. \n",
    " \n",
    " - 가장 많이 사용되는 형식은 XML(Extensible Markup Language)과 JSON(JavaScript Object Notation, ‘제이슨’으로 읽는다)이다. \n",
    " \n",
    " - 그 중에서도 JSON은 웹 브라우저에서 사용되는 언어인 자바스크립트(JavaScript)로 처리하기가 용이하며, XML보다 간결하여 인기가 높다. \n",
    " \n",
    " - JSON으로 표기된 데이터를 파이썬에서 읽어들이는 방법을 알아보자.\n",
    " \n",
    " > *입체적인 데이터도 표 형태로 나타낼 수 있다*\n",
    " >\n",
    " > - 표 만으로도 입체적인 데이터를 나타낼 수 있다. 중복 데이터를 별도의 표로 잘라내고 표들의 관계를 정의하는 정규화를 적용하면 된다. 이런 방식으로 구성된 데이터 체계를 관계형 데이터베이스라고 한다. 대규모 데이터를 관리하는 원리에 관심이 있다면 데이터베이스를 학습해보기를 추천한다."
   ]
  },
  {
   "cell_type": "markdown",
   "metadata": {},
   "source": [
    " - JSON의 표기법은 파이썬의 리스트와 사전을 중첩한 데이터와 흡사하다. 예를 들어, 데이터를 파이썬 코드로 다음과 같이 나타냈다면,\n",
    "\n",
    "```\n",
    "[\n",
    "    {\n",
    "        'title': 'Interstella',\n",
    "        'genre': 'SF',\n",
    "        'year': 2014,\n",
    "        'starring': ['M. McConaughey', 'A. Hathaway', 'J. Chastain'],\n",
    "    },\n",
    "    {\n",
    "        'title': 'Mary Poppins',\n",
    "        'genre': 'Fantasy',\n",
    "        'year': 1964,\n",
    "        'starring': ['J. Andrews', 'D. Van Dyke'],\n",
    "    },\n",
    "]\n",
    "```\n",
    "\n",
    " - JSON으로는 다음과 같이 표현한다.\n",
    "\n",
    "```\n",
    "[\n",
    "    {\n",
    "        \"title\": \"Interstella\",\n",
    "        \"genre\": \"SF\",\n",
    "        \"year\": 2014,\n",
    "        \"starring\": [\"M. McConaughey\", \"A. Hathaway\", \"J. Chastain\"]\n",
    "    },\n",
    "    {\n",
    "        \"title\": \"Mary Poppins\",\n",
    "        \"genre\": \"Fantasy\",\n",
    "        \"year\": 1964,\n",
    "        \"starring\": [\"J. Andrews\", \"D. Van Dyke\"]\n",
    "    }\n",
    "]\n",
    "```"
   ]
  },
  {
   "cell_type": "markdown",
   "metadata": {},
   "source": [
    " - 보다시피 파이썬으로 표현한 데이터 코드와 JSON으로 표현한 데이터 코드가 매우 닮았다. \n",
    " \n",
    " - JSON의 문법을 자세히 설명하는 것은 이 책의 범위 밖이다. 다음 몇 가지 사항만 간단히 알아 두자.\n",
    "\n",
    "\n",
    " > 1. 숫자와 따옴표 데이터는 각각 파이썬의 수와 문자열에 대응된다.\n",
    " >\n",
    " > 2. 중괄호 표현(객체)은 파이썬의 사전에 대응된다.\n",
    " >\n",
    " > 3. 대괄호 표현(배열)은 파이썬의 리스트에 대응된다.\n",
    " >\n",
    " > 4. 작은따옴표가 아니라 큰따옴표를 사용한다.\n",
    " >\n",
    " > 5. 중괄호와 대괄호 안의 마지막 데이터 뒤에 콤마를 붙여서는 안 된다.\n",
    " >\n",
    " > 6. 줄바꿈과 들여쓰기 등 공백 문자는 생략될 수 있다.\n",
    " >\n",
    " > 7. JSON과 CSV를 비교하면 다음과 같은 차이가 있다.\n",
    "\n",
    " - CSV의 모든 값은 텍스트이지만, JSON은 수와 텍스트를 구별할 수 있다.\n",
    "\n",
    " - CSV는 열과 행만으로 데이터를 구조화하지만, JSON은 객체(사전과 유사)와 배열(리스트와 유사)을 이용해 데이터를 입체적으로 구조화할 수 있다.\n",
    "\n",
    " - JSON의 문법을 당장 익히지 않더라도 상관 없다. \n",
    " \n",
    " - 파이썬의 json 모듈이 변환을 대신 수행해주기 때문이다. \n",
    " \n",
    " - 먼저, 컬렉션을 JSON으로 직렬화할 때는 json.dumps() 함수를 사용한다. \n",
    " \n",
    " - 이 함수는 컬렉션을 입력받아 직렬화된 문자열을 반환한다."
   ]
  },
  {
   "cell_type": "code",
   "execution_count": 22,
   "metadata": {},
   "outputs": [
    {
     "name": "stdout",
     "output_type": "stream",
     "text": [
      "[{\"title\": \"Interstella\", \"genre\": \"SF\", \"year\": 2014, \"starring\": [\"M. McConaughey\", \"A. Hathaway\", \"J. Chastain\"]}, {\"title\": \"Mary Poppins\", \"genre\": \"Fantasy\", \"year\": 1964, \"starring\": [\"J. Andrews\", \"D. Van Dyke\"]}]\n"
     ]
    }
   ],
   "source": [
    "# 입체적인 데이터를 JSON으로 직렬화하기\n",
    "\n",
    "import json   # json 모듈 임포트\n",
    "\n",
    "# 직렬화하려는 데이터\n",
    "data = [\n",
    "    {\n",
    "        'title': 'Interstella',\n",
    "        'genre': 'SF',\n",
    "        'year': 2014,\n",
    "        'starring': ['M. McConaughey', 'A. Hathaway', 'J. Chastain'],\n",
    "    },\n",
    "    {\n",
    "        'title': 'Mary Poppins',\n",
    "        'genre': 'Fantasy',\n",
    "        'year': 1964,\n",
    "        'starring': ['J. Andrews', 'D. Van Dyke'],\n",
    "    },\n",
    "]\n",
    "\n",
    "json_data = json.dumps(data)  # 컬렉션을 JSON으로 직렬화\n",
    "print(json_data)              # 직렬화된 텍스트 확인\n",
    "with open('movies.json', 'w') as file:  # 파일로 저장\n",
    "    file.write(json_data)"
   ]
  },
  {
   "cell_type": "markdown",
   "metadata": {},
   "source": [
    " - 위 코드는 리스트 속에 사전, 사전 속에 다시 리스트가 포함된 복잡한 구조를 JSON으로 직렬화하는 과정을 보여준다. \n",
    " \n",
    " - 데이터를 입력하느라 코드가 길어졌지만 직렬화를 수행하는 코드는 json.dumps(data)에 불과하다. \n",
    " \n",
    " - 직렬화의 결과물은 문자열이므로 화면에 출력하거나 텍스트 파일로 저장할 수도 있다.\n",
    "\n",
    " - 반대로, JSON으로 직렬화된 텍스트를 읽어들여 파이썬 컬렉션으로 해석할 때는 json.loads() 함수를 사용하면 된다. \n",
    " \n",
    " - 이 함수는 문자열을 입력받아 컬렉션을 반환한다. \n",
    " \n",
    " - 다음 프로그램은 앞서 저장한 JSON 파일을 open() 함수로 열어 읽어들인 뒤, json.loads() 함수로 데이터를 해석한다."
   ]
  },
  {
   "cell_type": "code",
   "execution_count": 23,
   "metadata": {},
   "outputs": [
    {
     "name": "stdout",
     "output_type": "stream",
     "text": [
      "[{'genre': 'SF',\n",
      "  'starring': ['M. McConaughey', 'A. Hathaway', 'J. Chastain'],\n",
      "  'title': 'Interstella',\n",
      "  'year': 2014},\n",
      " {'genre': 'Fantasy',\n",
      "  'starring': ['J. Andrews', 'D. Van Dyke'],\n",
      "  'title': 'Mary Poppins',\n",
      "  'year': 1964}]\n"
     ]
    }
   ],
   "source": [
    "# JSON 텍스트를 읽어들여 역직렬화하기\n",
    "\n",
    "import json   # json 모듈 임포트\n",
    "import pprint\n",
    "\n",
    "with open('movies.json') as file:  # 텍스트 파일을 읽어들인다\n",
    "    json_data = file.read()\n",
    "\n",
    "data = json.loads(json_data)  # 읽어들인 텍스트 데이터를 역직렬화\n",
    "pprint.pprint(data)  # 해석된 데이터 확인"
   ]
  },
  {
   "cell_type": "markdown",
   "metadata": {},
   "source": [
    "###### 연습문제 11-5 CSV 파일 읽어들이기\n",
    "\n",
    " - 스프레드시트 또는 텍스트 편집기를 이용해 다음 표의 내용을 CSV 파일로 작성해라.\n",
    "\n",
    "|country\t|population\t|area\n",
    "|---|:---:|---:|\n",
    "|South Korea|\t48422644\t98480\n",
    "|China\t|1330044000\t|9596960\n",
    "|Japan\t|127288000\t|377835\n",
    "|United States\t|310232863\t|9629091\n",
    "|Russia\t|140702000\t|17100000\n",
    "\n",
    " - 이 CSV 파일을 읽어들이고 각 나라의 인구밀도를 구해 인구밀도가 높은 나라부터 낮은 나라 순으로 나라 이름과 인구밀도를 출력하는 프로그램을 작성해라."
   ]
  },
  {
   "cell_type": "markdown",
   "metadata": {},
   "source": [
    "### 파일 시스템에서 작업하기\n",
    "\n",
    " - 운영 체제의 파일 시스템에서 할 수 있는 일은 단순히 데이터를 파일로 저장하고 읽는 것 외에도 많다. \n",
    " \n",
    " - 예컨대 파일의 이름을 변경하거나, 파일을 옮기거나, 디렉터리를 만들거나, 어떤 디렉터리에 들어 있는 모든 파일을 구하는 것 말이다. \n",
    " \n",
    " - 파일 시스템에서 다양한 작업을 수행하는 방법을 알아보고, 반복 작업도 줄여 보자."
   ]
  },
  {
   "cell_type": "markdown",
   "metadata": {},
   "source": [
    "#### 경로 다루기\n",
    "\n",
    " - 운영 체제에서 어떤 파일 또는 디렉터리를 가리킬 때는 그 대상이 위치한 경로를 이용한다. \n",
    " \n",
    " - 다음은 몇 가지를 예로 든 것인데, 평소 컴퓨터를 많이 사용해 보았다면 낯설지 않을 것이다.\n",
    "\n",
    " > - .: 현재 디렉터리\n",
    " > \n",
    " > - ..: 한 단계 위의 디렉터리\n",
    " > \n",
    " > - C:\\: (윈도우) 첫번째 하드 디스크\n",
    " > \n",
    " > - C:\\Users\\bakyeono\\Documents\\: (윈도우) 사용자 문서 디렉터리\n",
    " > \n",
    " > - /: (유닉스) 파일 시스템의 루트\n",
    " > \n",
    " > - /home/bakyeono: (유닉스) 사용자 디렉터리\n",
    "\n",
    " - 경로를 나타내는 방법은 운영 체제마다 약간씩 차이가 있다. \n",
    " \n",
    " - 경로가 시작되는 지점이 유닉스에서는 루트(최상위)인데 반해, 윈도우에서는 디스크 운영 체제(DOS)의 전통에 따른 드라이브 문자(A:, B:, C: 등)다. \n",
    " \n",
    " - 또, 상위 디렉터리와 하위 항목을 구별하는 문자가 유닉스에서는 슬래시(/)고, 윈도우에서는 역슬래시(\\)다. \n",
    " \n",
    " - 파이썬에서는 편의상 둘 다 슬래시(/)로 통일하여 사용한다. 그 외에는 전체적으로 비슷하다.\n",
    "\n",
    " - 파이썬에서 경로를 나타내는 객체는 pathlib 모듈에 정의된 Path 클래스를 이용해 만들 수 있다. \n",
    " \n",
    " - Path(경로문자열)와 같이 가리킬 경로를 문자열로 전달하여 인스턴스화하면 된다."
   ]
  },
  {
   "cell_type": "code",
   "execution_count": 24,
   "metadata": {},
   "outputs": [
    {
     "data": {
      "text/plain": [
       "WindowsPath('.')"
      ]
     },
     "execution_count": 24,
     "metadata": {},
     "output_type": "execute_result"
    }
   ],
   "source": [
    "# 경로를 표현하는 Path 객체 생성하기\n",
    "\n",
    "from pathlib import Path   # pathlib 모듈에서 Path 클래스 임포트\n",
    "Path('.')     # 현재 디렉터리의 경로"
   ]
  },
  {
   "cell_type": "code",
   "execution_count": 25,
   "metadata": {},
   "outputs": [
    {
     "data": {
      "text/plain": [
       "WindowsPath('C:/')"
      ]
     },
     "execution_count": 25,
     "metadata": {},
     "output_type": "execute_result"
    }
   ],
   "source": [
    "Path('C:/')   # 하드 디스크의 경로"
   ]
  },
  {
   "cell_type": "markdown",
   "metadata": {},
   "source": [
    " - Path 객체를 생성한 뒤에는 객체의 속성과 메서드를 이용해 해당 경로의 대상을 조작할 수 있다. \n",
    " \n",
    " - 다음 표를 참고하자. (표에서 주의라고 써 둔 메서드는 해당 경로의 파일·디렉터리를 실제로 생성·수정·삭제한다.)"
   ]
  },
  {
   "cell_type": "code",
   "execution_count": 26,
   "metadata": {},
   "outputs": [
    {
     "data": {
      "image/png": "[encoded data removed]",
      "text/plain": [
       "<IPython.core.display.Image object>"
      ]
     },
     "execution_count": 26,
     "metadata": {},
     "output_type": "execute_result"
    }
   ],
   "source": [
    "Image(\"img/00_3_img.png\")"
   ]
  },
  {
   "cell_type": "code",
   "execution_count": 27,
   "metadata": {},
   "outputs": [
    {
     "name": "stdout",
     "output_type": "stream",
     "text": [
      "C:\\$Recycle.Bin\n",
      "C:\\Config.Msi\n",
      "C:\\Documents and Settings\n",
      "C:\\hiberfil.sys\n",
      "C:\\install.log\n",
      "C:\\MeFwVer.sys\n",
      "C:\\MSOCache\n",
      "C:\\NVIDIA\n",
      "C:\\pagefile.sys\n",
      "C:\\PerfLogs\n",
      "C:\\Program Files\n",
      "C:\\Program Files (x86)\n",
      "C:\\ProgramData\n",
      "C:\\Recovery\n",
      "C:\\swapfile.sys\n",
      "C:\\SWSetup\n",
      "C:\\System Volume Information\n",
      "C:\\Temp\n",
      "C:\\Users\n",
      "C:\\Windows\n"
     ]
    }
   ],
   "source": [
    "# 디렉터리의 모든 하위 항목 출력하기\n",
    "\n",
    "from pathlib import Path\n",
    "\n",
    "def ls(path):\n",
    "    \"\"\"path 디렉터리에 포함된 모든 하위 항목을 화면에 출력한다.\"\"\"\n",
    "    path_obj = Path(path)            # 전달된 경로의 Path 객체 생성\n",
    "    \n",
    "    for item in path_obj.iterdir():  # 모든 하위 항목을 순회하며\n",
    "        print(item)                  # 화면에 출력\n",
    "\n",
    "ls('C:/')  # C:\\ 경로의 모든 하위 항목 출력"
   ]
  },
  {
   "cell_type": "code",
   "execution_count": null,
   "metadata": {},
   "outputs": [],
   "source": []
  }
 ],
 "metadata": {
  "kernelspec": {
   "display_name": "Python 3",
   "language": "python",
   "name": "python3"
  },
  "language_info": {
   "codemirror_mode": {
    "name": "ipython",
    "version": 3
   },
   "file_extension": ".py",
   "mimetype": "text/x-python",
   "name": "python",
   "nbconvert_exporter": "python",
   "pygments_lexer": "ipython3",
   "version": "3.6.8"
  }
 },
 "nbformat": 4,
 "nbformat_minor": 2
}
