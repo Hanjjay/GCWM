{
 "cells": [
  {
   "cell_type": "markdown",
   "metadata": {},
   "source": [
    "### 앞으로를 어떻게 준비해볼까?\n",
    "\n",
    " - 대회\n",
    " \n",
    " > https://www.nypc.co.kr/main/main.do : 넥슨 청소년 프로그래밍 챌린지\n",
    " >\n",
    " > https://koi.or.kr/ : 한국정보올림피아드 \n",
    " >\n",
    " > https://koreacodefair.kr/codefair/program/heros : 한국코드페어\n",
    " >\n",
    " > http://www.elearningkorea.org/concours/concours1 : 한국 메이커, 코딩 경진대회\n",
    " >\n",
    " > http://aicontest.co.kr/default/mp2/mp2_sub1.php?sub=01 : 전국 인공지능 코딩 경진 대회 (5월 예정)\n",
    " \n",
    " - 공식 인증서를 발행 받는 수업 진행\n",
    " \n",
    " > https://ko.coursera.org/specializations/python : 코세라, 모두를 위한 python 전문 분야\n",
    " > \n",
    " > https://itsckr.tistory.com/entry/Coursera-10%EB%B2%88%EC%A7%B8-%EC%88%98%EB%A3%8C%EC%A6%9D-%EC%B7%A8%EB%93%9D : 코세라 10번째 자격증 획득\n",
    " \n",
    " - 자격증\n",
    " \n",
    " > 네트워크 관리사 2급\n",
    " \n",
    " - 수만휘 참조 자료\n",
    " \n",
    " > 5학종 1 실기 소프트웨어, 컴퓨터 공학과 최종결과\n",
    " >\n",
    " > 지방일반고 2.1 소프트웨어학과 수시 4승\n",
    " >\n",
    " > 지방 최하위권 고등학교 내신 3.8의 아무도 기대하지 않았던 입시 결과\n",
    " >\n",
    " > 4점 중반 평준화 일반고의 흔한 6종합 후기\n",
    " >\n",
    " > 일반고 내신 4점대의 1적정 5 상향 결과\n",
    " >\n",
    " > 내신 버리고 학생부 챙긴 일반고 내신 '4점대 6종합'\n",
    " >\n",
    " > 대학을 갈거라고 생각하지 않았던 사람이었습니다만..."
   ]
  },
  {
   "cell_type": "code",
   "execution_count": null,
   "metadata": {},
   "outputs": [],
   "source": []
  }
 ],
 "metadata": {
  "kernelspec": {
   "display_name": "Python 3",
   "language": "python",
   "name": "python3"
  },
  "language_info": {
   "codemirror_mode": {
    "name": "ipython",
    "version": 3
   },
   "file_extension": ".py",
   "mimetype": "text/x-python",
   "name": "python",
   "nbconvert_exporter": "python",
   "pygments_lexer": "ipython3",
   "version": "3.6.8"
  }
 },
 "nbformat": 4,
 "nbformat_minor": 2
}
