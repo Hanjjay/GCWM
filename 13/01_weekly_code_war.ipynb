{
 "cells": [
  {
   "cell_type": "markdown",
   "metadata": {},
   "source": [
    "### Square(n) Sum\n",
    "\n",
    " - Complete the square sum function so that it squares each number passed into it and then sums the results together.\n",
    " \n",
    " - 입력으로 int list를 받아서 모든 int 값의 제곱을 합하는 함수를 만들어라\n",
    "\n",
    " - For example, for `[1, 2, 2]` it should return 9 because 1^2 + 2^2 + 2^2 = 9.\n",
    " \n",
    " - 예를 들면 `[1, 2, 2]` 인 경우, 9를 출력한다 (1^2 + 2^2 + 2^2 = 9)"
   ]
  },
  {
   "cell_type": "code",
   "execution_count": null,
   "metadata": {},
   "outputs": [],
   "source": [
    "def square_sum(numbers):\n",
    "    #your code here"
   ]
  },
  {
   "cell_type": "markdown",
   "metadata": {},
   "source": [
    "### Find the first non-consecutive number\n",
    "\n",
    " - 처음으로 연속되지 않는 수를 찾기\n",
    " \n",
    " - 연속되지 않는 수가 있다면 그 수를 반환\n",
    " \n",
    " - 만약 모든 수가 연속된다면 `None`을 반환\n",
    " \n",
    " - Your task is to find the first element of an array that is not consecutive.\n",
    "\n",
    " - E.g. If we have an array [1,2,3,4,6,7,8] then 1 then 2 then 3 then 4 are all consecutive but 6 is not, so that's the first non-consecutive number.\n",
    "\n",
    " - If the whole array is consecutive then return null2.\n",
    "\n",
    " - The array will always have at least 2 elements1 and all elements will be numbers. \n",
    " \n",
    " - The numbers will also all be unique and in ascending order. \n",
    " \n",
    " - The numbers could be positive or negative and the first non-consecutive could be either too!\n",
    " \n",
    " - 예시\n",
    " \n",
    " > [1,2,3,4,6,7,8] -> 6\n",
    " >\n",
    " > [1,2,3,4,5,6,7,8] -> None\n",
    " >\n",
    " > [4,6,7,8,9,11] -> 6\n",
    " >\n",
    " > [-3,-2,0,1] -> 0\n",
    " >\n",
    " > [-5,-4,-3,-1] -> -1"
   ]
  },
  {
   "cell_type": "code",
   "execution_count": null,
   "metadata": {},
   "outputs": [],
   "source": [
    "def first_non_consecutive(arr):\n",
    "    #your code here"
   ]
  },
  {
   "cell_type": "markdown",
   "metadata": {},
   "source": [
    "### Pokemon Damage Calculator\n",
    "\n",
    " - It's a Pokemon battle! Your task is to calculate the damage that a particular move would do using the following formula (not the actual one from the game):\n",
    " \n",
    " - 포켓몬 배틀에 사용될 데미지 계산 함수를 만들어보자. 이때 데미지는 아래와 같이 표현된다.\n",
    " \n",
    "`\n",
    "damage = 50 * (attack / defense) * effectiveness\n",
    "`\n",
    "\n",
    " - Where:\n",
    "\n",
    " > - attack = your attack power / 우리의 공격력\n",
    " > \n",
    " > - defense = the opponent's defense / 상대의 방어력\n",
    " > \n",
    " > - effectiveness = the effectiveness of the attack based on the matchup (see explanation below) / 효과\n",
    "\n",
    " - Effectiveness:\n",
    "\n",
    " - Attacks can be super effective, neutral, or not very effective depending on the matchup. For example, water would be super effective against fire, but not very effective against grass.\n",
    " \n",
    " - 이때 효과는 아래와 같이 계산된다\n",
    "\n",
    " > - Super effective: 2x damage\n",
    " > \n",
    " > - Neutral: 1x damage\n",
    " > \n",
    " > - Not very effective: 0.5x damage\n",
    "\n",
    " - To prevent this kata from being tedious, you'll only be dealing with four types: `fire`, `water`, `grass`, and `electric`. Here is the effectiveness of each matchup:\n",
    " \n",
    " - 효과는 속성과 연관이 있으며 있대 속성은 총 4가지로 `fire`, `water`, `grass`, and `electric`이다.\n",
    " \n",
    " - 속성에 대한 강함과 약함에 대한 산대성은 아래와 같이 정의된다\n",
    "\n",
    " > - fire > grass\n",
    " > \n",
    " > - fire < water\n",
    " > \n",
    " > - fire = electric\n",
    " > \n",
    " > - water < grass\n",
    " > \n",
    " > - water < electric\n",
    " > \n",
    " > - grass = electric\n",
    " \n",
    " - For this kata, any type against itself is not very effective. Also, assume that the relationships between different types are symmetric (if A is super effective against B, then B is not very effective against A).\n",
    "\n",
    " - The function you must implement takes in:\n",
    "\n",
    " > 1. your type\n",
    " > \n",
    " > 2. the opponent's type\n",
    " > \n",
    " > 3. your attack power\n",
    " > \n",
    " > 4. the opponent's defense"
   ]
  },
  {
   "cell_type": "code",
   "execution_count": null,
   "metadata": {},
   "outputs": [],
   "source": [
    "def calculate_damage(your_type, opponent_type, attack, defense):\n",
    "    pass"
   ]
  }
 ],
 "metadata": {
  "kernelspec": {
   "display_name": "Python 3",
   "language": "python",
   "name": "python3"
  },
  "language_info": {
   "codemirror_mode": {
    "name": "ipython",
    "version": 3
   },
   "file_extension": ".py",
   "mimetype": "text/x-python",
   "name": "python",
   "nbconvert_exporter": "python",
   "pygments_lexer": "ipython3",
   "version": "3.6.8"
  }
 },
 "nbformat": 4,
 "nbformat_minor": 2
}
