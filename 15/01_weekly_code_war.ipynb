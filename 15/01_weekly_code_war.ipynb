{
 "cells": [
  {
   "cell_type": "markdown",
   "metadata": {},
   "source": [
    "### Complete The Pattern #2\n",
    "\n",
    " - Task : You have to write a function pattern which returns the following Pattern (See Pattern & Examples) upto n number of rows.\n",
    "\n",
    " - Note: Returning the pattern is not the same as Printing the pattern.\n",
    "\n",
    " - Rules/Note:\n",
    "\n",
    " > 1. If n < 1 then it should return \"\" i.e. empty string.\n",
    " >\n",
    " > 2. There are no whitespaces in the pattern.\n",
    "\n",
    " - Pattern:\n",
    " \n",
    "```\n",
    "(n)(n-1)(n-2)...4321\n",
    "(n)(n-1)(n-2)...432\n",
    "(n)(n-1)(n-2)...43\n",
    "(n)(n-1)(n-2)...4\n",
    "...............\n",
    "..............\n",
    "(n)(n-1)(n-2)\n",
    "(n)(n-1)\n",
    "(n)\n",
    "```\n",
    "\n",
    " - Examples:\n",
    "\n",
    "\n",
    " > - pattern(4):\n",
    "\n",
    "```\n",
    "4321\n",
    "432\n",
    "43\n",
    "4\n",
    "```\n",
    "\n",
    " >  - pattern(11):\n",
    "\n",
    "```\n",
    "1110987654321\n",
    "111098765432\n",
    "11109876543\n",
    "1110987654\n",
    "111098765\n",
    "11109876\n",
    "1110987\n",
    "111098\n",
    "11109\n",
    "1110\n",
    "11\n",
    "```\n",
    "\n",
    " - Hint: Use \\n in string to jump to next line"
   ]
  },
  {
   "cell_type": "code",
   "execution_count": null,
   "metadata": {},
   "outputs": [],
   "source": [
    "def pattern(n):\n",
    "    # Happy Coding ^_^"
   ]
  },
  {
   "cell_type": "markdown",
   "metadata": {},
   "source": [
    "### Bouncing Balls\n",
    "\n",
    " - A child is playing with a ball on the nth floor of a tall building. The height of this floor, h, is known.\n",
    "\n",
    " - He drops the ball out of the window. The ball bounces (for example), to two-thirds of its height (a bounce of 0.66).\n",
    "\n",
    " - His mother looks out of a window 1.5 meters from the ground.\n",
    "\n",
    " - How many times will the mother see the ball pass in front of her window (including when it's falling and bouncing?\n",
    "\n",
    " - Three conditions must be met for a valid experiment:\n",
    "\n",
    " > 1. Float parameter \"h\" in meters must be greater than 0\n",
    " > \n",
    " > 2. Float parameter \"bounce\" must be greater than 0 and less than 1\n",
    " > \n",
    " > 3. Float parameter \"window\" must be less than h.\n",
    "\n",
    " - If all three conditions above are fulfilled, return a positive integer, otherwise return -1.\n",
    "\n",
    " - Note: The ball can only be seen if the height of the rebounding ball is strictly greater than the window parameter.\n",
    "\n",
    " - Example:\n",
    "\n",
    "```\n",
    "- h = 3, bounce = 0.66, window = 1.5, result is 3\n",
    "\n",
    "- h = 3, bounce = 1, window = 1.5, result is -1 \n",
    "\n",
    "(Condition 2) not fulfilled).\n",
    "```"
   ]
  },
  {
   "cell_type": "code",
   "execution_count": null,
   "metadata": {},
   "outputs": [],
   "source": [
    "def bouncingBall(h, bounce, window):\n",
    "    # your code\n",
    "    return -1"
   ]
  }
 ],
 "metadata": {
  "kernelspec": {
   "display_name": "Python 3",
   "language": "python",
   "name": "python3"
  },
  "language_info": {
   "codemirror_mode": {
    "name": "ipython",
    "version": 3
   },
   "file_extension": ".py",
   "mimetype": "text/x-python",
   "name": "python",
   "nbconvert_exporter": "python",
   "pygments_lexer": "ipython3",
   "version": "3.6.8"
  }
 },
 "nbformat": 4,
 "nbformat_minor": 2
}
