{
 "cells": [
  {
   "cell_type": "markdown",
   "metadata": {},
   "source": [
    "### 한국에서 코로나 바이러스와 관련하여 네어버에 검색된 단어들에 대한 데이터셋 처리\n",
    " \n",
    " - 코로나 바이러스에 감염된 사람들에 대한 분석을 진행해 봄\n",
    " \n",
    " - 이제는 한국에서 네이버 검색 포털에 검색된 단어를 기반으로 분석을 진행해보자\n",
    " \n",
    " - csv 파일 형식\n",
    " \n",
    " - 단어 : the search volume of 'XXX' in Korean in NAVER\n",
    " \n",
    " - column 항목\n",
    " \n",
    " > 0. 날짜\n",
    " > \n",
    " > 1. cold 라는 단어의 검색 수치\n",
    " > \n",
    " > 2. flu 라는 단어의 검색 수치\n",
    " > \n",
    " > 3. pneumonia 라는 단어의 검색 수치\n",
    " > \n",
    " > 4. coronavirus 라는 단어의 검색 수치"
   ]
  },
  {
   "cell_type": "markdown",
   "metadata": {},
   "source": [
    "###### 사용할 모듈에 대한 정의 및 ipython notebook setup"
   ]
  },
  {
   "cell_type": "code",
   "execution_count": null,
   "metadata": {},
   "outputs": [],
   "source": [
    "# draw charts\n",
    "%matplotlib notebook\n",
    "\n",
    "from matplotlib import pyplot as plt\n",
    "import numpy as np"
   ]
  },
  {
   "cell_type": "markdown",
   "metadata": {},
   "source": [
    "###### 검색된 단어에 대한 csv 파일 읽기"
   ]
  },
  {
   "cell_type": "code",
   "execution_count": null,
   "metadata": {},
   "outputs": [],
   "source": [
    "# CSV 파일 읽어들이기\n",
    "\n",
    "import csv  # csv 모듈 임포트\n",
    "import pprint\n",
    "\n",
    "# 파일 위치, 경로 정의\n",
    "file_path = '01_South_Korea/trend.csv'\n",
    "\n",
    "# trend.csv 파일 열기\n",
    "with open(file_path) as file:\n",
    "    reader = csv.reader(file)  # CSV 파일을 읽어들이는 읽기 객체\n",
    "    raw = list(reader)      #  CSV 파일 내용을 리스트로 읽어들인다\n",
    "\n",
    "pprint.pprint(raw[:10])  # 읽어들인 내용을 화면에 출력"
   ]
  },
  {
   "cell_type": "markdown",
   "metadata": {},
   "source": [
    "###### 읽어드린 데이터를 list 처리하기"
   ]
  },
  {
   "cell_type": "code",
   "execution_count": null,
   "metadata": {},
   "outputs": [],
   "source": [
    "# 안내를 위한 row를 삭제\n",
    "raw_ = raw[1:]"
   ]
  },
  {
   "cell_type": "code",
   "execution_count": null,
   "metadata": {},
   "outputs": [],
   "source": [
    "date_list = []\n",
    "cold_trend = []\n",
    "flu_trend = []\n",
    "pneumonia_trend = []\n",
    "coronavirus_trend = []\n",
    "\n",
    "for i in range(len(raw_)):\n",
    "    date = raw_[i][0]\n",
    "    cold_value = float(raw_[i][1])\n",
    "    flu_value = float(raw_[i][2])\n",
    "    pneumonia_value = float(raw_[i][3])\n",
    "    coronavirus_value = float(raw_[i][4])\n",
    "    \n",
    "    date_list.append(date)\n",
    "    cold_trend.append(cold_value)\n",
    "    flu_trend.append(flu_value)\n",
    "    pneumonia_trend.append(pneumonia_value)\n",
    "    coronavirus_trend.append(coronavirus_value)"
   ]
  },
  {
   "cell_type": "markdown",
   "metadata": {},
   "source": [
    "###### draw 'cold' word trend"
   ]
  },
  {
   "cell_type": "code",
   "execution_count": null,
   "metadata": {},
   "outputs": [],
   "source": [
    "# draw line graph\n",
    "dates = date_list\n",
    "counts = cold_trend\n",
    "\n",
    "x_pos = [i for i, _ in enumerate(dates)]\n",
    "\n",
    "plt.plot(x_pos, counts, color='black')\n",
    "plt.xlabel(\"date\")\n",
    "plt.ylabel(\"volume of word\")\n",
    "plt.title(\"search 'cold' in NAVER after infection COVID 19\")\n",
    "\n",
    "plt.xticks(x_pos, dates, rotation=90)\n",
    "\n",
    "plt.show()"
   ]
  },
  {
   "cell_type": "markdown",
   "metadata": {},
   "source": [
    " - 위의 그래프가 가지는 문제는 무엇일까? 해결 방법은?\n",
    " \n",
    " - 이를 아래와 같이 해결해보자"
   ]
  },
  {
   "cell_type": "code",
   "execution_count": null,
   "metadata": {},
   "outputs": [],
   "source": [
    "# draw line graph\n",
    "dates = date_list\n",
    "counts = cold_trend\n",
    "\n",
    "x_pos = [i for i, _ in enumerate(dates)]\n",
    "\n",
    "dates_sorting = []\n",
    "for i in range(len(dates)):\n",
    "    if i % 5 == 0:\n",
    "        dates_sorting.append(dates[i])\n",
    "    else:\n",
    "        dates_sorting.append(\"\")\n",
    "\n",
    "plt.plot(x_pos, counts, color='black')\n",
    "plt.xlabel(\"date\")\n",
    "plt.ylabel(\"volume of word\")\n",
    "plt.title(\"search 'cold' in NAVER after infection COVID 19\")\n",
    "\n",
    "plt.xticks(x_pos, dates_sorting, rotation=90)\n",
    "\n",
    "plt.show()"
   ]
  },
  {
   "cell_type": "markdown",
   "metadata": {},
   "source": [
    "###### draw 'flu' word trend"
   ]
  },
  {
   "cell_type": "code",
   "execution_count": null,
   "metadata": {},
   "outputs": [],
   "source": [
    "# draw line graph\n"
   ]
  },
  {
   "cell_type": "markdown",
   "metadata": {},
   "source": [
    "###### draw 'pneumonia' word trend"
   ]
  },
  {
   "cell_type": "code",
   "execution_count": null,
   "metadata": {},
   "outputs": [],
   "source": [
    "# draw line graph\n"
   ]
  },
  {
   "cell_type": "markdown",
   "metadata": {},
   "source": [
    "###### draw 'corona virus' word trend"
   ]
  },
  {
   "cell_type": "code",
   "execution_count": null,
   "metadata": {},
   "outputs": [],
   "source": [
    "# draw line graph\n"
   ]
  },
  {
   "cell_type": "markdown",
   "metadata": {},
   "source": [
    "### data를 균일화하여 같이 확인해보기\n",
    "\n",
    " - 이전에 그렸던 그래프들을 한번에 그려서 확인해보자"
   ]
  },
  {
   "cell_type": "code",
   "execution_count": null,
   "metadata": {},
   "outputs": [],
   "source": [
    "# x axis dates data\n",
    "dates_sorting\n",
    "x_pos\n",
    "\n",
    "# labels for legend\n",
    "labels_word = ['cold', 'coronavirus'] # add code!\n",
    "\n",
    "# each word data\n",
    "cold_trend\n",
    "flu_trend\n",
    "pneumonia_trend\n",
    "coronavirus_trend\n",
    "\n",
    "# plot each value in word data \n",
    "plt.plot(x_pos, cold_trend, color='red')\n",
    "plt.plot(x_pos, coronavirus_trend, color='magenta') # add code!\n",
    "\n",
    "# plot legend\n",
    "plt.legend(labels_word)\n",
    "\n",
    "# plot each axis info.\n",
    "plt.xlabel(\"date\")\n",
    "plt.ylabel(\"volume of word\")\n",
    "plt.title(\"search 'word' in NAVER after infection COVID 19\")\n",
    "plt.xticks(x_pos, dates_sorting, rotation=90)\n",
    "\n",
    "plt.show()"
   ]
  },
  {
   "cell_type": "markdown",
   "metadata": {},
   "source": [
    " - 이 그래프에서 불편한 점이 있다면 무엇일까?\n",
    " \n",
    " - 보완해서 그래프를 그려보자"
   ]
  },
  {
   "cell_type": "code",
   "execution_count": null,
   "metadata": {},
   "outputs": [],
   "source": [
    "# x axis dates data\n",
    "dates_sorting\n",
    "x_pos\n",
    "\n",
    "# labels for legend\n",
    "labels_word = ['cold', 'flu', 'pneumonia', 'coronavirus']\n",
    "\n",
    "# each word data with normalization\n",
    "cold_trend_normalized = [float(i)/max(cold_trend) for i in cold_trend]\n",
    "flu_trend_normalized = [float(i)/max(flu_trend) for i in flu_trend]\n",
    "pneumonia_trend_normalized = [float(i)/max(pneumonia_trend) for i in pneumonia_trend]\n",
    "coronavirus_trend_normalized = [float(i)/max(coronavirus_trend) for i in coronavirus_trend]\n",
    "\n",
    "# plot each value in word data\n",
    "plt.plot(x_pos, cold_trend_normalized, color='red')\n",
    "plt.plot(x_pos, flu_trend_normalized, color='green')\n",
    "plt.plot(x_pos, pneumonia_trend_normalized, color='blue')\n",
    "plt.plot(x_pos, coronavirus_trend_normalized, color='magenta')\n",
    "\n",
    "# plot legend\n",
    "plt.legend(labels_word)\n",
    "\n",
    "# plot each axis info.\n",
    "plt.xlabel(\"date\")\n",
    "plt.ylabel(\"volume of word\")\n",
    "plt.title(\"search 'word' in NAVER after infection COVID 19\")\n",
    "plt.xticks(x_pos, dates_sorting, rotation=90)\n",
    "\n",
    "plt.show()"
   ]
  }
 ],
 "metadata": {
  "kernelspec": {
   "display_name": "Python 3",
   "language": "python",
   "name": "python3"
  },
  "language_info": {
   "codemirror_mode": {
    "name": "ipython",
    "version": 3
   },
   "file_extension": ".py",
   "mimetype": "text/x-python",
   "name": "python",
   "nbconvert_exporter": "python",
   "pygments_lexer": "ipython3",
   "version": "3.6.8"
  }
 },
 "nbformat": 4,
 "nbformat_minor": 2
}
