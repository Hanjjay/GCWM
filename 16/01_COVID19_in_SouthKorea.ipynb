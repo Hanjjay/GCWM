{
 "cells": [
  {
   "cell_type": "markdown",
   "metadata": {},
   "source": [
    "### kaggle\n",
    "\n",
    " - 여러 데이터들을 공유할 수 있는 사이트\n",
    " \n",
    " - 기업이나 기관이 데이터를 올리고 어떤 문제 해결을 챌린지로 내걸기도 함\n",
    " \n",
    " - 데이터를 기반으로 어떤 학습을 하고자할 때 매우 유용\n",
    " \n",
    " > https://www.kaggle.com/"
   ]
  },
  {
   "cell_type": "markdown",
   "metadata": {},
   "source": [
    "### 한국에서 코로나 바이러스에 감염된 사람들 데이터셋 처리\n",
    "\n",
    " - 데이터 셋 : 데이터들의 집합 ... 데이터 뭉치들\n",
    " \n",
    " - 최근 19년도 말부터 20년도 지금까지 코로나 바이러스가 발병 중...\n",
    " \n",
    " - 한국에서 코로나 바이러스에 감염된 사람들에 대한 데이터 및 관련 데이터들을 질병 관리 본부가 kaggle에 공유했음\n",
    " \n",
    " - 질병 관리 데이터 컴퓨팅 사이언티스트가 되어 여러 사안을 추적해보자!"
   ]
  },
  {
   "cell_type": "markdown",
   "metadata": {},
   "source": [
    "### 추적1. 데이터의 형태 (patient.csv)\n",
    "\n",
    " - csv 파일 형식\n",
    " \n",
    " - column 항목\n",
    " \n",
    " > id: 확진자의 id (n번째 확진자)\n",
    " > \n",
    " > sex: 성별\n",
    " > \n",
    " > birth_year: 출생 연도\n",
    " > \n",
    " > country: 국적\n",
    " > \n",
    " > region: 주 활동 지역 (광역시/도 단위)\n",
    " > \n",
    " > group: 특정 집단 관련\n",
    " > \n",
    " > infection_reason: 감염 경로\n",
    " > \n",
    " > infection_order: 감염 차수 (n차 감염)\n",
    " > \n",
    " > infected_by: 해당 확진자의 감염원 id\n",
    " > \n",
    " > contact_number: 접촉자 수\n",
    " > \n",
    " > confirmed_date: 확진 일자\n",
    " > \n",
    " > released_date: 퇴원 일자 (격리 해제 일자)\n",
    " > \n",
    " > deceased_date: 사망 일자\n",
    " > \n",
    " > state: 상태"
   ]
  },
  {
   "cell_type": "code",
   "execution_count": null,
   "metadata": {},
   "outputs": [],
   "source": [
    "# CSV 파일 읽어들이기\n",
    "\n",
    "import csv  # csv 모듈 임포트\n",
    "import pprint\n",
    "\n",
    "# 파일 위치, 경로 정의\n",
    "file_path = '01_South_Korea/patient.csv'\n",
    "\n",
    "# patient.csv 파일 열기\n",
    "with open(file_path) as file:\n",
    "    reader = csv.reader(file)  # CSV 파일을 읽어들이는 읽기 객체\n",
    "    raw = list(reader)      #  CSV 파일 내용을 리스트로 읽어들인다\n",
    "\n",
    "pprint.pprint(raw[:10])  # 읽어들인 내용을 화면에 출력"
   ]
  },
  {
   "cell_type": "markdown",
   "metadata": {},
   "source": [
    "### 추적2. 데이터의 기본적 가공\n",
    "\n",
    " - 어떻게 확인할 수 있을까?\n",
    " \n",
    " - 아래의 순서대로 하나하나 뜯어보자\n",
    " \n",
    " > 1. 성별에 따른 확진자의 수\n",
    " >\n",
    " > 2. 사망자와 완치자\n",
    " >\n",
    " > 3. 나이대별 확진자의 수"
   ]
  },
  {
   "cell_type": "markdown",
   "metadata": {},
   "source": [
    "###### 성별에 따른 확진자의 수"
   ]
  },
  {
   "cell_type": "code",
   "execution_count": null,
   "metadata": {},
   "outputs": [],
   "source": [
    "# 남자와 여자 환자의 수\n",
    "male = 0\n",
    "female = 0\n",
    "nope_sex = 0\n",
    "\n",
    "for i in range(len(raw_)):\n",
    "    sex_of_patient = raw_[i][1]\n",
    "    \n",
    "    if(sex_of_patient == 'male'):\n",
    "        male = male + 1\n",
    "    elif(sex_of_patient == 'female'):\n",
    "        female = female + 1\n",
    "    else:\n",
    "        nope_sex = nope_sex + 1\n",
    "        \n",
    "print(\"여자 확진자 : \" + str(female))\n",
    "print(\"남자 확진자 : \" + str(male))\n",
    "print(\"???? 확진자 : \" + str(nope_sex))"
   ]
  },
  {
   "cell_type": "code",
   "execution_count": null,
   "metadata": {},
   "outputs": [],
   "source": []
  },
  {
   "cell_type": "code",
   "execution_count": null,
   "metadata": {},
   "outputs": [],
   "source": []
  },
  {
   "cell_type": "markdown",
   "metadata": {},
   "source": [
    "###### 사망자와 완치자"
   ]
  },
  {
   "cell_type": "code",
   "execution_count": null,
   "metadata": {},
   "outputs": [],
   "source": [
    "# 사망자와 완치자의 수\n",
    "deceased = 0\n",
    "released = 0\n",
    "infected = 0\n",
    "\n",
    "for i in range(len(raw_)):\n",
    "    state_of_patient = raw_[i][14]\n",
    "    \n",
    "    if(state_of_patient == 'deceased'):\n",
    "        deceased = deceased + 1\n",
    "    elif(state_of_patient == 'released'):\n",
    "        released = released + 1\n",
    "    else:\n",
    "        infected = infected + 1\n",
    "        \n",
    "print(\"사망자 : \" + str(deceased))\n",
    "print(\"완치자 : \" + str(released))\n",
    "print(\"감염자 : \" + str(infected))"
   ]
  },
  {
   "cell_type": "code",
   "execution_count": null,
   "metadata": {},
   "outputs": [],
   "source": []
  },
  {
   "cell_type": "markdown",
   "metadata": {},
   "source": [
    "###### 나이대별 확진자의 수"
   ]
  },
  {
   "cell_type": "code",
   "execution_count": null,
   "metadata": {},
   "outputs": [],
   "source": [
    "# 나이대별 확진자의 수\n",
    "\n",
    "age000 = 0\n",
    "age010 = 0\n",
    "age020 = 0\n",
    "age030 = 0\n",
    "age040 = 0\n",
    "age050 = 0\n",
    "age060 = 0\n",
    "age070 = 0\n",
    "age080 = 0\n",
    "age090 = 0\n",
    "age100 = 0\n",
    "nope_age = 0\n",
    "\n",
    "for i in range(len(raw_)):\n",
    "    \n",
    "    if(raw_[i][2] == ''):\n",
    "        nope_age = nope_age + 1\n",
    "    else:\n",
    "        age_of_patient = 2020 - int(raw_[i][2])\n",
    "\n",
    "        if(0 <= age_of_patient < 10):\n",
    "            age000 = age000 + 1\n",
    "        elif(10 <= age_of_patient < 20):\n",
    "            age010 = age010 + 1\n",
    "        elif(20 <= age_of_patient < 30):\n",
    "            age020 = age020 + 1\n",
    "        elif(30 <= age_of_patient < 40):\n",
    "            age030 = age030 + 1\n",
    "        elif(40 <= age_of_patient < 50):\n",
    "            age040 = age040 + 1\n",
    "        elif(50 <= age_of_patient < 60):\n",
    "            age050 = age050 + 1\n",
    "        elif(60 <= age_of_patient < 70):\n",
    "            age060 = age060 + 1\n",
    "        elif(70 <= age_of_patient < 80):\n",
    "            age070 = age070 + 1\n",
    "        elif(80 <= age_of_patient < 90):\n",
    "            age080 = age080 + 1\n",
    "        elif(90 <= age_of_patient < 100):\n",
    "            age090 = age100 + 1\n",
    "        else:\n",
    "            age100 = age100 + 1\n",
    "            \n",
    "print(\"어린이 확진자 : \" + str(age000))\n",
    "print(\"10대 확진자 : \" + str(age010))\n",
    "print(\"20대 확진자 : \" + str(age020))\n",
    "print(\"30대 확진자 : \" + str(age030))\n",
    "print(\"40대 확진자 : \" + str(age040))\n",
    "print(\"50대 확진자 : \" + str(age050))\n",
    "print(\"60대 확진자 : \" + str(age060))\n",
    "print(\"70대 확진자 : \" + str(age070))\n",
    "print(\"80대 확진자 : \" + str(age080))\n",
    "print(\"90대 확진자 : \" + str(age090))\n",
    "print(\"100세 이상 확진자 : \" + str(age100))\n",
    "print(\"나이 미상 확진자 : \" + str(nope_age))"
   ]
  },
  {
   "cell_type": "code",
   "execution_count": null,
   "metadata": {},
   "outputs": [],
   "source": []
  },
  {
   "cell_type": "code",
   "execution_count": null,
   "metadata": {},
   "outputs": [],
   "source": []
  },
  {
   "cell_type": "markdown",
   "metadata": {},
   "source": [
    "### 추적3. 데이터의 응용 가공\n",
    "\n",
    " - 어떻게 확인할 수 있을까?\n",
    " \n",
    " - 아래의 순서대로 하나하나 뜯어보자\n",
    " \n",
    " - 또 추가적으로 어떤 정보가 있다면 더 상세하게 데이터를 바라볼 수 있을까?\n",
    " \n",
    " > 1. 주 활동 지역에 따른 분류\n",
    " >\n",
    " > 2. 감염 원인에 따른 분류\n",
    " >\n",
    " > 3. 감염 집단들에 따른 분류\n",
    " >\n",
    " > 4. 누구로부터 감염되었는가? (슈퍼 전파자)\n",
    " >\n",
    " > 5. 확진자의 추이"
   ]
  },
  {
   "cell_type": "markdown",
   "metadata": {},
   "source": [
    "###### 주 활동 지역에 따른 분류"
   ]
  },
  {
   "cell_type": "code",
   "execution_count": null,
   "metadata": {},
   "outputs": [],
   "source": [
    "# 주 활동 지역에 대한 정보 획득하기\n",
    "regions = []\n",
    "\n",
    "for i in range(len(raw_)):\n",
    "    region = raw_[i][4] \n",
    "    \n",
    "    if(region == ''):\n",
    "        pass\n",
    "    else:        \n",
    "        if region in regions:\n",
    "            pass\n",
    "        else:\n",
    "            regions.append(region)\n",
    "            \n",
    "pprint.pprint(regions)"
   ]
  },
  {
   "cell_type": "code",
   "execution_count": null,
   "metadata": {},
   "outputs": [],
   "source": [
    "# 주 활동 지역별 확진자 수 확인\n",
    "regions_count = []\n",
    "\n",
    "for i in range(len(regions) + 1):\n",
    "    regions_count.append([])\n",
    "\n",
    "for i in range(len(raw_)):\n",
    "    region = raw_[i][4]\n",
    "    \n",
    "    for j in range(len(regions)):\n",
    "        if(region == regions[j]):\n",
    "            regions_count[j].append(1)\n",
    "\n",
    "regions_patient = ()\n",
    "    \n",
    "for i in range(len(regions)):\n",
    "    regions_patient = regions_patient + tuple((regions[i], sum(regions_count[i])))\n",
    "\n",
    "pprint.pprint(regions_patient)"
   ]
  },
  {
   "cell_type": "markdown",
   "metadata": {},
   "source": [
    "###### 감염 원인에 따른 분류"
   ]
  },
  {
   "cell_type": "code",
   "execution_count": null,
   "metadata": {},
   "outputs": [],
   "source": [
    "# 감염 원인들에 대한 정보 획득\n",
    "reasons = []\n",
    "\n",
    "for i in range(len(raw_)):\n",
    "    reason = raw_[i][7] \n",
    "    \n",
    "    if(reason == ''):\n",
    "        pass\n",
    "    else:        \n",
    "        if reason in reasons:\n",
    "            pass\n",
    "        else:\n",
    "            reasons.append(reason)\n",
    "            \n",
    "pprint.pprint(reasons)"
   ]
  },
  {
   "cell_type": "code",
   "execution_count": null,
   "metadata": {},
   "outputs": [],
   "source": [
    "# 감염 원인별 확진자 수 확인\n",
    "reasons_count = []\n",
    "\n",
    "for i in range(len(reasons) + 1):\n",
    "    reasons_count.append([])\n",
    "\n",
    "for i in range(len(raw_)):\n",
    "    reason = raw_[i][7]\n",
    "    \n",
    "    for j in range(len(reasons)):\n",
    "        if(reason == reasons[j]):\n",
    "            reasons_count[j].append(1)\n",
    "\n",
    "reasons_patient = ()\n",
    "    \n",
    "for i in range(len(reasons)):\n",
    "    reasons_patient = reasons_patient + tuple((reasons[i], sum(reasons_count[i])))\n",
    "\n",
    "pprint.pprint(reasons_patient)"
   ]
  },
  {
   "cell_type": "markdown",
   "metadata": {},
   "source": [
    "###### 감염 집단들에 따른 분류"
   ]
  },
  {
   "cell_type": "code",
   "execution_count": null,
   "metadata": {},
   "outputs": [],
   "source": [
    "# 감염 집단들에 대한 정보 획득\n",
    "groups = []\n",
    "\n",
    "for i in range(len(raw_)):\n",
    "    group = raw_[i][6] \n",
    "    \n",
    "    if(group == ''):\n",
    "        pass\n",
    "    else:        \n",
    "        if group in groups:\n",
    "            pass\n",
    "        else:\n",
    "            groups.append(group)\n",
    "            \n",
    "pprint.pprint(groups)"
   ]
  },
  {
   "cell_type": "code",
   "execution_count": null,
   "metadata": {},
   "outputs": [],
   "source": [
    "# 감염 집단별 확진자 수 확인\n",
    "groups_count = []\n",
    "\n",
    "for i in range(len(groups) + 1):\n",
    "    groups_count.append([])\n",
    "\n",
    "for i in range(len(raw_)):\n",
    "    group = raw_[i][6]\n",
    "    \n",
    "    for j in range(len(groups)):\n",
    "        if(group == groups[j]):\n",
    "            groups_count[j].append(1)\n",
    "\n",
    "groups_patient = ()\n",
    "    \n",
    "for i in range(len(groups)):\n",
    "    groups_patient = groups_patient + tuple((groups[i], sum(groups_count[i])))\n",
    "\n",
    "pprint.pprint(groups_patient)"
   ]
  },
  {
   "cell_type": "markdown",
   "metadata": {},
   "source": [
    "###### 누구로부터 감염되었는가? (슈퍼 전파자)"
   ]
  },
  {
   "cell_type": "code",
   "execution_count": null,
   "metadata": {},
   "outputs": [],
   "source": [
    "# 전파자에 대한 정보 획득\n",
    "infection_by = []\n",
    "\n",
    "for i in range(len(raw_)):\n",
    "    infection = raw_[i][9] \n",
    "    \n",
    "    if(infection == ''):\n",
    "        pass\n",
    "    else:        \n",
    "        if infection in infection_by:\n",
    "            pass\n",
    "        else:\n",
    "            infection_by.append(infection)\n",
    "            \n",
    "pprint.pprint(infection_by)"
   ]
  },
  {
   "cell_type": "code",
   "execution_count": null,
   "metadata": {},
   "outputs": [],
   "source": [
    "# 전파자에 의한 감염자 확인\n",
    "count_infection_by = []\n",
    "\n",
    "for i in range(len(infection_by) + 1):\n",
    "    count_infection_by.append([])\n",
    "\n",
    "for i in range(len(raw_)):\n",
    "    infection = raw_[i][9]\n",
    "    \n",
    "    for j in range(len(infection_by)):\n",
    "        if(infection == infection_by[j]):\n",
    "            count_infection_by[j].append(1)\n",
    "\n",
    "exporter_patient = ()\n",
    "    \n",
    "for i in range(len(infection_by)):\n",
    "    exporter_patient = exporter_patient + tuple((infection_by[i], sum(count_infection_by[i])))\n",
    "\n",
    "pprint.pprint(exporter_patient)"
   ]
  },
  {
   "cell_type": "markdown",
   "metadata": {},
   "source": [
    "###### 확진자의 추이"
   ]
  },
  {
   "cell_type": "code",
   "execution_count": null,
   "metadata": {},
   "outputs": [],
   "source": [
    "# 감염 날짜에 대한 정보 획득\n",
    "infection_date = []\n",
    "\n",
    "for i in range(len(raw_)):\n",
    "    date = raw_[i][11] \n",
    "    \n",
    "    if(date == ''):\n",
    "        pass\n",
    "    else:        \n",
    "        if date in infection_date:\n",
    "            pass\n",
    "        else:\n",
    "            infection_date.append(date)\n",
    "            \n",
    "pprint.pprint(infection_date)"
   ]
  },
  {
   "cell_type": "code",
   "execution_count": null,
   "metadata": {},
   "outputs": [],
   "source": [
    "# 첫 확진자 발생부터 지금까지의 날짜별 감염자 확인\n",
    "count_infection_date = []\n",
    "count_infection_date_ = []\n",
    "\n",
    "for i in range(len(infection_date) + 1):\n",
    "    count_infection_date.append([])\n",
    "\n",
    "for i in range(len(raw_)):\n",
    "    date = raw_[i][11]\n",
    "    \n",
    "    for j in range(len(infection_date)):\n",
    "        if(date == infection_date[j]):\n",
    "            count_infection_date[j].append(1)\n",
    "\n",
    "num_of_patient_in_date = ()\n",
    "    \n",
    "for i in range(len(infection_date)):\n",
    "    num_of_patient_in_date = num_of_patient_in_date + tuple((infection_date[i], sum(count_infection_date[i])))\n",
    "    count_infection_date_.append(sum(count_infection_date[i]))\n",
    "\n",
    "pprint.pprint(num_of_patient_in_date)"
   ]
  },
  {
   "cell_type": "code",
   "execution_count": null,
   "metadata": {},
   "outputs": [],
   "source": []
  },
  {
   "cell_type": "code",
   "execution_count": null,
   "metadata": {},
   "outputs": [],
   "source": [
    "# 누적 확진자 수 만들기\n",
    "count_infection_date_accumulated = []\n",
    "\n",
    "acc_count = 0\n",
    "\n",
    "for i in range(len(count_infection_date_)):\n",
    "    acc_count = acc_count + count_infection_date_[i]\n",
    "    count_infection_date_accumulated.append(acc_count)\n",
    "\n",
    "count_infection_date_accumulated"
   ]
  },
  {
   "cell_type": "code",
   "execution_count": null,
   "metadata": {},
   "outputs": [],
   "source": []
  },
  {
   "cell_type": "markdown",
   "metadata": {},
   "source": [
    "###### 퇴원자의 추이"
   ]
  },
  {
   "cell_type": "code",
   "execution_count": null,
   "metadata": {},
   "outputs": [],
   "source": [
    "# 퇴원 날짜에 대한 정보 획득\n",
    "released_date = []\n",
    "\n",
    "for i in range(len(raw_)):\n",
    "    date = raw_[i][12] \n",
    "    \n",
    "    if(date == ''):\n",
    "        pass\n",
    "    else:        \n",
    "        if date in released_date:\n",
    "            pass\n",
    "        else:\n",
    "            released_date.append(date)\n",
    "            \n",
    "pprint.pprint(released_date)"
   ]
  },
  {
   "cell_type": "code",
   "execution_count": null,
   "metadata": {},
   "outputs": [],
   "source": [
    "# 첫 퇴원자 발생부터 지금까지의 날짜별 퇴원자 확인\n",
    "count_released_date = []\n",
    "count_released_date_ = []\n",
    "\n",
    "for i in range(len(released_date) + 1):\n",
    "    count_released_date.append([])\n",
    "\n",
    "for i in range(len(raw_)):\n",
    "    date = raw_[i][12]\n",
    "    \n",
    "    for j in range(len(released_date)):\n",
    "        if(date == released_date[j]):\n",
    "            count_released_date[j].append(1)\n",
    "\n",
    "num_of_patient_in_released_date = ()\n",
    "    \n",
    "for i in range(len(released_date)):\n",
    "    num_of_patient_in_released_date = num_of_patient_in_released_date + tuple((released_date[i], sum(count_released_date[i])))\n",
    "    count_released_date_.append(sum(count_released_date[i]))\n",
    "\n",
    "pprint.pprint(num_of_patient_in_released_date)"
   ]
  },
  {
   "cell_type": "code",
   "execution_count": null,
   "metadata": {},
   "outputs": [],
   "source": []
  },
  {
   "cell_type": "markdown",
   "metadata": {},
   "source": [
    "### 추적4. 여러 데이터를 시각적으로 확인해보자\n",
    "\n",
    " - 데이터를 숫자로만 보니 어렵다\n",
    " \n",
    " - 위의 여러 사항에 대하여 시각적으로 확인할 수 있는 방법은 없을까?\n",
    " \n",
    " - matplotlib python package를 사용해보자!\n",
    " \n",
    " - command window에 아래의 명령으로 설치! (상황에 따라서 수치 및 데이터 가공과 관련된 numpy, scipy등을 추가로 설치할 수도 있음)\n",
    " \n",
    " ```\n",
    " pip install matplotlib\n",
    " ```\n",
    " \n",
    " - google에 python plot bar chart라는 검색어로 검색을 해보자\n",
    " \n",
    " > 1. `https://matplotlib.org/3.1.1/api/_as_gen/matplotlib.pyplot.bar.html`\n",
    " >\n",
    " > 2. `https://pythonspot.com/matplotlib-bar-chart/`"
   ]
  },
  {
   "cell_type": "markdown",
   "metadata": {},
   "source": [
    "###### pie chart"
   ]
  },
  {
   "cell_type": "code",
   "execution_count": null,
   "metadata": {},
   "outputs": [],
   "source": [
    "# draw pie chart\n",
    "\n",
    "fig = plt.figure()\n",
    "ax = fig.add_axes([0,0,1,1])\n",
    "ax.axis('equal')\n",
    "type_of_sex = ['male', 'female', 'nope_sex']\n",
    "patient_sex = [male,female,nope_sex]\n",
    "ax.pie(patient_sex, labels = type_of_sex, autopct='%1.2f%%')\n",
    "plt.show()"
   ]
  },
  {
   "cell_type": "markdown",
   "metadata": {},
   "source": [
    "###### bar chart"
   ]
  },
  {
   "cell_type": "code",
   "execution_count": null,
   "metadata": {},
   "outputs": [],
   "source": [
    "# I wnat to use Korean!\n",
    "from matplotlib import font_manager, rc\n",
    "font_name = font_manager.FontProperties(fname=\"c:/Windows/Fonts/malgun.ttf\").get_name()\n",
    "rc('font', family=font_name)\n",
    "\n",
    "# draw bar chart\n",
    "type_of_sex = type_of_sex[:2]\n",
    "patient_sex = patient_sex[:2]\n",
    "\n",
    "x_pos = [i for i, _ in enumerate(type_of_sex)]\n",
    "\n",
    "plt.bar(x_pos, patient_sex, color='red')\n",
    "plt.xlabel(\"gender\")\n",
    "plt.ylabel(\"number of patients\")\n",
    "plt.title(\"성별에 따른 확진자 수\")\n",
    "\n",
    "plt.xticks(x_pos, type_of_sex)\n",
    "\n",
    "plt.show()"
   ]
  },
  {
   "cell_type": "markdown",
   "metadata": {},
   "source": [
    "###### horizontal bar chart"
   ]
  },
  {
   "cell_type": "code",
   "execution_count": null,
   "metadata": {},
   "outputs": [],
   "source": [
    "# I wnat to use Korean!\n",
    "from matplotlib import font_manager, rc\n",
    "font_name = font_manager.FontProperties(fname=\"c:/Windows/Fonts/malgun.ttf\").get_name()\n",
    "rc('font', family=font_name)\n",
    "\n",
    "# draw horizontal bar chart\n",
    "type_of_age = ['어린이', '10대', '20대', '30대', '40대', '50대', '60대', '70대', '80대', '90대', '100세 이상']\n",
    "patient_age = [age000,age010,age020,age030,age040,age050,age060,age070,age080,age090,age100]\n",
    "\n",
    "y_pos = [i for i, _ in enumerate(type_of_age)]\n",
    "\n",
    "plt.barh(y_pos, patient_age, color='blue')\n",
    "plt.ylabel(\"나이대\")\n",
    "plt.xlabel(\"number of patients\")\n",
    "plt.title(\"나이대에 따른 확진자 수\")\n",
    "\n",
    "plt.yticks(y_pos, type_of_age)\n",
    "\n",
    "plt.show()"
   ]
  },
  {
   "cell_type": "markdown",
   "metadata": {},
   "source": [
    "###### line graph"
   ]
  },
  {
   "cell_type": "code",
   "execution_count": null,
   "metadata": {},
   "outputs": [],
   "source": [
    "# I wnat to use Korean!\n",
    "from matplotlib import font_manager, rc\n",
    "font_name = font_manager.FontProperties(fname=\"c:/Windows/Fonts/malgun.ttf\").get_name()\n",
    "rc('font', family=font_name)\n",
    "\n",
    "# draw line graph\n",
    "dates = infection_date\n",
    "count = count_infection_date_\n",
    "\n",
    "x_pos = [i for i, _ in enumerate(dates)]\n",
    "\n",
    "plt.plot(x_pos, count, color='pink')\n",
    "plt.xlabel(\"date\")\n",
    "plt.ylabel(\"number of patients\")\n",
    "plt.title(\"날짜별 확진자의 수\")\n",
    "\n",
    "plt.xticks(x_pos, dates, rotation=90)\n",
    "\n",
    "plt.show()"
   ]
  }
 ],
 "metadata": {
  "kernelspec": {
   "display_name": "Python 3",
   "language": "python",
   "name": "python3"
  },
  "language_info": {
   "codemirror_mode": {
    "name": "ipython",
    "version": 3
   },
   "file_extension": ".py",
   "mimetype": "text/x-python",
   "name": "python",
   "nbconvert_exporter": "python",
   "pygments_lexer": "ipython3",
   "version": "3.6.8"
  }
 },
 "nbformat": 4,
 "nbformat_minor": 2
}
