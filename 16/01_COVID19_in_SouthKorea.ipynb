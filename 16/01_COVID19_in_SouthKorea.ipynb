{
 "cells": [
  {
   "cell_type": "markdown",
   "metadata": {},
   "source": [
    "### kaggle\n",
    "\n",
    " - 여러 데이터들을 공유할 수 있는 사이트\n",
    " \n",
    " - 기업이나 기관이 데이터를 올리고 어떤 문제 해결을 챌린지로 내걸기도 함\n",
    " \n",
    " - 데이터를 기반으로 어떤 학습을 하고자할 때 매우 유용\n",
    " \n",
    " > https://www.kaggle.com/"
   ]
  },
  {
   "cell_type": "markdown",
   "metadata": {},
   "source": [
    "### 한국에서 코로나 바이러스에 감염된 사람들 데이터셋 처리\n",
    "\n",
    " - 데이터 셋 : 데이터들의 집합 ... 데이터 뭉치들\n",
    " \n",
    " - 최근 19년도 말부터 20년도 지금까지 코로나 바이러스가 발병 중...\n",
    " \n",
    " - 한국에서 코로나 바이러스에 감염된 사람들에 대한 데이터 및 관련 데이터들을 질병 관리 본부가 kaggle에 공유했음\n",
    " \n",
    " - 질병 관리 데이터 컴퓨팅 사이언티스트가 되어 여러 사안을 추적해보자!"
   ]
  },
  {
   "cell_type": "markdown",
   "metadata": {},
   "source": [
    "### 추적1. 데이터의 형태 (patient.csv)\n",
    "\n",
    " - csv 파일 형식\n",
    " \n",
    " - column 항목\n",
    " \n",
    " > id: 확진자의 id (n번째 확진자)\n",
    " > \n",
    " > sex: 성별\n",
    " > \n",
    " > birth_year: 출생 연도\n",
    " > \n",
    " > country: 국적\n",
    " > \n",
    " > region: 주 활동 지역 (광역시/도 단위)\n",
    " > \n",
    " > group: 특정 집단 관련\n",
    " > \n",
    " > infection_reason: 감염 경로\n",
    " > \n",
    " > infection_order: 감염 차수 (n차 감염)\n",
    " > \n",
    " > infected_by: 해당 확진자의 감염원 id\n",
    " > \n",
    " > contact_number: 접촉자 수\n",
    " > \n",
    " > confirmed_date: 확진 일자\n",
    " > \n",
    " > released_date: 퇴원 일자 (격리 해제 일자)\n",
    " > \n",
    " > deceased_date: 사망 일자\n",
    " > \n",
    " > state: 상태"
   ]
  },
  {
   "cell_type": "code",
   "execution_count": null,
   "metadata": {},
   "outputs": [],
   "source": [
    "# CSV 파일 읽어들이기\n",
    "\n",
    "import csv  # csv 모듈 임포트\n",
    "import pprint\n",
    "\n",
    "# 파일 위치, 경로 정의\n",
    "file_path = '01_South_Korea/patient.csv'\n",
    "\n",
    "# patient.csv 파일 열기\n",
    "with open(file_path) as file:\n",
    "    reader = csv.reader(file)  # CSV 파일을 읽어들이는 읽기 객체\n",
    "    raw = list(reader)      #  CSV 파일 내용을 리스트로 읽어들인다\n",
    "\n",
    "pprint.pprint(raw[:10])  # 읽어들인 내용을 화면에 출력"
   ]
  },
  {
   "cell_type": "markdown",
   "metadata": {},
   "source": [
    "### 추적2. 데이터의 기본적 가공\n",
    "\n",
    " - 어떻게 확인할 수 있을까?\n",
    " \n",
    " - 아래의 순서대로 하나하나 뜯어보자\n",
    " \n",
    " > 1. 성별에 따른 확진자의 수\n",
    " >\n",
    " > 2. 사망자와 완치자\n",
    " >\n",
    " > 3. 나이대별 확진자의 수"
   ]
  },
  {
   "cell_type": "markdown",
   "metadata": {},
   "source": [
    "###### 성별에 따른 확진자의 수"
   ]
  },
  {
   "cell_type": "code",
   "execution_count": null,
   "metadata": {},
   "outputs": [],
   "source": []
  },
  {
   "cell_type": "markdown",
   "metadata": {},
   "source": [
    "###### 사망자와 완치자"
   ]
  },
  {
   "cell_type": "code",
   "execution_count": null,
   "metadata": {},
   "outputs": [],
   "source": []
  },
  {
   "cell_type": "markdown",
   "metadata": {},
   "source": [
    "###### 나이대별 확진자의 수"
   ]
  },
  {
   "cell_type": "code",
   "execution_count": null,
   "metadata": {},
   "outputs": [],
   "source": []
  },
  {
   "cell_type": "markdown",
   "metadata": {},
   "source": [
    "### 추적3. 데이터의 응용 가공\n",
    "\n",
    " - 어떻게 확인할 수 있을까?\n",
    " \n",
    " - 아래의 순서대로 하나하나 뜯어보자\n",
    " \n",
    " - 또 추가적으로 어떤 정보가 있다면 더 상세하게 데이터를 바라볼 수 있을까?\n",
    " \n",
    " > 1. 주 활동 지역에 따른 분류\n",
    " >\n",
    " > 2. 감염 원인에 따른 분류\n",
    " >\n",
    " > 3. 감염 집단들에 따른 분류\n",
    " >\n",
    " > 4. 누구로부터 감염되었는가? (슈퍼 전파자)\n",
    " >\n",
    " > 5. 확진자의 추이"
   ]
  },
  {
   "cell_type": "markdown",
   "metadata": {},
   "source": [
    "###### 주 활동 지역에 따른 분류"
   ]
  },
  {
   "cell_type": "code",
   "execution_count": null,
   "metadata": {},
   "outputs": [],
   "source": []
  },
  {
   "cell_type": "markdown",
   "metadata": {},
   "source": [
    "###### 감염 원인에 따른 분류"
   ]
  },
  {
   "cell_type": "code",
   "execution_count": null,
   "metadata": {},
   "outputs": [],
   "source": []
  },
  {
   "cell_type": "markdown",
   "metadata": {},
   "source": [
    "###### 감염 집단들에 따른 분류"
   ]
  },
  {
   "cell_type": "code",
   "execution_count": null,
   "metadata": {},
   "outputs": [],
   "source": []
  },
  {
   "cell_type": "markdown",
   "metadata": {},
   "source": [
    "###### 누구로부터 감염되었는가? (슈퍼 전파자)"
   ]
  },
  {
   "cell_type": "code",
   "execution_count": null,
   "metadata": {},
   "outputs": [],
   "source": []
  },
  {
   "cell_type": "markdown",
   "metadata": {},
   "source": [
    "###### 확진자의 추이"
   ]
  },
  {
   "cell_type": "code",
   "execution_count": null,
   "metadata": {},
   "outputs": [],
   "source": []
  },
  {
   "cell_type": "markdown",
   "metadata": {},
   "source": [
    "### 추적4. 여러 데이터를 시각적으로 확인해보자\n",
    "\n",
    " - 데이터를 숫자로만 보니 어렵다\n",
    " \n",
    " - 위의 여러 사항에 대하여 시각적으로 확인할 수 있는 방법은 없을까?\n",
    " \n",
    " - matplotlib python package를 사용해보자!\n",
    " \n",
    " - command window에 아래의 명령으로 설치! (상황에 따라서 수치 및 데이터 가공과 관련된 numpy, scipy등을 추가로 설치할 수도 있음)\n",
    " \n",
    " ```\n",
    " pip install matplotlib\n",
    " ```"
   ]
  },
  {
   "cell_type": "code",
   "execution_count": null,
   "metadata": {},
   "outputs": [],
   "source": []
  }
 ],
 "metadata": {
  "kernelspec": {
   "display_name": "Python 3",
   "language": "python",
   "name": "python3"
  },
  "language_info": {
   "codemirror_mode": {
    "name": "ipython",
    "version": 3
   },
   "file_extension": ".py",
   "mimetype": "text/x-python",
   "name": "python",
   "nbconvert_exporter": "python",
   "pygments_lexer": "ipython3",
   "version": "3.6.8"
  }
 },
 "nbformat": 4,
 "nbformat_minor": 2
}
