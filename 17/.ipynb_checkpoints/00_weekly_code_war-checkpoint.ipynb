{
 "cells": [
  {
   "cell_type": "markdown",
   "metadata": {},
   "source": [
    "### Geometry Basics: Triangle Perimeter in 2D\n",
    "\n",
    " - This series of katas will introduce you to basics of doing geometry with computers.\n",
    "\n",
    " - `Point` objects have `x`, `y` attributes. \n",
    " \n",
    " - `Triangle` objects have attributes `a`, `b`, `c` describing their corners, each of them is a `Point`.\n",
    "\n",
    " - Write a function calculating perimeter of a Triangle defined this way.\n",
    "\n",
    " - Tests round answers to 6 decimal places.\n",
    " \n",
    " - 2차원의 삼각형을 만들고 그 각 변의 길이의 합을 구하는 함수를 만들려고 한다\n",
    " \n",
    " - 이 때 각변의 길이는 소수 6째 자리까지 표기한다\n",
    " \n",
    " - 이 함수는 `Triangle`이라는 class를 입력으로 받는다\n",
    " \n",
    " - 이 `Triangle`이라는 class는 `Point`라는 3개의 2D 평면 상의 점을 요소로 가진다\n",
    " \n",
    " - 이 함수의 사용 예시는 아래와 같다\n",
    "\n",
    " ```\n",
    " triangle_perimeter(\n",
    "    Triangle(Point(10, 10), Point(40, 10), Point(10, 50))\n",
    "  ), 6)\n",
    "  \n",
    "  ## answer = 120\n",
    "  \n",
    " triangle_perimeter(\n",
    "    Triangle(Point(15, -10), Point(40, 20), Point(20, 50))\n",
    "  ), 6)\n",
    "  \n",
    " ## answer = 135.314734\n",
    " ```"
   ]
  },
  {
   "cell_type": "code",
   "execution_count": null,
   "metadata": {},
   "outputs": [],
   "source": [
    "def triangle_perimeter(triangle):\n",
    "    # your solution here"
   ]
  }
 ],
 "metadata": {
  "kernelspec": {
   "display_name": "Python 3",
   "language": "python",
   "name": "python3"
  },
  "language_info": {
   "codemirror_mode": {
    "name": "ipython",
    "version": 3
   },
   "file_extension": ".py",
   "mimetype": "text/x-python",
   "name": "python",
   "nbconvert_exporter": "python",
   "pygments_lexer": "ipython3",
   "version": "3.6.8"
  }
 },
 "nbformat": 4,
 "nbformat_minor": 2
}
