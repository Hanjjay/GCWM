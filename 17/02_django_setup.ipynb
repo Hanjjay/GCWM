{
 "cells": [
  {
   "cell_type": "markdown",
   "metadata": {},
   "source": [
    "### python web framework django 설치 및 사용\n",
    "\n",
    " - 먼저 python을 설치 (3.6.x)\n",
    " \n",
    " - 또 python을 편하게 다루기 위한 IDE로 PyCharm을 설치\n",
    " \n",
    " - 이후 virtual environment를 설정하여 django를 설치\n",
    " \n",
    " - virtual environment (가상 환경)\n",
    " \n",
    " > 1) 개발 환경을 깔끔하게 관리하는 데 큰 도움이 되는 도구\n",
    " > \n",
    " > 2) 줄여서 virtualenv\n",
    " >\n",
    " > 3) Virtualenv는 프로젝트 기초 전부를 Python/Django와 분리\n",
    " >\n",
    " > 4) 웹사이트가 변경되어도 개발 중인 것에 영향을 미치지 않는다는 것"
   ]
  },
  {
   "cell_type": "markdown",
   "metadata": {},
   "source": [
    "###### 가상 환경을 설정하기\n",
    "\n",
    " - `virtualenv`를 만드는 데 필요한 것은 생성할 곳을 정하는 것\n",
    " \n",
    " - 예를 들면, home 디렉토리와 같은 곳이면 좋음 (Mac/linux 기준)\n",
    " \n",
    " - 윈도우 환경에서는 `C:\\Users\\Name`이 될 수 있음 (`Name`이라는 것은 윈도우에 로그인할 때 사용한 아이디를 말합니다)\n",
    " \n",
    " > **NOTE** 윈도우에서 디렉토리 파일명에 악센트 또는 특수 문자가 포함되지 않도록 주의!\n",
    " >\n",
    " > 사용자 이름에 악센트 부호가있는 문자가 들어 있으면 다른 디렉토리를 사용하는 것을 권장! (예: `C:\\djangoTest`)\n",
    " \n",
    " - window 기준으로 `C:\\Users\\NAME\\Documents\\djangoW`를 생성하여 테스트를 진행\n",
    " \n",
    " - Mac/linux의 경우 `Home`에 `djangoW`라는 디렉토리를 생성하여 진행\n",
    " \n",
    " - 이후 아래와 같은 명령어를 `djangoW`에 진입하여 command window를 켜고 입력\n",
    " \n",
    " > Windows : `python3 -m venv myvenv`\n",
    " >\n",
    " > Mac/linux : `python3 -m venv myvenv`\n",
    " \n",
    " - 만약 error가 발생했다면 아래의 글을 참조\n",
    " \n",
    " > https://tutorial.djangogirls.org/ko/installation/"
   ]
  },
  {
   "cell_type": "code",
   "execution_count": 1,
   "metadata": {},
   "outputs": [],
   "source": [
    "from IPython.display import Image"
   ]
  },
  {
   "cell_type": "code",
   "execution_count": 2,
   "metadata": {},
   "outputs": [
    {
     "data": {
      "image/png": "[encoded data removed]",
      "text/plain": [
       "<IPython.core.display.Image object>"
      ]
     },
     "execution_count": 2,
     "metadata": {},
     "output_type": "execute_result"
    }
   ],
   "source": [
    "Image(\"img/03_img.png\")"
   ]
  },
  {
   "cell_type": "markdown",
   "metadata": {},
   "source": [
    "###### 가상 황경을 사용하기\n",
    "\n",
    " - 앞의 명령을 사용하면 myvenv라는 디렉토리가 생성됨 ... (이름을 변경하면 그 이름의 디렉토리가 생성됨)\n",
    " \n",
    " - 그리고 그 디렉토리에 우리가 사용할 가상환경이 있음\n",
    " \n",
    " - 이를 실행하는 방법은 아래와 같은 명령어를 command window에 입력 (이때 같은 `djangoW` 디렉토리에 있어야 함)\n",
    " \n",
    " > Windows : `C:\\Users\\Name\\djangogirls> myvenv\\Scripts\\activate`\n",
    " >\n",
    " > Mac/linux : `source myvenv/bin/activate`\n",
    " \n",
    " - error가 발생한다면 아래의 웹 페이지를 참조\n",
    " \n",
    " > https://tutorial.djangogirls.org/ko/installation/"
   ]
  },
  {
   "cell_type": "code",
   "execution_count": 3,
   "metadata": {},
   "outputs": [
    {
     "data": {
      "image/png": "[encoded data removed]",
      "text/plain": [
       "<IPython.core.display.Image object>"
      ]
     },
     "execution_count": 3,
     "metadata": {},
     "output_type": "execute_result"
    }
   ],
   "source": [
    "Image(\"img/04_img.png\")"
   ]
  },
  {
   "cell_type": "code",
   "execution_count": 4,
   "metadata": {},
   "outputs": [
    {
     "data": {
      "image/png": "[encoded data removed]",
      "text/plain": [
       "<IPython.core.display.Image object>"
      ]
     },
     "execution_count": 4,
     "metadata": {},
     "output_type": "execute_result"
    }
   ],
   "source": [
    "Image(\"img/05_img.png\")"
   ]
  },
  {
   "cell_type": "markdown",
   "metadata": {},
   "source": [
    " - 콘솔의 프롬프트 앞에(myvenv)접두어가 붙어있다면 virtualenv가 시작되었음을 알 수 있음\n",
    "\n",
    " - 의존성 설치를 모두 마쳤으므로 지금부터 장고를 설치할 수 있음"
   ]
  },
  {
   "cell_type": "markdown",
   "metadata": {},
   "source": [
    "###### 장고 설치하기\n",
    "\n",
    " - "
   ]
  },
  {
   "cell_type": "code",
   "execution_count": null,
   "metadata": {},
   "outputs": [],
   "source": []
  }
 ],
 "metadata": {
  "kernelspec": {
   "display_name": "Python 3",
   "language": "python",
   "name": "python3"
  },
  "language_info": {
   "codemirror_mode": {
    "name": "ipython",
    "version": 3
   },
   "file_extension": ".py",
   "mimetype": "text/x-python",
   "name": "python",
   "nbconvert_exporter": "python",
   "pygments_lexer": "ipython3",
   "version": "3.6.8"
  }
 },
 "nbformat": 4,
 "nbformat_minor": 2
}
