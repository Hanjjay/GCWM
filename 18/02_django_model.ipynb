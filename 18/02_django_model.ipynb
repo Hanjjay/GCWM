{
 "cells": [
  {
   "cell_type": "markdown",
   "metadata": {},
   "source": [
    "### 장고 모델\n",
    "\n",
    " - 우리가 만든 프로젝트는 웹 페이지로써 블로그 형식을 보여줄 것이다\n",
    " \n",
    " - 먼저 블로그의 기능 중 하나인 작성한 내 모든 포스트를 저장하는 부분을 만들 것이다\n",
    " \n",
    " - 먼저 우리는 `객체(object)`에 대해서 조금 알고 있어야 한다"
   ]
  },
  {
   "cell_type": "markdown",
   "metadata": {},
   "source": [
    "### 객체 (object)\n",
    "\n",
    " - 프로그래밍 개발 방법 중에는 `객체 지향 프로그래밍 (object oriented programming)`이라고 부르는 개념이 있다\n",
    " \n",
    " - 이 개발 방법은 프로그램이 어떻게 작동해야 하는지 모든 것을 하나하나 지시하는 것 대신, 모델을 만들어 그 모델이 어떤 역할을 가지고 행동하는지를 먼저 정의하고 이 모델들이 서로서로 상호작용할 수 있도록 만드는 것이다\n",
    " \n",
    " - 그렇다면 객체란 무엇일까?\n",
    " \n",
    " - 객체란 속성과 행동을 모아 놓은 것이라고 할 수 있다.\n",
    " \n",
    " - 예를 들어 `고양이(cat)`라는 객체를 모델링한다고 생각해보자\n",
    " \n",
    " - 고양이는 여러 속성, 특징을 가지고 있다\n",
    " \n",
    " - 예를 들면 `색깔`, `무늬`, `나이`, `분위기`, `주인` 등등이 있을 것이다\n",
    " \n",
    " - 또 `고양이`는 특정한 행동을 할 수 있다\n",
    " \n",
    " - 예를 들면 `야옹하고 울기`, `긁기`, `꾹꾹이`, `먹기` 등듣이 있을 것이다\n",
    " \n",
    " - 이러한 사항을 정리하면 아래와 같다\n",
    " \n",
    " ```\n",
    " 고양이\n",
    " ===========\n",
    " @ 속성들  \n",
    " 색깔  \n",
    " 무늬    \n",
    " 나이  \n",
    " 분위기  \n",
    " 주인  \n",
    " \n",
    " @ 행동들  \n",
    " 야옹야옹하기()  \n",
    " 긁기()  \n",
    " 꾹꾹이(대상)  \n",
    " 먹기(음식)  \n",
    " ```\n",
    " \n",
    " - 기본적으로 객체지향설계 개념은 현실에 존재하는 것을 속성과 행위로 나타내는 것이다\n",
    " \n",
    " - 여기서 속성은 `객체 속성(properties)`, 행위는 `메서드(methods)`로 구현된다\n",
    " \n",
    " - 그렇다면 블로그의 글을 모델로 만들 수 있을까?\n",
    " \n",
    " - 위의 고양이 예시와 같이 블로그의 글이 가지는 속성들과 메서드 등을 만들 수 있어야 할 것이다\n",
    " \n",
    " - 블로그의 속성들을 먼저 떠올려보자\n",
    " \n",
    " - 예를 들면 제목이 필요하고 내용(본문의 글)과 작성자(author)이 필요하다\n",
    " \n",
    " - 또 그 글이 작성된 날짜와 게시된 날짜도 필요할 수 있을 것 같다\n",
    " \n",
    " - 이를 정리하면 아래와 같다\n",
    " \n",
    " ```\n",
    " Post(게시글)  \n",
    " ===========  \n",
    " title(제목)  \n",
    " text(내용)  \n",
    " author(글쓴이)  \n",
    " created_date(작성일)  \n",
    " published_date(게시일)  \n",
    " ```\n",
    " \n",
    " - 블로그 글로 할 수 있는 것은 무엇이있을까?\n",
    " \n",
    " - 즉, 블로그 글이 가질 수 있는 메서드(method)는 무엇이 있을까?\n",
    " \n",
    " - 아마도 출판(publish)와 같은 메서드가 필요할 것이다\n",
    " \n",
    " - 이제 무엇을 만들어야 할지 알았으니 django에서 모델을 만들어보자"
   ]
  },
  {
   "cell_type": "markdown",
   "metadata": {},
   "source": [
    "### 장고 모델\n",
    "\n",
    " - 객체(object)가 어떻게 구성되어야 하는지 이전에 살펴보았다\n",
    " \n",
    " - 이번에는 블로그 글을 위한 장고 모델을 만들어보자\n",
    " \n",
    " - 장고 안의 모델은 객체의 특별한 종류이다\n",
    " \n",
    " - 이 모델을 저장하면 그 내용이 데이터베이스에 저장되는 것이 특별한 점이다\n",
    " \n",
    " - 데이터베이스란 데이터의 집합이다\n",
    " \n",
    " - 다시 말하면, 데이터들이 모여 있는 곳이다\n",
    " \n",
    " - 이곳에 사용자에 대한 정보나 우리가 만들어 볼 블로그의 글 등등이 저장되어 있다\n",
    " \n",
    " - 우리는 데이터를 저장하기 위해서 여러 가지 데이터베이스를 입맛에 맞게 고를 수 있다\n",
    " \n",
    " - 여기서는 SQLite 데이터베이스를 사용해보자\n",
    " \n",
    " > 'sqlite 데이터베이스는 기본 장고 데이터베이스 어댑터이다'라는 것까지만 알고 있어도 충분하다  \n",
    " 어댑터가 무엇인지를 알려면 내용이 너무 길어지니 일단 여기까지만 알고 있도록 하자\n",
    " \n",
    " - 데이터베이스 안의 모델을 설명하자면 엑셀 스프레드시트와 같다고 말할 수 있다\n",
    " \n",
    " - 엑셀 스프레드시트를 보면 열(필드)와 행(데이터)로 구성되어 있다\n",
    " \n",
    " - 모델도 마찬가지라고 볼 수 있다"
   ]
  },
  {
   "cell_type": "markdown",
   "metadata": {},
   "source": [
    "### 어플리케이션 만들기\n",
    "\n",
    " - 잘 정돈된 상태에서 시작하기 위해, 프로젝트 내부에 별도의 애플리케이션을 만들어보자\n",
    " \n",
    " > '잘 정돈된 상태란, 파일 관리를 하며 프로젝트를 다룬다는 의미'로 생각해두자\n",
    " \n",
    " - 애플리케이션을 만들기 위해 콘솔 창(djangoW 디렉토리에서 `manage.py` 파일)에서 아래 명령어를 실행하자\n",
    " \n",
    " > `(myvenv) ~/djangoW$ python manage.py startapp blog`"
   ]
  },
  {
   "cell_type": "code",
   "execution_count": 1,
   "metadata": {},
   "outputs": [],
   "source": [
    "from IPython.display import Image"
   ]
  },
  {
   "cell_type": "code",
   "execution_count": 3,
   "metadata": {},
   "outputs": [
    {
     "data": {
      "image/png": "[encoded data removed]",
      "text/plain": [
       "<IPython.core.display.Image object>"
      ]
     },
     "execution_count": 3,
     "metadata": {},
     "output_type": "execute_result"
    }
   ],
   "source": [
    "Image(\"img/09_img.png\")"
   ]
  },
  {
   "cell_type": "markdown",
   "metadata": {},
   "source": [
    " - 이제 blog 디렉터리가 생성되고 그 안에 여러 파일도 같이 들어있는 것을 알 수 있다\n",
    " \n",
    " - 현재 디렉토리와 파일들은 아래와 같을 것이다\n",
    " \n",
    " ```\n",
    "    djangogirls\n",
    "    |── mysite\n",
    "    |         __init__.py\n",
    "    |         settings.py\n",
    "    |         urls.py\n",
    "    |         wsgi.py\n",
    "    |── manage.py\n",
    "    |── blog\n",
    "        |── migrations\n",
    "        |         __init__.py\n",
    "        |── __init__.py\n",
    "        |── admin.py\n",
    "        |── models.py\n",
    "        |── tests.py\n",
    "        |── views.py\n",
    " ```"
   ]
  },
  {
   "cell_type": "code",
   "execution_count": 4,
   "metadata": {},
   "outputs": [
    {
     "data": {
      "image/png": "[encoded data removed]",
      "text/plain": [
       "<IPython.core.display.Image object>"
      ]
     },
     "execution_count": 4,
     "metadata": {},
     "output_type": "execute_result"
    }
   ],
   "source": [
    "Image(\"img/10_img.png\")"
   ]
  },
  {
   "cell_type": "markdown",
   "metadata": {},
   "source": [
    " - 애플리케이션을 생성한 후 장고에 이 애플리케이션을 사용해야 한다고 알려줘야 한다\n",
    " \n",
    " - 이러한 역할을 하는 파일이 `mysite/settings.py`입니다\n",
    " \n",
    " - 이 파일 안에서 `INSTALLED_APPS`를 열어 `[]`의 가장 뒤에 `'blog'`를 추가하자\n",
    " \n",
    " - 최종 결과물은 아래와 다음과 같다"
   ]
  },
  {
   "cell_type": "code",
   "execution_count": 5,
   "metadata": {},
   "outputs": [
    {
     "data": {
      "image/png": "[encoded data removed]",
      "text/plain": [
       "<IPython.core.display.Image object>"
      ]
     },
     "execution_count": 5,
     "metadata": {},
     "output_type": "execute_result"
    }
   ],
   "source": [
    "Image(\"img/11_img.png\")"
   ]
  },
  {
   "cell_type": "markdown",
   "metadata": {},
   "source": [
    "### 블로그 글 모델 만들기\n",
    "\n",
    " - 모든 Model 객체는 `blog/models.py` 파일에 선언하여 모델을 만든다\n",
    " \n",
    " - 이 파일에 우리의 블로그 글 모델도 정의할 것이다\n",
    "\n",
    " - `blog/models.py` 파일을 열어서 안에 모든 내용을 삭제한 후 아래 코드를 추가하자\n",
    " \n",
    " > 여기서 str양 옆에 언더스코어(`_`) 를 두 개씩 넣었는지 다시 확인하자  \n",
    " 파이썬에서 자주 사용되는데, \"던더(dunder; 더블-언더스코어의 준말)\"라고도 불린다"
   ]
  },
  {
   "cell_type": "code",
   "execution_count": 6,
   "metadata": {},
   "outputs": [
    {
     "ename": "ModuleNotFoundError",
     "evalue": "No module named 'django'",
     "output_type": "error",
     "traceback": [
      "\u001b[1;31m---------------------------------------------------------------------------\u001b[0m",
      "\u001b[1;31mModuleNotFoundError\u001b[0m                       Traceback (most recent call last)",
      "\u001b[1;32m<ipython-input-6-2a610a5ffb43>\u001b[0m in \u001b[0;36m<module>\u001b[1;34m\u001b[0m\n\u001b[0;32m      1\u001b[0m \u001b[1;31m# blog/nodels.py\u001b[0m\u001b[1;33m\u001b[0m\u001b[1;33m\u001b[0m\u001b[1;33m\u001b[0m\u001b[0m\n\u001b[0;32m      2\u001b[0m \u001b[1;33m\u001b[0m\u001b[0m\n\u001b[1;32m----> 3\u001b[1;33m \u001b[1;32mfrom\u001b[0m \u001b[0mdjango\u001b[0m\u001b[1;33m.\u001b[0m\u001b[0mconf\u001b[0m \u001b[1;32mimport\u001b[0m \u001b[0msettings\u001b[0m\u001b[1;33m\u001b[0m\u001b[1;33m\u001b[0m\u001b[0m\n\u001b[0m\u001b[0;32m      4\u001b[0m \u001b[1;32mfrom\u001b[0m \u001b[0mdjango\u001b[0m\u001b[1;33m.\u001b[0m\u001b[0mdb\u001b[0m \u001b[1;32mimport\u001b[0m \u001b[0mmodels\u001b[0m\u001b[1;33m\u001b[0m\u001b[1;33m\u001b[0m\u001b[0m\n\u001b[0;32m      5\u001b[0m \u001b[1;32mfrom\u001b[0m \u001b[0mdjango\u001b[0m\u001b[1;33m.\u001b[0m\u001b[0mutils\u001b[0m \u001b[1;32mimport\u001b[0m \u001b[0mtimezone\u001b[0m\u001b[1;33m\u001b[0m\u001b[1;33m\u001b[0m\u001b[0m\n",
      "\u001b[1;31mModuleNotFoundError\u001b[0m: No module named 'django'"
     ]
    }
   ],
   "source": [
    "# blog/nodels.py\n",
    "\n",
    "from django.conf import settings\n",
    "from django.db import models\n",
    "from django.utils import timezone\n",
    "\n",
    "\n",
    "class Post(models.Model):\n",
    "    author = models.ForeignKey(settings.AUTH_USER_MODEL, on_delete=models.CASCADE)\n",
    "    title = models.CharField(max_length=200)\n",
    "    text = models.TextField()\n",
    "    created_date = models.DateTimeField(\n",
    "            default=timezone.now)\n",
    "    published_date = models.DateTimeField(\n",
    "            blank=True, null=True)\n",
    "\n",
    "    def publish(self):\n",
    "        self.published_date = timezone.now()\n",
    "        self.save()\n",
    "\n",
    "    def __str__(self):\n",
    "        return self.title"
   ]
  },
  {
   "cell_type": "markdown",
   "metadata": {},
   "source": [
    " - 이제 코드의 줄마다 의미를 같이 확인해보자\n",
    " \n",
    " - `from` 또는 `import`로 시작하는 부분은 다른 파일에 있는 것을 추가하라는 뜻이다\n",
    " \n",
    " > 10장 module 참조 ... \n",
    " \n",
    " - 간단히 설명하면, 매번 다른 파일에 있는 것을 복사&붙여넣기로 해야 하는 작업을 from이 대신 불러와 주는 역할을 한다\n",
    " \n",
    " - `class Post(models.Model):`는 모델을 정의하는 코드이다 (모델은 객체(object)!)\n",
    " \n",
    " > 8장 class 참조 ... \n",
    " \n",
    " 1. `class`는 특별한 키워드로, 객체를 정의한다는 것을 알려준다.\n",
    "\n",
    " 2. `Post`는 모델의 이름이다. (특수문자와 공백 제외한다면) 다른 이름을 붙일 수도 있다. 항상 클래스 이름의 첫 글자는 대문자로 써야 한다.\n",
    "\n",
    " 3. `models`은 `Post`가 장고 모델임을 의미한다. 이 코드 때문에 장고는 Post가 데이터베이스에 저장되어야 한다고 알게 된다.\n",
    " \n",
    " - 이제 속성을 정의하는 것에 대해서 이야기해보자\n",
    " \n",
    " - `title`, `text`, `created_date`, `published_date`, `author`에 대해서 알아보자\n",
    " \n",
    " - 속성을 정의하기 위해, 필드마다 어떤 종류의 데이터 타입을 가지는지를 정해야한다\n",
    " \n",
    " - 여기서 데이터 타입에는 텍스트, 숫자, 날짜, 사용자 같은 다른 객체 참조 등이 있다\n",
    " \n",
    " 1. `models.CharField` - 글자 수가 제한된 텍스트를 정의할 때 사용합니다. 글 제목같이 짧은 문자열 정보를 저장할 때 사용합니다.\n",
    " \n",
    " 2. `models.TextField` - 글자 수에 제한이 없는 긴 텍스트를 위한 속성입니다. 블로그 콘텐츠를 담기 좋겠죠?\n",
    "\n",
    " 3. `models.DateTimeField` - 날짜와 시간을 의미합니다.\n",
    "\n",
    " 4. `models.ForeignKey` - 다른 모델에 대한 링크를 의미합니다.\n",
    " \n",
    " - 모델의 필드와 정의하는 방법에 궁금하다면 장고 공식 문서를 참조할 것\n",
    " \n",
    " > https://docs.djangoproject.com/en/2.0/ref/models/fields/#field-types\n",
    " \n",
    " - def publish(self):는 무슨 뜻일까? \n",
    " \n",
    " - 이것이 바로 앞서 말했던 `publish`라는 메서드(method) 입다\n",
    " \n",
    " - def는 이것이 함수/메서드라는 뜻이고, `publish`는 메서드의 이름이다\n",
    " \n",
    " > 3장 function 참조\n",
    " \n",
    " - 원한다면 메서드 이름을 변경할 수도 있다\n",
    " \n",
    " - 이름을 붙일 때는 공백 대신, 소문자와 언더스코어를 사용해야 한다\n",
    " \n",
    " - 예를 들어, 평균 가격을 계산하는 메서드는 `calculate_average_price`라고 부를 수 있겠다\n",
    " \n",
    " - 메서드는 자주 무언가를 되돌려준다 (`return`) \n",
    " \n",
    " - 그 예로 `__str__` 메서드를 보자\n",
    " \n",
    " - 위의 코드에서 작성된 시나리오대로라면, `__str__`를 호출하면 Post 모델의 제목 텍스트(`string`)를 얻게 될 것이다"
   ]
  },
  {
   "cell_type": "markdown",
   "metadata": {},
   "source": [
    "### 데이터베이스에 모델을 위한 테이블 만들기\n",
    "\n",
    " - 이제 데이터베이스에 우리의 새 모델, Post 모델을 추가할 것이다\n",
    " \n",
    " - 먼저 우리는 장고 모델에 (우리가 방금 만든!) 몇 가지 변화가 생겼다는 걸 알게 해줘야 한다\n",
    " \n",
    " - `python manage.py makemigrations blog` 를 command console에 입력해 보자\n",
    " \n",
    " - command console에서 아래와 같은 그림을 볼 수 있다"
   ]
  },
  {
   "cell_type": "code",
   "execution_count": 8,
   "metadata": {},
   "outputs": [
    {
     "data": {
      "image/png": "[encoded data removed]",
      "text/plain": [
       "<IPython.core.display.Image object>"
      ]
     },
     "execution_count": 8,
     "metadata": {},
     "output_type": "execute_result"
    }
   ],
   "source": [
    "Image(\"img/12_img.png\")"
   ]
  },
  {
   "cell_type": "markdown",
   "metadata": {},
   "source": [
    " - 장고는 데이터베이스에 지금 위와 같은 변경사항을 반영할 수 있도록 마이그레이션 파일(migration file)이라는 것을 준비해 두었다\n",
    " \n",
    " - 이제 `python manage.py migrate blog` 명령을 실행해, 실제 데이터베이스에 모델 추가를 반영하자"
   ]
  },
  {
   "cell_type": "code",
   "execution_count": 9,
   "metadata": {},
   "outputs": [
    {
     "data": {
      "image/png": "[encoded data removed]",
      "text/plain": [
       "<IPython.core.display.Image object>"
      ]
     },
     "execution_count": 9,
     "metadata": {},
     "output_type": "execute_result"
    }
   ],
   "source": [
    "Image(\"img/13_img.png\")"
   ]
  },
  {
   "cell_type": "code",
   "execution_count": null,
   "metadata": {},
   "outputs": [],
   "source": []
  }
 ],
 "metadata": {
  "kernelspec": {
   "display_name": "Python 3",
   "language": "python",
   "name": "python3"
  },
  "language_info": {
   "codemirror_mode": {
    "name": "ipython",
    "version": 3
   },
   "file_extension": ".py",
   "mimetype": "text/x-python",
   "name": "python",
   "nbconvert_exporter": "python",
   "pygments_lexer": "ipython3",
   "version": "3.6.8"
  }
 },
 "nbformat": 4,
 "nbformat_minor": 2
}
