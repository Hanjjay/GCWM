{
 "cells": [
  {
   "cell_type": "markdown",
   "metadata": {},
   "source": [
    "### 배포하기!\n",
    "\n",
    " > **NOTE** 이번장은 조금 따라하기 어려울 수 있다. 하지만 끝까지 따라해보자. 배포는 웹 사이트 개발의 가장 중요한 부분이다. \n",
    " \n",
    " - 지금까지는 웹사이트를 내 컴퓨터에서만 볼 수 있었다\n",
    " \n",
    " - 지금부터 웹사이트를 배포방법을 배워보자\n",
    " \n",
    " - 배포(deployment)는 애플리케이션을 인터넷에 올려놓아 다른 사람들도 볼 수 있게 해주는 것 말한다\n",
    " \n",
    " - 앞에서 배웠듯이, 웹사이트는 서버라는 곳에 클라이언트(방문자, 인터넷 사용자)가 들어간다\n",
    " \n",
    " - 인터넷 상에 서버를 제공하는 업체들은 참 많다\n",
    " \n",
    " - 우리는 이 중에 비교적 배포 과정이 간단한 PythonAnywhere을 사용할 것이다\n",
    " \n",
    " - PythonAnywhere는 방문자가 아주 많지 않은 소규모 애플리케이션을 위한 무료 서비스를 제공하고 있다\n",
    " \n",
    " - 지금 우리가 만드는 웹사이트도 해당된다\n",
    "\n",
    " - 우리가 사용할 다른 외부 서비스는 GitHub이라는 코드 호스팅 서비스이다\n",
    " \n",
    " - 요즘에는 모든 프로그래머들은 GitHub 계정을 가지고 있으니, GitHub 계정을 만들어보자\n",
    "\n",
    " - 로컬컴퓨터, GitHub, Pythonanywhere 이 세 곳은 모두 중요하다\n",
    " \n",
    " - 로컬 컴퓨터는 개발 및 테스트를 수행하는 곳이 될 것이다\n",
    " \n",
    " - 개발이 완료되면 프로그램 복사본을 GitHub에 저장한다\n",
    " \n",
    " - 웹사이트는 PythonAnywhere에 있고 GitHub에서 코드 사본을 업데이트할 것이다"
   ]
  },
  {
   "cell_type": "markdown",
   "metadata": {},
   "source": [
    "### Git 설치하기\n",
    "\n",
    " - chapter 1을 참조 혹은 아래의 URL 참조\n",
    " \n",
    " > https://tutorial.djangogirls.org/ko/deploy/#git-%EC%84%A4%EC%B9%98%ED%95%98%EA%B8%B0"
   ]
  }
 ],
 "metadata": {
  "kernelspec": {
   "display_name": "Python 3",
   "language": "python",
   "name": "python3"
  },
  "language_info": {
   "codemirror_mode": {
    "name": "ipython",
    "version": 3
   },
   "file_extension": ".py",
   "mimetype": "text/x-python",
   "name": "python",
   "nbconvert_exporter": "python",
   "pygments_lexer": "ipython3",
   "version": "3.6.8"
  }
 },
 "nbformat": 4,
 "nbformat_minor": 2
}
