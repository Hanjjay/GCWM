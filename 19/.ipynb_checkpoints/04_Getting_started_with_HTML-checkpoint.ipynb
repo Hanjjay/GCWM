{
 "cells": [
  {
   "cell_type": "markdown",
   "metadata": {},
   "source": [
    "### HTML 시작하기\n",
    "\n",
    " - 템플릿은 어떤 일을 할까? 쳄플릿이라는 말은 어떤 뜻일까?\n",
    "\n",
    " - 템플릿이란 서로 다른 정보를 일정한 형태로 표시하기 위해 재사용 가능한 파일을 말한다\n",
    " \n",
    " - 예를 들면 편지에도 같은 템플릿을 사용할 수 있다\n",
    " \n",
    " - 편지의 내용이나 수신인 주소는 달라져도 같은 디자인, 레이아웃을 사용하는 때도 있다\n",
    "\n",
    " - 장고 템플릿 양식은 HTML을 사용한다\n",
    " \n",
    "### HTML이란 무엇일까요?\n",
    "\n",
    " - HTML은 크롬이나 파이어폭스, 사파리 같은 웹 브라우저가 해석할 수 있는 간단한 코드이다\n",
    " \n",
    " - 사용자에게 웹 페이지를 표시할 때 사용한다\n",
    "\n",
    " - HTML은 \"HyperText Markup Language\"의 줄임말로, 하이퍼텍스트(HyperText) 는 페이지 간 하이퍼링크가 포함된 텍스트라는 뜻이다\n",
    " \n",
    " - 마크업(Markup) 이란 누군가(브라우저)가 문서를 해석하도록 표시(mark)를 했다는 뜻이다\n",
    " \n",
    " - HTML은 태그(tag) 들로 이루어져 있다\n",
    " \n",
    " - 여기서 태그는 <(여는 태그) 로 시작하고 >(닫는 태그)로 끝나는데, 이는 마크업 요소(elements) 를 말한다\n",
    " \n",
    "### 첫 번째 템플릿!\n",
    "\n",
    " - 템플릿은 곧 템플릿 파일을 만든다는 뜻이다\n",
    " \n",
    " - 템플릿 파일에 모든 내용이 저장될 것이다\n",
    " \n",
    " - 템플릿은 `blog/templates/blog`디렉토리에 저장된다\n",
    " \n",
    " - 먼저 `blog` 디렉터리 안에 하위 디렉터리인 `templates` 을 생성하자\n",
    " \n",
    " - 그리고 `template` 디렉토리 내 `blog` 라는 하위 디렉토리를 생성하자\n",
    " \n",
    " > ```\n",
    " blog\n",
    "└───templates\n",
    " └───blog\n",
    " ```\n",
    " \n",
    " - 왜 똑같은 `blog` 디렉토리를 하나 더 만들어야하는지 궁금할 것이다\n",
    " \n",
    " - 나중에 알게 되겠지만, 나중에 폴더 구조가 복잡해 질 때 좀더 쉽게 찾기 위해 사용하는 관습적인 방법이다\n",
    " \n",
    " > **NOTE** 프로젝트의 파일 정리는 중요하다!\n",
    "\n",
    " - 다음 `blog/templates/blog` 디렉토리 안에 `post_list.html` 이라는 새 파일(현재는 빈 파일)을 만들자\n",
    "\n",
    " - 그리고 웹 사이트를 확인해보세요. \n",
    " \n",
    " > http://127.0.0.1:8000/"
   ]
  },
  {
   "cell_type": "code",
   "execution_count": null,
   "metadata": {},
   "outputs": [],
   "source": []
  }
 ],
 "metadata": {
  "kernelspec": {
   "display_name": "Python 3",
   "language": "python",
   "name": "python3"
  },
  "language_info": {
   "codemirror_mode": {
    "name": "ipython",
    "version": 3
   },
   "file_extension": ".py",
   "mimetype": "text/x-python",
   "name": "python",
   "nbconvert_exporter": "python",
   "pygments_lexer": "ipython3",
   "version": "3.6.8"
  }
 },
 "nbformat": 4,
 "nbformat_minor": 2
}
