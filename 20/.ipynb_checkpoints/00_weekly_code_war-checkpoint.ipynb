{
 "cells": [
  {
   "cell_type": "markdown",
   "metadata": {},
   "source": [
    "###### Break camelCase\n",
    "\n",
    " - Complete the solution so that the function will break up camel casing, using a space between words.  \n",
    "\n",
    " - Example  \n",
    "\n",
    "`solution(\"camelCasing\")  ==  \"camel Casing\"`\n",
    "\n",
    " - test example  \n",
    " \n",
    " ```\n",
    " Test.assert_equals(solution(\"helloWorld\"), \"hello World\")\n",
    " Test.assert_equals(solution(\"camelCase\"), \"camel Case\")\n",
    " Test.assert_equals(solution(\"breakCamelCase\"), \"break Camel Case\")\n",
    " ```"
   ]
  },
  {
   "cell_type": "code",
   "execution_count": null,
   "metadata": {},
   "outputs": [],
   "source": [
    "def solution(s):\n",
    "    pass"
   ]
  }
 ],
 "metadata": {
  "kernelspec": {
   "display_name": "Python 3",
   "language": "python",
   "name": "python3"
  },
  "language_info": {
   "codemirror_mode": {
    "name": "ipython",
    "version": 3
   },
   "file_extension": ".py",
   "mimetype": "text/x-python",
   "name": "python",
   "nbconvert_exporter": "python",
   "pygments_lexer": "ipython3",
   "version": "3.6.8"
  }
 },
 "nbformat": 4,
 "nbformat_minor": 2
}
