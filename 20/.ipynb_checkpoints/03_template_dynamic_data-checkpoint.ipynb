{
 "cells": [
  {
   "cell_type": "markdown",
   "metadata": {},
   "source": [
    "### 템플릿 동적 데이터\n",
    "\n",
    " - 블로그 글은 각각 다른 장소에 조각조각 나누어졌있다\n",
    " \n",
    " - `Post`모델은 `models.py`파일에, `post_list`모델은 `views.py`파일에 있다\n",
    " \n",
    " - 앞으로 여러 템플릿도 추가해야 합니다\n",
    " \n",
    " - 예를 들자면 우리가 이전에 여러 블로그 글 들을 작성하고 모델(데이터베이스 내부에)로 저장해 두었는데 이를 HTML 템플릿에서 글 목록을 어떻게 보여줄수있을까?\n",
    " \n",
    " - 이번에는 콘텐츠(데이터베이스 안에 저장되어 있는 모델)를 가져와 템플릿에 넣어 보여주는 것을 해볼 것이다\n",
    " \n",
    " - *뷰(view)* 는 모델과 템플릿을 연결하는 역할을 한다\n",
    " \n",
    " - `post_list`를 *뷰* 에서 보여주고 이를 템플릿에 전달하기 위해서는, 모델을 가져와야 한다\n",
    " \n",
    " - 일반적으로 *뷰* 가 템플릿에서 모델을 선택하도록 만들어야 한다\n",
    " \n",
    " - 먼저 `blog/views.py`파일을 열어봅시다. `post_list` *뷰* 내용을 보자"
   ]
  },
  {
   "cell_type": "code",
   "execution_count": null,
   "metadata": {},
   "outputs": [],
   "source": [
    "# blog/views.py\n",
    "\n",
    "from django.shortcuts import render\n",
    "\n",
    "def post_list(request):\n",
    "    return render(request, 'blog/post_list.html', {})"
   ]
  },
  {
   "cell_type": "markdown",
   "metadata": {},
   "source": [
    " - 다른 파일에 있는 코드를 가져오는 방법을 사용해보자\n",
    " \n",
    " - 우리는 `models.py`파일에 정의된 모델을 가져올 것이다\n",
    " \n",
    " - `from .models import Post`를 추가하자\n",
    " \n",
    " > **NOTE** 이는 이전 쿼리셋 사용을 배워보았던 장에서 사용한 `import` 방법과 매우 유사하다"
   ]
  },
  {
   "cell_type": "code",
   "execution_count": null,
   "metadata": {},
   "outputs": [],
   "source": [
    "# blog/views.py\n",
    "\n",
    "from django.shortcuts import render\n",
    "from .models import Post"
   ]
  },
  {
   "cell_type": "markdown",
   "metadata": {},
   "source": [
    " - `from` 다음에 있는 마침표(`.`)는 현재 디렉토리 또는 애플리케이션을 의미한다\n",
    " \n",
    " - 동일한 디렉터리 내 `views.py`, `models.py` 파일이 있기 때문에 `. 파일명` (`.py`확장자를 붙이지 않아도)으로 내용을 가져올 수 있다\n",
    " \n",
    " - 이제 `Post` 모델을 불러보자\n",
    "\n",
    " - `Post` 모델에서 블로그 글을 가져오기 위해서는 이전 장에 사용한 쿼리셋(QuerySet)이 필요하다"
   ]
  },
  {
   "cell_type": "markdown",
   "metadata": {},
   "source": [
    "### 쿼리셋 (QuerySet)\n",
    "\n",
    " - 우리는 쿼리셋에 익숙해야 한다\n",
    " \n",
    " - 이전 장인 `Django ORM과 QuerySets` 장에서 많이 시도해보고 다루었다\n",
    "\n",
    " - 다시 블로그 글 목록을 살펴보자\n",
    " \n",
    " - 글 목록을 게시일 `published_date` 기준으로 정렬해보자\n",
    " \n",
    " - 이미 `Django ORM과 QuerySets` 장에서 해본 내용이다"
   ]
  },
  {
   "cell_type": "code",
   "execution_count": null,
   "metadata": {},
   "outputs": [],
   "source": [
    "# blog/views.py\n",
    "\n",
    "Post.objects.filter(published_date__lte=timezone.now()).order_by('published_date')"
   ]
  },
  {
   "cell_type": "markdown",
   "metadata": {},
   "source": [
    " - 다음으로 `blog/views.py` 파일 내 `def post_list(request)` 함수에 아래 코드 내용을 넣어보자\n",
    " \n",
    " - 제일 먼저 `timezone` 모듈을 불러와야하니 `from django.utils import timezone`를 추가하자"
   ]
  },
  {
   "cell_type": "code",
   "execution_count": null,
   "metadata": {},
   "outputs": [],
   "source": [
    "# blog/views.py\n",
    "\n",
    "from django.shortcuts import render\n",
    "from django.utils import timezone         # timezone 모듈을 사용하기 위함\n",
    "from .models import Post                  # model의 Post를 사용하기 위함\n",
    "\n",
    "def post_list(request):\n",
    "    # 쿼리셋을 사용하여 정렬한 글들의 목록을 가져오기\n",
    "    posts = Post.objects.filter(published_date__lte=timezone.now()).order_by('published_date') \n",
    "    return render(request, 'blog/post_list.html', {})"
   ]
  },
  {
   "cell_type": "markdown",
   "metadata": {},
   "source": [
    " - 아직 하지 않은 부분은 `posts` QuerySet을 템플릿 컨텍스트에 전달하는 것이다  \n",
    " \n",
    " - 이는 맨 마지막에 다룰 것이다  \n",
    " \n",
    " - 지금 우리가 `posts` 라는 변수를 만들고 있다는 것을 기억하자  \n",
    " \n",
    " - 이 변수는 퀴리셋의 이름이다  \n",
    " \n",
    " - 다음 장에서 `posts` 쿼리셋을 템플릿에 보내는 방법을 배울 것이다  \n",
    " \n",
    " - `render` 함수에는 매개변수 `request`(사용자가 요청하는 모든 것)와 `'blog/post_list.html'` 템플릿이 있다\n",
    " \n",
    " > **NOTE** 동시에 COVID 19 map 데이터 함수도 있다! 하지만 여기에서는 블로그의 글(데이터베이스에 있는)을 *뷰* 에 모델로부터 가져오는 것을 목적으로 함을 잊지말자\n",
    " \n",
    " - 여기서 `{}`를 볼 수 있는데, 이곳에 템플릿을 사용하기 위해 매개변수를 추가할 것이다\n",
    " \n",
    " - 이 매개변수를 `'posts'`라고 하자\n",
    " \n",
    " - `{'posts': posts}`이렇게 작성할 것이다\n",
    " \n",
    " - `:`이전에 문자열이 와야하고, 작은 따옴표`''`를 양쪽에 붙이는 것을 잊지 말자\n",
    " \n",
    " - 이제 `blog/views.py` 코드는 아래 코드처럼 보일 것이다"
   ]
  },
  {
   "cell_type": "code",
   "execution_count": null,
   "metadata": {},
   "outputs": [],
   "source": [
    "# blog/views.py\n",
    "\n",
    "from django.shortcuts import render\n",
    "from django.utils import timezone\n",
    "from .models import Post\n",
    "\n",
    "def post_list(request):\n",
    "    posts = Post.objects.filter(published_date__lte=timezone.now()).order_by('published_date')\n",
    "    return render(request, 'blog/post_list.html', {'posts': posts})"
   ]
  },
  {
   "cell_type": "markdown",
   "metadata": {},
   "source": [
    " - 우리의 블로그 *뷰* 에 모델에 있는 블로그 글 데이터를 전달해주었다\n",
    " \n",
    " - 이제 템플릿 파일로 돌아가 쿼리셋을 보이게 만들어 보자"
   ]
  },
  {
   "cell_type": "code",
   "execution_count": null,
   "metadata": {},
   "outputs": [],
   "source": []
  }
 ],
 "metadata": {
  "kernelspec": {
   "display_name": "Python 3",
   "language": "python",
   "name": "python3"
  },
  "language_info": {
   "codemirror_mode": {
    "name": "ipython",
    "version": 3
   },
   "file_extension": ".py",
   "mimetype": "text/x-python",
   "name": "python",
   "nbconvert_exporter": "python",
   "pygments_lexer": "ipython3",
   "version": "3.6.8"
  }
 },
 "nbformat": 4,
 "nbformat_minor": 2
}
