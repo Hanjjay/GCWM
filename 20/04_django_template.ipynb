{
 "cells": [
  {
   "cell_type": "markdown",
   "metadata": {},
   "source": [
    "### 장고 템플릿\n",
    "\n",
    " - 이제 데이터를 보여줄 차례이다! \n",
    " \n",
    " - 이를 위해 장고는 내장된 템플릿 태그(template tags) 라는 유용한 기능을 제공한다  \n",
    " \n",
    "### 템플릿 태그란?\n",
    "\n",
    " - HTML에 여러분은 파이썬 코드를 바로 넣을 수 없다  \n",
    " \n",
    " - 이는 브라우져가 파이썬 코드를 이해할 수 없기 때문이다  \n",
    " \n",
    " - 인터넷 브라우저는 HTML만을 알고 있다  \n",
    " \n",
    " - HTML는 정적(static)이지만, 파이썬은 동적(dynamic)이다  \n",
    "\n",
    " - 템플릿 태그는 파이썬을 HTML로 바꿔주어, 빠르고 쉽게 동적인 웹 사이트를 만들 수 있게 도와준다  \n",
    " \n",
    "### post 목록 템플릿 보여주기\n",
    "\n",
    " - 이전 장에서 *뷰*에서 모델에 있는 글 목록을 받아 `posts` 변수를 만들고 이를 템플릿에 넘겨주었다\n",
    " \n",
    " - 이제 넘겨진 `posts` 변수를 받아 HTML에 나타나도록 해볼 차례이다\n",
    "\n",
    " - 장고 템플릿 안에 있는 값을 출력하려면, 변수 이름 안에 중괄호를 넣어 표시해야 한다\n",
    " \n",
    " `{{ posts }}`\n",
    " \n",
    " - `blog/templates/blog/post_list.html` 템플릿에서 코드 작업을 수행하자\n",
    " \n",
    " - 두 번째 `<div>`에서 세 번째 `</div>`까지를 `{{ posts }}`로 바꾸자\n",
    " \n",
    " - 파일을 저장하고 페이지를 새로고침하면 이렇게 보인다"
   ]
  },
  {
   "cell_type": "code",
   "execution_count": null,
   "metadata": {},
   "outputs": [],
   "source": []
  }
 ],
 "metadata": {
  "kernelspec": {
   "display_name": "Python 3",
   "language": "python",
   "name": "python3"
  },
  "language_info": {
   "codemirror_mode": {
    "name": "ipython",
    "version": 3
   },
   "file_extension": ".py",
   "mimetype": "text/x-python",
   "name": "python",
   "nbconvert_exporter": "python",
   "pygments_lexer": "ipython3",
   "version": "3.6.8"
  }
 },
 "nbformat": 4,
 "nbformat_minor": 2
}
