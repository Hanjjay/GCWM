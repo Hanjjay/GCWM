{
 "cells": [
  {
   "cell_type": "markdown",
   "metadata": {},
   "source": [
    "###### Encrypt this!\n",
    "\n",
    " - Encrypt this!\n",
    "\n",
    " - You want to create secret messages which can be deciphered by the Decipher this! kata. Here are the conditions:\n",
    "\n",
    " > 1. Your message is a string containing space separated words.  \n",
    " > 2. You need to encrypt each word in the message using the following rules:  \n",
    " > 1) The first letter needs to be converted to its ASCII code.  \n",
    " > 2) The second letter needs to be switched with the last letter  \n",
    " > 3. Keepin' it simple: There are no special characters in input.  \n",
    "\n",
    " - Examples:\n",
    "\n",
    "```\n",
    "encrypt_this(\"Hello\") == \"72olle\"\n",
    "encrypt_this(\"good\") == \"103doo\"\n",
    "encrypt_this(\"hello world\") == \"104olle 119drlo\"\n",
    "```"
   ]
  },
  {
   "cell_type": "code",
   "execution_count": null,
   "metadata": {},
   "outputs": [],
   "source": [
    "def encrypt_this(text):\n",
    "    pass"
   ]
  },
  {
   "cell_type": "markdown",
   "metadata": {},
   "source": [
    "###### Decipher this!\n",
    "\n",
    " - You are given a secret message you need to decipher. Here are the things you need to know to decipher it:  \n",
    "\n",
    " - For each word:  \n",
    "\n",
    " > 1. the second and the last letter is switched (e.g. Hello becomes Holle)  \n",
    " > 2. the first letter is replaced by its character code (e.g. H becomes 72)  \n",
    "\n",
    " - Note: there are no special characters used, only letters and spaces  \n",
    "\n",
    " - Examples  \n",
    "\n",
    "```\n",
    "decipherThis('72olle 103doo 100ya'); // 'Hello good day'\n",
    "decipherThis('82yade 115te 103o'); // 'Ready set go'\n",
    "```"
   ]
  },
  {
   "cell_type": "code",
   "execution_count": null,
   "metadata": {},
   "outputs": [],
   "source": [
    "def decipher_this(string):\n",
    "    #your code here"
   ]
  }
 ],
 "metadata": {
  "kernelspec": {
   "display_name": "Python 3",
   "language": "python",
   "name": "python3"
  },
  "language_info": {
   "codemirror_mode": {
    "name": "ipython",
    "version": 3
   },
   "file_extension": ".py",
   "mimetype": "text/x-python",
   "name": "python",
   "nbconvert_exporter": "python",
   "pygments_lexer": "ipython3",
   "version": "3.6.8"
  }
 },
 "nbformat": 4,
 "nbformat_minor": 2
}
