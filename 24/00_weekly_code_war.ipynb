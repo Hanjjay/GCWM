{
 "cells": [
  {
   "cell_type": "markdown",
   "metadata": {},
   "source": [
    "###### Stop gninnipS My sdroW!\n",
    "\n",
    " - rite a function that takes in a string of one or more words, and returns the same string, but with all five or more letter words reversed (Just like the name of this Kata). \n",
    " \n",
    " - Strings passed in will consist of only letters and spaces. \n",
    " \n",
    " - Spaces will be included only when more than one word is present.\n",
    "\n",
    "\n",
    " - Examples: \n",
    "\n",
    " `spinWords( \"Hey fellow warriors\" ) => returns \"Hey wollef sroirraw\"`  \n",
    " `spinWords( \"This is a test\") => returns \"This is a test\"`  \n",
    " `spinWords( \"This is another test\" )=> returns \"This is rehtona test\"`  "
   ]
  },
  {
   "cell_type": "code",
   "execution_count": null,
   "metadata": {},
   "outputs": [],
   "source": [
    "def spin_words(sentence):\n",
    "    # Your code goes here\n",
    "    return None"
   ]
  },
  {
   "cell_type": "markdown",
   "metadata": {},
   "source": [
    "###### Who likes it?\n",
    "\n",
    " - You probably know the \"like\" system from Facebook and other pages. \n",
    " \n",
    " - People can \"like\" blog posts, pictures or other items. \n",
    " \n",
    " - We want to create the text that should be displayed next to such an item.\n",
    "\n",
    " - Implement a function `likes :: [String] -> String`, which must take in input array, containing the names of people who like an item. \n",
    " \n",
    " - It must return the display text as shown in the examples:\n",
    "\n",
    "```\n",
    "likes [] // must be \"no one likes this\"\n",
    "likes [\"Peter\"] // must be \"Peter likes this\"\n",
    "likes [\"Jacob\", \"Alex\"] // must be \"Jacob and Alex like this\"\n",
    "likes [\"Max\", \"John\", \"Mark\"] // must be \"Max, John and Mark like this\"\n",
    "likes [\"Alex\", \"Jacob\", \"Mark\", \"Max\"] // must be \"Alex, Jacob and 2 others like this\"\n",
    "```"
   ]
  },
  {
   "cell_type": "code",
   "execution_count": null,
   "metadata": {},
   "outputs": [],
   "source": [
    "def likes(names):\n",
    "    #your code here"
   ]
  },
  {
   "cell_type": "markdown",
   "metadata": {},
   "source": [
    "###### Decode the Morse code\n",
    "\n",
    " - In this kata you have to write a simple Morse code decoder. \n",
    " \n",
    " - While the [Morse code](https://en.wikipedia.org/wiki/Morse_code) is now mostly superseded by voice and digital data communication channels, it still has its use in some applications around the world.\n",
    " \n",
    " - The Morse code encodes every character as a sequence of \"dots\" and \"dashes\". \n",
    " \n",
    " - For example, the letter A is coded as `·−`, letter Q is coded as `−−·−`, and digit 1 is coded as `·−−−−`. \n",
    " \n",
    " - The Morse code is case-insensitive, traditionally capital letters are used. \n",
    " \n",
    " - When the message is written in Morse code, a single space is used to separate the character codes and 3 spaces are used to separate words. \n",
    " \n",
    " - For example, the message HEY JUDE in Morse code is `···· · −·−−   ·−−− ··− −·· ·`.\n",
    "\n",
    " - NOTE: Extra spaces before or after the code have no meaning and should be ignored.\n",
    "\n",
    " - In addition to letters, digits and some punctuation, there are some special service codes, the most notorious of those is the international distress signal SOS (that was first issued by Titanic), that is coded as `···−−−···`. \n",
    " \n",
    " - These special codes are treated as single special characters, and usually are transmitted as separate words.\n",
    "\n",
    " - Your task is to implement a function that would take the morse code as input and return a decoded human-readable string.\n",
    " \n",
    " - For example:\n",
    "\n",
    "```\n",
    "decodeMorse('.... . -.--   .--- ..- -.. .')\n",
    "#should return \"HEY JUDE\"\n",
    "```\n",
    "\n",
    " - NOTE: For coding purposes you have to use ASCII characters `.` and `-`, not Unicode characters."
   ]
  },
  {
   "cell_type": "code",
   "execution_count": null,
   "metadata": {},
   "outputs": [],
   "source": [
    "def decodeMorse(morse_code):\n",
    "    # ToDo: Accept dots, dashes and spaces, return human-readable message\n",
    "    return morse_code.replace('.', MORSE_CODE['.']).replace('-', MORSE_CODE['-']).replace(' ', '')"
   ]
  }
 ],
 "metadata": {
  "kernelspec": {
   "display_name": "Python 3",
   "language": "python",
   "name": "python3"
  },
  "language_info": {
   "codemirror_mode": {
    "name": "ipython",
    "version": 3
   },
   "file_extension": ".py",
   "mimetype": "text/x-python",
   "name": "python",
   "nbconvert_exporter": "python",
   "pygments_lexer": "ipython3",
   "version": "3.6.8"
  }
 },
 "nbformat": 4,
 "nbformat_minor": 2
}
