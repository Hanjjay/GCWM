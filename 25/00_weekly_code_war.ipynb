{
 "cells": [
  {
   "cell_type": "markdown",
   "metadata": {},
   "source": [
    "###### IQ Test\n",
    "\n",
    " - Bob is preparing to pass IQ test. \n",
    " \n",
    " - The most frequent task in this test is to find out which one of the given numbers differs from the others. \n",
    " \n",
    " - Bob observed that one number usually differs from the others in evenness. \n",
    " \n",
    " - Help Bob — to check his answers, he needs a program that among the given numbers finds one that is different in evenness, and return a position of this number.\n",
    "\n",
    " - Keep in mind that your task is to help Bob solve a real IQ test, which means indexes of the elements start from 1 (not 0)  \n",
    "\n",
    " - Examples :\n",
    "\n",
    "```\n",
    "iq_test(\"2 4 7 8 10\") => 3 // Third number is odd, while the rest of the numbers are even\n",
    "\n",
    "iq_test(\"1 2 1 1\") => 2 // Second number is even, while the rest of the numbers are odd\n",
    "```"
   ]
  },
  {
   "cell_type": "code",
   "execution_count": null,
   "metadata": {},
   "outputs": [],
   "source": [
    "def iq_test(numbers):\n",
    "    #your code here"
   ]
  },
  {
   "cell_type": "markdown",
   "metadata": {},
   "source": [
    "###### Find the unique number\n",
    "\n",
    " - There is an array with some numbers. All numbers are equal except for one. Try to find it!  \n",
    "\n",
    "```\n",
    "find_uniq([ 1, 1, 1, 2, 1, 1 ]) == 2\n",
    "find_uniq([ 0, 0, 0.55, 0, 0 ]) == 0.55\n",
    "```\n",
    "\n",
    " - It’s guaranteed that array contains at least 3 numbers.  \n",
    "\n",
    " - The tests contain some very huge arrays, so think about performance.  "
   ]
  },
  {
   "cell_type": "code",
   "execution_count": null,
   "metadata": {},
   "outputs": [],
   "source": [
    "def find_uniq(arr):\n",
    "    # your code here\n",
    "    return n   # n: unique integer in the array"
   ]
  },
  {
   "cell_type": "markdown",
   "metadata": {},
   "source": [
    "###### Build Tower\n",
    "\n",
    " - Build Tower by the following given argument: number of floors (integer and always greater than 0).\n",
    "\n",
    " - Tower block is represented as `*`\n",
    " \n",
    " - for example, a tower of 3 floors looks like below\n",
    "\n",
    "```\n",
    "[\n",
    "  '  *  ', \n",
    "  ' *** ', \n",
    "  '*****'\n",
    "]\n",
    "```\n",
    "\n",
    " - and a tower of 6 floors looks like below\n",
    "\n",
    "```\n",
    "[\n",
    "  '     *     ', \n",
    "  '    ***    ', \n",
    "  '   *****   ', \n",
    "  '  *******  ', \n",
    "  ' ********* ', \n",
    "  '***********'\n",
    "]\n",
    "```"
   ]
  },
  {
   "cell_type": "code",
   "execution_count": null,
   "metadata": {},
   "outputs": [],
   "source": [
    "def tower_builder(n_floors):\n",
    "    # build here"
   ]
  }
 ],
 "metadata": {
  "kernelspec": {
   "display_name": "Python 3",
   "language": "python",
   "name": "python3"
  },
  "language_info": {
   "codemirror_mode": {
    "name": "ipython",
    "version": 3
   },
   "file_extension": ".py",
   "mimetype": "text/x-python",
   "name": "python",
   "nbconvert_exporter": "python",
   "pygments_lexer": "ipython3",
   "version": "3.6.8"
  }
 },
 "nbformat": 4,
 "nbformat_minor": 2
}
