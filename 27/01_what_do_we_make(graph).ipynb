{
 "cells": [
  {
   "cell_type": "markdown",
   "metadata": {},
   "source": [
    "### COVID 19 graph 제공 사이트 만들기\n",
    "\n",
    " - 어떤 그래프를 만들 것인가?\n",
    " \n",
    " - 참고자료  \n",
    "\n",
    "> - https://dacon.io/competitions/official/235590/codeshare/949  \n",
    "- https://dacon.io/competitions/official/235590/codeshare/1001  \n",
    "- https://dacon.io/competitions/official/235590/codeshare/979 "
   ]
  },
  {
   "cell_type": "code",
   "execution_count": null,
   "metadata": {},
   "outputs": [],
   "source": []
  }
 ],
 "metadata": {
  "kernelspec": {
   "display_name": "Python 3",
   "language": "python",
   "name": "python3"
  },
  "language_info": {
   "codemirror_mode": {
    "name": "ipython",
    "version": 3
   },
   "file_extension": ".py",
   "mimetype": "text/x-python",
   "name": "python",
   "nbconvert_exporter": "python",
   "pygments_lexer": "ipython3",
   "version": "3.6.8"
  }
 },
 "nbformat": 4,
 "nbformat_minor": 2
}
